{
 "cells": [
  {
   "cell_type": "markdown",
   "id": "0becfbe3-40cb-4ea0-af46-d00848ed2781",
   "metadata": {},
   "source": [
    "# **Pertemuan 6: Sampling Distributions**\n",
    "<hr>\n",
    "\n",
    "### By: Andreas Syaloom Kurniawan (552751)"
   ]
  },
  {
   "cell_type": "markdown",
   "id": "b948593a-e004-470a-88b4-1504bf4fbfa2",
   "metadata": {},
   "source": [
    "# Table of Contents\n",
    "- [A. Nonparametric conﬁdence interval](#a)\n",
    "- [B. Nonparametric hypothesis tests for one sample](#b)\n",
    "    - [B.1 The sign test](#b1)\n",
    "    - [B.2 Wilcoxon signed rank test](#b2)\n",
    "    - [B.3 Dependent samples: paired comparison tests](#b3)\n",
    "- [C. Nonparametric hypothesis tests for two independent samples](#c)\n",
    "    - [C.1 Median test](#c1)\n",
    "    - [C.2 Wilcoxon rank sum test](#c2)\n",
    "- [D. Nonparametric hypothesis tests for $k\\geq 2$ samples](#d)\n",
    "    - [D.1 The Kruskal-Wallis test](#d1)\n",
    "    - [D.2 The Friedman test](#d2)"
   ]
  },
  {
   "cell_type": "markdown",
   "id": "eabe7e4f-341b-4dd5-ac61-1016458eb4e3",
   "metadata": {},
   "source": [
    "Latihan **Soal 12.2.3** - *Buku Ramachandran Mathematical Statistics with Applications in R 3rd Edition*\n",
    "<hr>\n",
    "\n",
    "* Polusi udara di kota-kota besar di Amerika Serikat dipantau untuk melihat apakah sesuai dengan ketentuan yang ditetapkan oleh Badan Perlindungan Lingkungan (Environmental Protection Agency). Data berikut, yang dinyatakan sebagai indeks polusi udara, menunjukkan kualitas udara di suatu kota selama 10 hari yang dipilih secara acak:\n",
    "\n",
    "| Hari | Indeks  |\n",
    "|------|---------|\n",
    "| 1    | 57.3    |\n",
    "| 2    | 58.1    |\n",
    "| 3    | 58.7    |\n",
    "| 4    | 66.7    |\n",
    "| 5    | 58.6    |\n",
    "| 6    | 61.9    |\n",
    "| 7    | 59.0    |\n",
    "| 8    | 64.4    |\n",
    "| 9    | 62.6    |\n",
    "| 10   | 64.9    |\n",
    "\n",
    "\n",
    "- (a) Buatlah probability plot dan lakukan pengujian apakah data tersebut berdistribusi normal.\n",
    "- (b) Bangun interval kepercayaan 95% untuk median sebenarnya dari indeks polusi udara kota tersebut dan interpretasikan maknanya."
   ]
  },
  {
   "cell_type": "markdown",
   "id": "0fa689c0-4da2-4a57-afb1-2249183afdc2",
   "metadata": {},
   "source": [
    "* Perhatikan bahwa kita menggunakan interval kepercayaan 95%, artinya nilai $\\alpha=5%=0.05$. \n",
    "* Karena di sini kita mau menghitung median, maka kita perangkap median itu di dua batas, yakni batas atas dan batas bawah.\n",
    "* Masing-masing di $\\frac{\\alpha}{2}=0.025$.\n",
    "* Tinjau tabel binomial, saat n=10 dan p=1/2, berapa X terkecil yang memenuhi $P(X\\leq 0.5)\\leq 0.025$\n",
    "* Dari tabel kita bisa baca, bahwa nilai maksimum n yang memenuhi sehingga $P(X\\leq 0.5)\\leq 0.025$ adalah 1.\n",
    "* n+1-a=10+1-1=10\n",
    "* Maka kita gunakan data pertama s.d. data ke 10 untuk batas median."
   ]
  },
  {
   "cell_type": "code",
   "execution_count": null,
   "id": "d6e187ad-509b-4490-b8a8-f686e521f95e",
   "metadata": {},
   "outputs": [],
   "source": []
  },
  {
   "cell_type": "code",
   "execution_count": null,
   "id": "09ef3ed1-656b-42fc-a35f-6d774d0bd1d4",
   "metadata": {},
   "outputs": [],
   "source": []
  },
  {
   "cell_type": "code",
   "execution_count": 8,
   "id": "c57e4774-83fd-4e46-8bce-9d2b359ab7c7",
   "metadata": {},
   "outputs": [
    {
     "data": {
      "text/html": [
       "<table class=\"dataframe\">\n",
       "<caption>A data.frame: 11 × 2</caption>\n",
       "<thead>\n",
       "\t<tr><th scope=col>x</th><th scope=col>P_X_less_equal_x</th></tr>\n",
       "\t<tr><th scope=col>&lt;int&gt;</th><th scope=col>&lt;dbl&gt;</th></tr>\n",
       "</thead>\n",
       "<tbody>\n",
       "\t<tr><td> 0</td><td>0.0010</td></tr>\n",
       "\t<tr><td> 1</td><td>0.0107</td></tr>\n",
       "\t<tr><td> 2</td><td>0.0547</td></tr>\n",
       "\t<tr><td> 3</td><td>0.1719</td></tr>\n",
       "\t<tr><td> 4</td><td>0.3770</td></tr>\n",
       "\t<tr><td> 5</td><td>0.6230</td></tr>\n",
       "\t<tr><td> 6</td><td>0.8281</td></tr>\n",
       "\t<tr><td> 7</td><td>0.9453</td></tr>\n",
       "\t<tr><td> 8</td><td>0.9893</td></tr>\n",
       "\t<tr><td> 9</td><td>0.9990</td></tr>\n",
       "\t<tr><td>10</td><td>1.0000</td></tr>\n",
       "</tbody>\n",
       "</table>\n"
      ],
      "text/latex": [
       "A data.frame: 11 × 2\n",
       "\\begin{tabular}{ll}\n",
       " x & P\\_X\\_less\\_equal\\_x\\\\\n",
       " <int> & <dbl>\\\\\n",
       "\\hline\n",
       "\t  0 & 0.0010\\\\\n",
       "\t  1 & 0.0107\\\\\n",
       "\t  2 & 0.0547\\\\\n",
       "\t  3 & 0.1719\\\\\n",
       "\t  4 & 0.3770\\\\\n",
       "\t  5 & 0.6230\\\\\n",
       "\t  6 & 0.8281\\\\\n",
       "\t  7 & 0.9453\\\\\n",
       "\t  8 & 0.9893\\\\\n",
       "\t  9 & 0.9990\\\\\n",
       "\t 10 & 1.0000\\\\\n",
       "\\end{tabular}\n"
      ],
      "text/markdown": [
       "\n",
       "A data.frame: 11 × 2\n",
       "\n",
       "| x &lt;int&gt; | P_X_less_equal_x &lt;dbl&gt; |\n",
       "|---|---|\n",
       "|  0 | 0.0010 |\n",
       "|  1 | 0.0107 |\n",
       "|  2 | 0.0547 |\n",
       "|  3 | 0.1719 |\n",
       "|  4 | 0.3770 |\n",
       "|  5 | 0.6230 |\n",
       "|  6 | 0.8281 |\n",
       "|  7 | 0.9453 |\n",
       "|  8 | 0.9893 |\n",
       "|  9 | 0.9990 |\n",
       "| 10 | 1.0000 |\n",
       "\n"
      ],
      "text/plain": [
       "   x  P_X_less_equal_x\n",
       "1   0 0.0010          \n",
       "2   1 0.0107          \n",
       "3   2 0.0547          \n",
       "4   3 0.1719          \n",
       "5   4 0.3770          \n",
       "6   5 0.6230          \n",
       "7   6 0.8281          \n",
       "8   7 0.9453          \n",
       "9   8 0.9893          \n",
       "10  9 0.9990          \n",
       "11 10 1.0000          "
      ]
     },
     "metadata": {},
     "output_type": "display_data"
    }
   ],
   "source": [
    "# Parameter binomial\n",
    "n <- 10\n",
    "p <- 0.5\n",
    "\n",
    "# Hitung nilai x dari 0 sampai 10\n",
    "x <- 0:10\n",
    "\n",
    "# Hitung probabilitas kumulatif P(X <= x)\n",
    "cumulative_prob <- pbinom(x, size = n, prob = p)\n",
    "\n",
    "# Buat data frame\n",
    "binomial_table <- data.frame(\n",
    "  x = x,\n",
    "  P_X_less_equal_x = round(cumulative_prob, 4)\n",
    ")\n",
    "binomial_table"
   ]
  },
  {
   "cell_type": "code",
   "execution_count": 3,
   "id": "edbc3563-4a04-4db2-b80a-93f923a8b764",
   "metadata": {},
   "outputs": [
    {
     "data": {
      "text/html": [
       "0.0206947326660156"
      ],
      "text/latex": [
       "0.0206947326660156"
      ],
      "text/markdown": [
       "0.0206947326660156"
      ],
      "text/plain": [
       "[1] 0.02069473"
      ]
     },
     "metadata": {},
     "output_type": "display_data"
    }
   ],
   "source": [
    "# Cumulative probability for Binomial(n = 20, p = 0.5) up to x = 5\n",
    "pbinom(5, size = 20, prob = 0.5)"
   ]
  },
  {
   "cell_type": "code",
   "execution_count": 1,
   "id": "77d84cd7-02fb-4d6f-913b-93a2a808ce88",
   "metadata": {},
   "outputs": [
    {
     "data": {
      "image/png": "[encoded data removed]",
      "text/plain": [
       "Plot with title \"Normal Q-Q Plot of Air Pollution Index\""
      ]
     },
     "metadata": {
      "image/png": {
       "height": 420,
       "width": 420
      }
     },
     "output_type": "display_data"
    }
   ],
   "source": [
    "# Probability Plot\n",
    "indeks <- c(57.3, 58.1, 58.7, 66.7, 58.6, 61.9, 59.0, 64.4, 62.6, 64.9)\n",
    "\n",
    "# Q-Q Plot\n",
    "qqnorm(indeks, main = \"Normal Q-Q Plot of Air Pollution Index\")\n",
    "qqline(indeks, col = \"red\")"
   ]
  },
  {
   "cell_type": "code",
   "execution_count": null,
   "id": "a28a0531-e889-4484-8dcb-c96d937fb159",
   "metadata": {},
   "outputs": [],
   "source": [
    "# 1. Nonparametric conﬁdence interval\n",
    "# 2. Nonparametric hypothesis tests for one sample\n",
    "## 2.1 The sign test\n",
    "## 2.2 Wilcoxon signed rank test\n",
    "## 2.3 Dependent samples: paired comparison tests\n",
    "# 3. Nonparametric hypothesis tests for two independent samples\n",
    "## 3.1 Median test\n",
    "## 3.2 The Wilcoxon rank sum test\n",
    "# 4. Nonparametric hypothesis tests for $k\\geq 2$ samples\n",
    "## 4.1 The Kruskal-Wallis test\n",
    "## 4.2 The Friedman test"
   ]
  },
  {
   "cell_type": "markdown",
   "id": "95f57ffc-c67a-41aa-893d-c62684b6a82e",
   "metadata": {},
   "source": [
    "Latihan **Soal 12.3.2** - *Buku Ramachandran Mathematical Statistics with Applications in R 3rd Edition*\n",
    "<hr>\n",
    "\n",
    "* Dipercaya bahwa sebuah keluarga pada umumnya menghabiskan 35% dari pendapatannya untuk makanan dan belanja kebutuhan sehari-hari. \n",
    "* Dari sampel delapan keluarga yang dipilih secara acak, diperoleh data persentase pengeluaran sebagai berikut:\n",
    "\n",
    "|  Keluarga        | 1   | 2   | 3   | 4   | 5   | 6   | 7   | 8   |\n",
    "|----------|-----|-----|-----|-----|-----|-----|-----|-----|\n",
    "| (%) Pengeluaran | 30  | 29  | 39  | 49  | 36  | 33  | 37  | 35  |\n",
    "\n",
    "\n",
    "* Ujilah\n",
    "  * hipotesis bahwa median persentase pengeluaran keluarga untuk makanan dan kebutuhan sehari-hari adalah 35%\n",
    "  * hipotesis alternatif bahwa median tersebut kurang dari 35%.\n",
    "* Gunakan tingkat signifikansi α = 0,05."
   ]
  },
  {
   "cell_type": "markdown",
   "id": "933afd6a-7d26-481d-aa6e-43e2622a06fa",
   "metadata": {},
   "source": [
    "| Keluarga | (%) Pengeluaran | $Zi= |xi - 35|$ | Tanda | Peringkat |\n",
    "|----------|------------------|-------------------------------|--------|-----------|\n",
    "| 1        | 30               | 5                             | -      | 5         |\n",
    "| 2        | 29               | 6                             | -      | 6         |\n",
    "| 3        | 39               | 4                             | +      | 4         |\n",
    "| 4        | 49               | 14                            | +      | 7         |\n",
    "| 5        | 36               | 1                             | +      | 1         |\n",
    "| 6        | 33               | 2                             | -      | 2.5       |\n",
    "| 7        | 37               | 2                             | +      | 2.5       |\n",
    "| 8        | 35               | 0                             | *      | abaikan   |"
   ]
  },
  {
   "cell_type": "code",
   "execution_count": 15,
   "id": "d505fd4a-53e9-465a-9c6f-e04f787717fb",
   "metadata": {},
   "outputs": [
    {
     "data": {
      "text/html": [
       "0.0845154254728517"
      ],
      "text/latex": [
       "0.0845154254728517"
      ],
      "text/markdown": [
       "0.0845154254728517"
      ],
      "text/plain": [
       "[1] 0.08451543"
      ]
     },
     "metadata": {},
     "output_type": "display_data"
    }
   ],
   "source": [
    "# Function to compute Z statistic for Wilcoxon signed-rank test\n",
    "wilcoxon_z <- function(W_plus, n) {\n",
    "  numerator <- W_plus - (1/4) * n * (n + 1)\n",
    "  denominator <- sqrt(n * (n + 1) * (2 * n + 1) / 24)\n",
    "  Z <- numerator / denominator\n",
    "  return(Z)\n",
    "}\n",
    "\n",
    "# Example usage:\n",
    "wilcoxon_z(W_plus = 14.5, n = 7)"
   ]
  },
  {
   "cell_type": "code",
   "execution_count": null,
   "id": "a810e19c-3d59-4cf9-a97a-11825429f1ff",
   "metadata": {},
   "outputs": [],
   "source": []
  },
  {
   "cell_type": "markdown",
   "id": "319fe5d4-52a1-4c6d-91ce-8950d525680a",
   "metadata": {},
   "source": [
    "📉 Uji Dua Sisi (α = 0,05)\n",
    "Untuk n = 7 (setelah abaikan nilai nol), kita lihat tabel distribusi kritis Wilcoxon dua sisi.\n",
    "\n",
    "Nilai kritis (two-tailed) untuk n = 7, α = 0.05 → W ≤ 2\n",
    "\n",
    "📚 (Bisa kamu lihat di tabel Wilcoxon signed-rank critical values)\n",
    "\n",
    "✅ Kesimpulan:\n",
    "Karena W = 13.5 > 2, maka:\n",
    "\n",
    "Gagal tolak H₀\n",
    "\n",
    "📌 Interpretasi:\n",
    "Tidak ada cukup bukti untuk menyimpulkan bahwa median pengeluaran berbeda dari 35% pada tingkat signifikansi 5%."
   ]
  },
  {
   "cell_type": "markdown",
   "id": "443d2992-de41-4177-8702-ef8666f6ba04",
   "metadata": {},
   "source": [
    "📉 Conclusion (α = 0.05, one-tailed test)\n",
    "This is a left-tailed test (alternative: median < 35)\n",
    "\n",
    "Critical value \n",
    "𝑍\n",
    "0.05\n",
    "=\n",
    "−\n",
    "1.645\n",
    "Z \n",
    "0.05\n",
    "​\n",
    " =−1.645\n",
    "\n",
    "Our Z = 0.0845 > -1.645 → Not in rejection region\n",
    "\n",
    "❌ Kesimpulan:\n",
    "Tidak terdapat cukup bukti untuk menyimpulkan bahwa median pengeluaran kurang dari 35% pada tingkat signifikansi 5%."
   ]
  },
  {
   "cell_type": "code",
   "execution_count": null,
   "id": "449d4298-1f8c-4d27-ba1f-51378b5912b2",
   "metadata": {},
   "outputs": [],
   "source": []
  },
  {
   "cell_type": "code",
   "execution_count": null,
   "id": "b320bdee-e254-42d2-af8a-b0444a0c358b",
   "metadata": {},
   "outputs": [],
   "source": []
  },
  {
   "cell_type": "markdown",
   "id": "cf8420cc-437b-4501-a83b-2dd42079b092",
   "metadata": {},
   "source": [
    "Latihan **Soal 12.3.7** - *Buku Ramachandran Mathematical Statistics with Applications in R 3rd Edition*\n",
    "<hr>\n",
    "\n",
    "Suatu penelitian bertujuan untuk mengkaji pengaruh diet khusus terhadap tekanan darah sistolik. Data berikut diperoleh dari delapan orang dewasa berusia di atas 40 tahun, diukur sebelum dan sesudah menjalani diet selama 6 bulan:\n",
    "\n",
    "|        | 1   | 2   | 3   | 4   | 5   | 6   | 7   | 8   |\n",
    "|--------|-----|-----|-----|-----|-----|-----|-----|-----|\n",
    "| Sebelum | 185 | 222 | 235 | 198 | 224 | 197 | 228 | 234 |\n",
    "| Sesudah  | 188 | 217 | 229 | 190 | 226 | 185 | 225 | 231 |\n",
    "\n",
    "\n",
    "Dengan tingkat kepercayaan 95%, apakah terdapat cukup bukti untuk menyimpulkan bahwa diet baru ini dapat menurunkan tekanan darah sistolik pada individu berusia di atas 40 tahun?\n",
    "\n",
    "Lakukan pengujian berikut:\n",
    "(a) Menggunakan uji tanda (sign test)\n",
    "(b) Menggunakan uji Wilcoxon dengan peringkat bertanda (Wilcoxon signed-rank test)\n",
    "\n",
    "Jelaskan serta interpretasikan hasil pengujian."
   ]
  },
  {
   "cell_type": "code",
   "execution_count": null,
   "id": "824506da-7298-4a7c-936b-a21354f81e3d",
   "metadata": {},
   "outputs": [],
   "source": [
    "| Observasi | Sebelum | Sesudah | Penurunan | Tanda |\n",
    "|-----------|---------|---------|------------|-------|\n",
    "| 1         | 185     | 188     | -3          | +     |\n",
    "| 2         | 222     | 217     | +5         | -     |\n",
    "| 3         | 235     | 229     | +6         | -     |\n",
    "| 4         | 198     | 190     | +8         | -     |\n",
    "| 5         | 224     | 226     | 2          | +     |\n",
    "| 6         | 197     | 185     | -12        | -     |\n",
    "| 7         | 228     | 225     | -3         | -     |\n",
    "| 8         | 234     | 231     | -3         | -     |\n"
   ]
  },
  {
   "cell_type": "code",
   "execution_count": null,
   "id": "de04ad2e-383e-4f74-806f-10e6aebe9c73",
   "metadata": {},
   "outputs": [],
   "source": []
  },
  {
   "cell_type": "code",
   "execution_count": null,
   "id": "826e617b-9dc5-4094-835b-e8ddf05707f5",
   "metadata": {},
   "outputs": [],
   "source": []
  },
  {
   "cell_type": "markdown",
   "id": "2ae5f677-b0a8-47c6-9a26-4cdfaf9235cb",
   "metadata": {},
   "source": [
    "Latihan **Soal 12.4.6** - *Buku Ramachandran Mathematical Statistics with Applications in R 3rd Edition*\n",
    "<hr>\n",
    "\n",
    "* Dua kelompok petak lahan seluas 1 acre yang dipilih secara acak diperlakukan dengan dua merek pupuk yang berbeda. Data berikut menunjukkan hasil panen jagung (dalam bushel) dari masing-masing petak lahan:\n",
    "\n",
    "|             | 1   | 2   | 3   | 4   | 5   | 6   | 7   | 8   |\n",
    "|-------------|-----|-----|-----|-----|-----|-----|-----|-----|\n",
    "| Pupuk I     | 89  | 93  | 105 | 94  | 92  | 96  | 93  | 101 |\n",
    "| Pupuk II    | 85  | 88  | 94  | 87  | 86  | 91  |     |     |\n",
    "* Gunakan data di atas untuk menentukan apakah terdapat perbedaan hasil panen antara dua merek pupuk tersebut.\n",
    "* Gunakan tingkat signifikansi α = 0,01.\n",
    "* Sebutkan pula asumsi-asumsi yang kamu gunakan dalam menyelesaikan masalah ini."
   ]
  },
  {
   "cell_type": "code",
   "execution_count": null,
   "id": "ec66474f-baa4-40f5-9bd7-f39768ee1637",
   "metadata": {},
   "outputs": [],
   "source": []
  },
  {
   "cell_type": "markdown",
   "id": "411eac07-1e02-4bd3-afe3-155b34f63f32",
   "metadata": {},
   "source": [
    "Latihan **Soal 12.5.6** - *Buku Ramachandran Mathematical Statistics with Applications in R 3rd Edition*\n",
    "<hr>\n",
    "\n",
    "* Untuk mempelajari pengaruh pupuk terhadap hasil panen, lima kelompok lahan berukuran 1 acre dipilih secara acak. Satu kelompok tidak diberi pupuk sama sekali, sedangkan empat kelompok lainnya diberi empat merek pupuk yang berbeda.\n",
    "* Tabel 12.19 di bawah ini menunjukkan hasil panen jagung (dalam bushel) dari masing-masing petak lahan:\n",
    "* Gunakan data tersebut untuk menentukan apakah terdapat perbedaan hasil panen antar berbagai jenis pupuk.\n",
    "* Gunakan tingkat signifikansi α = 0,01.\n",
    "\n",
    "| Kelompok       | 1  | 2  | 3  | 4  | 5  | 6  | 7  | 8  |\n",
    "|----------------|----|----|----|----|----|----|----|----|\n",
    "| Tanpa Pupuk    | 58 | 27 | 36 | 41 | 48 | 36 | 50 | 39 |\n",
    "| Pupuk I        | 69 | 67 | 57 | 63 | 49 | 65 | 78 | 69 |\n",
    "| Pupuk II       | 95 | 92 | 92 | 89 |100 | 88 | 97 | 75 |\n",
    "| Pupuk III      |102 |111 | 92 |103 |102 | 94 |100 | 96 |\n",
    "| Pupuk IV       |127 |115 |112 |122 |114 |107 |116 |108 |\n"
   ]
  },
  {
   "cell_type": "code",
   "execution_count": null,
   "id": "dddcc4de-9792-4c6c-b15b-b92a68c91a56",
   "metadata": {},
   "outputs": [],
   "source": []
  }
 ],
 "metadata": {
  "kernelspec": {
   "display_name": "R",
   "language": "R",
   "name": "ir"
  },
  "language_info": {
   "codemirror_mode": "r",
   "file_extension": ".r",
   "mimetype": "text/x-r-source",
   "name": "R",
   "pygments_lexer": "r",
   "version": "4.4.1"
  }
 },
 "nbformat": 4,
 "nbformat_minor": 5
}
