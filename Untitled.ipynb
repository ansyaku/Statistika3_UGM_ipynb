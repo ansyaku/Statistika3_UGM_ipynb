{
 "cells": [
  {
   "cell_type": "markdown",
   "id": "fa039116-a400-459e-b28f-f06e91e75f86",
   "metadata": {},
   "source": [
    "Parameter Bentuk \n",
    "𝑘\n",
    "k dan Skala \n",
    "𝜃\n",
    "θ:\n",
    "\n",
    "Parameter bentuk (\n",
    "𝑘\n",
    "k): Menentukan bentuk kurva dari distribusi. Misalnya, untuk nilai \n",
    "𝑘\n",
    "k yang kecil, distribusi memiliki ekor yang panjang dan kurva miring yang tajam. Seiring \n",
    "𝑘\n",
    "k bertambah besar, distribusi mendekati bentuk simetris dan mulai menyerupai distribusi normal ketika \n",
    "𝑘\n",
    "k cukup besar.\n",
    "Parameter skala (\n",
    "𝜃\n",
    "θ): Mengatur sebaran atau lebar dari distribusi. Nilai \n",
    "𝜃\n",
    "θ yang lebih besar akan membuat distribusi lebih tersebar luas (lebih lebar).\n",
    "Penggunaan dalam Berbagai Konteks:\n",
    "\n",
    "Distribusi gamma sering digunakan untuk memodelkan waktu tunggu atau durasi suatu proses yang terjadi secara berkesinambungan, seperti waktu hidup peralatan atau waktu hingga kegagalan suatu komponen. Ini membuat distribusi ini sangat berguna dalam bidang keandalan teknik dan analisis risiko.\n"
   ]
  },
  {
   "cell_type": "markdown",
   "id": "e900c503-4bf0-4186-a320-8e7978979829",
   "metadata": {},
   "source": [
    "Di sini, \n",
    "𝑥\n",
    "x menunjukkan sampai di mana kita mengintegrasikan PDF dari distribusi gamma. Integral ini memberikan probabilitas bahwa variabel acak \n",
    "𝑋\n",
    "X kurang dari atau sama dengan \n",
    "𝑥\n",
    "x.\n",
    "\n",
    "Peran \n",
    "𝑥\n",
    "x: Dalam praktiknya, jika kita ingin mengetahui, misalnya, probabilitas bahwa waktu hingga kegagalan sebuah komponen (yang mengikuti distribusi gamma) adalah 5 jam atau kurang, maka kita akan menyetel \n",
    "𝑥\n",
    "=\n",
    "5\n",
    "x=5 dalam formula CDF tersebut."
   ]
  }
 ],
 "metadata": {
  "kernelspec": {
   "display_name": "R",
   "language": "R",
   "name": "ir"
  },
  "language_info": {
   "codemirror_mode": "r",
   "file_extension": ".r",
   "mimetype": "text/x-r-source",
   "name": "R",
   "pygments_lexer": "r",
   "version": "4.4.1"
  }
 },
 "nbformat": 4,
 "nbformat_minor": 5
}
