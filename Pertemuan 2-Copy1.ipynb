{
 "cells": [
  {
   "cell_type": "markdown",
   "id": "addeee83-9938-4a78-9d14-5e0a2e83a170",
   "metadata": {},
   "source": [
    "# **Pertemuan 2: Basic Concept of Probability Theory**\n",
    "<hr>\n",
    "\n",
    "### By: Andreas Syaloom Kurniawan (552751)"
   ]
  },
  {
   "cell_type": "code",
   "execution_count": 14,
   "id": "8bab90b3-8c51-4648-b5d0-2d9d6c8cebfa",
   "metadata": {},
   "outputs": [
    {
     "name": "stdout",
     "output_type": "stream",
     "text": [
      "Expected Value E[X]: 3 \n",
      "Variance Var(X): 9 \n"
     ]
    }
   ],
   "source": []
  },
  {
   "cell_type": "code",
   "execution_count": 13,
   "id": "133190bb-7c0e-402d-90cd-409970e68bd2",
   "metadata": {},
   "outputs": [
    {
     "data": {
      "image/png": "[encoded data removed]",
      "text/plain": [
       "Plot with title \"PDF and CDF of Exponential Distribution\""
      ]
     },
     "metadata": {
      "image/png": {
       "height": 420,
       "width": 420
      }
     },
     "output_type": "display_data"
    }
   ],
   "source": [
    "# Define the lambda parameter\n",
    "lambda <- 1/3\n",
    "\n",
    "# Define the PDF function for the exponential distribution\n",
    "pdf_function <- function(x) {\n",
    "  lambda * exp(-lambda * x)\n",
    "}\n",
    "\n",
    "# Define a function to calculate the CDF by integrating the PDF\n",
    "cdf_function <- function(x) {\n",
    "  sapply(x, function(x_val) {\n",
    "    integrate(pdf_function, lower = 0, upper = x_val)$value\n",
    "  })\n",
    "}\n",
    "\n",
    "# Create a sequence of x values\n",
    "x_values <- seq(0, 20, by = 0.1)\n",
    "\n",
    "# Calculate PDF values\n",
    "pdf_values <- pdf_function(x_values)\n",
    "\n",
    "# Calculate CDF values\n",
    "cdf_values <- cdf_function(x_values)\n",
    "\n",
    "# Plotting PDF and CDF\n",
    "plot(x_values, pdf_values, type = \"l\", col = \"blue\", ylim = c(0, max(pdf_values, cdf_values)), ylab = \"Value\", xlab = \"x\", main = \"PDF and CDF of Exponential Distribution\")\n",
    "lines(x_values, cdf_values, col = \"red\")\n",
    "legend(\"topright\", legend = c(\"PDF\", \"CDF\"), col = c(\"blue\", \"red\"), lty = 1)\n"
   ]
  },
  {
   "cell_type": "code",
   "execution_count": null,
   "id": "e1abaac5-ea89-47e3-a190-7473492129f5",
   "metadata": {},
   "outputs": [],
   "source": []
  },
  {
   "cell_type": "markdown",
   "id": "9bc517d0-a2f1-440f-a54d-68842704a470",
   "metadata": {},
   "source": [
    "## Example of Finding Probability of $P(a \\leq X\\leq b)$ from a particular CDF function\n",
    "\n",
    "The PDF function is $f_X(x)=\\frac{1}{2} e^{-|x|}$, find $P(-1\\leq X \\leq 1)$."
   ]
  },
  {
   "cell_type": "code",
   "execution_count": 9,
   "id": "4564cee5-c253-4c75-acc0-99c0811bec21",
   "metadata": {},
   "outputs": [
    {
     "name": "stdout",
     "output_type": "stream",
     "text": [
      "[1] \"P(-1 <= X <= 1) = 0.632120558478143\"\n"
     ]
    },
    {
     "data": {
      "image/png": "[encoded data removed]",
      "text/plain": [
       "plot without title"
      ]
     },
     "metadata": {
      "image/png": {
       "height": 420,
       "width": 420
      }
     },
     "output_type": "display_data"
    }
   ],
   "source": [
    "# Load necessary libraries\n",
    "library(ggplot2)\n",
    "library(pracma)\n",
    "\n",
    "# Define the PDF\n",
    "pdf <- function(x) {\n",
    "  0.5 * exp(-abs(x))\n",
    "}\n",
    "\n",
    "# Numerical integration to find the CDF at each x\n",
    "cdf <- function(x) {\n",
    "  integrate(pdf, lower = -Inf, upper = x)$value\n",
    "}\n",
    "\n",
    "# Define a range of x values\n",
    "x_values <- seq(-10, 10, by = 0.1)\n",
    "\n",
    "# Calculate the CDF values for these x values\n",
    "cdf_values <- sapply(x_values, cdf)\n",
    "\n",
    "# Create a data frame to store the values for plotting\n",
    "data_frame <- data.frame(x = x_values, CDF = cdf_values)\n",
    "\n",
    "# Create a subset of the data frame for the interval -1 to 1\n",
    "subset_data <- data_frame[data_frame$x >= -1 & data_frame$x <= 1,]\n",
    "\n",
    "# Plotting the CDF using ggplot2\n",
    "ggplot(data_frame, aes(x = x, y = CDF)) +\n",
    "  geom_line() + \n",
    "  geom_ribbon(data = subset_data, aes(ymin = 0, ymax = CDF), fill = \"blue\", alpha = 0.4) + # Highlight the interval with a blue area\n",
    "  ggtitle(\"CDF of a Laplace Distribution\") +\n",
    "  xlab(\"x\") + \n",
    "  ylab(\"P(X <= x)\")\n",
    "\n",
    "# Example: Calculate P(-1 <= X <= 1)\n",
    "p_a <- cdf(-1)\n",
    "p_b <- cdf(1)\n",
    "\n",
    "# Calculate the probability\n",
    "probability <- p_b - p_a\n",
    "\n",
    "# Print the result\n",
    "print(paste(\"P(-1 <= X <= 1) =\", probability))"
   ]
  }
 ],
 "metadata": {
  "kernelspec": {
   "display_name": "R",
   "language": "R",
   "name": "ir"
  },
  "language_info": {
   "codemirror_mode": "r",
   "file_extension": ".r",
   "mimetype": "text/x-r-source",
   "name": "R",
   "pygments_lexer": "r",
   "version": "4.4.1"
  }
 },
 "nbformat": 4,
 "nbformat_minor": 5
}
