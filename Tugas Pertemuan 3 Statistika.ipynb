{
 "cells": [
  {
   "cell_type": "markdown",
   "id": "70426a9a-169b-43fd-b79f-2ac1c3ce1bcd",
   "metadata": {},
   "source": [
    "# **Pertemuan 2: Basic Concept of Probability Theory**\n",
    "<hr>\n",
    "\n",
    "### By: Andreas Syaloom Kurniawan (552751)"
   ]
  },
  {
   "cell_type": "code",
   "execution_count": 6,
   "id": "2babe9ee-f3bf-4001-9c28-c124bcf807fc",
   "metadata": {},
   "outputs": [],
   "source": [
    "# The note is written in english do to my class lecture notes was written in english, \n",
    "# therefore to make my english more fluent I also write this notebook in english.\n",
    "# The code are based on R programming language"
   ]
  },
  {
   "cell_type": "markdown",
   "id": "41ee7115-01b9-4d0d-bec1-a8ad2c588787",
   "metadata": {},
   "source": [
    "# Table of Contents\n",
    "- [A. Discrete Random Variable Distribution](#a)\n",
    "    - [A. 1 Binomial Distribution Function](#a.1)\n",
    "    - [A. 2 Hypergeometric Distribution Function](#a.2)\n",
    "    - [A. 3 Poisson Distribution Function](#a.3)\n",
    "- [B. Continous Random Variable Distribution](#b)\n",
    "    - [B. 1 Uniform Distribution Function](#b.1)\n",
    "    - [B. 2 Normal Distribution Function](#b.2)\n",
    "    - [B. 3 Gamma Distribution Function](#b.2)\n",
    "\n",
    "*Unfortunately, under github the link for the table of contents doesnt work, hence you need to scroll to the part if you want to go to a specific part of the note.*"
   ]
  },
  {
   "cell_type": "code",
   "execution_count": 7,
   "id": "c4e246dd-8ca9-41e8-b3c2-dc19bbef1f92",
   "metadata": {},
   "outputs": [
    {
     "data": {
      "text/html": [
       "<style>\n",
       ".list-inline {list-style: none; margin:0; padding: 0}\n",
       ".list-inline>li {display: inline-block}\n",
       ".list-inline>li:not(:last-child)::after {content: \"\\00b7\"; padding: 0 .5ex}\n",
       "</style>\n",
       "<ol class=list-inline><li>7</li><li>8</li><li>15</li><li>36</li></ol>\n"
      ],
      "text/latex": [
       "\\begin{enumerate*}\n",
       "\\item 7\n",
       "\\item 8\n",
       "\\item 15\n",
       "\\item 36\n",
       "\\end{enumerate*}\n"
      ],
      "text/markdown": [
       "1. 7\n",
       "2. 8\n",
       "3. 15\n",
       "4. 36\n",
       "\n",
       "\n"
      ],
      "text/plain": [
       "[1]  7  8 15 36"
      ]
     },
     "metadata": {},
     "output_type": "display_data"
    }
   ],
   "source": [
    "support <- 1:40\n",
    "sample <- rbinom(length(support), 1, 0.1)\n",
    "support[sample==1]"
   ]
  },
  {
   "cell_type": "code",
   "execution_count": 8,
   "id": "0707d156-4178-4ee0-80ee-50473644987c",
   "metadata": {},
   "outputs": [
    {
     "data": {
      "image/png": "[encoded data removed]",
      "text/plain": [
       "plot without title"
      ]
     },
     "metadata": {
      "image/png": {
       "height": 420,
       "width": 420
      }
     },
     "output_type": "display_data"
    }
   ],
   "source": [
    "plot(1:100, tabulate(rnbinom(10000,3,0.1)+3,100))"
   ]
  },
  {
   "cell_type": "code",
   "execution_count": 4,
   "id": "525361fc-1150-44e3-b56a-24702559de00",
   "metadata": {},
   "outputs": [
    {
     "data": {
      "image/png": "[encoded data removed]",
      "text/plain": [
       "plot without title"
      ]
     },
     "metadata": {
      "image/png": {
       "height": 420,
       "width": 420
      }
     },
     "output_type": "display_data"
    }
   ],
   "source": [
    "support <- 0:40\n",
    "plot(support+3, dnbinom(support,3,0.5), type=\"l\")\n",
    "points(support+3, dnbinom(support,3,0.3), type=\"l\")\n",
    "points(support+3, dnbinom(support,3,0.1), type=\"l\")"
   ]
  },
  {
   "cell_type": "code",
   "execution_count": 5,
   "id": "0395b9ef-d773-4788-a49a-a0ad5ccb5880",
   "metadata": {},
   "outputs": [
    {
     "ename": "ERROR",
     "evalue": "Error in parse(text = input): <text>:2:4: unexpected symbol\n1: # Making experiment in R\n2: We could\n      ^\n",
     "output_type": "error",
     "traceback": [
      "Error in parse(text = input): <text>:2:4: unexpected symbol\n1: # Making experiment in R\n2: We could\n      ^\nTraceback:\n"
     ]
    }
   ],
   "source": [
    "# Making experiment in R\n",
    "We could make any experiment in R using `sample` function. "
   ]
  },
  {
   "cell_type": "code",
   "execution_count": null,
   "id": "1c821175-a227-4f30-b152-7b5584432bf9",
   "metadata": {},
   "outputs": [],
   "source": [
    "First example we can run (roll) a dice with six independent sided (or any you can set as you wish), and use as many trials as we need by modifying the `size` and then we could also specify the replacement mode by `TRUE` or `FALSE`. The default is `TRUE`."
   ]
  },
  {
   "cell_type": "code",
   "execution_count": null,
   "id": "ce8e7e74-3e28-48c2-96bd-4294c517570e",
   "metadata": {},
   "outputs": [],
   "source": [
    "sample(6, size = 30, replace = TRUE)"
   ]
  },
  {
   "cell_type": "code",
   "execution_count": null,
   "id": "a64257bd-765d-4bab-a9af-475243762f53",
   "metadata": {},
   "outputs": [],
   "source": [
    "Another example is to make experiment whether rain will come or not come. This will be very helpful when we discuss about binomial distribution. From each trial the outcomes are `rain` or `not rain`. We want the trial 100 times. We could do that by setting the outcome value in a vectors `c('rain', 'not rain')`."
   ]
  },
  {
   "cell_type": "code",
   "execution_count": null,
   "id": "c4d3e2e2-e4c2-447e-9298-97f738cf5b86",
   "metadata": {},
   "outputs": [],
   "source": [
    "sample(c('rain', 'not rain'), size = 30, replace = TRUE)"
   ]
  },
  {
   "cell_type": "code",
   "execution_count": null,
   "id": "cc7dc580-459f-46e1-9f47-f552be67cd16",
   "metadata": {},
   "outputs": [],
   "source": [
    "The other experiment that we can do is pick `n` number from an interval. \n",
    "Lets say we are on a flight of Cathay Pacific on Boeing 777-367(ER) flying from Frankfurt International Airport (FRA) to Hongkong International Airport (HKIA).\n",
    "And we want to survey the passengger on economic class. We want to take a random number from the passanger number. Suppose there is 201 economics passangger from seat number 95 to 235."
   ]
  },
  {
   "cell_type": "code",
   "execution_count": null,
   "id": "53284570-4162-4c58-a2e6-f7e436f5db35",
   "metadata": {},
   "outputs": [],
   "source": [
    "sample(95:235, size = 20, replace= TRUE)"
   ]
  },
  {
   "cell_type": "code",
   "execution_count": null,
   "id": "78419a25-e635-4f3f-b3a4-f88c06ab8e47",
   "metadata": {},
   "outputs": [],
   "source": [
    "However, we just found that the seating number is not like that. The seat number is from row 39 to 72. "
   ]
  },
  {
   "cell_type": "code",
   "execution_count": null,
   "id": "d65265b1-7714-4dee-a9d3-4a65ac00fa0a",
   "metadata": {},
   "outputs": [],
   "source": [
    "# Set the row numbers\n",
    "rows <- 39:72\n",
    "\n",
    "# Set the seat columns\n",
    "columns <- LETTERS[c(1:11)]  # A to K, skipping 'I' to follow airline conventions\n",
    "\n",
    "# Create all possible seat combinations\n",
    "seats <- expand.grid(Row = rows, Seat = columns)\n",
    "\n",
    "# Combine into seat labels (e.g., \"39A\", \"40B\", etc.)\n",
    "seats$SeatLabel <- paste0(seats$Row, seats$Seat)\n",
    "\n",
    "# Sample passengers (e.g., selecting 10 random passengers)\n",
    "set.seed(123)  # Set seed for reproducibility\n",
    "sampled_seats <- seats[sample(nrow(seats), 10), ]\n",
    "\n",
    "# Print the sampled seats\n",
    "print(sampled_seats)"
   ]
  },
  {
   "cell_type": "code",
   "execution_count": null,
   "id": "5a034bb8-9b4b-4243-b49b-6a9c4180e4d8",
   "metadata": {},
   "outputs": [],
   "source": []
  },
  {
   "cell_type": "code",
   "execution_count": null,
   "id": "f5e2ad69-3005-4471-ab3c-03e14f97dfe7",
   "metadata": {},
   "outputs": [],
   "source": [
    " pbinom(9, size=12, prob=1/6) "
   ]
  },
  {
   "cell_type": "markdown",
   "id": "d3251fe6-ad96-4063-a5fc-1f5352161afd",
   "metadata": {},
   "source": [
    "## **A. Discrete Random Variable**<a class=\"anchor\" id=\"a\"></a>\n",
    "<hr>\n",
    "\n",
    "## **A.1 Binomial Distribution Function**<a class=\"anchor\" id=\"a\"></a>\n",
    "## **A.2 Hypergeometric Distribution Function**<a class=\"anchor\" id=\"a\"></a>\n",
    "## **A.3 Poisson Distribution Function**<a class=\"anchor\" id=\"a\"></a>"
   ]
  },
  {
   "cell_type": "code",
   "execution_count": null,
   "id": "84b1b6cf-86c5-41bb-9fe4-fdfad0f173ec",
   "metadata": {},
   "outputs": [],
   "source": [
    "pbinom(9, size=12, prob=1/6) - pbinom(6, size=12, prob=1/6)\n",
    "diff(pbinom(c(6,9), size = 12, prob = 1/6)) "
   ]
  },
  {
   "cell_type": "code",
   "execution_count": null,
   "id": "7e6560d3-5272-4160-abe0-7de7c6e31c8f",
   "metadata": {},
   "outputs": [],
   "source": [
    "library(distr)\n",
    "X <- Binom(size = 10, prob = 1/12)\n",
    "X"
   ]
  },
  {
   "cell_type": "code",
   "execution_count": null,
   "id": "b4893654-03dd-4d4e-8f04-397b7f9aecbe",
   "metadata": {},
   "outputs": [],
   "source": [
    "d(X)(1) # pmf of X evaluated at x = 1\n",
    "p(X)(2) # cdf of X evaluated at x = 2"
   ]
  },
  {
   "cell_type": "code",
   "execution_count": null,
   "id": "16c57e19-f7c0-4518-a8e6-acec45fcfb90",
   "metadata": {},
   "outputs": [],
   "source": [
    "library(distrEx)\n",
    "E(X)\n",
    "E(3 * X + 4)"
   ]
  },
  {
   "cell_type": "code",
   "execution_count": null,
   "id": "7df3217a-88f7-4f5b-a389-2d6508710867",
   "metadata": {},
   "outputs": [],
   "source": [
    "library(ggplot2)\n",
    "library(tidyr)\n",
    "set.seed(2025)\n",
    "\n",
    "babies <- data.frame('data' = rpois(365, 4.5))\n",
    "\n",
    "babies %>% ggplot() +\n",
    "  geom_histogram(aes(x = data,\n",
    "                     y = stat(count / sum(count)),\n",
    "                     fill = data == 6),\n",
    "                 binwidth = 1,\n",
    "                 color = 'black',) +\n",
    "  scale_x_continuous(breaks = 0:10) + \n",
    "  labs(x = 'Number of babies born per period',\n",
    "       y = 'Proportion',\n",
    "       title = '365 simulated births in a hospital with Pois(lambda = 4.5)') +\n",
    "  theme_bw()"
   ]
  },
  {
   "cell_type": "code",
   "execution_count": null,
   "id": "3b6932e8-90a6-4d69-a247-ea0dfb7b2e57",
   "metadata": {},
   "outputs": [],
   "source": [
    "qbinom(0.95,1000,1/2)"
   ]
  },
  {
   "cell_type": "code",
   "execution_count": null,
   "id": "b0e18c39-16e6-47f6-a50a-e00102418d70",
   "metadata": {},
   "outputs": [],
   "source": [
    "# Define the x values\n",
    "x <- seq(-10, 110, length.out = 1000)\n",
    "\n",
    "# Define the PDF function\n",
    "f_x <- ifelse(x >= 0 & x <= 100, 1/100, 0)\n",
    "\n",
    "# Plot the function\n",
    "plot(x, f_x, type = \"l\", lwd = 2, col = \"blue\",\n",
    "     xlab = \"x\", ylab = \"f_X(x)\", main = \"Uniform Distribution U(0,100)\",\n",
    "     ylim = c(0, 0.02))\n",
    "\n",
    "# Add horizontal line for the density within [0,100]\n",
    "lines(c(0, 100), c(1/100, 1/100), col = \"red\", lwd = 2)\n",
    "\n",
    "# Add vertical dashed lines at boundaries\n",
    "abline(v = 0, lty = 2, col = \"black\")\n",
    "abline(v = 100, lty = 2, col = \"black\")"
   ]
  },
  {
   "cell_type": "code",
   "execution_count": null,
   "id": "5ce30beb-4993-4c28-82fc-f86b54b8c5e3",
   "metadata": {},
   "outputs": [],
   "source": [
    "library(ggplot2)\n",
    "\n",
    "# Create a dataframe for plotting\n",
    "df <- data.frame(\n",
    "  x = c(-10, 0, 0, 100, 100, 110),\n",
    "  y = c(0, 0, 1/100, 1/100, 0, 0)\n",
    ")\n",
    "\n",
    "# Plot the density function\n",
    "ggplot(df, aes(x, y)) +\n",
    "  geom_line(color = \"blue\", size = 1) +\n",
    "  geom_segment(aes(x = 0, xend = 100, y = 1/100, yend = 1/100), color = \"red\", size = 1) +\n",
    "  geom_vline(xintercept = c(0, 100), linetype = \"dashed\") +\n",
    "  labs(title = \"Uniform Distribution U(0,100)\", x = \"x\", y = \"f_X(x)\") +\n",
    "  theme_minimal()"
   ]
  },
  {
   "cell_type": "code",
   "execution_count": null,
   "id": "bb7ba55c-d299-401b-a803-5f187790250e",
   "metadata": {},
   "outputs": [],
   "source": [
    "To simulate one exam score we would use the following code. You could save the results in another variable for use."
   ]
  },
  {
   "cell_type": "code",
   "execution_count": null,
   "id": "b17a88e4-ed65-45f8-a832-7e52835e063a",
   "metadata": {},
   "outputs": [],
   "source": [
    "set.seed(2025)\n",
    "dat <-  runif(n = 100, min = 0, max = 100)\n",
    "mean(dat)  "
   ]
  },
  {
   "cell_type": "code",
   "execution_count": null,
   "id": "1a417b77-2c92-4bed-a0ba-881fac79e594",
   "metadata": {},
   "outputs": [],
   "source": [
    "hist(dat)"
   ]
  },
  {
   "cell_type": "code",
   "execution_count": null,
   "id": "0c2b7e22-3a14-432b-b62a-9614f6ff6f0d",
   "metadata": {},
   "outputs": [],
   "source": [
    "And provide a histogram of the data to see the frequency of occurence. (You can play the results to see what happens is you lower the sample size or raise it to 5000.)\n"
   ]
  },
  {
   "cell_type": "code",
   "execution_count": null,
   "id": "9091e841-2b4e-4fea-8369-f17ed0958797",
   "metadata": {},
   "outputs": [],
   "source": [
    "# COntinous Distribution"
   ]
  },
  {
   "cell_type": "code",
   "execution_count": null,
   "id": "ecdfc790-5da1-4e26-8787-9fe49a8901a9",
   "metadata": {},
   "outputs": [],
   "source": [
    "f <- function(x) 3 * x^2\n",
    "integrate(f, lower = 0.14, upper = 0.71)"
   ]
  },
  {
   "cell_type": "code",
   "execution_count": null,
   "id": "111d96b6-38d3-421e-9f5c-5b79c303a056",
   "metadata": {},
   "outputs": [],
   "source": [
    "set.seed(1)\n",
    "rgamma(n = 5, shape = 3, scale = 2)\n",
    "\n",
    "set.seed(1)\n",
    "rgamma(n = 5, shape = 3, rate = 0.5)"
   ]
  },
  {
   "cell_type": "code",
   "execution_count": null,
   "id": "a4d92b62-7111-4a15-844f-45bdebc96a2f",
   "metadata": {},
   "outputs": [],
   "source": [
    "set.seed(1)\n",
    "x <- rgamma(n = 1000, shape = 3, scale = 2)\n",
    "mean(x)"
   ]
  },
  {
   "cell_type": "code",
   "execution_count": null,
   "id": "9307589c-c776-4e6d-a25c-2e4ca77d1de6",
   "metadata": {},
   "outputs": [],
   "source": [
    "set.seed(1)\n",
    "x <- rgamma(n = 1000, shape = 3, rate = 0.5)\n",
    "mean(x)"
   ]
  },
  {
   "cell_type": "code",
   "execution_count": null,
   "id": "d73b7019-2ba1-497c-8df6-d0b6904bfe27",
   "metadata": {},
   "outputs": [],
   "source": []
  },
  {
   "cell_type": "code",
   "execution_count": null,
   "id": "b5bd0685-2049-4f04-97e5-4c66114642ff",
   "metadata": {},
   "outputs": [],
   "source": []
  },
  {
   "cell_type": "code",
   "execution_count": null,
   "id": "027dfde4-8382-4a71-9ee1-218b4c001e00",
   "metadata": {},
   "outputs": [],
   "source": []
  },
  {
   "cell_type": "markdown",
   "id": "83bbd5c2-60b1-415b-85a8-55cfec890ae0",
   "metadata": {},
   "source": [
    "## **B. Continous Random Variable**<a class=\"anchor\" id=\"a\"></a>\n",
    "<hr>\n",
    "\n",
    "## **B.1 Uniform Distribution Function**<a class=\"anchor\" id=\"a\"></a>\n",
    "## **B.2 Normal Distribution Function**<a class=\"anchor\" id=\"a\"></a>\n",
    "## **B.3 Gamma Distribution Function**<a class=\"anchor\" id=\"a\"></a>"
   ]
  },
  {
   "cell_type": "code",
   "execution_count": null,
   "id": "0d573ec4-8fad-4f50-8a3f-6d5d542c36a9",
   "metadata": {},
   "outputs": [],
   "source": [
    "# dbinom(k, n, p)\n",
    "# pbinom(k, n, p)\n",
    "# qbinom(P, n, p)\n",
    "# rbinom(n, N, p)"
   ]
  },
  {
   "cell_type": "code",
   "execution_count": null,
   "id": "a8be84dd-60d8-4c08-a439-2a3b6e24e777",
   "metadata": {},
   "outputs": [],
   "source": [
    "# Description\n",
    "# Density, distribution function, quantile function and random generation for the Poisson distribution with parameter lambda.\n",
    "# dpois(x, lambda, log = FALSE) # Density (Probability Mass Function)\n",
    "# ppois(q, lambda, lower.tail = TRUE, log.p = FALSE) # Cumulative Distribution Function"
   ]
  },
  {
   "cell_type": "code",
   "execution_count": null,
   "id": "56476033-7378-459e-85a9-6d578e4e5706",
   "metadata": {},
   "outputs": [],
   "source": [
    "dhyper(x, m, n, k, log = FALSE)\n",
    "phyper(q, m, n, k, lower.tail = TRUE, log.p = FALSE)\n",
    "qhyper(p, m, n, k, lower.tail = TRUE, log.p = FALSE)\n",
    "rhyper(nn, m, n, k)"
   ]
  },
  {
   "cell_type": "code",
   "execution_count": null,
   "id": "77a32fda-5249-42ee-a5d0-6835345e7210",
   "metadata": {},
   "outputs": [],
   "source": [
    "    dnorm()\n",
    "    pnorm()\n",
    "    qnorm()\n",
    "    rnorm()"
   ]
  },
  {
   "cell_type": "code",
   "execution_count": null,
   "id": "4eab9180-5bce-410b-8077-f7494ab59279",
   "metadata": {},
   "outputs": [],
   "source": [
    "d<distribution>: Returns the density (PDF) at a given value.\n",
    "p<distribution>: Returns the cumulative probability up to a given value (CDF).\n",
    "q<distribution>: Returns the quantile (inverse CDF) for a given probability.\n",
    "r<distribution>: Generates random samples from the distribution."
   ]
  },
  {
   "cell_type": "code",
   "execution_count": null,
   "id": "2b7f784d-a879-45b3-948a-fbf83b4b5ed0",
   "metadata": {},
   "outputs": [],
   "source": []
  },
  {
   "cell_type": "code",
   "execution_count": null,
   "id": "2fc101b4-a056-4b56-9c0d-16c5669502bc",
   "metadata": {},
   "outputs": [],
   "source": [
    "dunif(x, min = 0, max = 1, log = FALSE)\n",
    "punif(q, min = 0, max = 1, lower.tail = TRUE, log.p = FALSE)\n",
    "qunif(p, min = 0, max = 1, lower.tail = TRUE, log.p = FALSE)\n",
    "runif(n, min = 0, max = 1)"
   ]
  },
  {
   "cell_type": "code",
   "execution_count": null,
   "id": "5aa31785-8f8e-4120-ab78-07bc082d62ff",
   "metadata": {},
   "outputs": [],
   "source": []
  },
  {
   "cell_type": "markdown",
   "id": "4eb069f3-f18f-49e1-ab7e-5b417fc7a2d1",
   "metadata": {},
   "source": [
    "$f(k; \\lambda) = \\Pr(X=k) = \\frac{\\lambda^k e^{-\\lambda}}{k!},$\n",
    "\n",
    "where\n",
    "* $k$ is the number of occurrences $(k = 0, 1, 2, \\dots)$\n",
    "* $e$ is Euler's number $(e \\approx 2.71828)$\n",
    "* $k!$ is the factorial, $k! = k(k-1) \\dots (3)(2)(1)$."
   ]
  },
  {
   "cell_type": "markdown",
   "id": "fcee3e83-6c15-490b-b4ca-33bb744514c6",
   "metadata": {},
   "source": [
    "A random variable $X$ that is gamma-distributed with shape $\\alpha$ and scale $\\theta$ is denoted by\n",
    "$$\n",
    "X \\sim \\Gamma(\\alpha, \\theta).\n",
    "$$\n",
    "The probability density function using the shape-scale parametrization is\n",
    "$$\n",
    "f(x; \\alpha, \\theta) = \\frac{x^{\\alpha-1} e^{-x/\\theta}}{\\theta^\\alpha \\Gamma(\\alpha)}\n",
    "$$\n",
    "for $x > 0$ and $\\alpha, \\theta > 0$.\n",
    "\n",
    "Here $\\Gamma(\\alpha)$ is the gamma function evaluated at $\\alpha$.\n",
    "\n",
    "The cumulative distribution function is the regularized gamma function:\n",
    "$$\n",
    "F(x; \\alpha, \\theta) = \\int_0^x f(u; \\alpha, \\theta) \\, du = \\frac{\\gamma(\\alpha, \\frac{x}{\\theta})}{\\Gamma(\\alpha)},\n",
    "$$\n",
    "where $\\gamma(\\alpha, x)$ is the lower incomplete gamma function.\n"
   ]
  },
  {
   "cell_type": "markdown",
   "id": "bbd4784d-568d-4512-883a-c57b9d16822b",
   "metadata": {},
   "source": [
    "$ \\Huge f(k, n, p) = \\Pr(X = k) = \\binom{n}{k} p^k (1-p)^{n-k} $"
   ]
  },
  {
   "cell_type": "markdown",
   "id": "0164113e-f805-4343-9dcc-078a9d1302f9",
   "metadata": {},
   "source": [
    "$ \\Huge \\binom{n}{k} = \\frac{n!}{k!(n-k)!}. $"
   ]
  },
  {
   "cell_type": "markdown",
   "id": "b9e68fe4-e0d0-4845-afdc-5ef213628549",
   "metadata": {},
   "source": [
    "$ F(k; n, p) = \\Pr(X \\leq k) = \\sum_{i=0}^{\\lfloor k \\rfloor} \\binom{n}{i} p^i (1-p)^{n-i} $"
   ]
  },
  {
   "cell_type": "markdown",
   "id": "b9f60458-3c62-4d13-b669-1fa65f0714f1",
   "metadata": {},
   "source": [
    "$p_X(k) = \\Pr(X = k) = \\frac{\\binom{K}{k} \\binom{N-K}{n-k}}{\\binom{N}{n}},$"
   ]
  },
  {
   "cell_type": "code",
   "execution_count": null,
   "id": "cea8371f-d37c-4765-93c5-799bde11dfd3",
   "metadata": {},
   "outputs": [],
   "source": [
    "#######################################################################################\n",
    "## GENERATING ALL THE POSSIBLE POSSIBILITIES FOR TOSSING A SINGLE COINS FOUR TIMES\n",
    "#######################################################################################\n",
    "# Define the possible outcomes for a single coin flip H=Head, T=Tail"
   ]
  },
  {
   "cell_type": "markdown",
   "id": "a48a5aac-e05e-4691-a379-fc07a5e208ef",
   "metadata": {},
   "source": [
    "* Second, we will summary all the possibilities of head count and summary their probability"
   ]
  },
  {
   "cell_type": "code",
   "execution_count": null,
   "id": "07133041-1c6a-4011-9566-c11d5ddb2915",
   "metadata": {},
   "outputs": [],
   "source": [
    "#######################################################################################\n",
    "## PLOTTING PROBABILITY MEAN FUNCTION (PMF) OF A DISCRETE RANDOM VARIABLE\n",
    "#######################################################################################\n",
    "\n",
    "# Now plot using ggplot2 and ggtheme (ggtheme is libarary for some nice theme - here we use the economist theme).\n",
    "library(ggplot2)\n",
    "library(ggthemes)\n",
    "\n",
    "options(repr.plot.width=20, repr.plot.height=8) # this is just to make the plots wider (extend to the end of laptop display) \n",
    "\n",
    "ggplot(data = probability_summary, aes(x = HeadsCount, y = Probability)) +\n",
    "  geom_bar(stat = \"identity\", fill = \"blue\") +\n",
    "  labs(x = \"Number of Heads\", y = \"Probability\", title = \"Probability Distribution of Heads Count\") +\n",
    "  theme_economist(base_size = 30, dkpanel=TRUE)"
   ]
  },
  {
   "cell_type": "code",
   "execution_count": null,
   "id": "552e957f-9d5b-4b3f-b8f4-3fbc847a4bbb",
   "metadata": {},
   "outputs": [],
   "source": [
    "#######################################################################################\n",
    "## PLOTTING CUMMULATIVE DISTRIBUTION FUNCTION (CDF) OF A DISCRETE RANDOM VARIABLE\n",
    "#######################################################################################"
   ]
  },
  {
   "cell_type": "markdown",
   "id": "bc8fee40-321f-4551-b7e1-198624a8c65a",
   "metadata": {},
   "source": [
    "* SIMULATION 2: We can make a more dynamic simulation where we can set more trials and more coin flips"
   ]
  },
  {
   "cell_type": "code",
   "execution_count": null,
   "id": "77b99b50-fac4-4c74-9c8e-1fad7c322156",
   "metadata": {},
   "outputs": [],
   "source": [
    "#######################################################################################\n",
    "## PLOTTING CUMMULATIVE DISTRIBUTION FUNCTION (CDF) OF A DISCRETE RANDOM VARIABLE\n",
    "#######################################################################################\n",
    "library(ggplot2)\n",
    "library(ggthemes)"
   ]
  },
  {
   "cell_type": "code",
   "execution_count": null,
   "id": "0eed2975-9610-4e8f-9fba-e7a9f8e29f70",
   "metadata": {},
   "outputs": [],
   "source": [
    "#############################################################################################################################\n",
    "## CALCULATING EXPECTATION AND VARIANCE OF A PDF $f(x) = \\lambda x^{-\\lambda x}$ where $\\lambda = \\frac{1}{3}$\n",
    "#############################################################################################################################"
   ]
  },
  {
   "cell_type": "code",
   "execution_count": null,
   "id": "d0beea03-658f-4957-b659-9e36fb8e4343",
   "metadata": {},
   "outputs": [],
   "source": []
  },
  {
   "cell_type": "code",
   "execution_count": null,
   "id": "664feeb9-2e96-4808-86d8-4e19a82e3457",
   "metadata": {},
   "outputs": [],
   "source": []
  },
  {
   "cell_type": "code",
   "execution_count": null,
   "id": "fc4e51d9-c00e-4453-aae8-f9ee492a59ec",
   "metadata": {},
   "outputs": [],
   "source": [
    "# Reference\n",
    "<hr>\n",
    "\n",
    "* Baclawski, K. (2008). Introduction to probability with R. CRC Press.\n",
    "* Kerns, J. G. (2010). Introduction to Probability and Statistics Using R. Lulu.com\n",
    "* https://pubs.wsb.wisc.edu/academics/analytics-using-r-2019/uniform-continuous-version.html\n",
    "* https://bookdown.org/gabriel_butler/ECON41Labs/tutorial-5-the-poisson-distribution.html#simulating-costs-of-car-accidents"
   ]
  },
  {
   "cell_type": "code",
   "execution_count": null,
   "id": "6f63ee48-bb90-4512-b6b8-d1ba8d3ee67c",
   "metadata": {},
   "outputs": [],
   "source": [
    "############################################################################\n",
    "#            HYPERGEOMETRIC DISTRIBUTION IN R\n",
    "############################################################################\n",
    "# X- number of successes m in n draws without replacement from a finite \n",
    "#    population of size N which contains exactly M successes\n",
    "############################################################################\n",
    "#example: a box contains 20 red , 12 blue balls.\n",
    "#         let red balls be a 'success', blue a 'failure' \n",
    "#         we are drawing 10 balls without replacement and  \n",
    "#         count the number of red balls (successes).\n",
    "\n",
    "r=20\n",
    "b=12\n",
    "n=10\n",
    "\n",
    "############################################################################\n",
    "# generate a hypergeometric random variable (r,b,n)\n",
    "# and save it in a variable X\n",
    "############################################################################\n",
    "# one realization from negative binomial distribution \n",
    "\n",
    "rhyper(1,r,b,n)\n",
    "\n",
    "(X=rhyper(10000,r,b,n))\n",
    "#print the variable X values\n",
    "\n",
    "############################################################################\n",
    "\n",
    "\n",
    "\n",
    "\n",
    "############################################################################\n",
    "#Make a histogram using the generated variable X\n",
    "############################################################################\n",
    "#Once we have generated the hypergeomteric random variable (r,b,n)\n",
    "#we can make plots, calculate quantiles\n",
    "#check the documentation about hist function\n",
    "\n",
    "?hist\n",
    "\n",
    "#use nclass to define the number of bins of the histogram\n",
    "hist(X,nclass=25,col='purple',main='Histogram of X')\n",
    "hist(X,nclass=100,col='purple',main='Histogram of X')\n",
    "\n",
    "\n",
    "\n",
    "\n",
    "############################################################################\n",
    "# Make plots against a predifined grid\n",
    "# using dhyper\n",
    "############################################################################\n",
    "\n",
    "#define the grid\n",
    "grid   =  seq(0, 10, by = 1)\n",
    "\n",
    "#evaluate log binomial against the defined grid and make a plot\n",
    "evalXlog=dhyper(grid, r, b,n, log = TRUE)\n",
    "plot(grid, evalXlog, type = \"l\", ylab = \"log density\",\n",
    "      main = \"log density from dhyper\", col='red')\n",
    "\n",
    "#evaluate binomial against the defined grid and make a plot\n",
    "evalX=dhyper(grid, r,  b,n, log = FALSE)\n",
    "plot(grid, evalX,col='blue',type = \"l\",  ylab = \" density\",\n",
    "      main = \"density from dhyper\")\n",
    "\n",
    "############################################################################\n",
    "\n",
    "\n",
    "\n",
    "\n",
    "\n",
    "\n",
    "############################################################################\n",
    "# dhyper is evaluating the density, so we can use it to calculate\n",
    "# probabilities that X is exactly some value, or it is smaller or bigger\n",
    "# Example: Calculate the probability that there were 5 red balls in 10 draws\n",
    "# that is we need to calculate \n",
    "# P(X=5)= (factorial(r)/(factorial(x)*factorial(r-x) ) * factorial(b)/( factorial(n-x) *factorial(b-n+x)))/ (factorial(r+b)/ (factorial(n)*factorial(r+b-n) ))\n",
    "############################################################################\n",
    "\n",
    "\n",
    "#Calculate P(X=5) using the hard coded PMF of binomial\n",
    " x=5\n",
    "(probXis2fla= (factorial(r)/(factorial(x)*factorial(r-x) ) * factorial(b)/( factorial(n-x) *factorial(b-n+x)))/ (factorial(r+b)/ (factorial(n)*factorial(r+b-n) )))\n",
    "\n",
    "\n",
    "\n",
    "#Calculate P(X=2) using the R function dbinom\n",
    "(probXis2= dhyper(x, r, b,n, log = F))\n",
    "############################################################################\n",
    "\n",
    "############################################################################\n",
    "##calculate P( 6 <=X<= 8)\n",
    "#Several ways to do it! I will show you 3 today!\n",
    "############################################################################\n",
    "#1.\n",
    "#use the hard coded PMF of negative binomial\n",
    "(probXbtw6and8fla= (factorial(r)/(factorial(6)*factorial(r-6) ) * factorial(b)/( factorial(n-6) *factorial(b-n+6)))/ (factorial(r+b)/ (factorial(n)*factorial(r+b-n) ))+\n",
    "                   (factorial(r)/(factorial(7)*factorial(r-7) ) * factorial(b)/( factorial(n-7) *factorial(b-n+7)))/ (factorial(r+b)/ (factorial(n)*factorial(r+b-n) ))+\n",
    "                   (factorial(r)/(factorial(8)*factorial(r-8) ) * factorial(b)/( factorial(n-8) *factorial(b-n+8)))/ (factorial(r+b)/ (factorial(n)*factorial(r+b-n) )))\n",
    "\n",
    "\n",
    "#2.\n",
    "#We can write a parametrized function that can be recalled each time we need it.\n",
    "#This techique will be helful when you work when the distribution function\n",
    "#such as dbinom not available in R\n",
    "#This is just a more useful technique than the first one.\n",
    "#It makes it easier to calculate much more probabilities like P( 6 <=X<= 17 )\n",
    "\n",
    "myDistHyper=function(numb,r,b,n){\n",
    "    (factorial(r)/(factorial(numb)*factorial(r-numb) ) * factorial(b)/( factorial(n-numb) *factorial(b-n+numb)))/ (factorial(r+b)/ (factorial(n)*factorial(r+b-n) ))\n",
    "}\n",
    "\n",
    "(probXbtw6and8MyFla=myDistHyper(6,r,b,n)+myDistHyper(7,r,b,n)+myDistHyper(8,r,b,n))\n",
    "\n",
    "#or we can write a for loop to make a summation\n",
    "\n",
    "probXbtw6and8MyFla2=0\n",
    "for (i in (6:8)){\n",
    "probXbtw6and8MyFla2=probXbtw6and8MyFla2+myDistHyper(i,r,b,n)\n",
    "}\n",
    "\n",
    "# Note:\n",
    "# In general R is very slow when it comes to using for loop\n",
    "# There are more sofisticated functions such as apply, sapply, lapply..\n",
    "# that can be used to avoid the for loop. We will get there soon.\n",
    "\n",
    "#3.\n",
    "#use dhyper\n",
    "#provided a vector 6:8\n",
    "#dhyper will calculate probabilities for each values in the vector 6:8\n",
    "\n",
    "dhyper(6:8, r, b,n, log = F)\n",
    "\n",
    "#so to calculate prob P( 6 <=X<= 8) we will need to sum up probabilities \n",
    "#returned by dhyper evaluated at each of the values 6:8\n",
    "\n",
    "(probXbtw6and8=sum(dhyper(6:8, r, b,n, log = F)))\n",
    "\n",
    "############################################################################\n",
    "#calculate 75 percentile\n",
    "############################################################################\n",
    "\n",
    "qhyper(0.75,r,b,n)\n",
    "\n",
    "############################################################################\n",
    "#END\n",
    "############################################################################\n",
    "\n",
    "\n",
    "\n"
   ]
  },
  {
   "cell_type": "code",
   "execution_count": null,
   "id": "d1d436dd-adf1-47ee-9067-93ea7b9dc0d1",
   "metadata": {},
   "outputs": [],
   "source": [
    "############################################################################\n",
    "#              BINOMIAL DISTRIBUTION IN R\n",
    "############################################################################\n",
    "# X- number of successes in n trials \n",
    "############################################################################\n",
    "#example: Each of the students in today's tutorial toss a coin.\n",
    "#         Let heads denote a success.Count the number of heads (successes) in\n",
    "#         number-of-students number of trials.\n",
    "\n",
    "#set the working directory\n",
    "#be careful with this path, it will change according your \n",
    "#personal computer folder structure\n",
    "setwd('Z:/STAT380/tutorials/week1')\n",
    "\n",
    "#binomial distribution functions in R are built in the 'base' package\n",
    "#so we do not need any additional package\n",
    "\n",
    "############################################################################\n",
    "# Each of the students in today's tutorial is tossing a coin\n",
    "# We denote 'success' to be head, 'failure' is tail\n",
    "############################################################################\n",
    "n=17\n",
    "p=1/2\n",
    "\n",
    "\n",
    "############################################################################\n",
    "# generate a binomial random variable (n,p)\n",
    "# and save it in a variable X\n",
    "############################################################################\n",
    "# one realization from binomial distribution \n",
    "rbinom(1,n,p)\n",
    "\n",
    "#use the ? before the function name to call help file\n",
    "#about that function\n",
    "\n",
    "?rbinom\n",
    "\n",
    "X=rbinom(10000,n,p)\n",
    "#print the variable X values\n",
    "\n",
    "X\n",
    "\n",
    "#another way to print the output (variable X values) is \n",
    "\n",
    "(X=rbinom(10000,n,p))\n",
    "############################################################################\n",
    "\n",
    "############################################################################\n",
    "#Make a histogram using the generated variable X\n",
    "############################################################################\n",
    "#Once we have generated the binomial random variable\n",
    "#we can make plots, calculate quantiles\n",
    "#check the documentation about hist function\n",
    "\n",
    "?hist\n",
    "\n",
    "#use nclass to define the number of bins of the histogram\n",
    "hist(X,nclass=25,col='purple',main='Histogram of X')\n",
    "hist(X,nclass=100,col='purple',main='Histogram of X')\n",
    "\n",
    "############################################################################\n",
    "# Make plots against a predifined grid\n",
    "# using dbinom\n",
    "############################################################################\n",
    "\n",
    "#define the grid\n",
    "grid   =  seq(0, 17, by = 1)\n",
    "\n",
    "#evaluate log binomial against the defined grid and make a plot\n",
    "evalXlog=dbinom(grid, n, p, log = TRUE)\n",
    "plot(grid, evalXlog, type = \"l\", ylab = \"log density\",\n",
    "      main = \"log density from dbinom\", col='red')\n",
    "\n",
    "#evaluate binomial against the defined grid and make a plot\n",
    "evalX=dbinom(grid, n, p, log = FALSE)\n",
    "plot(grid, evalX,col='blue',type = \"l\",  ylab = \" density\",\n",
    "      main = \"density from dbinom\")\n",
    "\n",
    "############################################################################\n",
    "\n",
    "\n",
    "\n",
    "############################################################################\n",
    "# dbinom is evaluating the density, so we can use it to calculate\n",
    "# probabilities that X is exactly some value, or it is smaller or bigger\n",
    "# Example: Calculate the probability that there were 2 successes\n",
    "# that is we need to calculate P(X=2)= ( n!/2!(n-2)!) * p^2*(1-p)^(n-2) \n",
    "############################################################################\n",
    "\n",
    "\n",
    "#Calculate P(X=2) using the hard coded PMF of binomial\n",
    "(probXis2fla= factorial(n)/(factorial(2)*factorial(n-2))* p^2*(1-p)^(n-2) )\n",
    "\n",
    "\n",
    "#Calculate P(X=2) using the R function dbinom\n",
    "(probXis2=dbinom(2, n, p, log = F))\n",
    "############################################################################\n",
    "\n",
    "\n",
    "\n",
    "\n",
    "############################################################################\n",
    "##calculate P( 6 <=X<= 8)\n",
    "#Several ways to do it! I will show you 3 today!\n",
    "############################################################################\n",
    "#1.\n",
    "#use the hard coded PMF of binomial\n",
    "(probXbtw6and8fla= (factorial(n)/(factorial(6)*factorial(n-6)))* p^6*(1-p)^(n-6) +\n",
    "                   (factorial(n)/(factorial(7)*factorial(n-7)))* p^7*(1-p)^(n-7) +\n",
    "                   (factorial(n)/(factorial(8)*factorial(n-8)))* p^8*(1-p)^(n-8))\n",
    "\n",
    "#2.\n",
    "#We can write a parametrized function that can be recalled each time we need it.\n",
    "#This techique will be helful when you work when the distribution function\n",
    "#such as dbinom not available in R\n",
    "#This is just a more useful technique than the first one.\n",
    "#It makes it easier to calculate much more probabilities like P( 6 <=X<= 17 )\n",
    "\n",
    "myDistBinom=function(numb,n,p){\n",
    "    (factorial(n)/(factorial(numb)*factorial(n-numb)))* p^numb*(1-p)^(n-numb)\n",
    "}\n",
    "\n",
    "(probXbtw6and8MyFla=myDistBinom(6,n,p)+myDistBinom(7,n,p)+myDistBinom(8,n,p))\n",
    "\n",
    "#or we can write a for loop to make a summation\n",
    "\n",
    "probXbtw6and8MyFla1=0\n",
    "for (i in (6:8)){\n",
    "probXbtw6and8MyFla1=probXbtw6and8MyFla+myDistBinom(i,n,p)\n",
    "}\n",
    "\n",
    "# Note:\n",
    "# In general R is very slow when it comes to using for loop\n",
    "# There are more sofisticated functions such as apply, sapply, lapply..\n",
    "# that can be used to avoid the for loop. We will get there soon.\n",
    "\n",
    "#3.\n",
    "#use dbinom\n",
    "#provided a vector 6:8\n",
    "#dbinom will calculate probabilities for each values in the vector 6:8\n",
    "\n",
    "dbinom(6:8, n, p, log = F)\n",
    "\n",
    "#so to calculate prob P( 6 <=X<= 8) we will need to sum up probabilities \n",
    "#returned by dbinom evaluated at each of the values 6:8\n",
    "\n",
    "(probXbtw6and8=sum(dbinom(6:8, n, p, log = F)))\n",
    "\n",
    "############################################################################\n",
    "#calculate 75 percentile\n",
    "############################################################################\n",
    "\n",
    "qbinom(0.75,n,p)\n",
    " \n",
    "############################################################################\n",
    "#END\n",
    "############################################################################\n",
    "\n",
    "\n",
    "\n",
    "\n",
    "\n",
    "\n",
    "m <- 10; n <- 7; k <- 8\n",
    "x <- 0:m\n",
    "rbind(phyper(x, m, n, k), dhyper(x, m, n, k))\n",
    "all(phyper(x, m, n, k) == cumsum(dhyper(x, m, n, k)))# FALSE\n",
    "## Error :\n",
    "signif(phyper(x, m, n, k) - cumsum(dhyper(x, m, n, k)), dig=3)"
   ]
  },
  {
   "cell_type": "code",
   "execution_count": null,
   "id": "e9b7923b-a4e2-4e4b-9078-14787c8e7a9b",
   "metadata": {},
   "outputs": [],
   "source": [
    "m <- 10; n <- 7; k <- 8\n",
    "x <- 0:m\n",
    "rbind(phyper(x, m, n, k), dhyper(x, m, n, k))\n",
    "all(phyper(x, m, n, k) == cumsum(dhyper(x, m, n, k)))# FALSE\n",
    "## Error :\n",
    "signif(phyper(x, m, n, k) - cumsum(dhyper(x, m, n, k)), dig=3)"
   ]
  },
  {
   "cell_type": "code",
   "execution_count": null,
   "id": "c3d2fefa-5837-4f20-b4a2-62796b5d4354",
   "metadata": {},
   "outputs": [],
   "source": []
  },
  {
   "cell_type": "code",
   "execution_count": null,
   "id": "9066460f-1789-4a68-b9d0-a2733adf4439",
   "metadata": {},
   "outputs": [],
   "source": []
  },
  {
   "cell_type": "code",
   "execution_count": null,
   "id": "1e89880b-5140-4269-8a9e-c06733afff0a",
   "metadata": {},
   "outputs": [],
   "source": []
  },
  {
   "cell_type": "code",
   "execution_count": null,
   "id": "4ad8f600-695b-49fc-9985-b76bf5a12543",
   "metadata": {},
   "outputs": [],
   "source": []
  },
  {
   "cell_type": "code",
   "execution_count": null,
   "id": "d37f47c0-4490-4ed4-9d2b-bf6c27093c10",
   "metadata": {},
   "outputs": [],
   "source": []
  },
  {
   "cell_type": "code",
   "execution_count": null,
   "id": "e708e848-4344-4367-a7b2-8273f14857fb",
   "metadata": {},
   "outputs": [],
   "source": []
  },
  {
   "cell_type": "code",
   "execution_count": null,
   "id": "c2cb404c-763e-4a05-a1ed-b091e0662a2a",
   "metadata": {},
   "outputs": [],
   "source": []
  }
 ],
 "metadata": {
  "kernelspec": {
   "display_name": "R",
   "language": "R",
   "name": "ir"
  },
  "language_info": {
   "codemirror_mode": "r",
   "file_extension": ".r",
   "mimetype": "text/x-r-source",
   "name": "R",
   "pygments_lexer": "r",
   "version": "4.4.1"
  }
 },
 "nbformat": 4,
 "nbformat_minor": 5
}
