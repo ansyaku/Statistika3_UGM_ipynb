{
 "cells": [
  {
   "cell_type": "markdown",
   "id": "70426a9a-169b-43fd-b79f-2ac1c3ce1bcd",
   "metadata": {},
   "source": [
    "# **Pertemuan 2: Basic Concept of Probability Theory**\n",
    "<hr>\n",
    "\n",
    "### By: Andreas Syaloom Kurniawan (552751)"
   ]
  },
  {
   "cell_type": "code",
   "execution_count": 1,
   "id": "2babe9ee-f3bf-4001-9c28-c124bcf807fc",
   "metadata": {},
   "outputs": [],
   "source": [
    "# The note is written in english do to my class lecture notes was written in english, \n",
    "# therefore to make my english more fluent I also write this notebook in english.\n",
    "# The code are based on R programming language"
   ]
  },
  {
   "cell_type": "markdown",
   "id": "41ee7115-01b9-4d0d-bec1-a8ad2c588787",
   "metadata": {},
   "source": [
    "# Table of Contents\n",
    "- [A. Discrete Random Variable Distribution](#a)\n",
    "    - [A. 1 Binomial Distribution Function](#a.1)\n",
    "    - [A. 2 Hypergeometric Distribution Function](#a.2)\n",
    "    - [A. 3 Poisson Distribution Function](#a.3)\n",
    "- [B. Continous Random Variable Distribution](#b)\n",
    "    - [B. 1 Uniform Distribution Function](#b.1)\n",
    "    - [B. 2 Normal Distribution Function](#b.2)\n",
    "    - [B. 3 Gamma Distribution Function](#b.2)\n",
    "\n",
    "*Unfortunately, under github the link for the table of contents doesnt work, hence you need to scroll to the part if you want to go to a specific part of the note.*"
   ]
  },
  {
   "cell_type": "markdown",
   "id": "d3251fe6-ad96-4063-a5fc-1f5352161afd",
   "metadata": {},
   "source": [
    "## **A. Discrete Random Variable**<a class=\"anchor\" id=\"a\"></a>\n",
    "<hr>\n",
    "\n",
    "## **A.1 Binomial Distribution Function**<a class=\"anchor\" id=\"a\"></a>\n",
    "## **A.2 Hypergeometric Distribution Function**<a class=\"anchor\" id=\"a\"></a>\n",
    "## **A.3 Poisson Distribution Function**<a class=\"anchor\" id=\"a\"></a>"
   ]
  },
  {
   "cell_type": "markdown",
   "id": "83bbd5c2-60b1-415b-85a8-55cfec890ae0",
   "metadata": {},
   "source": [
    "## **B. Continous Random Variable**<a class=\"anchor\" id=\"a\"></a>\n",
    "<hr>\n",
    "\n",
    "## **B.1 Uniform Distribution Function**<a class=\"anchor\" id=\"a\"></a>\n",
    "## **B.2 Normal Distribution Function**<a class=\"anchor\" id=\"a\"></a>\n",
    "## **B.3 Gamma Distribution Function**<a class=\"anchor\" id=\"a\"></a>"
   ]
  },
  {
   "cell_type": "code",
   "execution_count": 6,
   "id": "0d573ec4-8fad-4f50-8a3f-6d5d542c36a9",
   "metadata": {},
   "outputs": [],
   "source": [
    "# dbinom(k, n, p)\n",
    "# pbinom(k, n, p)\n",
    "# qbinom(P, n, p)\n",
    "# rbinom(n, N, p)"
   ]
  },
  {
   "cell_type": "code",
   "execution_count": 5,
   "id": "a8be84dd-60d8-4c08-a439-2a3b6e24e777",
   "metadata": {},
   "outputs": [],
   "source": [
    "# Description\n",
    "# Density, distribution function, quantile function and random generation for the Poisson distribution with parameter lambda.\n",
    "# dpois(x, lambda, log = FALSE) # Density (Probability Mass Function)\n",
    "# ppois(q, lambda, lower.tail = TRUE, log.p = FALSE) # Cumulative Distribution Function"
   ]
  },
  {
   "cell_type": "code",
   "execution_count": null,
   "id": "56476033-7378-459e-85a9-6d578e4e5706",
   "metadata": {},
   "outputs": [],
   "source": [
    "dhyper(x, m, n, k, log = FALSE)\n",
    "phyper(q, m, n, k, lower.tail = TRUE, log.p = FALSE)\n",
    "qhyper(p, m, n, k, lower.tail = TRUE, log.p = FALSE)\n",
    "rhyper(nn, m, n, k)"
   ]
  },
  {
   "cell_type": "code",
   "execution_count": null,
   "id": "77a32fda-5249-42ee-a5d0-6835345e7210",
   "metadata": {},
   "outputs": [],
   "source": [
    "    dnorm()\n",
    "    pnorm()\n",
    "    qnorm()\n",
    "    rnorm()"
   ]
  },
  {
   "cell_type": "code",
   "execution_count": null,
   "id": "4eab9180-5bce-410b-8077-f7494ab59279",
   "metadata": {},
   "outputs": [],
   "source": [
    "d<distribution>: Returns the density (PDF) at a given value.\n",
    "p<distribution>: Returns the cumulative probability up to a given value (CDF).\n",
    "q<distribution>: Returns the quantile (inverse CDF) for a given probability.\n",
    "r<distribution>: Generates random samples from the distribution."
   ]
  },
  {
   "cell_type": "code",
   "execution_count": null,
   "id": "2b7f784d-a879-45b3-948a-fbf83b4b5ed0",
   "metadata": {},
   "outputs": [],
   "source": []
  },
  {
   "cell_type": "code",
   "execution_count": null,
   "id": "2fc101b4-a056-4b56-9c0d-16c5669502bc",
   "metadata": {},
   "outputs": [],
   "source": [
    "dunif(x, min = 0, max = 1, log = FALSE)\n",
    "punif(q, min = 0, max = 1, lower.tail = TRUE, log.p = FALSE)\n",
    "qunif(p, min = 0, max = 1, lower.tail = TRUE, log.p = FALSE)\n",
    "runif(n, min = 0, max = 1)"
   ]
  },
  {
   "cell_type": "code",
   "execution_count": null,
   "id": "5aa31785-8f8e-4120-ab78-07bc082d62ff",
   "metadata": {},
   "outputs": [],
   "source": []
  },
  {
   "cell_type": "markdown",
   "id": "4eb069f3-f18f-49e1-ab7e-5b417fc7a2d1",
   "metadata": {},
   "source": [
    "$f(k; \\lambda) = \\Pr(X=k) = \\frac{\\lambda^k e^{-\\lambda}}{k!},$\n",
    "\n",
    "where\n",
    "* $k$ is the number of occurrences $(k = 0, 1, 2, \\dots)$\n",
    "* $e$ is Euler's number $(e \\approx 2.71828)$\n",
    "* $k!$ is the factorial, $k! = k(k-1) \\dots (3)(2)(1)$."
   ]
  },
  {
   "cell_type": "markdown",
   "id": "fcee3e83-6c15-490b-b4ca-33bb744514c6",
   "metadata": {},
   "source": [
    "A random variable $X$ that is gamma-distributed with shape $\\alpha$ and scale $\\theta$ is denoted by\n",
    "$$\n",
    "X \\sim \\Gamma(\\alpha, \\theta).\n",
    "$$\n",
    "The probability density function using the shape-scale parametrization is\n",
    "$$\n",
    "f(x; \\alpha, \\theta) = \\frac{x^{\\alpha-1} e^{-x/\\theta}}{\\theta^\\alpha \\Gamma(\\alpha)}\n",
    "$$\n",
    "for $x > 0$ and $\\alpha, \\theta > 0$.\n",
    "\n",
    "Here $\\Gamma(\\alpha)$ is the gamma function evaluated at $\\alpha$.\n",
    "\n",
    "The cumulative distribution function is the regularized gamma function:\n",
    "$$\n",
    "F(x; \\alpha, \\theta) = \\int_0^x f(u; \\alpha, \\theta) \\, du = \\frac{\\gamma(\\alpha, \\frac{x}{\\theta})}{\\Gamma(\\alpha)},\n",
    "$$\n",
    "where $\\gamma(\\alpha, x)$ is the lower incomplete gamma function.\n"
   ]
  },
  {
   "cell_type": "markdown",
   "id": "bbd4784d-568d-4512-883a-c57b9d16822b",
   "metadata": {},
   "source": [
    "$ \\Huge f(k, n, p) = \\Pr(X = k) = \\binom{n}{k} p^k (1-p)^{n-k} $"
   ]
  },
  {
   "cell_type": "markdown",
   "id": "0164113e-f805-4343-9dcc-078a9d1302f9",
   "metadata": {},
   "source": [
    "$ \\Huge \\binom{n}{k} = \\frac{n!}{k!(n-k)!}. $"
   ]
  },
  {
   "cell_type": "markdown",
   "id": "b9e68fe4-e0d0-4845-afdc-5ef213628549",
   "metadata": {},
   "source": [
    "$ F(k; n, p) = \\Pr(X \\leq k) = \\sum_{i=0}^{\\lfloor k \\rfloor} \\binom{n}{i} p^i (1-p)^{n-i} $"
   ]
  },
  {
   "cell_type": "markdown",
   "id": "b9f60458-3c62-4d13-b669-1fa65f0714f1",
   "metadata": {},
   "source": [
    "$p_X(k) = \\Pr(X = k) = \\frac{\\binom{K}{k} \\binom{N-K}{n-k}}{\\binom{N}{n}},$"
   ]
  },
  {
   "cell_type": "code",
   "execution_count": 12,
   "id": "cea8371f-d37c-4765-93c5-799bde11dfd3",
   "metadata": {},
   "outputs": [],
   "source": [
    "#######################################################################################\n",
    "## GENERATING ALL THE POSSIBLE POSSIBILITIES FOR TOSSING A SINGLE COINS FOUR TIMES\n",
    "#######################################################################################\n",
    "# Define the possible outcomes for a single coin flip H=Head, T=Tail"
   ]
  },
  {
   "cell_type": "markdown",
   "id": "a48a5aac-e05e-4691-a379-fc07a5e208ef",
   "metadata": {},
   "source": [
    "* Second, we will summary all the possibilities of head count and summary their probability"
   ]
  },
  {
   "cell_type": "code",
   "execution_count": 4,
   "id": "07133041-1c6a-4011-9566-c11d5ddb2915",
   "metadata": {},
   "outputs": [
    {
     "name": "stderr",
     "output_type": "stream",
     "text": [
      "Warning message:\n",
      "\"package 'ggthemes' was built under R version 4.4.2\"\n"
     ]
    },
    {
     "data": {
      "image/png": "[encoded data removed]",
      "text/plain": [
       "plot without title"
      ]
     },
     "metadata": {
      "image/png": {
       "height": 480,
       "width": 1200
      }
     },
     "output_type": "display_data"
    }
   ],
   "source": [
    "#######################################################################################\n",
    "## PLOTTING PROBABILITY MEAN FUNCTION (PMF) OF A DISCRETE RANDOM VARIABLE\n",
    "#######################################################################################\n",
    "\n",
    "# Now plot using ggplot2 and ggtheme (ggtheme is libarary for some nice theme - here we use the economist theme).\n",
    "library(ggplot2)\n",
    "library(ggthemes)\n",
    "\n",
    "options(repr.plot.width=20, repr.plot.height=8) # this is just to make the plots wider (extend to the end of laptop display) \n",
    "\n",
    "ggplot(data = probability_summary, aes(x = HeadsCount, y = Probability)) +\n",
    "  geom_bar(stat = \"identity\", fill = \"blue\") +\n",
    "  labs(x = \"Number of Heads\", y = \"Probability\", title = \"Probability Distribution of Heads Count\") +\n",
    "  theme_economist(base_size = 30, dkpanel=TRUE)"
   ]
  },
  {
   "cell_type": "code",
   "execution_count": 10,
   "id": "552e957f-9d5b-4b3f-b8f4-3fbc847a4bbb",
   "metadata": {},
   "outputs": [],
   "source": [
    "#######################################################################################\n",
    "## PLOTTING CUMMULATIVE DISTRIBUTION FUNCTION (CDF) OF A DISCRETE RANDOM VARIABLE\n",
    "#######################################################################################"
   ]
  },
  {
   "cell_type": "markdown",
   "id": "bc8fee40-321f-4551-b7e1-198624a8c65a",
   "metadata": {},
   "source": [
    "* SIMULATION 2: We can make a more dynamic simulation where we can set more trials and more coin flips"
   ]
  },
  {
   "cell_type": "code",
   "execution_count": 11,
   "id": "77b99b50-fac4-4c74-9c8e-1fad7c322156",
   "metadata": {},
   "outputs": [
    {
     "name": "stderr",
     "output_type": "stream",
     "text": [
      "Warning message:\n",
      "\"package 'ggthemes' was built under R version 4.4.2\"\n"
     ]
    }
   ],
   "source": [
    "#######################################################################################\n",
    "## PLOTTING CUMMULATIVE DISTRIBUTION FUNCTION (CDF) OF A DISCRETE RANDOM VARIABLE\n",
    "#######################################################################################\n",
    "library(ggplot2)\n",
    "library(ggthemes)"
   ]
  },
  {
   "cell_type": "code",
   "execution_count": 9,
   "id": "0eed2975-9610-4e8f-9fba-e7a9f8e29f70",
   "metadata": {},
   "outputs": [],
   "source": [
    "#############################################################################################################################\n",
    "## CALCULATING EXPECTATION AND VARIANCE OF A PDF $f(x) = \\lambda x^{-\\lambda x}$ where $\\lambda = \\frac{1}{3}$\n",
    "#############################################################################################################################"
   ]
  }
 ],
 "metadata": {
  "kernelspec": {
   "display_name": "R",
   "language": "R",
   "name": "ir"
  },
  "language_info": {
   "codemirror_mode": "r",
   "file_extension": ".r",
   "mimetype": "text/x-r-source",
   "name": "R",
   "pygments_lexer": "r",
   "version": "4.4.1"
  }
 },
 "nbformat": 4,
 "nbformat_minor": 5
}
