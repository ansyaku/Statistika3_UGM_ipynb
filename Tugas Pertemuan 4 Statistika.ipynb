{
 "cells": [
  {
   "cell_type": "markdown",
   "id": "70426a9a-169b-43fd-b79f-2ac1c3ce1bcd",
   "metadata": {},
   "source": [
    "# **Pertemuan 4: Join Probability Distribution**\n",
    "<hr>\n",
    "\n",
    "### By: Andreas Syaloom Kurniawan (552751)"
   ]
  },
  {
   "cell_type": "code",
   "execution_count": 6,
   "id": "2babe9ee-f3bf-4001-9c28-c124bcf807fc",
   "metadata": {},
   "outputs": [],
   "source": [
    "# The note is written in english do to my class lecture notes was written in english, \n",
    "# therefore to make my english more fluent I also write this notebook in english.\n",
    "# The code are based on R programming language"
   ]
  },
  {
   "cell_type": "markdown",
   "id": "41ee7115-01b9-4d0d-bec1-a8ad2c588787",
   "metadata": {},
   "source": [
    "# Table of Contents\n",
    "- [A. Bivariate Distribution](#a)\n",
    "    - [A. 1 Join Probability Distribution](#a.1)\n",
    "    - [A. 2 Marginal Distribution Function](#a.2)\n",
    "    - [A. 3 Conditional Probability Distribution](#a.3)\n",
    "- [B. Covariance and Correlation](#b)\n",
    "    - [B. 1 Covariance and Correlation](#b.1)\n",
    "    - [B. 2 Sums of Random Variable](#b.2)\n",
    "\n",
    "*Unfortunately, under github the link for the table of contents doesnt work, hence you need to scroll to the part if you want to go to a specific part of the note.*"
   ]
  },
  {
   "cell_type": "markdown",
   "id": "e07307b7-c9f1-4ec1-8d38-df5ca4570133",
   "metadata": {},
   "source": [
    "## **A. Bivariate Distribution**<a class=\"anchor\" id=\"a\"></a>\n",
    "<hr>\n",
    "\n",
    "## **A.1 Join Probability Distribution**<a class=\"anchor\" id=\"a\"></a>\n"
   ]
  },
  {
   "attachments": {},
   "cell_type": "markdown",
   "id": "72765bb9-2a9a-46e9-9060-ce8d48dac73d",
   "metadata": {},
   "source": [
    "## **A.1 Marginal Distribution Function**<a class=\"anchor\" id=\"a\"></a>"
   ]
  },
  {
   "cell_type": "markdown",
   "id": "ed64d47b-d84a-491a-9eac-2b30926715f7",
   "metadata": {},
   "source": [
    "## **A.1 Conditional Probability Distribution**<a class=\"anchor\" id=\"a\"></a>\n"
   ]
  },
  {
   "cell_type": "code",
   "execution_count": 44,
   "id": "c1e86256-e6e7-4f03-a08e-da638d051af1",
   "metadata": {},
   "outputs": [
    {
     "data": {
      "image/png": "[encoded data removed]",
      "text/plain": [
       "Plot with title \"Binomial Distribution (n=10, p=0.5)\""
      ]
     },
     "metadata": {
      "image/png": {
       "height": 480,
       "width": 1200
      }
     },
     "output_type": "display_data"
    }
   ],
   "source": [
    "success <- 0:10\n",
    "par(bg = \"#F2F6D0\")\n",
    "plot(success,dbinom(success,size=10,prob=.5),\n",
    "     type='b',\n",
    "     main='Binomial Distribution (n=10, p=0.5)',\n",
    "     ylab='Probability',\n",
    "     xlab ='Successes',\n",
    "     col = \"blue\",\n",
    "     lwd=8)"
   ]
  },
  {
   "cell_type": "markdown",
   "id": "2049e496-5ce9-45e2-96e4-4cdfa6ab6f54",
   "metadata": {},
   "source": [
    "# **A.2 Covariance and Correlation**"
   ]
  },
  {
   "cell_type": "markdown",
   "id": "8511232a-33a7-4e67-ae40-e5f0cd3ab766",
   "metadata": {},
   "source": [
    "The hypergeometric distribution, the probability of $y$ successes when sampling **without replacement** $n$ items from a population with $r$ successes and $N − r$ failures."
   ]
  },
  {
   "cell_type": "markdown",
   "id": "4b0b5742-207a-4636-8ccf-77e8117f27d7",
   "metadata": {},
   "source": [
    "# **A.3  Sums of Random Variable**\n",
    "\n"
   ]
  },
  {
   "cell_type": "code",
   "execution_count": 100,
   "id": "2c29b7a6-14d7-4bcf-8bb9-3ab968266526",
   "metadata": {},
   "outputs": [],
   "source": [
    "#################################################################### END #########################################################################################################"
   ]
  }
 ],
 "metadata": {
  "kernelspec": {
   "display_name": "R",
   "language": "R",
   "name": "ir"
  },
  "language_info": {
   "codemirror_mode": "r",
   "file_extension": ".r",
   "mimetype": "text/x-r-source",
   "name": "R",
   "pygments_lexer": "r",
   "version": "4.4.1"
  }
 },
 "nbformat": 4,
 "nbformat_minor": 5
}
