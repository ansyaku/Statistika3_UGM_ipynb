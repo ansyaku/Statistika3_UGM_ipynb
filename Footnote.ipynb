{
 "cells": [
  {
   "cell_type": "markdown",
   "id": "746042c5-0e8f-460d-82ed-f141eef3242c",
   "metadata": {},
   "source": [
    "## Insight Corner\n",
    "Mengapa di kasus-kasus pelemparan dua dadu atau dua koin sekaligus menjadi single probability, tetapi pada kasus melempar dadu dan koin menjadi join probability? \n",
    "\n",
    "**ANSWER:**\n",
    "Single/Join proabability bergantung pada bagaimana random variable didefinisikan.\n",
    "\n",
    "| **Kasus**              | **Random Variable**                | **Tipe Probabilitas**    | **Kenapa?** |\n",
    "|------------------------|--------------------------------|------------------------|------------|\n",
    "| Melempar 2 dadu       | 1 (jumlah mata dadu)          | **Single probability** | Kita hanya fokus ke hasil akhir (total mata dadu) |\n",
    "| Melempar dadu & koin  | 2 (dadu & koin)               | **Joint probability**  | Kita mempertahankan informasi masing-masing variabel |\n",
    "\n",
    "Jadi, perbedaannya ada di **cara kita memandang peristiwa**:\n",
    "- Kalau kita **mereduksi dua dadu menjadi satu variabel acak** (misalnya totalnya), kita hanya perlu **single probability**.\n",
    "- Kalau kita **mempertahankan kedua hasil secara eksplisit** (misalnya dadu dan koin terpisah), kita pakai **joint probability**.\n",
    "\n",
    "\n",
    "**Bonus: Bisa Gak Melempar Dua Dadu Jadi Joint Probability?**\n",
    "\n",
    "Bisa! Kalau kita ingin mempertahankan **hasil masing-masing dadu secara eksplisit**, kita juga bisa memperlakukan melempar dua dadu sebagai **joint probability**:\n",
    "\n",
    "- **Definisikan dua variabel acak:**\n",
    "  - $ X_1 $ = hasil dadu pertama (1-6)\n",
    "  - $ X_2 $ = hasil dadu kedua (1-6)\n",
    "\n",
    "- **Maka, kita bisa melihat joint probability seperti:**\n",
    "  - $ P(X_1 = 3, X_2 = 5) = \\frac{1}{36} $\n",
    "  - $ P(X_1 = 6, X_2 = 6) = \\frac{1}{36} $\n",
    "\n",
    "Jadi, melempar dua dadu **bisa dipandang sebagai single probability atau joint probability**, tergantung apakah kita hanya melihat jumlah total atau mempertahankan informasi masing-masing dadu.\n"
   ]
  },
  {
   "cell_type": "markdown",
   "id": "e900c503-4bf0-4186-a320-8e7978979829",
   "metadata": {},
   "source": [
    "Di sini, \n",
    "𝑥\n",
    "x menunjukkan sampai di mana kita mengintegrasikan PDF dari distribusi gamma. Integral ini memberikan probabilitas bahwa variabel acak \n",
    "𝑋\n",
    "X kurang dari atau sama dengan \n",
    "𝑥\n",
    "x.\n",
    "\n",
    "Peran \n",
    "𝑥\n",
    "x: Dalam praktiknya, jika kita ingin mengetahui, misalnya, probabilitas bahwa waktu hingga kegagalan sebuah komponen (yang mengikuti distribusi gamma) adalah 5 jam atau kurang, maka kita akan menyetel \n",
    "𝑥\n",
    "=\n",
    "5\n",
    "x=5 dalam formula CDF tersebut."
   ]
  },
  {
   "cell_type": "code",
   "execution_count": 1,
   "id": "ca9e32ac-3a22-43e4-8838-477df9a6e47b",
   "metadata": {},
   "outputs": [
    {
     "data": {
      "image/png": "[encoded data removed]",
      "text/plain": [
       "plot without title"
      ]
     },
     "metadata": {
      "image/png": {
       "height": 420,
       "width": 420
      }
     },
     "output_type": "display_data"
    }
   ],
   "source": [
    "# R program to illustrate\n",
    "# exponential distribution\n",
    "# Specify x-values\n",
    "x_dexp <- seq(1, 10, by = 0.1) \n",
    "\t\n",
    "# Apply dexp() function\t\t\t \n",
    "y_dexp <- dexp(x_dexp, rate = 5) \n",
    "\t\t\t\t\n",
    "# Plot dexp values \n",
    "plot(y_dexp)\n"
   ]
  },
  {
   "cell_type": "code",
   "execution_count": 2,
   "id": "a8f8e9f4-67b8-4b9e-8935-82a3b9dd46dc",
   "metadata": {},
   "outputs": [
    {
     "data": {
      "image/png": "[encoded data removed]",
      "text/plain": [
       "plot without title"
      ]
     },
     "metadata": {
      "image/png": {
       "height": 420,
       "width": 420
      }
     },
     "output_type": "display_data"
    }
   ],
   "source": [
    "# R program to illustrate\n",
    "# exponential distribution\n",
    "# Specify x-values\n",
    "x_dexp <- seq(1, 10, by = 0.1) \n",
    "\t\n",
    "# Apply dexp() function\t\t\t \n",
    "y_dexp <- dexp(x_dexp, rate = 5) \n",
    "\t\t\t\t\n",
    "# Plot dexp values \n",
    "plot(y_dexp)\n"
   ]
  },
  {
   "cell_type": "markdown",
   "id": "645954b7-9245-46c6-a69b-558f334e040d",
   "metadata": {},
   "source": [
    "# Exponential Distribution\n",
    "\n",
    "The exponential distribution is often used to model the time between independent events that occur at a constant average rate.\n",
    "\n",
    "## Probability Density Function (PDF)\n",
    "The probability density function (PDF) of an exponential distribution is given by:\n",
    "\n",
    "$$\n",
    "f(x; \\lambda) =\n",
    "\\begin{cases} \n",
    "\\lambda e^{-\\lambda x}, & x \\geq 0 \\\\\n",
    "0, & x < 0\n",
    "\\end{cases}\n",
    "$$\n",
    "\n",
    "where:\n",
    "- $\\lambda > 0$ is the rate parameter.\n",
    "- $x$ is the random variable.\n",
    "\n",
    "## Cumulative Distribution Function (CDF)\n",
    "The cumulative distribution function (CDF) of an exponential distribution is:\n",
    "\n",
    "$$\n",
    "F(x; \\lambda) =\n",
    "\\begin{cases} \n",
    "1 - e^{-\\lambda x}, & x \\geq 0 \\\\\n",
    "0, & x < 0\n",
    "\\end{cases}\n",
    "$$\n",
    "\n",
    "This represents the probability that the random variable \\(X\\) is less than or equal to \\(x\\).\n",
    "\n",
    "## Properties\n",
    "- Mean: $\\mathbb{E}[X] = \\frac{1}{\\lambda}$\n",
    "- Variance: $\\text{Var}(X) = \\frac{1}{\\lambda^2}$\n",
    "- Memoryless Property: $P(X > s+t \\mid X > s) = P(X > t)$"
   ]
  },
  {
   "cell_type": "markdown",
   "id": "79c55c4e-14ee-4b6f-952a-4400b6f894bf",
   "metadata": {},
   "source": [
    "## Time Until the First Event\n",
    "\n",
    "The time until the first event follows an **Exponential distribution**:\n",
    "\n",
    "$$\n",
    "T_1 \\sim \\text{Exp}(\\lambda)\n",
    "$$\n",
    "\n",
    "The probability density function (PDF) is:\n",
    "\n",
    "$$\n",
    "f(t) = \\lambda e^{-\\lambda t}, \\quad t \\geq 0\n",
    "$$\n",
    "\n",
    "This represents the waiting time for the very first event.\n",
    "\n",
    "## Time Until the n-th Event\n",
    "\n",
    "The time until the **n-th event** follows a **Gamma distribution**:\n",
    "\n",
    "$$\n",
    "T_n \\sim \\text{Gamma}(n, \\lambda)\n",
    "$$\n",
    "\n",
    "The PDF of the **Gamma** distribution is:\n",
    "\n",
    "$$\n",
    "f(t) = \\frac{\\lambda^n t^{n-1} e^{-\\lambda t}}{(n-1)!}, \\quad t \\geq 0\n",
    "$$\n",
    "\n",
    "This models the total waiting time for the $n$-th event.\n",
    "\n",
    "## Time Between Consecutive Events\n",
    "\n",
    "The time between two consecutive events follows an **Exponential** distribution:\n",
    "\n",
    "$$\n",
    "T_n - T_{n-1} \\sim \\text{Exp}(\\lambda)\n",
    "$$\n",
    "\n",
    "This follows from the **memoryless property** of the Exponential distribution, meaning that the probability of an event occurring does not depend on how much time has already passed.\n",
    "\n",
    "## Summary\n",
    "\n",
    "- **First event** → $T_1 \\sim \\text{Exp}(\\lambda)$\n",
    "- **n-th event** → $T_n \\sim \\text{Gamma}(n, \\lambda)$\n",
    "- **Time between events** → $T_n - T_{n-1} \\sim \\text{Exp}(\\lambda)$\n",
    "\n",
    "This shows how the Exponential distribution is a special case of the Gamma distribution when $n = 1$.\n",
    "\n"
   ]
  },
  {
   "cell_type": "markdown",
   "id": "038f7ddc-a872-4a74-a151-43430e9288f2",
   "metadata": {},
   "source": [
    "* **dexp** Probability Density Function\n",
    "* **pexp** Cumulative Distribution Function\n",
    "* **qexp** Quantile Function of Exponential Distribution\n",
    "* **rexp** Generating random numbers which are Exponentially Distributed"
   ]
  }
 ],
 "metadata": {
  "kernelspec": {
   "display_name": "R",
   "language": "R",
   "name": "ir"
  },
  "language_info": {
   "codemirror_mode": "r",
   "file_extension": ".r",
   "mimetype": "text/x-r-source",
   "name": "R",
   "pygments_lexer": "r",
   "version": "4.4.1"
  }
 },
 "nbformat": 4,
 "nbformat_minor": 5
}
