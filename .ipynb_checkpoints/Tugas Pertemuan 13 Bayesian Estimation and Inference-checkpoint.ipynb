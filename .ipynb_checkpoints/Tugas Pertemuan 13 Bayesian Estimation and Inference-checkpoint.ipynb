{
 "cells": [
  {
   "cell_type": "markdown",
   "id": "fa3d444c-cee5-4d83-a750-4914895f2fda",
   "metadata": {},
   "source": [
    "# **Pertemuan 13: Bayesian Estimation and Inference**\n",
    "<hr>\n",
    "\n",
    "### By: Andreas Syaloom Kurniawan (552751)"
   ]
  },
  {
   "cell_type": "markdown",
   "id": "aa2bf444-f086-4063-a1bf-ed512f286937",
   "metadata": {},
   "source": [
    "- [A. Bayesian point estimation](#a)\n",
    "- [B. Bayesian conﬁdence interval or credible interval](#b)\n",
    "- [C. Bayesian hypothesis testing](#c)\n",
    "- [D. Bayesian decision theory](#d)\n",
    "- [E. Empirical Bayes estimates](#e)\n",
    "   - [E.1 Jackknife resampling](#e1)\n",
    "   - [E.2 Bootstrap resampling](#e2)\n",
    "   - [E.3 Parametric, standard Bayes, empirical Bayes: Bootstrapping and jackknife](#e3)"
   ]
  },
  {
   "cell_type": "markdown",
   "id": "18dcaeee-2721-4b5c-a067-5a716a679cf3",
   "metadata": {},
   "source": [
    "# A. Bayesian point estimation\n"
   ]
  },
  {
   "cell_type": "markdown",
   "id": "af93cd62-bbb3-42b7-b348-83074d26d911",
   "metadata": {},
   "source": [
    "# B. Bayesian conﬁdence interval or credible interval\n"
   ]
  },
  {
   "cell_type": "markdown",
   "id": "7caa60eb-3409-431a-8b98-39f198d0b006",
   "metadata": {},
   "source": [
    "# C. Bayesian hypothesis testing\n"
   ]
  },
  {
   "cell_type": "markdown",
   "id": "34876329-79a2-42cf-8169-66d976b62368",
   "metadata": {},
   "source": [
    "# D. Bayesian decision theory\n"
   ]
  },
  {
   "cell_type": "markdown",
   "id": "7d155dcf-ad8e-442b-9a1b-5fc0c29a2f64",
   "metadata": {},
   "source": [
    "# E. Empirical Bayes estimates\n",
    "## E.1 Jackknife resampling\n"
   ]
  },
  {
   "cell_type": "code",
   "execution_count": null,
   "id": "be87209e-a937-4112-9f47-5cfee57c081d",
   "metadata": {},
   "outputs": [],
   "source": []
  },
  {
   "cell_type": "markdown",
   "id": "3680cd71-70a4-44f8-b5fd-57324005cc7f",
   "metadata": {},
   "source": [
    "## E.2 Bootstrap resampling\n"
   ]
  },
  {
   "cell_type": "markdown",
   "id": "9771987e-faa3-45aa-960f-b7ffd8881ea7",
   "metadata": {},
   "source": [
    "## E.3 Parametric, standard Bayes, empirical Bayes: Bootstrapping and jackknife"
   ]
  }
 ],
 "metadata": {
  "kernelspec": {
   "display_name": "R",
   "language": "R",
   "name": "ir"
  },
  "language_info": {
   "codemirror_mode": "r",
   "file_extension": ".r",
   "mimetype": "text/x-r-source",
   "name": "R",
   "pygments_lexer": "r",
   "version": "4.4.1"
  }
 },
 "nbformat": 4,
 "nbformat_minor": 5
}
