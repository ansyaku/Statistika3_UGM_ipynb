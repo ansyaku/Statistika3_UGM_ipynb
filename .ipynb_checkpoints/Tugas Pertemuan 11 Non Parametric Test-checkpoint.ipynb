{
 "cells": [
  {
   "cell_type": "code",
   "execution_count": null,
   "id": "8a1be1b7-0c61-4a59-b9d1-5f0f15373ac2",
   "metadata": {},
   "outputs": [],
   "source": []
  }
 ],
 "metadata": {
  "kernelspec": {
   "display_name": "",
   "name": ""
  },
  "language_info": {
   "name": ""
  }
 },
 "nbformat": 4,
 "nbformat_minor": 5
}
