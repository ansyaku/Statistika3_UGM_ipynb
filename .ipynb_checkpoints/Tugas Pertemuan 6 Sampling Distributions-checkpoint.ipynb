{
 "cells": [
  {
   "cell_type": "markdown",
   "id": "36a78ea8-e591-481b-b2a2-55f4383192f2",
   "metadata": {},
   "source": [
    "# **Pertemuan 6: Sampling Distributions**\n",
    "<hr>\n",
    "\n",
    "### By: Andreas Syaloom Kurniawan (552751)"
   ]
  },
  {
   "cell_type": "markdown",
   "id": "29628c4d-d431-461b-b034-be1aa3e8ff80",
   "metadata": {},
   "source": [
    "# Table of Contents\n",
    "- [A. Sampling Distribution](#a)\n",
    "- [B. Sample mean and sample variance](#a)\n",
    "  - [B. 1 Chi-Square Distribution](#a.1)\n",
    "  - [B. 2 Student t-distribution](#a.2)\n",
    "  - [B. 3 F-distribution](#a.3)"
   ]
  },
  {
   "cell_type": "code",
   "execution_count": null,
   "id": "1652799e-6955-474c-82d4-6b4892cf6c62",
   "metadata": {},
   "outputs": [],
   "source": [
    "Sampling distribution adalah distribusi probabilitas dari suatu statistik sampel (misalnya mean, median, atau proporsi) yang diperoleh dari banyak sampel yang diambil dari populasi yang sama.\n",
    "\n",
    "Penjelasan Sederhana :\n",
    "* Misalkan kita ingin mengetahui rata-rata tinggi mahasiswa di suatu universitas.\n",
    "* Populasi: Semua mahasiswa di universitas.\n",
    "* Sampel: Kita ambil 100 mahasiswa secara acak dan hitung rata-ratanya.\n",
    "* Sampling distribution: Jika kita ulangi proses ini berulang kali (misalnya 10.000 kali) dengan sampel yang berbeda-beda, maka rata-rata yang kita dapatkan akan membentuk distribusi tertentu.\n",
    "* Intinya: Sampling distribution menunjukkan bagaimana statistik sampel (d.h.i means) berperilaku jika kita mengambil **banyak sampel** dari populasi."
   ]
  },
  {
   "cell_type": "markdown",
   "id": "47d3c77d-c058-4a1a-94f3-b765218179d3",
   "metadata": {},
   "source": [
    "## Simulasi 1 : Analisis Distribusi Jumlah Kontainer per Kapal  \n",
    "\n",
    "## **Latar Belakang**  \n",
    "Pelabuhan  Bremerhaven merupakan salah satu pelabuhan utama yang menangani pengiriman kontainer di Eropa. Efisiensi operasional pelabuhan sangat bergantung pada **jumlah kontainer yang diterima per kapal** dalam setiap perjalanan.  \n",
    "\n",
    "Berdasarkan data historis, jumlah kontainer yang dikirim dalam satu pelayaran umumnya berada pada nilai berikut:  \n",
    "\n",
    "$3000, 4000, 5000, 8000, 10000, 14000, 20000$\n",
    "\n",
    "Manajemen pelabuhan ingin memahami **pola distribusi jumlah kontainer per kapal** untuk meningkatkan **efisiensi bongkar muat, optimasi penggunaan crane, dan pengelolaan ruang penyimpanan**.  \n",
    "\n",
    "Untuk itu, dilakukan analisis distribusi menggunakan **sampling acak** untuk mengetahui bagaimana rata-rata jumlah kontainer per kapal terdistribusi.\n",
    "\n",
    "\n",
    "### **1. Sampling Distribusi Rata-rata Jumlah Kontainer**\n",
    "- **(a)** Mengapa kita menggunakan **sampling distribution** dalam analisis jumlah kontainer per kapal?  \n",
    "- **(b)** Simulasikan dalam **R** bagaimana kita dapat mengambil **10.000 sampel** berukuran **3** dari populasi kontainer **tanpa pengembalian**.  \n",
    "- **(c)** Hitung **rata-rata** dari setiap sampel yang diambil, lalu tampilkan histogram distribusinya.  \n",
    "- **(d)** Apa yang dapat kamu simpulkan dari distribusi yang terbentuk?  \n",
    "\n",
    "### **3. Pengaruh Variasi Jumlah Kontainer terhadap Bongkar Muat**\n",
    "- **(a)** Jika rata-rata jumlah kontainer per kapal mendekati **60**, bagaimana ini bisa membantu perencanaan jumlah crane yang dibutuhkan?  \n",
    "- **(b)** Jika ditemukan bahwa jumlah kontainer memiliki variabilitas tinggi, bagaimana pelabuhan harus menyesuaikan strategi operasionalnya?  \n",
    "- **(c)** Berdasarkan analisis distribusi sampling, apa rekomendasi kebijakan untuk meningkatkan efisiensi operasional di pelabuhan?  "
   ]
  },
  {
   "cell_type": "code",
   "execution_count": 22,
   "id": "5b78454b-03ac-4aa6-964d-82907292dec2",
   "metadata": {},
   "outputs": [
    {
     "name": "stdout",
     "output_type": "stream",
     "text": [
      "Kombinasi Sample yang Terdiri dari 4 Kapal 35 Kombinasi \n",
      " \n",
      "  Sampel_1 Sampel_2 Sampel_3 Sampel_4 Mean_Sampel\n",
      "1     3000     4000     5000     8000        5000\n",
      "2     3000     4000     5000    10000        5500\n",
      "3     3000     4000     5000    14000        6500\n",
      "4     3000     4000     5000    20000        8000\n",
      "5     3000     4000     8000    10000        6250\n",
      "6     3000     4000     8000    14000        7250\n"
     ]
    }
   ],
   "source": [
    "# 1. Menentukan populasi jumlah kontainer per kapal\n",
    "populasi <- c(3000, 4000, 5000, 8000, 10000, 14000, 20000)\n",
    "\n",
    "# 2. Menunjukkan berapa kombinasi sampel yang mungkin\n",
    "sample_size<-choose(7, 4)\n",
    "cat(\"Kombinasi Sample yang Terdiri dari 4 Kapal\", sample_size, \"Kombinasi \\n \\n\")\n",
    "\n",
    "# 3. Menghasilkan semua kombinasi mungkin dari ukuran sampel 3 tanpa pengembalian\n",
    "kombinasi <- combn(populasi, 4)\n",
    "\n",
    "# 4. Menghitung rata-rata dari setiap kombinasi sampel\n",
    "mean_kombinasi <- colMeans(kombinasi)\n",
    "\n",
    "# 5. Membuat dataframe untuk menampilkan hasil\n",
    "df_kombinasi <- data.frame(\n",
    "  Sampel_1 = kombinasi[1, ],\n",
    "  Sampel_2 = kombinasi[2, ],\n",
    "  Sampel_3 = kombinasi[3, ],\n",
    "  Sampel_4 = kombinasi[4, ],\n",
    "  Mean_Sampel = mean_kombinasi\n",
    ")\n",
    "\n",
    "print(head(format(df_kombinasi, justify = \"left\")))"
   ]
  },
  {
   "cell_type": "code",
   "execution_count": 29,
   "id": "aff2617c-d3be-459c-9144-d58eb1ae081d",
   "metadata": {},
   "outputs": [
    {
     "data": {
      "text/plain": [
       "mean_kombinasi\n",
       " 5000  5500  6250  6500  6750  7250  7500  7750  8000  8250  8750  9000  9250 \n",
       "    1     1     1     2     1     1     1     2     2     1     2     2     3 \n",
       " 9500  9750 10250 10500 10750 11250 11500 11750 12000 12250 13000 \n",
       "    1     1     2     2     2     1     1     2     1     1     1 "
      ]
     },
     "metadata": {},
     "output_type": "display_data"
    },
    {
     "data": {
      "text/plain": [
       "mean_kombinasi\n",
       " 5000  5500  6250  6500  6750  7250  7500  7750  8000  8250  8750  9000  9250 \n",
       " 0.03  0.03  0.03  0.06  0.03  0.03  0.03  0.06  0.06  0.03  0.06  0.06  0.09 \n",
       " 9500  9750 10250 10500 10750 11250 11500 11750 12000 12250 13000 \n",
       " 0.03  0.03  0.06  0.06  0.06  0.03  0.03  0.06  0.03  0.03  0.03 "
      ]
     },
     "metadata": {},
     "output_type": "display_data"
    }
   ],
   "source": [
    "# 5. Menghitung frekuensi kemunculan setiap mean unik\n",
    "freq_mean <- table(mean_kombinasi)\n",
    "freq_mean\n",
    "# 6. Menghitung probabilitas kemunculan setiap mean unik\n",
    "probabilitas_mean <- freq_mean / sum(freq_mean)\n",
    "round(probabilitas_mean,2)"
   ]
  },
  {
   "cell_type": "code",
   "execution_count": 44,
   "id": "bf70d31d-9cb4-4a36-ae6e-61bff605cad4",
   "metadata": {},
   "outputs": [
    {
     "data": {
      "image/png": "[encoded data removed]",
      "text/plain": [
       "plot without title"
      ]
     },
     "metadata": {
      "image/png": {
       "height": 480,
       "width": 1200
      }
     },
     "output_type": "display_data"
    }
   ],
   "source": [
    "# 7. Membuat dataframe untuk plotting\n",
    "library(ggplot2)\n",
    "library(ggthemes)\n",
    "\n",
    "# this is just to make the plots wider (extend to the end of laptop display) \n",
    "options(repr.plot.width=20, repr.plot.height=8) \n",
    "df_probabilitas <- data.frame(\n",
    "  Mean_Sampel = as.numeric(names(probabilitas_mean)),\n",
    "  Frekuensi = as.numeric(freq_mean),\n",
    "  Probabilitas = as.numeric(probabilitas_mean)\n",
    ")\n",
    "\n",
    "# 8. Membuat histogram distribusi sampling mean\n",
    "ggplot(df_probabilitas, aes(x = Mean_Sampel, y = Probabilitas)) +\n",
    "  geom_bar(stat = \"identity\", fill = \"steelblue\", alpha = 0.7) +  # Histogram\n",
    "  geom_line(aes(y = Probabilitas), color = \"red\", size = 1) +  # Overlay garis distribusi\n",
    "  geom_point(aes(y = Probabilitas), color = \"red\", size = 2) + # Titik-titik pada garis\n",
    "  labs(title = \"Histogram Distribusi Sampling Mean\",\n",
    "       x = \"Mean Sampel\",\n",
    "       y = \"Probabilitas\") +\n",
    "  theme_economist(base_size = 30, dkpanel=TRUE)+\n",
    " theme(legend.position = \"none\",  \n",
    "        plot.title = element_text(size= 22, hjust=0.01, color = \"#4e4d47\", margin = margin(b = -0.1, t = 0.4, l = 2, unit = \"cm\")),\n",
    "        axis.title.x = element_text(size = 18), # Perbesar teks sumbu X\n",
    "        axis.title.y = element_text(size = 18)) # Perbesar teks sumbu Y)  "
   ]
  },
  {
   "cell_type": "markdown",
   "id": "df9c68db-40b0-4786-ab82-ec9999bd1193",
   "metadata": {},
   "source": [
    "**Theorem**  \n",
    "\n",
    "Let $X_1, \\dots, X_n$ be a random sample of size $n$ from a population with mean $\\mu$ and variance $\\sigma^2$. Then,  \n",
    "$ E\\left(\\bar{X}\\right) = \\mu \\quad \\text{and} \\quad \\text{Var} \\left(\\bar{X}\\right) = \\frac{\\sigma^2}{n}$"
   ]
  },
  {
   "cell_type": "code",
   "execution_count": 46,
   "id": "8f0ed08e-2852-4cfa-9459-9979a91aec05",
   "metadata": {},
   "outputs": [
    {
     "name": "stdout",
     "output_type": "stream",
     "text": [
      "Mean Populasi: 9142.857 \n",
      "Varians Populasi: 32122449 \n",
      "Mean dari Mean Sampel: 9142.857 \n",
      "Varians dari Mean Sampel: 4133403 \n"
     ]
    }
   ],
   "source": [
    "# 6. Menghitung Mean dan Varians Populasi\n",
    "mean_populasi <- mean(populasi)      # Mean Populasi\n",
    "var_populasi <- var(populasi) * (length(populasi) - 1) / length(populasi)  # Varians Populasi\n",
    "\n",
    "# 7. Menghitung Mean dan Varians dari Sampling Distribution\n",
    "mean_sample <- mean(mean_kombinasi)   # Mean dari mean sampel\n",
    "var_sample <- var(mean_kombinasi)     # Varians dari mean sampel\n",
    "\n",
    "# 8. Menampilkan hasil\n",
    "cat(\"Mean Populasi:\", mean_populasi, \"\\n\")\n",
    "cat(\"Varians Populasi:\", var_populasi, \"\\n\")\n",
    "cat(\"Mean dari Mean Sampel:\", mean_sample, \"\\n\")\n",
    "cat(\"Varians dari Mean Sampel:\", var_sample, \"\\n\")"
   ]
  },
  {
   "cell_type": "markdown",
   "id": "972ca9af-2e26-4dee-8942-6bfd82e84652",
   "metadata": {},
   "source": [
    "## Simulasi 2: Distribusi Chi Square"
   ]
  },
  {
   "cell_type": "markdown",
   "id": "036d436e-36bd-454d-a4ed-82360431ea0a",
   "metadata": {},
   "source": [
    "## Latar Belakang\n",
    "\n",
    "* Sebuah lembaga ekonomi ingin mengevaluasi apakah varians inflasi tahunan selama **10 tahun terakhir** sesuai dengan asumsi **0.5%²** (atau 0.0025%). \n",
    "* Data tingkat inflasi tahunan (dalam persen) tercatat sebagai berikut:\n",
    "\n",
    "| Tahun  | 2014 | 2015 | 2016 | 2017 | 2018 | 2019 | 2020 | 2021 | 2022 | 2023 |\n",
    "|--------|------|------|------|------|------|------|------|------|------|------|\n",
    "| Inflasi (%) | 2.1  | 2.5  | 2.3  | 2.7  | 2.4  | 2.2  | 2.2  | 2.6  | 2.3  | 2.8  |\n",
    "\n",
    "## Pertanyaan:\n",
    "\n",
    "1. **Hitung varians sampel**  $S^2$.\n",
    "2. **Lakukan uji hipotesis: (**Gunakan distribusi Chi-Square** dengan $\\alpha = 0.05$.)**\n",
    "   - **H₀**: $\\sigma^2 = 0.5$ (variabilitas inflasi stabil)\n",
    "   - **H₁**: $\\sigma^2 > 0.5$ (inflasi semakin tidak stabil)\n",
    "3. **Analisis hasil:**\n",
    "   - Jika hasil menunjukkan bahwa variabilitas inflasi lebih besar dari **0.5%²**, apa implikasinya bagi kebijakan moneter?\n"
   ]
  },
  {
   "cell_type": "code",
   "execution_count": 70,
   "id": "cfcfa33b-f3d0-460b-b8e5-2a5142d92fea",
   "metadata": {},
   "outputs": [
    {
     "name": "stdout",
     "output_type": "stream",
     "text": [
      "Varians Sample 0.054"
     ]
    }
   ],
   "source": [
    "# Data inflasi tahunan\n",
    "inflasi <- c(2.1, 2.5, 2.3, 2.7, 2.4, 2.2, 2.2, 2.6, 2.3, 2.8)\n",
    "\n",
    "# Hitung varians sampel\n",
    "sample_variance <- var(inflasi)\n",
    "\n",
    "# Tampilkan hasil\n",
    "cat(\"Varians Sample\", round(sample_variance,3))"
   ]
  },
  {
   "cell_type": "code",
   "execution_count": 71,
   "id": "2b431b63-0953-4340-b6df-4b25da1f4d23",
   "metadata": {},
   "outputs": [
    {
     "data": {
      "text/html": [
       "<dl>\n",
       "\t<dt>$Sample_Variance</dt>\n",
       "\t\t<dd>0.054</dd>\n",
       "\t<dt>$Chi_Square_Stat</dt>\n",
       "\t\t<dd>9.78</dd>\n",
       "\t<dt>$Chi_Square_Critical</dt>\n",
       "\t\t<dd>16.919</dd>\n",
       "\t<dt>$Decision</dt>\n",
       "\t\t<dd>'Gagal tolak H0: Tidak cukup bukti bahwa inflasi tidak stabil.'</dd>\n",
       "</dl>\n"
      ],
      "text/latex": [
       "\\begin{description}\n",
       "\\item[\\$Sample\\_Variance] 0.054\n",
       "\\item[\\$Chi\\_Square\\_Stat] 9.78\n",
       "\\item[\\$Chi\\_Square\\_Critical] 16.919\n",
       "\\item[\\$Decision] 'Gagal tolak H0: Tidak cukup bukti bahwa inflasi tidak stabil.'\n",
       "\\end{description}\n"
      ],
      "text/markdown": [
       "$Sample_Variance\n",
       ":   0.054\n",
       "$Chi_Square_Stat\n",
       ":   9.78\n",
       "$Chi_Square_Critical\n",
       ":   16.919\n",
       "$Decision\n",
       ":   'Gagal tolak H0: Tidak cukup bukti bahwa inflasi tidak stabil.'\n",
       "\n",
       "\n"
      ],
      "text/plain": [
       "$Sample_Variance\n",
       "[1] 0.054\n",
       "\n",
       "$Chi_Square_Stat\n",
       "[1] 9.78\n",
       "\n",
       "$Chi_Square_Critical\n",
       "[1] 16.919\n",
       "\n",
       "$Decision\n",
       "[1] \"Gagal tolak H0: Tidak cukup bukti bahwa inflasi tidak stabil.\"\n"
      ]
     },
     "metadata": {},
     "output_type": "display_data"
    }
   ],
   "source": [
    "# Parameter uji\n",
    "sigma0_sq <- 0.05  # Varians hipotesis nol\n",
    "n <- length(inflasi)  # Jumlah sampel\n",
    "df <- n - 1  # Derajat kebebasan\n",
    "\n",
    "# Hitung statistik uji Chi-Square\n",
    "chi_sq <- (df * sample_variance) / sigma0_sq\n",
    "\n",
    "# Nilai kritis Chi-Square untuk alpha = 0.05\n",
    "chi_crit <- qchisq(0.95, df)\n",
    "\n",
    "# Keputusan uji\n",
    "if (chi_sq > chi_crit) {\n",
    "  keputusan <- \"Tolak H0: Varians lebih besar dari 0.05, inflasi tidak stabil.\"\n",
    "} else {\n",
    "  keputusan <- \"Gagal tolak H0: Tidak cukup bukti bahwa inflasi tidak stabil.\"\n",
    "}\n",
    "\n",
    "# Output hasil\n",
    "list(Sample_Variance = round(sample_variance,3), \n",
    "     Chi_Square_Stat = chi_sq, \n",
    "     Chi_Square_Critical = round(chi_crit, 3), \n",
    "     Decision = keputusan)"
   ]
  },
  {
   "cell_type": "code",
   "execution_count": 73,
   "id": "71c93b3b-8f3b-40cd-af97-f99b9bbca2fe",
   "metadata": {},
   "outputs": [
    {
     "data": {
      "image/png": "[encoded data removed]",
      "text/plain": [
       "plot without title"
      ]
     },
     "metadata": {
      "image/png": {
       "height": 480,
       "width": 1200
      }
     },
     "output_type": "display_data"
    }
   ],
   "source": [
    "# Buat data untuk plot distribusi Chi-Square\n",
    "x_vals <- seq(0, chi_crit + 5, length.out = 300)\n",
    "y_vals <- dchisq(x_vals, df)\n",
    "\n",
    "# Plot distribusi dengan ggplot2\n",
    "df_plot <- data.frame(x = x_vals, y = y_vals)\n",
    "\n",
    "ggplot(df_plot, aes(x, y)) +\n",
    "  geom_line(color = \"blue\", size = 1) +\n",
    "  geom_vline(xintercept = chi_sq, color = \"red\", linetype = \"dashed\", size = 1.2) +\n",
    "  geom_vline(xintercept = chi_crit, color = \"black\", linetype = \"dotted\", size = 1.2) +\n",
    "  geom_area(data = subset(df_plot, x >= chi_crit), aes(x, y), fill = \"red\", alpha = 0.5) +\n",
    "  labs(\n",
    "    title = \"Distribusi Chi-Square dengan df = 9\",\n",
    "    x = expression(chi^2),\n",
    "    y = \"Density\"\n",
    "  ) +\n",
    "   theme_economist(base_size = 30, dkpanel=TRUE)+\n",
    "   theme(legend.position = \"none\",  \n",
    "        plot.title = element_text(size= 22, hjust=0.01, color = \"#4e4d47\", margin = margin(b = -0.1, t = 0.4, l = 2, unit = \"cm\")),\n",
    "        axis.title.x = element_text(size = 18), # Perbesar teks sumbu X\n",
    "        axis.title.y = element_text(size = 18)) # Perbesar teks sumbu Y)  "
   ]
  },
  {
   "cell_type": "markdown",
   "id": "0bde49ae-05e5-499c-a193-ca6465085704",
   "metadata": {},
   "source": [
    "## Simulasi 3: Distribusi t-Student dan F"
   ]
  },
  {
   "cell_type": "markdown",
   "id": "33e62574-739f-441d-99a3-26cb6ed7fb1b",
   "metadata": {},
   "source": [
    "# Latar Belakang\n",
    "\n",
    "Pemerintah meluncurkan program subsidi untuk obat generik guna menekan biaya pengobatan masyarakat. Sebelum kebijakan ini diterapkan, rata-rata pengeluaran masyarakat untuk obat adalah **Rp750.000 per bulan**.\n",
    "\n",
    "Setelah kebijakan subsidi diterapkan selama 6 bulan, dilakukan survei terhadap **30 pasien** yang membeli obat generik, dan hasilnya menunjukkan rata-rata pengeluaran sebesar **Rp680.000 per bulan** dengan standar deviasi **Rp120.000**.\n",
    "\n",
    "## **Pertanyaan:**\n",
    "1. Formulasikan **hipotesis nol** dan **hipotesis alternatif** untuk menguji apakah kebijakan subsidi menurunkan pengeluaran obat secara signifikan.\n",
    "2. Gunakan **uji-t satu sampel** dengan tingkat signifikansi **$\\alpha = 0.05$**.\n",
    "3. Hitung **nilai t-hitung** dan bandingkan dengan **t-kritis**.\n",
    "4. Apa implikasi hasil uji ini terhadap kebijakan subsidi kesehatan di masa depan?\n"
   ]
  },
  {
   "cell_type": "code",
   "execution_count": 64,
   "id": "6ae313c6-b383-4f0f-b827-614698993ea2",
   "metadata": {},
   "outputs": [
    {
     "name": "stdout",
     "output_type": "stream",
     "text": [
      "Nilai t-hitung: -3.195048 \n",
      "Nilai t-kritis: -1.699127 \n"
     ]
    }
   ],
   "source": [
    "# Definisi parameter\n",
    "n <- 30  # Jumlah sampel\n",
    "mu_0 <- 750000  # Rata-rata sebelum kebijakan\n",
    "x_bar <- 680000  # Rata-rata setelah kebijakan\n",
    "s <- 120000  # Standar deviasi sampel\n",
    "alpha <- 0.05  # Tingkat signifikansi\n",
    "\n",
    "# Hitung t-hitung\n",
    "t_hitung <- (x_bar - mu_0) / (s / sqrt(n))\n",
    "\n",
    "# Hitung t-kritis (uji satu arah, lower tail)\n",
    "t_kritis <- qt(alpha, df = n - 1)\n",
    "\n",
    "# Output hasil uji\n",
    "cat(\"Nilai t-hitung:\", t_hitung, \"\\n\")\n",
    "cat(\"Nilai t-kritis:\", t_kritis, \"\\n\")"
   ]
  },
  {
   "cell_type": "code",
   "execution_count": 65,
   "id": "bb1c8572-57b7-4b72-b380-fb6130b5bb70",
   "metadata": {},
   "outputs": [
    {
     "name": "stdout",
     "output_type": "stream",
     "text": [
      "Keputusan: Tolak H0, kebijakan subsidi menurunkan pengeluaran secara signifikan.\n"
     ]
    }
   ],
   "source": [
    "\n",
    "# Keputusan uji\n",
    "if (t_hitung < t_kritis) {\n",
    "  cat(\"Keputusan: Tolak H0, kebijakan subsidi menurunkan pengeluaran secara signifikan.\\n\")\n",
    "} else {\n",
    "  cat(\"Keputusan: Gagal tolak H0, tidak ada cukup bukti bahwa kebijakan menurunkan pengeluaran.\\n\")\n",
    "}"
   ]
  },
  {
   "cell_type": "code",
   "execution_count": 74,
   "id": "84e28cc3-df32-45eb-a407-e4deb81ba6d6",
   "metadata": {},
   "outputs": [
    {
     "data": {
      "image/png": "[encoded data removed]",
      "text/plain": [
       "plot without title"
      ]
     },
     "metadata": {
      "image/png": {
       "height": 480,
       "width": 1200
      }
     },
     "output_type": "display_data"
    }
   ],
   "source": [
    "# Visualisasi distribusi t-Student\n",
    "library(ggplot2)\n",
    "\n",
    "# Data untuk plot distribusi t\n",
    "df <- n - 1\n",
    "x_vals <- seq(-4, 4, length.out = 300)\n",
    "y_vals <- dt(x_vals, df)\n",
    "\n",
    "df_plot <- data.frame(x = x_vals, y = y_vals)\n",
    "\n",
    "ggplot(df_plot, aes(x, y)) +\n",
    "  geom_line(color = \"blue\", size = 1) +\n",
    "  geom_vline(xintercept = t_hitung, color = \"red\", linetype = \"dashed\", size = 1.2) +\n",
    "  geom_vline(xintercept = t_kritis, color = \"black\", linetype = \"dotted\", size = 1.2) +\n",
    "  geom_area(data = subset(df_plot, x <= t_kritis), aes(x, y), fill = \"red\", alpha = 0.5) +\n",
    "  labs(\n",
    "    title = \"Distribusi t-Student (df = 29)\",\n",
    "    x = \"t\",\n",
    "    y = \"Density\"\n",
    "  ) +\n",
    "  theme_economist(base_size = 30, dkpanel=TRUE)+ theme(legend.position = \"none\",  \n",
    "        plot.title = element_text(size= 22, hjust=0.01, color = \"#4e4d47\", margin = margin(b = -0.1, t = 0.4, l = 2, unit = \"cm\")),\n",
    "        axis.title.x = element_text(size = 18), # Perbesar teks sumbu X\n",
    "        axis.title.y = element_text(size = 18)) # Perbesar teks sumbu Y)  \n"
   ]
  },
  {
   "cell_type": "markdown",
   "id": "d1a6f96a-ae8d-481d-9785-610a0fac8c4e",
   "metadata": {},
   "source": [
    "## Simulasi 3: Distribusi F\n",
    "## Latar Belakang\n",
    "\n",
    "Parameter Uji F: Variabilitas Pengeluaran Pasien Sebelum dan Sesudah Subsidi\n",
    "\n",
    "| Parameter                  | Sebelum Subsidi  | Setelah Subsidi |\n",
    "|----------------------------|-----------------|----------------|\n",
    "| Jumlah Sampel $n$    | 30              | 30             |\n",
    "| Standar Deviasi $s$  | 150,000         | 120,000        |\n",
    "| Varians $s^2$        | $150,000^2$ | $120,000^2$ |\n",
    "| Tingkat Signifikansi $\\alpha$ | 0.05 | 0.05 |"
   ]
  },
  {
   "cell_type": "code",
   "execution_count": 60,
   "id": "25e6de31-f191-4bc7-8a94-9e299f200a12",
   "metadata": {},
   "outputs": [
    {
     "name": "stdout",
     "output_type": "stream",
     "text": [
      "F Hitung: 1.5625 \n",
      "F Kritis Bawah: 0.4759648 \n",
      "F Kritis Atas: 2.100996"
     ]
    }
   ],
   "source": [
    "# Definisi parameter\n",
    "n1 <- 30  # Jumlah sampel sebelum subsidi\n",
    "s1 <- 150000  # Standar deviasi sebelum subsidi\n",
    "\n",
    "n2 <- 30  # Jumlah sampel setelah subsidi\n",
    "s2 <- 120000  # Standar deviasi setelah subsidi\n",
    "\n",
    "alpha <- 0.05  # Tingkat signifikansi\n",
    "\n",
    "# Hitung F-hitung\n",
    "F_hitung <- (s1^2) / (s2^2)\n",
    "cat(\"F Hitung:\", F_hitung, \"\\n\")\n",
    "\n",
    "# Hitung F-kritis (dua sisi, karena kita tidak tahu apakah varians naik atau turun)\n",
    "df1 <- n1 - 1\n",
    "df2 <- n2 - 1\n",
    "F_kritis_bawah <- qf(alpha / 2, df1, df2, lower.tail = TRUE)\n",
    "F_kritis_atas <- qf(1 - alpha / 2, df1, df2, lower.tail = TRUE)\n",
    "cat(\"F Kritis Bawah:\", F_kritis_bawah, \"\\n\")\n",
    "cat(\"F Kritis Atas:\", F_kritis_atas)"
   ]
  },
  {
   "cell_type": "code",
   "execution_count": 61,
   "id": "b1ae50cd-6bef-4307-9ff8-5e64455e226d",
   "metadata": {},
   "outputs": [
    {
     "name": "stdout",
     "output_type": "stream",
     "text": [
      "Keputusan: Gagal tolak H0, tidak ada cukup bukti bahwa subsidi mempengaruhi varians pengeluaran pasien.\n"
     ]
    }
   ],
   "source": [
    "# Keputusan uji\n",
    "if (F_hitung < F_kritis_bawah | F_hitung > F_kritis_atas) {\n",
    "  cat(\"Keputusan: Tolak H0, ada perbedaan signifikan dalam varians pengeluaran pasien.\\n\")\n",
    "} else {\n",
    "  cat(\"Keputusan: Gagal tolak H0, tidak ada cukup bukti bahwa subsidi mempengaruhi varians pengeluaran pasien.\\n\")\n",
    "}"
   ]
  },
  {
   "cell_type": "code",
   "execution_count": 78,
   "id": "4aa61ff4-b56e-46ab-931d-bd4f53f63274",
   "metadata": {},
   "outputs": [
    {
     "data": {
      "image/png": "[encoded data removed]",
      "text/plain": [
       "plot without title"
      ]
     },
     "metadata": {
      "image/png": {
       "height": 480,
       "width": 1200
      }
     },
     "output_type": "display_data"
    }
   ],
   "source": [
    "# Data untuk plot distribusi F\n",
    "x_vals <- seq(0, F_kritis_atas + 1, length.out = 300)\n",
    "y_vals <- df(x_vals, df1, df2)\n",
    "\n",
    "df_plot <- data.frame(x = x_vals, y = y_vals)\n",
    "\n",
    "ggplot(df_plot, aes(x, y)) +\n",
    "  geom_line(color = \"blue\", size = 1) +\n",
    "  geom_vline(xintercept = F_hitung, color = \"red\", linetype = \"dashed\", size = 1.2) +\n",
    "  geom_vline(xintercept = F_kritis_bawah, color = \"black\", linetype = \"dotted\", size = 1.2) +\n",
    "  geom_vline(xintercept = F_kritis_atas, color = \"black\", linetype = \"dotted\", size = 1.2) +\n",
    "  geom_area(data = subset(df_plot, x <= F_kritis_bawah | x >= F_kritis_atas), \n",
    "            aes(x, y), fill = \"red\", alpha = 0.5) +\n",
    "  labs(\n",
    "    title = \"Distribusi F (df1 = 29, df2 = 29)\",\n",
    "    x = \"F\",\n",
    "    y = \"Density\"\n",
    "  ) +\n",
    "  theme_economist(base_size = 30, dkpanel=TRUE)+\n",
    " theme(legend.position = \"none\",  \n",
    "        plot.title = element_text(size= 22, hjust=0.01, color = \"#4e4d47\", margin = margin(b = -0.1, t = 0.4, l = 2, unit = \"cm\")),\n",
    "        axis.title.x = element_text(size = 18), # Perbesar teks sumbu X\n",
    "        axis.title.y = element_text(size = 18)) # Perbesar teks sumbu Y)  \n",
    "#  annotate(\"text\", x = F_hitung, y = 0.05, label = \"F-hitung\", color = \"red\", hjust = -0.2) \n",
    "#  annotate(\"text\", x = F_kritis_bawah, y = 0.05, label = \"F-kritis bawah\", color = \"black\", hjust = -0.2) +\n",
    "#  annotate(\"text\", x = F_kritis_atas, y = 0.05, label = \"F-kritis atas\", color = \"black\", hjust = -0.2)"
   ]
  }
 ],
 "metadata": {
  "kernelspec": {
   "display_name": "R",
   "language": "R",
   "name": "ir"
  },
  "language_info": {
   "codemirror_mode": "r",
   "file_extension": ".r",
   "mimetype": "text/x-r-source",
   "name": "R",
   "pygments_lexer": "r",
   "version": "4.4.1"
  }
 },
 "nbformat": 4,
 "nbformat_minor": 5
}
