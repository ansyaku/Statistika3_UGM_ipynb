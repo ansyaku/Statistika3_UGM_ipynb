{
 "cells": [
  {
   "cell_type": "markdown",
   "id": "a19ac7a3-d139-4860-b6cb-c4fef78d8b49",
   "metadata": {},
   "source": [
    "# **Pertemuan 10: Uji Hypothesis**\n",
    "<hr>\n",
    "\n",
    "### By: Andreas Syaloom Kurniawan (552751)"
   ]
  },
  {
   "cell_type": "markdown",
   "id": "df9cd7e1-56ef-472e-ba8f-3e26032d092d",
   "metadata": {},
   "source": [
    "- [A. Sample size](#a)\n",
    "- [B. The NeymanePearson lemma](#b)\n",
    "- [C. Likelihood ratio tests](#c)\n",
    "- [D. Hypotheses for a single parameter](#d)\n",
    "    - [D.1. The p value](#d)\n",
    "    - [D.2. Hypothesis testing for a single parameter](#d)\n",
    "- [E. Testing of hypotheses for two samples](#e)\n",
    "    - [E.1. Independent samples](#e1)\n",
    "    - [E.1.1 Equal variances](#e1)\n",
    "    - [E.1.2. Unequal variances: Welch’s t-test](#e1)\n",
    "- [F. Dependent samples](#f)"
   ]
  },
  {
   "cell_type": "markdown",
   "id": "5af7c8fe-2c0c-4ac1-97c4-a70610e1cb21",
   "metadata": {},
   "source": [
    "## A. Sample size"
   ]
  },
  {
   "cell_type": "markdown",
   "id": "dd2bfbb5-a1dc-41c8-a328-63b30516a539",
   "metadata": {},
   "source": [
    "## B. The NeymanePearson lemma"
   ]
  },
  {
   "cell_type": "markdown",
   "id": "2d00739f-3bbe-400e-ae6b-163a095141e8",
   "metadata": {},
   "source": [
    "## C. Likelihood ratio tests"
   ]
  },
  {
   "cell_type": "markdown",
   "id": "a87c58a4-673e-4105-b818-f0fcad974475",
   "metadata": {},
   "source": [
    "## D. Hypotheses for a single parameter\n",
    "### D.1. The p value\n",
    "### D.2. Hypothesis testing for a single parameter"
   ]
  },
  {
   "cell_type": "markdown",
   "id": "792c65eb-a584-4289-934d-3d4e27df797b",
   "metadata": {},
   "source": [
    "## E. Testing of hypotheses for two samples\n",
    "### E.1. Independent samples\n",
    "### E.1.1 Equal variances\n",
    "### E.1.2. Unequal variances: Welch’s t-test"
   ]
  },
  {
   "cell_type": "markdown",
   "id": "d422525d-a5ba-43f5-92b2-8bd9c41ce605",
   "metadata": {},
   "source": [
    "## F. Dependent samples"
   ]
  }
 ],
 "metadata": {
  "kernelspec": {
   "display_name": "Python 3 (ipykernel)",
   "language": "python",
   "name": "python3"
  },
  "language_info": {
   "codemirror_mode": {
    "name": "ipython",
    "version": 3
   },
   "file_extension": ".py",
   "mimetype": "text/x-python",
   "name": "python",
   "nbconvert_exporter": "python",
   "pygments_lexer": "ipython3",
   "version": "3.11.3"
  }
 },
 "nbformat": 4,
 "nbformat_minor": 5
}
