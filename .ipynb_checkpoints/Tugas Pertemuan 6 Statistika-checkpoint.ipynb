{
 "cells": [
  {
   "cell_type": "markdown",
   "id": "36a78ea8-e591-481b-b2a2-55f4383192f2",
   "metadata": {},
   "source": [
    "# **Pertemuan 6: Sampling Distributions**\n",
    "<hr>\n",
    "\n",
    "### By: Andreas Syaloom Kurniawan (552751)\n",
    "\n",
    "Sampling distribution adalah distribusi probabilitas dari suatu statistik sampel (misalnya mean, median, atau proporsi) yang diperoleh dari banyak sampel yang diambil dari populasi yang sama.\n",
    "\n",
    "Penjelasan Sederhana :\n",
    "* Misalkan kita ingin mengetahui rata-rata tinggi mahasiswa di suatu universitas.\n",
    "* Populasi: Semua mahasiswa di universitas.\n",
    "* Sampel: Kita ambil 100 mahasiswa secara acak dan hitung rata-ratanya.\n",
    "* Sampling distribution: Jika kita ulangi proses ini berulang kali (misalnya 10.000 kali) dengan sampel yang berbeda-beda, maka rata-rata yang kita dapatkan akan membentuk distribusi tertentu.\n",
    "* Intinya: Sampling distribution menunjukkan bagaimana statistik sampel (d.h.i means) berperilaku jika kita mengambil **banyak sampel** dari populasi."
   ]
  },
  {
   "cell_type": "markdown",
   "id": "29628c4d-d431-461b-b034-be1aa3e8ff80",
   "metadata": {},
   "source": [
    "# Table of Contents\n",
    "- [A. Sampling Distribution](#a)\n",
    "- [B. Sample mean and sample variance](#a)\n",
    "  - [B. 1 Chi-Square Distribution](#a.1)\n",
    "  - [B. 2 Student t-distribution](#a.2)\n",
    "  - [B. 3 F-distribution](#a.3)\n",
    "- [C. The normal approximation to the binomial distribution](#a)\n",
    "  - [C. 1 The normal approximation to the binomial distribution](#a.1)\n",
    "  - [C. 2 Marginal Distribution Function](#a.2)\n",
    "  - [C. 3 Conditional Probability Distribution](#a.3)\n",
    "\n",
    "*Unfortunately, under github the link for the table of contents doesnt work, hence you need to scroll to the part if you want to go to a specific part of the note.*"
   ]
  },
  {
   "cell_type": "markdown",
   "id": "47d3c77d-c058-4a1a-94f3-b765218179d3",
   "metadata": {},
   "source": [
    "# 📌 Problem Set: Analisis Distribusi Jumlah Kontainer per Kapal  \n",
    "\n",
    "## **Latar Belakang**  \n",
    "Pelabuhan X merupakan salah satu pelabuhan utama yang menangani pengiriman kontainer antar pulau. Efisiensi operasional pelabuhan sangat bergantung pada **jumlah kontainer yang diterima per kapal** dalam setiap perjalanan.  \n",
    "\n",
    "Berdasarkan data historis, jumlah kontainer yang dikirim dalam satu pelayaran umumnya berada pada nilai berikut:  \n",
    "\n",
    "\\[\n",
    "\\{50, 55, 60, 65, 70\\}\n",
    "\\]\n",
    "\n",
    "Manajemen pelabuhan ingin memahami **pola distribusi jumlah kontainer per kapal** untuk meningkatkan **efisiensi bongkar muat, optimasi penggunaan crane, dan pengelolaan ruang penyimpanan**.  \n",
    "\n",
    "Untuk itu, dilakukan analisis distribusi menggunakan **sampling acak** untuk mengetahui bagaimana rata-rata jumlah kontainer per kapal terdistribusi.\n",
    "\n",
    "---\n",
    "\n",
    "## **Instruksi**  \n",
    "Gunakan **R** untuk menjawab pertanyaan-pertanyaan berikut berdasarkan simulasi pengambilan sampel dari populasi jumlah kontainer per kapal.  \n",
    "\n",
    "---\n",
    "\n",
    "## **Soal Essay**  \n",
    "\n",
    "### **1. Sampling Distribusi Rata-rata Jumlah Kontainer**\n",
    "- **(a)** Mengapa kita menggunakan **sampling distribution** dalam analisis jumlah kontainer per kapal?  \n",
    "- **(b)** Simulasikan dalam **R** bagaimana kita dapat mengambil **10.000 sampel** berukuran **3** dari populasi kontainer **tanpa pengembalian**.  \n",
    "- **(c)** Hitung **rata-rata** dari setiap sampel yang diambil, lalu tampilkan histogram distribusinya.  \n",
    "- **(d)** Apa yang dapat kamu simpulkan dari distribusi yang terbentuk?  \n",
    "\n",
    "### **2. Analisis Teorema Limit Pusat (CLT)**\n",
    "- **(a)** Jelaskan bagaimana **Teorema Limit Pusat (CLT)** berlaku dalam analisis ini, meskipun populasi awal hanya memiliki **5 angka diskrit**.  \n",
    "- **(b)** Tambahkan kurva normal di atas histogram. Apakah distribusi sampel mendekati distribusi normal?  \n",
    "- **(c)** Apakah kita bisa menggunakan asumsi normal untuk perencanaan operasional pelabuhan? Mengapa?  \n",
    "\n",
    "### **3. Pengaruh Variasi Jumlah Kontainer terhadap Bongkar Muat**\n",
    "- **(a)** Jika rata-rata jumlah kontainer per kapal mendekati **60**, bagaimana ini bisa membantu perencanaan jumlah crane yang dibutuhkan?  \n",
    "- **(b)** Jika ditemukan bahwa jumlah kontainer memiliki variabilitas tinggi, bagaimana pelabuhan harus menyesuaikan strategi operasionalnya?  \n",
    "- **(c)** Berdasarkan analisis distribusi sampling, apa rekomendasi kebijakan untuk meningkatkan efisiensi operasional di pelabuhan?  \n",
    "\n",
    "---\n",
    "\n",
    "## **Tambahan: Analisis Lebih Lanjut**\n",
    "- Jika ukuran sampel diubah menjadi **5** (bukan 3), bagaimana perubahan distribusinya?  \n",
    "- Apakah ada perbedaan jika kita melakukan **pengambilan sampel dengan pengembalian** dibandingkan dengan **tanpa pengembalian**?  \n",
    "- Bisakah hasil ini digunakan untuk memprediksi **waktu bongkar muat rata-rata**? Bagaimana caranya?  \n",
    "\n",
    "---\n",
    "\n",
    "## **Format Jawaban**\n",
    "1. **Tuliskan jawaban esai untuk setiap pertanyaan dengan jelas.**  \n",
    "2. **Gunakan kode R untuk menyelesaikan simulasi dan visualisasi.**  \n",
    "3. **Sertakan grafik dan interpretasi hasilnya dalam laporan Anda.**  \n",
    "\n"
   ]
  },
  {
   "cell_type": "code",
   "execution_count": 48,
   "id": "e148aef3-4f3e-448a-94fe-2fa1a2413026",
   "metadata": {},
   "outputs": [
    {
     "name": "stdout",
     "output_type": "stream",
     "text": [
      "  Ukuran_Sampel     Mean  Variance\n",
      "1      Populasi 88.00000 1607.5000\n",
      "2         n = 2 87.92000  655.7092\n",
      "3         n = 3 88.04017  428.9917\n",
      "4         n = 4 87.86588  324.3881\n"
     ]
    },
    {
     "data": {
      "image/png": "[encoded data removed]",
      "text/plain": [
       "Plot with title \"n = 4\""
      ]
     },
     "metadata": {
      "image/png": {
       "height": 420,
       "width": 420
      }
     },
     "output_type": "display_data"
    }
   ],
   "source": [
    "# 1. Menentukan populasi jumlah kontainer per kapal\n",
    "populasi <- c(50, 55, 90, 95, 150)\n",
    "\n",
    "# 2. Hitung rata-rata dan varians populasi asli\n",
    "mean_populasi <- mean(populasi)\n",
    "var_populasi <- var(populasi)\n",
    "\n",
    "# 3. Jumlah simulasi\n",
    "B <- 10000  \n",
    "\n",
    "# 4. Mengambil sampel dengan ukuran berbeda dan menghitung rata-rata serta variansnya\n",
    "sample_means_n2 <- replicate(B, mean(sample(populasi, 2, replace = TRUE)))\n",
    "sample_means_n3 <- replicate(B, mean(sample(populasi, 3, replace = TRUE)))\n",
    "sample_means_n4 <- replicate(B, mean(sample(populasi, 4, replace = TRUE)))\n",
    "\n",
    "# 5. Hitung rata-rata dan varians dari distribusi rata-rata sampel\n",
    "mean_n2 <- mean(sample_means_n2)\n",
    "var_n2 <- var(sample_means_n2)\n",
    "\n",
    "mean_n3 <- mean(sample_means_n3)\n",
    "var_n3 <- var(sample_means_n3)\n",
    "\n",
    "mean_n4 <- mean(sample_means_n4)\n",
    "var_n4 <- var(sample_means_n4)\n",
    "\n",
    "# 6. Tampilkan hasil perbandingan dalam bentuk tabel\n",
    "hasil <- data.frame(\n",
    "  Ukuran_Sampel = c(\"Populasi\", \"n = 2\", \"n = 3\", \"n = 4\"),\n",
    "  Mean = c(mean_populasi, mean_n2, mean_n3, mean_n4),\n",
    "  Variance = c(var_populasi, var_n2, var_n3, var_n4)\n",
    ")\n",
    "\n",
    "print(hasil)\n",
    "\n",
    "# 7. Visualisasi Histogram Distribusi Mean Sampel\n",
    "par(mfrow = c(1,3))  # Buat 3 grafik dalam 1 frame\n",
    "hist(sample_means_n2, breaks = 30, probability = TRUE, main = \"n = 2\", col = \"red\", border = \"black\")\n",
    "hist(sample_means_n3, breaks = 30, probability = TRUE, main = \"n = 3\", col = \"blue\", border = \"black\")\n",
    "hist(sample_means_n4, breaks = 30, probability = TRUE, main = \"n = 4\", col = \"green\", border = \"black\")\n"
   ]
  },
  {
   "cell_type": "code",
   "execution_count": 12,
   "id": "c183793f-586b-4555-8c16-65904fc04b75",
   "metadata": {},
   "outputs": [
    {
     "name": "stdout",
     "output_type": "stream",
     "text": [
      "  mean_sample probability\n",
      "1    2.000000         0.1\n",
      "2    2.333333         0.1\n",
      "3    2.666667         0.2\n",
      "4    3.000000         0.2\n",
      "5    3.333333         0.2\n",
      "6    3.666667         0.1\n",
      "7    4.000000         0.1\n"
     ]
    }
   ],
   "source": [
    "# Definisi populasi\n",
    "population <- c(1, 2, 3, 4, 5)\n",
    "\n",
    "# Mendapatkan semua kombinasi sampel ukuran 3 tanpa pengembalian\n",
    "samples <- combn(population, 3)\n",
    "\n",
    "# Menghitung rata-rata dari setiap sampel\n",
    "sample_means <- colMeans(samples)\n",
    "\n",
    "# Membuat tabel distribusi mean sampel\n",
    "sampling_distribution <- table(sample_means) / length(sample_means)\n",
    "\n",
    "# Konversi ke dataframe\n",
    "df_sampling <- data.frame(\n",
    "  mean_sample = as.numeric(names(sampling_distribution)), \n",
    "  probability = as.numeric(sampling_distribution)\n",
    ")\n",
    "\n",
    "# Menampilkan dataframe\n",
    "print(df_sampling)\n"
   ]
  },
  {
   "cell_type": "code",
   "execution_count": 16,
   "id": "e9b78bd5-4e77-43f2-9f21-25f1bb6cd416",
   "metadata": {},
   "outputs": [
    {
     "data": {
      "image/png": "[encoded data removed]",
      "text/plain": [
       "Plot with title \"Distribusi Sampling dari Mean Sampel (n=3)\""
      ]
     },
     "metadata": {
      "image/png": {
       "height": 420,
       "width": 420
      }
     },
     "output_type": "display_data"
    }
   ],
   "source": [
    "# 6. Buat histogram distribusi sampling mean\n",
    "hist(sample_means, breaks = seq(1.5, 4.5, by = 0.33), probability = TRUE,\n",
    "     main = \"Distribusi Sampling dari Mean Sampel (n=3)\",\n",
    "     xlab = \"Mean Sampel\",\n",
    "     col = \"lightblue\", border = \"black\")\n",
    "\n",
    "# 7. Overlay garis distribusi probabilitas\n",
    "lines(density(sample_means), col = \"red\", lwd = 2)"
   ]
  },
  {
   "cell_type": "code",
   "execution_count": 20,
   "id": "8f0ed08e-2852-4cfa-9459-9979a91aec05",
   "metadata": {},
   "outputs": [
    {
     "name": "stdout",
     "output_type": "stream",
     "text": [
      "Varians Populasi: 2.5 \n",
      "Varians Sample: 0.8333333"
     ]
    }
   ],
   "source": [
    "# Menghitung variance populasi\n",
    "sigma_squared <- var(population)\n",
    "# Variance dari sample mean\n",
    "n <- 3 #ukuran sample\n",
    "variance_sample_mean <- sigma_squared / n\n",
    "cat(\"Varians Populasi:\", sigma_squared, '\\n')\n",
    "cat(\"Varians Sample:\", variance_sample_mean)"
   ]
  },
  {
   "cell_type": "code",
   "execution_count": 5,
   "id": "d474f717-d7d5-455e-a65a-b3d8128dab71",
   "metadata": {},
   "outputs": [
    {
     "data": {
      "text/html": [
       "3"
      ],
      "text/latex": [
       "3"
      ],
      "text/markdown": [
       "3"
      ],
      "text/plain": [
       "[1] 3"
      ]
     },
     "metadata": {},
     "output_type": "display_data"
    }
   ],
   "source": [
    "# Menghitung mean populasi\n",
    "mu <- mean(population)\n",
    "mu"
   ]
  },
  {
   "cell_type": "code",
   "execution_count": 23,
   "id": "f1469c93-c7a4-4b92-aef5-6f26eedda64f",
   "metadata": {},
   "outputs": [
    {
     "data": {
      "text/html": [
       "<table class=\"dataframe\">\n",
       "<caption>A data.frame: 1 × 2</caption>\n",
       "<thead>\n",
       "\t<tr><th scope=col>Variance_Sample_Mean</th><th scope=col>Standard_Error</th></tr>\n",
       "\t<tr><th scope=col>&lt;dbl&gt;</th><th scope=col>&lt;dbl&gt;</th></tr>\n",
       "</thead>\n",
       "<tbody>\n",
       "\t<tr><td>0.8333333</td><td>0.9128709</td></tr>\n",
       "</tbody>\n",
       "</table>\n"
      ],
      "text/latex": [
       "A data.frame: 1 × 2\n",
       "\\begin{tabular}{ll}\n",
       " Variance\\_Sample\\_Mean & Standard\\_Error\\\\\n",
       " <dbl> & <dbl>\\\\\n",
       "\\hline\n",
       "\t 0.8333333 & 0.9128709\\\\\n",
       "\\end{tabular}\n"
      ],
      "text/markdown": [
       "\n",
       "A data.frame: 1 × 2\n",
       "\n",
       "| Variance_Sample_Mean &lt;dbl&gt; | Standard_Error &lt;dbl&gt; |\n",
       "|---|---|\n",
       "| 0.8333333 | 0.9128709 |\n",
       "\n"
      ],
      "text/plain": [
       "  Variance_Sample_Mean Standard_Error\n",
       "1 0.8333333            0.9128709     "
      ]
     },
     "metadata": {},
     "output_type": "display_data"
    }
   ],
   "source": [
    "# Menghitung Standard Error of the Mean (SEM)\n",
    "SEM <- sqrt(sigma_squared) / sqrt(n)\n",
    "\n",
    "# Menampilkan hasil\n",
    "data.frame(Variance_Sample_Mean = variance_sample_mean, Standard_Error = SEM)"
   ]
  },
  {
   "cell_type": "code",
   "execution_count": 44,
   "id": "c10a6c86-e8e2-46a0-9772-b78854428726",
   "metadata": {},
   "outputs": [
    {
     "data": {
      "text/plain": [
       "   Min. 1st Qu.  Median    Mean 3rd Qu.    Max. \n",
       "  55.00   58.33   60.00   60.03   61.67   65.00 "
      ]
     },
     "metadata": {},
     "output_type": "display_data"
    }
   ],
   "source": [
    "# 1. Menentukan populasi jumlah kontainer per kapal\n",
    "populasi <- c(50, 55, 60, 65, 70)\n",
    "\n",
    "# 2. Mengambil 10.000 sampel ukuran 3 tanpa pengembalian\n",
    "B <- 10000\n",
    "ukuran_sampel <- 3\n",
    "sample_means <- replicate(B, mean(sample(populasi, ukuran_sampel, replace = FALSE)))\n",
    "\n",
    "# 3. Menampilkan ringkasan hasil\n",
    "summary(sample_means)\n"
   ]
  },
  {
   "cell_type": "code",
   "execution_count": 46,
   "id": "7af1b573-747a-4e55-b1a8-24755c626169",
   "metadata": {},
   "outputs": [
    {
     "name": "stdout",
     "output_type": "stream",
     "text": [
      "   Sampel_1 Sampel_2 Sampel_3 Mean_Sampel\n",
      "1        50       55       60    55.00000\n",
      "2        50       55       65    56.66667\n",
      "3        50       55       70    58.33333\n",
      "4        50       60       65    58.33333\n",
      "5        50       60       70    60.00000\n",
      "6        50       65       70    61.66667\n",
      "7        55       60       65    60.00000\n",
      "8        55       60       70    61.66667\n",
      "9        55       65       70    63.33333\n",
      "10       60       65       70    65.00000\n"
     ]
    }
   ],
   "source": [
    "# 1. Menentukan populasi jumlah kontainer per kapal\n",
    "populasi <- c(50, 55, 60, 65, 70)\n",
    "\n",
    "# 2. Menghasilkan semua kombinasi mungkin dari ukuran sampel 3 tanpa pengembalian\n",
    "kombinasi <- combn(populasi, 3)\n",
    "\n",
    "# 3. Menghitung rata-rata dari setiap kombinasi sampel\n",
    "mean_kombinasi <- colMeans(kombinasi)\n",
    "\n",
    "# 4. Membuat dataframe untuk menampilkan hasil\n",
    "df_kombinasi <- data.frame(\n",
    "  Sampel_1 = kombinasi[1, ],\n",
    "  Sampel_2 = kombinasi[2, ],\n",
    "  Sampel_3 = kombinasi[3, ],\n",
    "  Mean_Sampel = mean_kombinasi\n",
    ")\n",
    "\n",
    "# 5. Menampilkan tabel kombinasi sampel dan rata-rata\n",
    "print(df_kombinasi)"
   ]
  },
  {
   "cell_type": "code",
   "execution_count": 45,
   "id": "2a77b52c-4a8a-4c32-b18d-b6e659fa5403",
   "metadata": {},
   "outputs": [
    {
     "data": {
      "image/png": "[encoded data removed]",
      "text/plain": [
       "Plot with title \"Distribusi Sampling dari Jumlah Kontainer per Kapal\""
      ]
     },
     "metadata": {
      "image/png": {
       "height": 420,
       "width": 420
      }
     },
     "output_type": "display_data"
    }
   ],
   "source": [
    "# 4. Membuat histogram distribusi rata-rata jumlah kontainer\n",
    "hist(sample_means, breaks = 30, probability = TRUE,\n",
    "     main = \"Distribusi Sampling dari Jumlah Kontainer per Kapal\",\n",
    "     xlab = \"Rata-rata Jumlah Kontainer\", col = \"lightblue\", border = \"black\")\n",
    "\n",
    "# 5. Menambahkan kurva normal untuk mengecek CLT\n",
    "curve(dnorm(x, mean = mean(sample_means), sd = sd(sample_means)), \n",
    "      col = \"red\", lwd = 2, add = TRUE)\n"
   ]
  },
  {
   "cell_type": "markdown",
   "id": "036d436e-36bd-454d-a4ed-82360431ea0a",
   "metadata": {},
   "source": [
    "# Stabilitas Inflasi Tahunan\n",
    "\n",
    "* Sebuah lembaga ekonomi ingin mengevaluasi apakah varians inflasi tahunan selama **10 tahun terakhir** sesuai dengan asumsi **0.5%²**. \n",
    "* Data tingkat inflasi tahunan (dalam persen) tercatat sebagai berikut:\n",
    "\n",
    "| Tahun  | 2014 | 2015 | 2016 | 2017 | 2018 | 2019 | 2020 | 2021 | 2022 | 2023 |\n",
    "|--------|------|------|------|------|------|------|------|------|------|------|\n",
    "| Inflasi (%) | 2.1  | 2.5  | 2.3  | 2.7  | 2.4  | 2.2  | 2.2  | 2.6  | 2.3  | 2.8  |\n",
    "\n",
    "## Langkah-langkah Analisis:\n",
    "\n",
    "1. **Hitung varians sampel**  $S^2$.\n",
    "2. **Lakukan uji hipotesis:**\n",
    "   - **H₀**: $\\sigma^2 = 0.5$ (variabilitas inflasi stabil)\n",
    "   - **H₁**: $\\sigma^2 > 0.5$ (inflasi semakin tidak stabil)\n",
    "3. **Gunakan distribusi Chi-Square** dengan $\\alpha = 0.05$.\n",
    "4. **Analisis hasil:**\n",
    "   - Jika hasil menunjukkan bahwa variabilitas inflasi lebih besar dari **0.5%²**, apa implikasinya bagi kebijakan moneter?\n"
   ]
  },
  {
   "cell_type": "code",
   "execution_count": 25,
   "id": "cfcfa33b-f3d0-460b-b8e5-2a5142d92fea",
   "metadata": {},
   "outputs": [
    {
     "data": {
      "text/html": [
       "0.0543333333333333"
      ],
      "text/latex": [
       "0.0543333333333333"
      ],
      "text/markdown": [
       "0.0543333333333333"
      ],
      "text/plain": [
       "[1] 0.05433333"
      ]
     },
     "metadata": {},
     "output_type": "display_data"
    }
   ],
   "source": [
    "# Data inflasi tahunan\n",
    "inflasi <- c(2.1, 2.5, 2.3, 2.7, 2.4, 2.2, 2.2, 2.6, 2.3, 2.8)\n",
    "\n",
    "# Hitung varians sampel\n",
    "sample_variance <- var(inflasi)\n",
    "\n",
    "# Tampilkan hasil\n",
    "sample_variance\n"
   ]
  },
  {
   "cell_type": "code",
   "execution_count": 26,
   "id": "2b431b63-0953-4340-b6df-4b25da1f4d23",
   "metadata": {},
   "outputs": [
    {
     "data": {
      "text/html": [
       "<dl>\n",
       "\t<dt>$Sample_Variance</dt>\n",
       "\t\t<dd>0.0543333333333333</dd>\n",
       "\t<dt>$Chi_Square_Stat</dt>\n",
       "\t\t<dd>9.78</dd>\n",
       "\t<dt>$Chi_Square_Critical</dt>\n",
       "\t\t<dd>16.9189776046204</dd>\n",
       "\t<dt>$Decision</dt>\n",
       "\t\t<dd>'Gagal tolak H0: Tidak cukup bukti bahwa inflasi tidak stabil.'</dd>\n",
       "</dl>\n"
      ],
      "text/latex": [
       "\\begin{description}\n",
       "\\item[\\$Sample\\_Variance] 0.0543333333333333\n",
       "\\item[\\$Chi\\_Square\\_Stat] 9.78\n",
       "\\item[\\$Chi\\_Square\\_Critical] 16.9189776046204\n",
       "\\item[\\$Decision] 'Gagal tolak H0: Tidak cukup bukti bahwa inflasi tidak stabil.'\n",
       "\\end{description}\n"
      ],
      "text/markdown": [
       "$Sample_Variance\n",
       ":   0.0543333333333333\n",
       "$Chi_Square_Stat\n",
       ":   9.78\n",
       "$Chi_Square_Critical\n",
       ":   16.9189776046204\n",
       "$Decision\n",
       ":   'Gagal tolak H0: Tidak cukup bukti bahwa inflasi tidak stabil.'\n",
       "\n",
       "\n"
      ],
      "text/plain": [
       "$Sample_Variance\n",
       "[1] 0.05433333\n",
       "\n",
       "$Chi_Square_Stat\n",
       "[1] 9.78\n",
       "\n",
       "$Chi_Square_Critical\n",
       "[1] 16.91898\n",
       "\n",
       "$Decision\n",
       "[1] \"Gagal tolak H0: Tidak cukup bukti bahwa inflasi tidak stabil.\"\n"
      ]
     },
     "metadata": {},
     "output_type": "display_data"
    }
   ],
   "source": [
    "# Data inflasi tahunan\n",
    "inflasi <- c(2.1, 2.5, 2.3, 2.7, 2.4, 2.2, 2.2, 2.6, 2.3, 2.8)\n",
    "\n",
    "# Hitung sample variance\n",
    "S2 <- var(inflasi)\n",
    "\n",
    "# Parameter uji\n",
    "sigma0_sq <- 0.05  # Varians hipotesis nol\n",
    "n <- length(inflasi)  # Jumlah sampel\n",
    "df <- n - 1  # Derajat kebebasan\n",
    "\n",
    "# Hitung statistik uji Chi-Square\n",
    "chi_sq <- (df * S2) / sigma0_sq\n",
    "\n",
    "# Nilai kritis Chi-Square untuk alpha = 0.05\n",
    "chi_crit <- qchisq(0.95, df)\n",
    "\n",
    "# Keputusan uji\n",
    "if (chi_sq > chi_crit) {\n",
    "  keputusan <- \"Tolak H0: Varians lebih besar dari 0.05, inflasi tidak stabil.\"\n",
    "} else {\n",
    "  keputusan <- \"Gagal tolak H0: Tidak cukup bukti bahwa inflasi tidak stabil.\"\n",
    "}\n",
    "\n",
    "# Output hasil\n",
    "list(Sample_Variance = S2, Chi_Square_Stat = chi_sq, Chi_Square_Critical = chi_crit, Decision = keputusan)\n"
   ]
  },
  {
   "cell_type": "code",
   "execution_count": 27,
   "id": "71c93b3b-8f3b-40cd-af97-f99b9bbca2fe",
   "metadata": {},
   "outputs": [
    {
     "name": "stderr",
     "output_type": "stream",
     "text": [
      "Warning message:\n",
      "\"\u001b[1m\u001b[22mUsing `size` aesthetic for lines was deprecated in ggplot2 3.4.0.\n",
      "\u001b[36mℹ\u001b[39m Please use `linewidth` instead.\"\n"
     ]
    },
    {
     "data": {
      "image/png": "[encoded data removed]",
      "text/plain": [
       "plot without title"
      ]
     },
     "metadata": {
      "image/png": {
       "height": 420,
       "width": 420
      }
     },
     "output_type": "display_data"
    }
   ],
   "source": [
    "# Load library\n",
    "library(ggplot2)\n",
    "\n",
    "# Parameter uji\n",
    "alpha <- 0.05\n",
    "sigma0_sq <- 0.05  # Varians hipotesis nol\n",
    "n <- length(inflasi)  # Jumlah sampel\n",
    "df <- n - 1  # Derajat kebebasan\n",
    "\n",
    "# Hitung sample variance\n",
    "S2 <- var(inflasi)\n",
    "\n",
    "# Hitung statistik uji Chi-Square\n",
    "chi_sq <- (df * S2) / sigma0_sq\n",
    "\n",
    "# Nilai kritis Chi-Square untuk alpha = 0.05\n",
    "chi_crit <- qchisq(1 - alpha, df)\n",
    "\n",
    "# Buat data untuk plot distribusi Chi-Square\n",
    "x_vals <- seq(0, chi_crit + 5, length.out = 300)\n",
    "y_vals <- dchisq(x_vals, df)\n",
    "\n",
    "# Plot distribusi dengan ggplot2\n",
    "df_plot <- data.frame(x = x_vals, y = y_vals)\n",
    "\n",
    "ggplot(df_plot, aes(x, y)) +\n",
    "  geom_line(color = \"blue\", size = 1) +\n",
    "  geom_vline(xintercept = chi_sq, color = \"red\", linetype = \"dashed\", size = 1.2) +\n",
    "  geom_vline(xintercept = chi_crit, color = \"black\", linetype = \"dotted\", size = 1.2) +\n",
    "  geom_area(data = subset(df_plot, x >= chi_crit), aes(x, y), fill = \"red\", alpha = 0.5) +\n",
    "  labs(\n",
    "    title = \"Distribusi Chi-Square dengan df = 9\",\n",
    "    x = expression(chi^2),\n",
    "    y = \"Density\"\n",
    "  ) +\n",
    "  theme_minimal() +\n",
    "  annotate(\"text\", x = chi_sq, y = 0.05, label = \"Chi-Square Hitung\", color = \"red\", hjust = -0.2) +\n",
    "  annotate(\"text\", x = chi_crit, y = 0.05, label = \"Chi-Square Kritis\", color = \"black\", hjust = -0.2)\n"
   ]
  },
  {
   "cell_type": "code",
   "execution_count": null,
   "id": "427c3221-21ac-4784-bcd8-b41090762c9e",
   "metadata": {},
   "outputs": [],
   "source": [
    "# Efektivitas Kebijakan Subsidi Obat Generik\n",
    "\n",
    "Pemerintah meluncurkan program subsidi untuk obat generik guna menekan biaya pengobatan masyarakat. Sebelum kebijakan ini diterapkan, rata-rata pengeluaran masyarakat untuk obat adalah **Rp750.000 per bulan**.\n",
    "\n",
    "Setelah kebijakan subsidi diterapkan selama 6 bulan, dilakukan survei terhadap **30 pasien** yang membeli obat generik, dan hasilnya menunjukkan rata-rata pengeluaran sebesar **Rp680.000 per bulan** dengan standar deviasi **Rp120.000**.\n",
    "\n",
    "## **Pertanyaan:**\n",
    "1. Formulasikan **hipotesis nol** dan **hipotesis alternatif** untuk menguji apakah kebijakan subsidi menurunkan pengeluaran obat secara signifikan.\n",
    "2. Gunakan **uji-t satu sampel** dengan tingkat signifikansi **\\( \\alpha = 0.05 \\)**.\n",
    "3. Hitung **nilai t-hitung** dan bandingkan dengan **t-kritis**.\n",
    "4. Apa implikasi hasil uji ini terhadap kebijakan subsidi kesehatan di masa depan?\n"
   ]
  },
  {
   "cell_type": "code",
   "execution_count": 39,
   "id": "6ae313c6-b383-4f0f-b827-614698993ea2",
   "metadata": {},
   "outputs": [
    {
     "name": "stdout",
     "output_type": "stream",
     "text": [
      "Nilai t-hitung: -3.195048 \n",
      "Nilai t-kritis: -1.699127 \n"
     ]
    }
   ],
   "source": [
    "# Definisi parameter\n",
    "n <- 30  # Jumlah sampel\n",
    "mu_0 <- 750000  # Rata-rata sebelum kebijakan\n",
    "x_bar <- 680000  # Rata-rata setelah kebijakan\n",
    "s <- 120000  # Standar deviasi sampel\n",
    "alpha <- 0.05  # Tingkat signifikansi\n",
    "\n",
    "# Hitung t-hitung\n",
    "t_hitung <- (x_bar - mu_0) / (s / sqrt(n))\n",
    "\n",
    "# Hitung t-kritis (uji satu arah, lower tail)\n",
    "t_kritis <- qt(alpha, df = n - 1)\n",
    "\n",
    "# Output hasil uji\n",
    "cat(\"Nilai t-hitung:\", t_hitung, \"\\n\")\n",
    "cat(\"Nilai t-kritis:\", t_kritis, \"\\n\")"
   ]
  },
  {
   "cell_type": "code",
   "execution_count": 40,
   "id": "bb1c8572-57b7-4b72-b380-fb6130b5bb70",
   "metadata": {},
   "outputs": [
    {
     "name": "stdout",
     "output_type": "stream",
     "text": [
      "Keputusan: Tolak H0, kebijakan subsidi menurunkan pengeluaran secara signifikan.\n"
     ]
    }
   ],
   "source": [
    "\n",
    "# Keputusan uji\n",
    "if (t_hitung < t_kritis) {\n",
    "  cat(\"Keputusan: Tolak H0, kebijakan subsidi menurunkan pengeluaran secara signifikan.\\n\")\n",
    "} else {\n",
    "  cat(\"Keputusan: Gagal tolak H0, tidak ada cukup bukti bahwa kebijakan menurunkan pengeluaran.\\n\")\n",
    "}"
   ]
  },
  {
   "cell_type": "code",
   "execution_count": 42,
   "id": "84e28cc3-df32-45eb-a407-e4deb81ba6d6",
   "metadata": {},
   "outputs": [
    {
     "data": {
      "image/png": "[encoded data removed]",
      "text/plain": [
       "plot without title"
      ]
     },
     "metadata": {
      "image/png": {
       "height": 420,
       "width": 420
      }
     },
     "output_type": "display_data"
    }
   ],
   "source": [
    "# Visualisasi distribusi t-Student\n",
    "library(ggplot2)\n",
    "\n",
    "# Data untuk plot distribusi t\n",
    "df <- n - 1\n",
    "x_vals <- seq(-4, 4, length.out = 300)\n",
    "y_vals <- dt(x_vals, df)\n",
    "\n",
    "df_plot <- data.frame(x = x_vals, y = y_vals)\n",
    "\n",
    "ggplot(df_plot, aes(x, y)) +\n",
    "  geom_line(color = \"blue\", size = 1) +\n",
    "  geom_vline(xintercept = t_hitung, color = \"red\", linetype = \"dashed\", size = 1.2) +\n",
    "  geom_vline(xintercept = t_kritis, color = \"black\", linetype = \"dotted\", size = 1.2) +\n",
    "  geom_area(data = subset(df_plot, x <= t_kritis), aes(x, y), fill = \"red\", alpha = 0.5) +\n",
    "  labs(\n",
    "    title = \"Distribusi t-Student (df = 29)\",\n",
    "    x = \"t\",\n",
    "    y = \"Density\"\n",
    "  ) +\n",
    "  theme_minimal() +\n",
    "  annotate(\"text\", x = t_hitung, y = 0.05, label = \"t-hitung\", color = \"red\", hjust = -0.2) +\n",
    "  annotate(\"text\", x = t_kritis, y = 0.05, label = \"t-kritis\", color = \"black\", hjust = -0.2)\n"
   ]
  },
  {
   "cell_type": "markdown",
   "id": "d1a6f96a-ae8d-481d-9785-610a0fac8c4e",
   "metadata": {},
   "source": [
    "# Parameter Uji F: Variabilitas Pengeluaran Pasien Sebelum dan Sesudah Subsidi\n",
    "\n",
    "| Parameter                  | Sebelum Subsidi  | Setelah Subsidi |\n",
    "|----------------------------|-----------------|----------------|\n",
    "| Jumlah Sampel $n$    | 30              | 30             |\n",
    "| Standar Deviasi $s$  | 150,000         | 120,000        |\n",
    "| Varians $s^2$        | $150,000^2$ | $120,000^2$ |\n",
    "| Tingkat Signifikansi $\\alpha$ | 0.05 | 0.05 |"
   ]
  },
  {
   "cell_type": "code",
   "execution_count": 35,
   "id": "25e6de31-f191-4bc7-8a94-9e299f200a12",
   "metadata": {},
   "outputs": [
    {
     "name": "stdout",
     "output_type": "stream",
     "text": [
      "F Hitung: 1.5625 \n",
      "F Kritis Bawah: 0.4759648 \n",
      "F Kritis Atas: 2.100996"
     ]
    }
   ],
   "source": [
    "# Definisi parameter\n",
    "n1 <- 30  # Jumlah sampel sebelum subsidi\n",
    "s1 <- 150000  # Standar deviasi sebelum subsidi\n",
    "\n",
    "n2 <- 30  # Jumlah sampel setelah subsidi\n",
    "s2 <- 120000  # Standar deviasi setelah subsidi\n",
    "\n",
    "alpha <- 0.05  # Tingkat signifikansi\n",
    "\n",
    "# Hitung F-hitung\n",
    "F_hitung <- (s1^2) / (s2^2)\n",
    "cat(\"F Hitung:\", F_hitung, \"\\n\")\n",
    "\n",
    "# Hitung F-kritis (dua sisi, karena kita tidak tahu apakah varians naik atau turun)\n",
    "df1 <- n1 - 1\n",
    "df2 <- n2 - 1\n",
    "F_kritis_bawah <- qf(alpha / 2, df1, df2, lower.tail = TRUE)\n",
    "F_kritis_atas <- qf(1 - alpha / 2, df1, df2, lower.tail = TRUE)\n",
    "cat(\"F Kritis Bawah:\", F_kritis_bawah, \"\\n\")\n",
    "cat(\"F Kritis Atas:\", F_kritis_atas)"
   ]
  },
  {
   "cell_type": "code",
   "execution_count": 37,
   "id": "b1ae50cd-6bef-4307-9ff8-5e64455e226d",
   "metadata": {},
   "outputs": [
    {
     "name": "stdout",
     "output_type": "stream",
     "text": [
      "Keputusan: Gagal tolak H0, tidak ada cukup bukti bahwa subsidi mempengaruhi varians pengeluaran pasien.\n"
     ]
    }
   ],
   "source": [
    "# Keputusan uji\n",
    "if (F_hitung < F_kritis_bawah | F_hitung > F_kritis_atas) {\n",
    "  cat(\"Keputusan: Tolak H0, ada perbedaan signifikan dalam varians pengeluaran pasien.\\n\")\n",
    "} else {\n",
    "  cat(\"Keputusan: Gagal tolak H0, tidak ada cukup bukti bahwa subsidi mempengaruhi varians pengeluaran pasien.\\n\")\n",
    "}"
   ]
  },
  {
   "cell_type": "code",
   "execution_count": 38,
   "id": "4aa61ff4-b56e-46ab-931d-bd4f53f63274",
   "metadata": {},
   "outputs": [
    {
     "data": {
      "image/png": "[encoded data removed]",
      "text/plain": [
       "plot without title"
      ]
     },
     "metadata": {
      "image/png": {
       "height": 420,
       "width": 420
      }
     },
     "output_type": "display_data"
    }
   ],
   "source": [
    "\n",
    "# Visualisasi distribusi F\n",
    "library(ggplot2)\n",
    "\n",
    "# Data untuk plot distribusi F\n",
    "x_vals <- seq(0, F_kritis_atas + 1, length.out = 300)\n",
    "y_vals <- df(x_vals, df1, df2)\n",
    "\n",
    "df_plot <- data.frame(x = x_vals, y = y_vals)\n",
    "\n",
    "ggplot(df_plot, aes(x, y)) +\n",
    "  geom_line(color = \"blue\", size = 1) +\n",
    "  geom_vline(xintercept = F_hitung, color = \"red\", linetype = \"dashed\", size = 1.2) +\n",
    "  geom_vline(xintercept = F_kritis_bawah, color = \"black\", linetype = \"dotted\", size = 1.2) +\n",
    "  geom_vline(xintercept = F_kritis_atas, color = \"black\", linetype = \"dotted\", size = 1.2) +\n",
    "  geom_area(data = subset(df_plot, x <= F_kritis_bawah | x >= F_kritis_atas), \n",
    "            aes(x, y), fill = \"red\", alpha = 0.5) +\n",
    "  labs(\n",
    "    title = \"Distribusi F (df1 = 29, df2 = 29)\",\n",
    "    x = \"F\",\n",
    "    y = \"Density\"\n",
    "  ) +\n",
    "  theme_minimal() +\n",
    "  annotate(\"text\", x = F_hitung, y = 0.05, label = \"F-hitung\", color = \"red\", hjust = -0.2) +\n",
    "  annotate(\"text\", x = F_kritis_bawah, y = 0.05, label = \"F-kritis bawah\", color = \"black\", hjust = -0.2) +\n",
    "  annotate(\"text\", x = F_kritis_atas, y = 0.05, label = \"F-kritis atas\", color = \"black\", hjust = -0.2)"
   ]
  }
 ],
 "metadata": {
  "kernelspec": {
   "display_name": "R",
   "language": "R",
   "name": "ir"
  },
  "language_info": {
   "codemirror_mode": "r",
   "file_extension": ".r",
   "mimetype": "text/x-r-source",
   "name": "R",
   "pygments_lexer": "r",
   "version": "4.4.1"
  }
 },
 "nbformat": 4,
 "nbformat_minor": 5
}
