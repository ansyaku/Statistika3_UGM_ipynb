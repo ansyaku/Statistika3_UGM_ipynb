{
 "cells": [
  {
   "cell_type": "markdown",
   "id": "70426a9a-169b-43fd-b79f-2ac1c3ce1bcd",
   "metadata": {},
   "source": [
    "# **Pertemuan 6: Sampling Distributions**\n",
    "<hr>\n",
    "\n",
    "### By: Andreas Syaloom Kurniawan (552751)"
   ]
  },
  {
   "cell_type": "markdown",
   "id": "41ee7115-01b9-4d0d-bec1-a8ad2c588787",
   "metadata": {},
   "source": [
    "# Table of Contents\n",
    "- [A. Sampling Distribution](#a)\n",
    "- [B. Sample mean and sample variance](#a)\n",
    "  - [B. 1 Chi-Square Distribution](#a.1)\n",
    "  - [B. 2 Student t-distribution](#a.2)\n",
    "  - [B. 3 F-distribution](#a.3)\n",
    "*Unfortunately, under github the link for the table of contents doesnt work, hence you need to scroll to the part if you want to go to a specific part of the note.*"
   ]
  },
  {
   "cell_type": "markdown",
   "id": "e07307b7-c9f1-4ec1-8d38-df5ca4570133",
   "metadata": {},
   "source": [
    "## **A. Chebyshev Theorem**<a class=\"anchor\" id=\"a\"></a>\n",
    "<hr>\n",
    "\n",
    "Binomial Distribution is a probability distribution used to model the number of successes in a fixed number of independent trials, where each trial has only two possible outcomes: success or failure. "
   ]
  },
  {
   "attachments": {},
   "cell_type": "markdown",
   "id": "72765bb9-2a9a-46e9-9060-ce8d48dac73d",
   "metadata": {},
   "source": [
    "## **B. Law of Large Number Theorem**<a class=\"anchor\" id=\"a\"></a>\n",
    "<hr>\n",
    "\n",
    "Binomial Distribution is a probability distribution used to model the number of successes in a fixed number of independent trials, where each trial has only two possible outcomes: success or failure. "
   ]
  },
  {
   "cell_type": "markdown",
   "id": "7ebaaf3d-a5ed-4153-94f9-1bf296e67335",
   "metadata": {},
   "source": [
    "## **C. Central Limit Theorem**<a class=\"anchor\" id=\"a\"></a>\n",
    "<hr>\n",
    "\n"
   ]
  },
  {
   "cell_type": "code",
   "execution_count": 14,
   "id": "c1e86256-e6e7-4f03-a08e-da638d051af1",
   "metadata": {},
   "outputs": [
    {
     "data": {
      "text/plain": [
       "survey_result\n",
       "    A     B     C     D     E \n",
       "0.303 0.235 0.207 0.152 0.103 "
      ]
     },
     "metadata": {},
     "output_type": "display_data"
    }
   ],
   "source": [
    "candidates <- c(\"A\", \"B\", \"C\", \"D\", \"E\")  # Nama kandidat\n",
    "probabilities <- c(0.30, 0.25, 0.20, 0.15, 0.10)  # True Support Levels\n",
    "\n",
    "# Simulasi 1.000 pemilih dalam 1 survei\n",
    "survey_result <- sample(candidates, size = 1000, replace = TRUE, prob = probabilities)\n",
    "\n",
    "# Hitung jumlah suara untuk setiap kandidat\n",
    "table(survey_result) / 1000  # Proporsi hasil survei ini"
   ]
  },
  {
   "cell_type": "code",
   "execution_count": 15,
   "id": "14a5cb91-2b84-4a94-a10d-30e39e0d730b",
   "metadata": {},
   "outputs": [
    {
     "data": {
      "image/png": "[encoded data removed]",
      "text/plain": [
       "Plot with title \"Sampling Distribution of Support for Candidate A\""
      ]
     },
     "metadata": {
      "image/png": {
       "height": 420,
       "width": 420
      }
     },
     "output_type": "display_data"
    }
   ],
   "source": [
    "set.seed(42)\n",
    "num_surveys <- 10000  # Jumlah survei\n",
    "sample_size <- 1000   # Jumlah voters per survei\n",
    "\n",
    "# Simpan hasil polling dalam matrix\n",
    "poll_matrix <- matrix(NA, nrow = num_surveys, ncol = 5)  \n",
    "colnames(poll_matrix) <- candidates  # Nama kandidat\n",
    "\n",
    "for (i in 1:num_surveys) {\n",
    "  poll_result <- sample(candidates, size = sample_size, replace = TRUE, prob = probabilities)\n",
    "  poll_matrix[i, ] <- table(factor(poll_result, levels = candidates)) / sample_size\n",
    "}\n",
    "\n",
    "# Konversi ke data frame untuk analisis\n",
    "poll_data <- as.data.frame(poll_matrix)\n",
    "\n",
    "# Lihat distribusi hasil polling untuk kandidat A\n",
    "hist(poll_data$A, breaks = 50, probability = TRUE,\n",
    "     main = \"Sampling Distribution of Support for Candidate A\",\n",
    "     xlab = \"Proportion of Votes for A\", col = \"lightblue\", border = \"black\")\n",
    "\n",
    "# Tambahkan kurva normal\n",
    "curve(dnorm(x, mean = mean(poll_data$A), sd = sd(poll_data$A)), \n",
    "      col = \"red\", lwd = 2, add = TRUE)\n"
   ]
  },
  {
   "cell_type": "code",
   "execution_count": 16,
   "id": "aed9894b-6ac1-434d-aae7-267be7b3a6c5",
   "metadata": {},
   "outputs": [
    {
     "data": {
      "image/png": "[encoded data removed]",
      "text/plain": [
       "Plot with title \"Sampling Distribution of E\""
      ]
     },
     "metadata": {
      "image/png": {
       "height": 420,
       "width": 420
      }
     },
     "output_type": "display_data"
    }
   ],
   "source": [
    "set.seed(42)\n",
    "num_surveys <- 10000  # Jumlah survei\n",
    "sample_size <- 1000   # Jumlah voters per survei\n",
    "\n",
    "# Kandidat dan True Support Levels\n",
    "candidates <- c(\"A\", \"B\", \"C\", \"D\", \"E\")\n",
    "probabilities <- c(0.30, 0.25, 0.20, 0.15, 0.10)\n",
    "\n",
    "# Simpan hasil polling dalam matrix\n",
    "poll_matrix <- matrix(NA, nrow = num_surveys, ncol = 5)  \n",
    "colnames(poll_matrix) <- candidates  \n",
    "\n",
    "# Jalankan simulasi polling\n",
    "for (i in 1:num_surveys) {\n",
    "  poll_result <- sample(candidates, size = sample_size, replace = TRUE, prob = probabilities)\n",
    "  poll_matrix[i, ] <- table(factor(poll_result, levels = candidates)) / sample_size\n",
    "}\n",
    "\n",
    "# Konversi ke data frame\n",
    "poll_data <- as.data.frame(poll_matrix)\n",
    "\n",
    "# Plot histogram + kurva normal untuk semua kandidat\n",
    "par(mfrow = c(2,3))  # Buat layout 2 baris, 3 kolom\n",
    "\n",
    "for (candidate in candidates) {\n",
    "  # Mean dan SD polling untuk kandidat ini\n",
    "  mean_val <- mean(poll_data[[candidate]])\n",
    "  sd_val <- sd(poll_data[[candidate]])\n",
    "  \n",
    "  # Plot histogram\n",
    "  hist(poll_data[[candidate]], breaks = 30, probability = TRUE,\n",
    "       main = paste(\"Sampling Distribution of\", candidate),\n",
    "       xlab = paste(\"Proportion of Votes for\", candidate),\n",
    "       col = \"lightblue\", border = \"black\")\n",
    "  \n",
    "  # Tambahkan kurva normal\n",
    "  curve(dnorm(x, mean = mean_val, sd = sd_val), col = \"red\", lwd = 2, add = TRUE)\n",
    "}\n"
   ]
  },
  {
   "cell_type": "code",
   "execution_count": 17,
   "id": "e3b12013-9731-446d-9321-de2a514e6cf8",
   "metadata": {},
   "outputs": [
    {
     "ename": "ERROR",
     "evalue": "Error in library(gtools): there is no package called 'gtools'\n",
     "output_type": "error",
     "traceback": [
      "Error in library(gtools): there is no package called 'gtools'\nTraceback:\n",
      "1. stop(packageNotFoundError(package, lib.loc, sys.call()))"
     ]
    }
   ],
   "source": [
    "# 1. Definisikan populasi\n",
    "populasi <- c(1, 2, 3, 4, 5)\n",
    "\n",
    "# 2. Hasilkan semua kombinasi mungkin dari ukuran sampel 3 tanpa pengembalian\n",
    "library(gtools)  # Paket untuk kombinasi\n",
    "sampel_mungkin <- combinations(n = length(populasi), r = 3, v = populasi)\n",
    "\n",
    "# 3. Hitung mean dari setiap sampel\n",
    "mean_sampel <- apply(sampel_mungkin, 1, mean)\n",
    "\n",
    "# 4. Hitung frekuensi unik dari mean sampel\n",
    "distribusi <- table(mean_sampel) / length(mean_sampel)\n",
    "\n",
    "# 5. Tampilkan distribusi dalam tabel\n",
    "print(distribusi)\n",
    "\n",
    "# 6. Buat histogram distribusi sampling mean\n",
    "hist(mean_sampel, breaks = seq(1.5, 4.5, by = 0.33), probability = TRUE,\n",
    "     main = \"Distribusi Sampling dari Mean Sampel (n=3)\",\n",
    "     xlab = \"Mean Sampel\",\n",
    "     col = \"lightblue\", border = \"black\")\n",
    "\n",
    "# 7. Overlay garis distribusi probabilitas\n",
    "lines(density(mean_sampel), col = \"red\", lwd = 2)\n"
   ]
  },
  {
   "cell_type": "code",
   "execution_count": 18,
   "id": "4918ce9f-4b3b-4668-af31-0de28cfe8aea",
   "metadata": {},
   "outputs": [
    {
     "name": "stderr",
     "output_type": "stream",
     "text": [
      "Installing package into 'C:/Users/Kemenkeu/AppData/Local/R/win-library/4.4'\n",
      "(as 'lib' is unspecified)\n",
      "\n"
     ]
    },
    {
     "name": "stdout",
     "output_type": "stream",
     "text": [
      "package 'gtools' successfully unpacked and MD5 sums checked\n",
      "\n",
      "The downloaded binary packages are in\n",
      "\tC:\\Users\\Kemenkeu\\AppData\\Local\\Temp\\RtmpiwK9rB\\downloaded_packages\n"
     ]
    }
   ],
   "source": [
    "install.packages(\"gtools\")"
   ]
  },
  {
   "cell_type": "code",
   "execution_count": 19,
   "id": "90f01ae9-676b-4849-811c-9530605b267d",
   "metadata": {},
   "outputs": [
    {
     "data": {
      "image/png": "[encoded data removed]",
      "text/plain": [
       "Plot with title \"Comparison of t-distributions\""
      ]
     },
     "metadata": {
      "image/png": {
       "height": 480,
       "width": 1200
      }
     },
     "output_type": "display_data"
    }
   ],
   "source": [
    "# Generate a vector of 100 values between -6 and 6 \n",
    "x <- seq(-6, 6, length = 100) \n",
    "\n",
    "# Degrees of freedom \n",
    "df = c(1,4,10,30) \n",
    "colour = c(\"red\", \"blue\", \"purple\", \"yellow\",\"black\") \n",
    "\n",
    "options(repr.plot.width=20, repr.plot.height=8) # this is just to make the plots wider (extend to the end of laptop display) \n",
    "\n",
    "par(bg = \"#F8F5E9\")\n",
    "# Plot a normal distribution \n",
    "plot(x, dnorm(x), type = \"l\", lty = 2, xlab = \"t-value\", ylab = \"Density\", \n",
    "\tmain = \"Comparison of t-distributions\", col = \"black\", lwd=\"5\") \n",
    "\n",
    "# Add the t-distributions to the plot \n",
    "for (i in 1:4){ \n",
    "lines(x, dt(x, df[i]), col = colour[i]) \n",
    "} \n",
    "\n",
    "# Add a legend \n",
    "legend(\"topright\", c(\"df = 1\", \"df = 4\", \"df = 10\", \"df = 30\", \"normal\"), \n",
    "\tcol = colour, title = \"t-distributions\", lty = c(1,1,1,1,2))\n"
   ]
  },
  {
   "cell_type": "code",
   "execution_count": null,
   "id": "85c360b3-8ee3-4fb2-9438-4629f3835cf3",
   "metadata": {},
   "outputs": [],
   "source": []
  },
  {
   "cell_type": "code",
   "execution_count": null,
   "id": "43b373ca-eb23-48e3-b0b7-c914242e457d",
   "metadata": {},
   "outputs": [],
   "source": []
  },
  {
   "cell_type": "code",
   "execution_count": null,
   "id": "36e01267-f885-407b-ad77-43e01cb47f27",
   "metadata": {},
   "outputs": [],
   "source": []
  },
  {
   "cell_type": "code",
   "execution_count": null,
   "id": "7724af60-bcb5-4590-b93a-a71360f4c510",
   "metadata": {},
   "outputs": [],
   "source": []
  },
  {
   "cell_type": "code",
   "execution_count": 100,
   "id": "2c29b7a6-14d7-4bcf-8bb9-3ab968266526",
   "metadata": {},
   "outputs": [],
   "source": [
    "#################################################################### END #########################################################################################################"
   ]
  }
 ],
 "metadata": {
  "kernelspec": {
   "display_name": "R",
   "language": "R",
   "name": "ir"
  },
  "language_info": {
   "codemirror_mode": "r",
   "file_extension": ".r",
   "mimetype": "text/x-r-source",
   "name": "R",
   "pygments_lexer": "r",
   "version": "4.4.1"
  }
 },
 "nbformat": 4,
 "nbformat_minor": 5
}
