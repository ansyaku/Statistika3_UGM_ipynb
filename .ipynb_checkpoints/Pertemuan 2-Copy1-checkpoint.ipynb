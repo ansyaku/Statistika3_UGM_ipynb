{
 "cells": [
  {
   "cell_type": "markdown",
   "id": "addeee83-9938-4a78-9d14-5e0a2e83a170",
   "metadata": {},
   "source": [
    "# **Pertemuan 2: Basic Concept of Probability Theory**\n",
    "<hr>\n",
    "\n",
    "### By: Andreas Syaloom Kurniawan (552751)"
   ]
  },
  {
   "cell_type": "code",
   "execution_count": 2,
   "id": "0cc13ea4-8a4b-4654-bf21-799f7ceb5571",
   "metadata": {},
   "outputs": [],
   "source": [
    "# The note is written in english do to my class lecture notes was written in english, \n",
    "# therefore to make my english more fluent I also write this notebook in english."
   ]
  },
  {
   "cell_type": "markdown",
   "id": "bcd69f16-aaaa-4a4c-b304-072eb80bbb47",
   "metadata": {},
   "source": [
    "# Table of Contents\n",
    "- [A. Discrete Random Variable](#a)\n",
    "    - [A. 1 Probability Mass Function](#a.1)\n",
    "    - [A. 2 Cumulative Distribution Function](#a.2)\n",
    "- [B. Continous Random Variable](#b)\n",
    "  - [B. 1 Probability Density Function](#b.1)\n",
    "  - [B. 2 Cumulative Distribution Function](#b.2)\n",
    "- [C. Expectation and Variance of Random Variable](#c)\n",
    "- [D. Moment and Moment Generating Function](#d)"
   ]
  },
  {
   "cell_type": "markdown",
   "id": "d355f7e3-ffaf-4a38-bfa0-d8dcf6e06e39",
   "metadata": {},
   "source": [
    "A random variable is a mapping $X: \\Omega \\rightarrow \\mathbb{R}$ that assigns a real number $X(\\omega)$ to each outcome $\\omega$. \n",
    "\n",
    "$X$ is a function defined on sample space $\\Omega$.\n",
    "\n",
    "**Example:** \n",
    "\n",
    "Tossing two coins, the random variable defined as $X$ = number of heads.\n",
    "$$\n",
    "X = 0 \\quad \\text{with probability } P(X=0) = P(T,T) = \\frac{1}{4}\n",
    "$$\n",
    "\n",
    "$$\n",
    "X = 1 \\quad \\text{with probability } P(X=1) = P(T,H) + P(H,T) = \\frac{2}{4}\n",
    "$$\n",
    "\n",
    "$$\n",
    "X = 2 \\quad \\text{with probability } P(X=2) = P(H,H) = \\frac{1}{4}\n",
    "$$\n",
    "\n",
    "A r.v. $X$ is said to be discrete if we can assume only a finite or countably infinite number of distinct values."
   ]
  },
  {
   "cell_type": "markdown",
   "id": "81e73d14-1bc3-465a-8476-92b6b0739329",
   "metadata": {},
   "source": [
    "## A. Discrete Random Variable<a class=\"anchor\" id=\"a\"></a>\n",
    "<hr>\n",
    "\n",
    "### A. 1 Probability Mass Function <a class=\"anchor\" id=\"a.1\"></a>\n",
    "**Probability Mass Function** (Discrete r.v.) is defined as\n",
    "\n",
    "$$\n",
    "f_X(x) = P(X = x) \\quad \\text{given that } X = \\{x_1, x_2, x_3, \\dots\\}\n",
    "$$\n",
    "\n",
    "$f_X(x)$ is the probability for r.v. \\(X\\) being exactly \\(x\\).\n",
    "\n",
    "PMF is a probability measure that gives us probabilities of the possible values of a r.v.\n",
    "\n",
    "Thus\n",
    "\n",
    "$$\n",
    "f_X(x) \\geq 0 \\text{ for all } x \\in \\mathbb{R} \\quad \\text{and} \\quad \\sum_i f_X(x_i) = 1\n",
    "$$\n",
    "\n",
    "Under r.v. discrete, there is:\n",
    "\n",
    "$$\n",
    "P(x_1 \\leq X \\leq x_2) = P(X=x_1) + P(X=x_2)\n",
    "$$\n",
    "\n",
    "$$\n",
    "P(X \\geq x_1) = P(X=x_1) + P(X=x_2) + \\cdots\n",
    "$$\n",
    "\n",
    "$$\n",
    "P(x_1 \\leq X < x_3) = P(X=x_1) + P(X=x_2)\n",
    "$$"
   ]
  },
  {
   "cell_type": "markdown",
   "id": "e0253e4e-9d03-49dd-bda1-c558ca90860f",
   "metadata": {},
   "source": [
    "### A. 2 Cumulative Distribution Function (CDF) <a class=\"anchor\" id=\"a.2\"></a>\n",
    "The cumulative distribution function (CDF) is denoted as $F_X(x)$ and defined as:\n",
    "\n",
    "$$\n",
    "F_X(x) = P(X \\leq x) = \\sum f_X(x)\n",
    "$$\n",
    "\n",
    "It is a function that describes the probability that a real-valued random variable $X$ is less than or equal to a certain value $x$."
   ]
  },
  {
   "cell_type": "markdown",
   "id": "bd5670a7-c0f8-4b5a-b983-dc73421fde99",
   "metadata": {},
   "source": [
    "# PMF and CDF Simulation (Discrete Random Variable)\n",
    "\n",
    "Here we can make a simulation to show how to count the probability mass function of a random variable.\n",
    "\n",
    "Take an example of flipping coin, in this example, we just simulate four flipping (of course you can modify by adding `Flip4 = outcomes`, `Flip4 = outcomes` etc to increase the number of flip). Each flipping are independent."
   ]
  },
  {
   "cell_type": "code",
   "execution_count": 1,
   "id": "c65048d9-50ac-4141-8e81-1ebd8c85a40f",
   "metadata": {},
   "outputs": [
    {
     "name": "stdout",
     "output_type": "stream",
     "text": [
      "   Flip1 Flip2 Flip3 Flip4 Heads_Count\n",
      "1      H     H     H     H           4\n",
      "2      T     H     H     H           3\n",
      "3      H     T     H     H           3\n",
      "4      T     T     H     H           2\n",
      "5      H     H     T     H           3\n",
      "6      T     H     T     H           2\n",
      "7      H     T     T     H           2\n",
      "8      T     T     T     H           1\n",
      "9      H     H     H     T           3\n",
      "10     T     H     H     T           2\n",
      "11     H     T     H     T           2\n",
      "12     T     T     H     T           1\n",
      "13     H     H     T     T           2\n",
      "14     T     H     T     T           1\n",
      "15     H     T     T     T           1\n",
      "16     T     T     T     T           0\n"
     ]
    }
   ],
   "source": [
    "# Define the possible outcomes for a single coin flip\n",
    "outcomes <- c(\"H\", \"T\")\n",
    "\n",
    "# Generate all possible combinations for three coin flips\n",
    "combinations <- expand.grid(Flip1 = outcomes, Flip2 = outcomes, Flip3 = outcomes, Flip4 = outcomes)\n",
    "\n",
    "# Calculate the number of heads in each combination\n",
    "combinations$Heads_Count <- rowSums(combinations == \"H\")\n",
    "\n",
    "# Print the combinations\n",
    "print(combinations)"
   ]
  },
  {
   "cell_type": "code",
   "execution_count": 2,
   "id": "56ef67c6-1b9f-41e3-9286-a1e96fc164e5",
   "metadata": {},
   "outputs": [
    {
     "name": "stdout",
     "output_type": "stream",
     "text": [
      "   Flip1 Flip2 Flip3 Flip4 Heads_Count Probability\n",
      "1      H     H     H     H           4      0.0625\n",
      "2      T     H     H     H           3      0.2500\n",
      "3      H     T     H     H           3      0.2500\n",
      "4      T     T     H     H           2      0.3750\n",
      "5      H     H     T     H           3      0.2500\n",
      "6      T     H     T     H           2      0.3750\n",
      "7      H     T     T     H           2      0.3750\n",
      "8      T     T     T     H           1      0.2500\n",
      "9      H     H     H     T           3      0.2500\n",
      "10     T     H     H     T           2      0.3750\n",
      "11     H     T     H     T           2      0.3750\n",
      "12     T     T     H     T           1      0.2500\n",
      "13     H     H     T     T           2      0.3750\n",
      "14     T     H     T     T           1      0.2500\n",
      "15     H     T     T     T           1      0.2500\n",
      "16     T     T     T     T           0      0.0625\n"
     ]
    }
   ],
   "source": [
    "# Define the possible outcomes for a single coin flip\n",
    "outcomes <- c(\"H\", \"T\")\n",
    "\n",
    "# Generate all possible combinations for four coin flips\n",
    "combinations <- expand.grid(Flip1 = outcomes, Flip2 = outcomes, Flip3 = outcomes, Flip4 = outcomes)\n",
    "\n",
    "# Calculate the number of heads in each combination\n",
    "combinations$Heads_Count <- rowSums(combinations == \"H\")\n",
    "\n",
    "# Calculate probabilities by counting occurrences of each head count\n",
    "head_counts <- table(combinations$Heads_Count)\n",
    "\n",
    "# Create a probability vector from head counts divided by total combinations\n",
    "probabilities <- head_counts / nrow(combinations)\n",
    "\n",
    "# Assign probabilities to each row based on the number of heads\n",
    "combinations$Probability <- probabilities[as.character(combinations$Heads_Count)]\n",
    "\n",
    "# Aggregate to find the total probability for each count of heads\n",
    "probability_summary <- aggregate(Probability ~ Heads_Count, data = combinations, FUN = unique)\n",
    "\n",
    "# Calculate the cumulative probability\n",
    "probability_summary$Cumulative_P <- cumsum(probability_summary$Probability)\n",
    "\n",
    "# Print the combinations with probabilities\n",
    "print(combinations)"
   ]
  },
  {
   "cell_type": "code",
   "execution_count": 3,
   "id": "e629de3f-54b4-4b39-8891-7e5146c6d49a",
   "metadata": {},
   "outputs": [
    {
     "name": "stdout",
     "output_type": "stream",
     "text": [
      "  Heads_Count Probability Cumulative_P\n",
      "1           0      0.0625       0.0625\n",
      "2           1      0.2500       0.3125\n",
      "3           2      0.3750       0.6875\n",
      "4           3      0.2500       0.9375\n",
      "5           4      0.0625       1.0000\n"
     ]
    }
   ],
   "source": [
    "# Print the probability summary table\n",
    "print(probability_summary)"
   ]
  },
  {
   "cell_type": "code",
   "execution_count": 51,
   "id": "09003613-77cc-4236-8be8-3f8d5ce3023e",
   "metadata": {},
   "outputs": [
    {
     "data": {
      "image/png": "[encoded data removed]",
      "text/plain": [
       "plot without title"
      ]
     },
     "metadata": {
      "image/png": {
       "height": 480,
       "width": 1200
      }
     },
     "output_type": "display_data"
    }
   ],
   "source": [
    "# Now plot using ggplot2\n",
    "library(ggplot2)\n",
    "\n",
    "ggplot(data = probability_summary, aes(x = Heads_Count, y = Probability)) +\n",
    "  geom_bar(stat = \"identity\", fill = \"blue\") +\n",
    "  labs(x = \"Number of Heads\", y = \"Probability\", title = \"Probability Distribution of Heads Count\") +\n",
    "  theme_economist(base_size = 30, dkpanel=TRUE)\n"
   ]
  },
  {
   "cell_type": "code",
   "execution_count": 56,
   "id": "125e121e-f18e-4ba4-8307-07a4f601920d",
   "metadata": {},
   "outputs": [
    {
     "data": {
      "image/png": "[encoded data removed]",
      "text/plain": [
       "plot without title"
      ]
     },
     "metadata": {
      "image/png": {
       "height": 480,
       "width": 1200
      }
     },
     "output_type": "display_data"
    }
   ],
   "source": [
    "# Create the bar graph for probabilities and add a line graph for cumulative probabilities\n",
    "# Load ggplot2 library\n",
    "library(ggplot2)\n",
    "\n",
    "# Create the line graph for cumulative probabilities\n",
    "ggplot(data = probability_summary, aes(x = Heads_Count)) +\n",
    "  geom_line(aes(y = Cumulative_P, group = 1), color = \"red\", linewidth = 1.5) +  # Updated to use 'linewidth'\n",
    "  geom_point(aes(y = Cumulative_P), color = \"red\", size = 3) +\n",
    "  labs(x = \"Number of Heads\", y = \"Cumulative Probability\") +\n",
    "  ggtitle(\"Cumulative Distribution Function of R.V. Heads Count\") +\n",
    "  theme_economist(base_size = 30, dkpanel=TRUE)"
   ]
  },
  {
   "cell_type": "code",
   "execution_count": 60,
   "id": "1d294627-3382-4340-adf7-3c6127da8bcf",
   "metadata": {},
   "outputs": [],
   "source": [
    "library(ggplot2)\n",
    "library(ggthemes)# Set the number of coin flips\n",
    "n_flips <- 10  \n",
    "\n",
    "# Number of simulations\n",
    "n_simulations <- 500000  # Large enough for accuracy\n",
    "\n",
    "# Run simulations: each row is one trial, each column is a coin flip\n",
    "simulated_flips <- matrix(sample(c(0,1), size = n_simulations * n_flips, replace = TRUE), \n",
    "                          nrow = n_simulations, ncol = n_flips)\n",
    "\n",
    "# Count number of heads in each trial\n",
    "heads_count <- rowSums(simulated_flips)\n",
    "\n",
    "# Estimate PMF by counting occurrences\n",
    "pmf_data <- as.data.frame(table(heads_count))\n",
    "colnames(pmf_data) <- c(\"Heads_Count\", \"Probability\")\n",
    "\n",
    "# Convert to numeric and normalize probabilities\n",
    "pmf_data$Heads_Count <- as.numeric(as.character(pmf_data$Heads_Count))\n",
    "pmf_data$Probability <- pmf_data$Probability / n_simulations  # Convert count to probability\n",
    "pmf_data$Cumulative_P <- cumsum(pmf_data$Probability)  # Compute cumulative probabilities"
   ]
  },
  {
   "cell_type": "code",
   "execution_count": 61,
   "id": "06109946-130f-48b3-b2a3-0464809f59af",
   "metadata": {},
   "outputs": [
    {
     "data": {
      "image/png": "[encoded data removed]",
      "text/plain": [
       "plot without title"
      ]
     },
     "metadata": {
      "image/png": {
       "height": 480,
       "width": 1200
      }
     },
     "output_type": "display_data"
    }
   ],
   "source": [
    "# Make plots wider \n",
    "options(repr.plot.width=20, repr.plot.height=8)\n",
    "\n",
    "# PMF Plot\n",
    "pmf_plot <- ggplot(pmf_data, aes(x = as.factor(Heads_Count), y = Probability)) +\n",
    "  geom_bar(stat = \"identity\", fill = \"blue\") +\n",
    "  labs(x = \"Number of Heads\", y = \"Probability\", title = paste(\"Simulated PMF of\", n_flips, \"Coin Flips\")) +\n",
    "  theme_economist(base_size = 30, dkpanel=TRUE)  \n",
    "\n",
    "pmf_plot"
   ]
  },
  {
   "cell_type": "code",
   "execution_count": 49,
   "id": "f43811b7-17ce-4eb4-a8d8-48348250c16f",
   "metadata": {},
   "outputs": [
    {
     "data": {
      "image/png": "[encoded data removed]",
      "text/plain": [
       "plot without title"
      ]
     },
     "metadata": {
      "image/png": {
       "height": 480,
       "width": 1200
      }
     },
     "output_type": "display_data"
    }
   ],
   "source": [
    "# CDF Plot (Line Graph)\n",
    "cdf_plot <- ggplot(pmf_data, aes(x = Heads_Count, y = Cumulative_P)) +\n",
    "  geom_line(color = \"red\", linewidth = 1.5) +\n",
    "  geom_point(color = \"red\", size = 3) +\n",
    "  labs(x = \"Number of Heads\", y = \"Cumulative Probability\", title = paste(\"Simulated CDF of\", n_flips, \"Coin Flips\")) +\n",
    "  theme_economist(base_size = 30, dkpanel=TRUE) \n",
    "\n",
    "cdf_plot"
   ]
  },
  {
   "cell_type": "markdown",
   "id": "7d256784-cb01-4659-a131-680a71e79046",
   "metadata": {},
   "source": [
    "## B. Continous Random Variable<a class=\"anchor\" id=\"b\"></a>\n",
    "<hr>\n",
    "\n",
    "### B. 1 Probability Distribution Function<a class=\"anchor\" id=\"b.1\"></a>\n",
    "Let $X$ be a random variable. $X$ is continuous if there exists a function $f_X$ such that:\n",
    "\n",
    "$$\n",
    "f_X(x) \\geq 0 \\text{ for all } x, \\quad \\text{and} \\quad \\int_{-\\infty}^{\\infty} f_X(x) \\, dx = 1\n",
    "$$\n",
    "\n",
    "For $a \\leq b$:\n",
    "\n",
    "$$\n",
    "P(a \\leq X \\leq b) = \\int_a^b f_X(x) \\, dx\n",
    "$$\n",
    "\n",
    "The function $f_X$ is called the Probability Density Function (PDF).\n",
    "\n",
    "### B. 2 Cumulative Distribution Function<a class=\"anchor\" id=\"b.2\"></a>\n",
    "For a continuous random variable, the CDF can be expressed as:\n",
    "\n",
    "$$\n",
    "F_X(x) = P(X \\leq x) = \\int_{-\\infty}^x f(t) \\, dt\n",
    "$$"
   ]
  },
  {
   "cell_type": "code",
   "execution_count": 7,
   "id": "7119152c-bf31-45a5-845d-a3cac06ab357",
   "metadata": {
    "scrolled": true
   },
   "outputs": [
    {
     "name": "stdout",
     "output_type": "stream",
     "text": [
      "[1] 0.2457226\n"
     ]
    }
   ],
   "source": [
    "# Load the necessary library for plotting\n",
    "library(ggplot2)\n",
    "\n",
    "# Define the parameters and the function\n",
    "lambda <- 1/3\n",
    "x <- seq(0, 20, length.out = 400)\n",
    "f_x <- lambda * exp(-lambda * x)\n",
    "\n",
    "# Create a data frame for ggplot\n",
    "data <- data.frame(x = x, f_x = f_x)\n",
    "\n",
    "# Calculate the area under the curve from 2.5 to 5.0 using numerical integration\n",
    "area <- integrate(function(x) lambda * exp(-lambda * x), lower = 2.5, upper = 5.0)$value\n",
    "\n",
    "# Output the calculated area\n",
    "print(area)"
   ]
  },
  {
   "cell_type": "code",
   "execution_count": 5,
   "id": "90764644-ddfc-4e3c-b82d-2a98b2ffe186",
   "metadata": {},
   "outputs": [
    {
     "data": {
      "image/png": "[encoded data removed]",
      "text/plain": [
       "plot without title"
      ]
     },
     "metadata": {
      "image/png": {
       "height": 420,
       "width": 420
      }
     },
     "output_type": "display_data"
    }
   ],
   "source": [
    "# Plotting\n",
    "p <- ggplot(data, aes(x = x, y = f_x)) +\n",
    "  geom_line(color = \"blue\") +\n",
    "  geom_area(data = data[data$x >= 2.5 & data$x <= 5.0,], aes(x = x, y = f_x), fill = \"red\", alpha = 0.5) +\n",
    "  labs(title = \"Probability Density Function of f(x) = λe^(-λx)\", x = \"x\", y = \"f(x)\") +\n",
    "  theme_minimal()\n",
    "\n",
    "# Print the plot\n",
    "print(p)"
   ]
  },
  {
   "cell_type": "markdown",
   "id": "8d9e8494-08fd-4c9b-9348-ca6fa609eec9",
   "metadata": {},
   "source": [
    "## C. Expectation and Variance of Random Variable<a class=\"anchor\" id=\"c\"></a>\n",
    "<hr>\n",
    "\n",
    "### C.1  Expectation of Random Variable\n",
    "Let $X$ be a random variable. If $X$ is a continuous random variable with probability density function (pdf) $f(x)$, then the expectation of $X$ is:\n",
    "\n",
    "$$\n",
    "E(X) = \\int_{-\\infty}^{\\infty} x f(x) \\, dx\n",
    "$$\n",
    "\n",
    "If $X$ is a discrete random variable with probability mass function (pmf) $p(x)$, then the expectation of $X$ is:\n",
    "\n",
    "$$\n",
    "E(X) = \\sum x p(x)\n",
    "$$\n",
    "\n",
    "Let $g(X)$ be a function on $X$, that is $Y = g(X)$, then the expected value of $g(X)$ is:\n",
    "\n",
    "$$\n",
    "E(g(X)) = \\sum g(x) p(x) \\quad \\text{if $X$ is discrete}\n",
    "$$\n",
    "\n",
    "$$\n",
    "E(g(X)) = \\int_{-\\infty}^{\\infty} g(x) f(x) \\, dx \\quad \\text{if $X$ is continuous}\n",
    "$$"
   ]
  },
  {
   "cell_type": "code",
   "execution_count": 70,
   "id": "c9728d56-0570-477d-a0eb-4de5a4d22bc7",
   "metadata": {},
   "outputs": [
    {
     "name": "stdout",
     "output_type": "stream",
     "text": [
      "  Heads_Count Probability Cumulative_P ExpectedValue x_Px\n",
      "1           0      0.0625       0.0625          0.00 0.00\n",
      "2           1      0.2500       0.3125          0.25 0.25\n",
      "3           2      0.3750       0.6875          0.75 0.75\n",
      "4           3      0.2500       0.9375          0.75 0.75\n",
      "5           4      0.0625       1.0000          0.25 0.25\n"
     ]
    }
   ],
   "source": [
    "# Print the probability summary table\n",
    "print(probability_summary)"
   ]
  },
  {
   "cell_type": "code",
   "execution_count": 77,
   "id": "5fff84b2-60a5-4b1e-9db6-81ca05cf9861",
   "metadata": {},
   "outputs": [
    {
     "data": {
      "text/html": [
       "<table class=\"dataframe\">\n",
       "<caption>A data.frame: 5 × 5</caption>\n",
       "<thead>\n",
       "\t<tr><th scope=col>Heads_Count</th><th scope=col>Probability</th><th scope=col>Cumulative_P</th><th scope=col>ExpectedValue</th><th scope=col>x_Px</th></tr>\n",
       "\t<tr><th scope=col>&lt;dbl&gt;</th><th scope=col>&lt;dbl&gt;</th><th scope=col>&lt;dbl&gt;</th><th scope=col>&lt;dbl&gt;</th><th scope=col>&lt;dbl&gt;</th></tr>\n",
       "</thead>\n",
       "<tbody>\n",
       "\t<tr><td>0</td><td>0.0625</td><td>0.0625</td><td>0.00</td><td>0.00</td></tr>\n",
       "\t<tr><td>1</td><td>0.2500</td><td>0.3125</td><td>0.25</td><td>0.25</td></tr>\n",
       "\t<tr><td>2</td><td>0.3750</td><td>0.6875</td><td>0.75</td><td>0.75</td></tr>\n",
       "\t<tr><td>3</td><td>0.2500</td><td>0.9375</td><td>0.75</td><td>0.75</td></tr>\n",
       "\t<tr><td>4</td><td>0.0625</td><td>1.0000</td><td>0.25</td><td>0.25</td></tr>\n",
       "</tbody>\n",
       "</table>\n"
      ],
      "text/latex": [
       "A data.frame: 5 × 5\n",
       "\\begin{tabular}{lllll}\n",
       " Heads\\_Count & Probability & Cumulative\\_P & ExpectedValue & x\\_Px\\\\\n",
       " <dbl> & <dbl> & <dbl> & <dbl> & <dbl>\\\\\n",
       "\\hline\n",
       "\t 0 & 0.0625 & 0.0625 & 0.00 & 0.00\\\\\n",
       "\t 1 & 0.2500 & 0.3125 & 0.25 & 0.25\\\\\n",
       "\t 2 & 0.3750 & 0.6875 & 0.75 & 0.75\\\\\n",
       "\t 3 & 0.2500 & 0.9375 & 0.75 & 0.75\\\\\n",
       "\t 4 & 0.0625 & 1.0000 & 0.25 & 0.25\\\\\n",
       "\\end{tabular}\n"
      ],
      "text/markdown": [
       "\n",
       "A data.frame: 5 × 5\n",
       "\n",
       "| Heads_Count &lt;dbl&gt; | Probability &lt;dbl&gt; | Cumulative_P &lt;dbl&gt; | ExpectedValue &lt;dbl&gt; | x_Px &lt;dbl&gt; |\n",
       "|---|---|---|---|---|\n",
       "| 0 | 0.0625 | 0.0625 | 0.00 | 0.00 |\n",
       "| 1 | 0.2500 | 0.3125 | 0.25 | 0.25 |\n",
       "| 2 | 0.3750 | 0.6875 | 0.75 | 0.75 |\n",
       "| 3 | 0.2500 | 0.9375 | 0.75 | 0.75 |\n",
       "| 4 | 0.0625 | 1.0000 | 0.25 | 0.25 |\n",
       "\n"
      ],
      "text/plain": [
       "  Heads_Count Probability Cumulative_P ExpectedValue x_Px\n",
       "1 0           0.0625      0.0625       0.00          0.00\n",
       "2 1           0.2500      0.3125       0.25          0.25\n",
       "3 2           0.3750      0.6875       0.75          0.75\n",
       "4 3           0.2500      0.9375       0.75          0.75\n",
       "5 4           0.0625      1.0000       0.25          0.25"
      ]
     },
     "metadata": {},
     "output_type": "display_data"
    },
    {
     "name": "stdout",
     "output_type": "stream",
     "text": [
      "[1] \"Expected Value of RV is\"\n"
     ]
    }
   ],
   "source": [
    "probability_summary <- as.data.frame(probability_summary)\n",
    "probability_summary$x_Px <-probability_summary$Heads_Count*probability_summary$Probability\n",
    "probability_summary\n",
    "total_sum<-sum(probability_summary$x_Px, na.rm = TRUE)\n",
    "print(\"Expected Value of RV is\", total_sum) "
   ]
  },
  {
   "cell_type": "markdown",
   "id": "83e5191c-275b-4fe8-8f0f-be30000eaccb",
   "metadata": {},
   "source": [
    "### C.2  Variance of Random Variable\n",
    "\n",
    "Variance of a Random Variable is defined as the expected value of the squared deviation of $X$ from its mean:\n",
    "\n",
    "$$\n",
    "\\sigma^2 = E[(X - \\mu)^2]\n",
    "$$\n",
    "\n",
    "Expanding this, we get:\n",
    "\n",
    "$$\n",
    "\\sigma^2 = E[X^2] - 2XE[\\mu] + \\mu^2 \\quad \\text{by linearity of expectation and $\\mu$ constant (E[$\\mu$] = $\\mu$)}\n",
    "$$\n",
    "\n",
    "$$\n",
    "\\sigma^2 = E[X^2] - 2\\mu E[X] + \\mu^2\n",
    "$$\n",
    "\n",
    "$$\n",
    "\\sigma^2 = E[X^2] - 2\\mu^2 + \\mu^2\n",
    "$$\n",
    "\n",
    "$$\n",
    "\\sigma^2 = E[X^2] - \\mu^2\n",
    "$$\n",
    "\n",
    "Thus, the variance is also given by:\n",
    "\n",
    "$$\n",
    "\\sigma^2 = E[X^2] - (E[X])^2\n",
    "$$"
   ]
  },
  {
   "cell_type": "code",
   "execution_count": 79,
   "id": "09f0c0d7-9b38-47f4-a3dc-1c9fad6de12a",
   "metadata": {},
   "outputs": [
    {
     "data": {
      "text/html": [
       "<table class=\"dataframe\">\n",
       "<caption>A data.frame: 5 × 6</caption>\n",
       "<thead>\n",
       "\t<tr><th scope=col>Heads_Count</th><th scope=col>Probability</th><th scope=col>Cumulative_P</th><th scope=col>ExpectedValue</th><th scope=col>x_Px</th><th scope=col>x2_Px</th></tr>\n",
       "\t<tr><th scope=col>&lt;dbl&gt;</th><th scope=col>&lt;dbl&gt;</th><th scope=col>&lt;dbl&gt;</th><th scope=col>&lt;dbl&gt;</th><th scope=col>&lt;dbl&gt;</th><th scope=col>&lt;dbl&gt;</th></tr>\n",
       "</thead>\n",
       "<tbody>\n",
       "\t<tr><td>0</td><td>0.0625</td><td>0.0625</td><td>0.00</td><td>0.00</td><td>0.00</td></tr>\n",
       "\t<tr><td>1</td><td>0.2500</td><td>0.3125</td><td>0.25</td><td>0.25</td><td>0.25</td></tr>\n",
       "\t<tr><td>2</td><td>0.3750</td><td>0.6875</td><td>0.75</td><td>0.75</td><td>1.50</td></tr>\n",
       "\t<tr><td>3</td><td>0.2500</td><td>0.9375</td><td>0.75</td><td>0.75</td><td>2.25</td></tr>\n",
       "\t<tr><td>4</td><td>0.0625</td><td>1.0000</td><td>0.25</td><td>0.25</td><td>1.00</td></tr>\n",
       "</tbody>\n",
       "</table>\n"
      ],
      "text/latex": [
       "A data.frame: 5 × 6\n",
       "\\begin{tabular}{llllll}\n",
       " Heads\\_Count & Probability & Cumulative\\_P & ExpectedValue & x\\_Px & x2\\_Px\\\\\n",
       " <dbl> & <dbl> & <dbl> & <dbl> & <dbl> & <dbl>\\\\\n",
       "\\hline\n",
       "\t 0 & 0.0625 & 0.0625 & 0.00 & 0.00 & 0.00\\\\\n",
       "\t 1 & 0.2500 & 0.3125 & 0.25 & 0.25 & 0.25\\\\\n",
       "\t 2 & 0.3750 & 0.6875 & 0.75 & 0.75 & 1.50\\\\\n",
       "\t 3 & 0.2500 & 0.9375 & 0.75 & 0.75 & 2.25\\\\\n",
       "\t 4 & 0.0625 & 1.0000 & 0.25 & 0.25 & 1.00\\\\\n",
       "\\end{tabular}\n"
      ],
      "text/markdown": [
       "\n",
       "A data.frame: 5 × 6\n",
       "\n",
       "| Heads_Count &lt;dbl&gt; | Probability &lt;dbl&gt; | Cumulative_P &lt;dbl&gt; | ExpectedValue &lt;dbl&gt; | x_Px &lt;dbl&gt; | x2_Px &lt;dbl&gt; |\n",
       "|---|---|---|---|---|---|\n",
       "| 0 | 0.0625 | 0.0625 | 0.00 | 0.00 | 0.00 |\n",
       "| 1 | 0.2500 | 0.3125 | 0.25 | 0.25 | 0.25 |\n",
       "| 2 | 0.3750 | 0.6875 | 0.75 | 0.75 | 1.50 |\n",
       "| 3 | 0.2500 | 0.9375 | 0.75 | 0.75 | 2.25 |\n",
       "| 4 | 0.0625 | 1.0000 | 0.25 | 0.25 | 1.00 |\n",
       "\n"
      ],
      "text/plain": [
       "  Heads_Count Probability Cumulative_P ExpectedValue x_Px x2_Px\n",
       "1 0           0.0625      0.0625       0.00          0.00 0.00 \n",
       "2 1           0.2500      0.3125       0.25          0.25 0.25 \n",
       "3 2           0.3750      0.6875       0.75          0.75 1.50 \n",
       "4 3           0.2500      0.9375       0.75          0.75 2.25 \n",
       "5 4           0.0625      1.0000       0.25          0.25 1.00 "
      ]
     },
     "metadata": {},
     "output_type": "display_data"
    },
    {
     "name": "stdout",
     "output_type": "stream",
     "text": [
      "[1] \"Variance of RV is\"\n"
     ]
    }
   ],
   "source": [
    "probability_summary <- as.data.frame(probability_summary)\n",
    "probability_summary$x_Px <-probability_summary$Heads_Count*probability_summary$Probability\n",
    "probability_summary$x2_Px <-(probability_summary$Heads_Count)^2*probability_summary$Probability\n",
    "probability_summary\n",
    "total_sum<-sum(probability_summary$x2_Px, na.rm = TRUE)\n",
    "print(\"Variance of RV is\", total_sum) "
   ]
  },
  {
   "cell_type": "code",
   "execution_count": null,
   "id": "e1bc5068-77ae-455a-9ae1-af8ffacc9018",
   "metadata": {},
   "outputs": [],
   "source": []
  },
  {
   "cell_type": "markdown",
   "id": "0c14b37b-f978-4d32-976c-8dd17a2fdf68",
   "metadata": {},
   "source": [
    "## D. Moment and Moment Generating Function <a class=\"anchor\" id=\"d\"></a>\n",
    "<hr>\n",
    "\n",
    "### D.1 Moment\n",
    "## Moments of a Distribution\n",
    "\n",
    "Moments are quantitative measures related to the shape of the distribution function of a random variable.\n",
    "\n",
    "### Definitions\n",
    "\n",
    "- The **k-th moment about the origin** (raw moment) of a random variable $X$ is denoted by $\\mu_k'$ and defined as:\n",
    "  \n",
    "  $$\n",
    "  E[X^k]\n",
    "  $$\n",
    "\n",
    "- The **k-th moment about its mean** (central k-th moment) of a random variable $X$ is denoted by $\\mu_k$ and defined as:\n",
    "  \n",
    "  $$\n",
    "  E[(X-\\mu)^k]\n",
    "  $$\n",
    "\n",
    "  where $\\mu$ is the mean of $X$ and $k$ is typically 2, 3, 4, etc.\n",
    "\n",
    "\n",
    "### D.2 Moment Generating Function"
   ]
  },
  {
   "cell_type": "markdown",
   "id": "265bcf1d-5204-4b4c-a6bf-299d2977af73",
   "metadata": {},
   "source": [
    "## E. Example\n",
    "## Discrete Random Variables\n",
    "\n",
    "Let $X$ be a discrete random variable with the following probability function:\n",
    "\n",
    "$$\n",
    "\\begin{array}{c|cccccc}\n",
    "x & -1 & 0 & 1 & 2 & 3 & 4 & 5 \\\\\n",
    "\\hline\n",
    "P(X=x) & \\frac{1}{7} & \\frac{1}{7} & \\frac{1}{7} & \\frac{1}{7} & \\frac{1}{7} & \\frac{1}{7} & \\frac{1}{7}\n",
    "\\end{array}\n",
    "$$\n",
    "\n",
    "To find the expected value $E[X]$, we calculate:\n",
    "\n",
    "$$\n",
    "\\mu = E[X] = \\sum x P(x) = \\left(-1 \\cdot \\frac{1}{7}\\right) + \\left(0 \\cdot \\frac{1}{7}\\right) + \\left(1 \\cdot \\frac{1}{7}\\right) + \\left(2 \\cdot \\frac{1}{7}\\right) + \\left(3 \\cdot \\frac{1}{7}\\right) + \\left(4 \\cdot \\frac{1}{7}\\right) + \\left(5 \\cdot \\frac{1}{7}\\right)\n",
    "$$\n",
    "\n",
    "$$\n",
    "\\mu = \\frac{-1 + 0 + 1 + 2 + 3 + 4 + 5}{7} = \\frac{14}{7} = 2\n",
    "$$\n",
    "\n"
   ]
  },
  {
   "cell_type": "markdown",
   "id": "d68330f8-980a-4d5b-a89f-71cae5160557",
   "metadata": {},
   "source": [
    "## Continuous Random Variables\n",
    "\n",
    "Let $X$ be a continuous r.v. with PDF $f(x) = kx^2$ where $0 \\leq x \\leq 1$. First, find $k$ to ensure $f(x)$ is a valid PDF:\n",
    "\n",
    "$$\n",
    "\\int_0^1 kx^2 \\, dx = 1\n",
    "$$\n",
    "\n",
    "To solve for $k$:\n",
    "\n",
    "$$\n",
    "\\int_0^1 kx^2 \\, dx = \\frac{k}{3}[x^3]_0^1 = \\frac{k}{3} = 1\n",
    "$$\n",
    "\n",
    "$$\n",
    "k = 3\n",
    "$$\n",
    "\n",
    "Thus, the PDF is $f(x) = 3x^2$ on $0 \\leq x \\leq 1$. To find $E(X)$:\n",
    "\n",
    "$$\n",
    "E(X) = \\int_0^1 x \\cdot 3x^2 \\, dx = 3\\int_0^1 x^3 \\, dx\n",
    "$$\n",
    "\n",
    "$$\n",
    "E(X) = 3\\left[\\frac{x^4}{4}\\right]_0^1 = 3\\left[\\frac{1}{4}\\right] = \\frac{3}{4}\n",
    "$$\n",
    "\n",
    "## Calculation of Variance for Continuous Random Variable\n",
    "\n",
    "Given a continuous random variable $X$ with probability density function (PDF) $f(x) = \\frac{x^2}{3}$ within the interval $0 \\leq x \\leq 1$, we first find the expected value $E(X)$ and then calculate the variance $\\sigma^2$.\n",
    "\n",
    "### Expected Value $E(X)$\n",
    "\n",
    "The expected value is calculated as:\n",
    "\n",
    "$$\n",
    "E(X) = \\int_0^1 x \\cdot \\frac{x^2}{3} \\, dx = \\frac{1}{3} \\int_0^1 x^3 \\, dx\n",
    "$$\n",
    "\n",
    "Evaluating the integral:\n",
    "\n",
    "$$\n",
    "E(X) = \\frac{1}{3} \\left[\\frac{x^4}{4}\\right]_0^1 = \\frac{1}{3} \\left[\\frac{1}{4}\\right] = \\frac{1}{12}\n",
    "$$\n",
    "\n",
    "### Second Moment $E(X^2)$\n",
    "\n",
    "To find the second moment, $E(X^2)$, set $g(X) = X^2$:\n",
    "\n",
    "$$\n",
    "E(X^2) = \\int_0^1 x^2 \\cdot \\frac{x^2}{3} \\, dx = \\frac{1}{3} \\int_0^1 x^4 \\, dx\n",
    "$$\n",
    "\n",
    "Evaluating the integral:\n",
    "\n",
    "$$\n",
    "E(X^2) = \\frac{1}{3} \\left[\\frac{x^5}{5}\\right]_0^1 = \\frac{1}{3} \\left[\\frac{1}{5}\\right] = \\frac{1}{15}\n",
    "$$\n",
    "\n",
    "### Variance $\\sigma^2$\n",
    "\n",
    "Variance of $X$ is given by:\n",
    "\n",
    "$$\n",
    "\\sigma^2 = E(X^2) - [E(X)]^2\n",
    "$$\n",
    "\n",
    "Plugging in the values:\n",
    "\n",
    "$$\n",
    "\\sigma^2 = \\frac{1}{15} - \\left(\\frac{1}{12}\\right)^2 = \\frac{1}{15} - \\frac{1}{144}\n",
    "$$\n",
    "\n",
    "Converting to a common denominator and simplifying:\n",
    "\n",
    "$$\n",
    "\\sigma^2 = \\frac{48}{720} - \\frac{5}{720} = \\frac{43}{720} \\approx 0.0597\n",
    "$$\n",
    "\n",
    "Thus, the variance of the random variable $X$ is approximately $0.0597$."
   ]
  },
  {
   "cell_type": "code",
   "execution_count": 14,
   "id": "8bab90b3-8c51-4648-b5d0-2d9d6c8cebfa",
   "metadata": {},
   "outputs": [
    {
     "name": "stdout",
     "output_type": "stream",
     "text": [
      "Expected Value E[X]: 3 \n",
      "Variance Var(X): 9 \n"
     ]
    }
   ],
   "source": [
    "# Define the lambda parameter\n",
    "lambda <- 1/3\n",
    "\n",
    "# PDF function for the exponential distribution\n",
    "pdf_function <- function(x) {\n",
    "  lambda * exp(-lambda * x)\n",
    "}\n",
    "\n",
    "# Expected value calculation\n",
    "expected_value <- function(lambda) {\n",
    "  integrate(function(x) x * pdf_function(x), lower = 0, upper = Inf)$value\n",
    "}\n",
    "\n",
    "# Second moment (E[X^2]) calculation\n",
    "second_moment <- function(lambda) {\n",
    "  integrate(function(x) x^2 * pdf_function(x), lower = 0, upper = Inf)$value\n",
    "}\n",
    "\n",
    "# Calculate expected value\n",
    "E_X <- expected_value(lambda)\n",
    "\n",
    "# Calculate second moment\n",
    "E_X2 <- second_moment(lambda)\n",
    "\n",
    "# Calculate variance\n",
    "variance <- E_X2 - E_X^2\n",
    "\n",
    "# Output results\n",
    "cat(\"Expected Value E[X]:\", E_X, \"\\n\")\n",
    "cat(\"Variance Var(X):\", variance, \"\\n\")\n"
   ]
  },
  {
   "cell_type": "code",
   "execution_count": 13,
   "id": "133190bb-7c0e-402d-90cd-409970e68bd2",
   "metadata": {},
   "outputs": [
    {
     "data": {
      "image/png": "[encoded data removed]",
      "text/plain": [
       "Plot with title \"PDF and CDF of Exponential Distribution\""
      ]
     },
     "metadata": {
      "image/png": {
       "height": 420,
       "width": 420
      }
     },
     "output_type": "display_data"
    }
   ],
   "source": [
    "# Define the lambda parameter\n",
    "lambda <- 1/3\n",
    "\n",
    "# Define the PDF function for the exponential distribution\n",
    "pdf_function <- function(x) {\n",
    "  lambda * exp(-lambda * x)\n",
    "}\n",
    "\n",
    "# Define a function to calculate the CDF by integrating the PDF\n",
    "cdf_function <- function(x) {\n",
    "  sapply(x, function(x_val) {\n",
    "    integrate(pdf_function, lower = 0, upper = x_val)$value\n",
    "  })\n",
    "}\n",
    "\n",
    "# Create a sequence of x values\n",
    "x_values <- seq(0, 20, by = 0.1)\n",
    "\n",
    "# Calculate PDF values\n",
    "pdf_values <- pdf_function(x_values)\n",
    "\n",
    "# Calculate CDF values\n",
    "cdf_values <- cdf_function(x_values)\n",
    "\n",
    "# Plotting PDF and CDF\n",
    "plot(x_values, pdf_values, type = \"l\", col = \"blue\", ylim = c(0, max(pdf_values, cdf_values)), ylab = \"Value\", xlab = \"x\", main = \"PDF and CDF of Exponential Distribution\")\n",
    "lines(x_values, cdf_values, col = \"red\")\n",
    "legend(\"topright\", legend = c(\"PDF\", \"CDF\"), col = c(\"blue\", \"red\"), lty = 1)\n"
   ]
  },
  {
   "cell_type": "code",
   "execution_count": null,
   "id": "e1abaac5-ea89-47e3-a190-7473492129f5",
   "metadata": {},
   "outputs": [],
   "source": []
  },
  {
   "cell_type": "markdown",
   "id": "9bc517d0-a2f1-440f-a54d-68842704a470",
   "metadata": {},
   "source": [
    "## Example of Finding Probability of $P(a \\leq X\\leq b)$ from a particular CDF function\n",
    "\n",
    "The PDF function is $f_X(x)=\\frac{1}{2} e^{-|x|}$, find $P(-1\\leq X \\leq 1)$."
   ]
  },
  {
   "cell_type": "code",
   "execution_count": 9,
   "id": "4564cee5-c253-4c75-acc0-99c0811bec21",
   "metadata": {},
   "outputs": [
    {
     "name": "stdout",
     "output_type": "stream",
     "text": [
      "[1] \"P(-1 <= X <= 1) = 0.632120558478143\"\n"
     ]
    },
    {
     "data": {
      "image/png": "[encoded data removed]",
      "text/plain": [
       "plot without title"
      ]
     },
     "metadata": {
      "image/png": {
       "height": 420,
       "width": 420
      }
     },
     "output_type": "display_data"
    }
   ],
   "source": [
    "# Load necessary libraries\n",
    "library(ggplot2)\n",
    "library(pracma)\n",
    "\n",
    "# Define the PDF\n",
    "pdf <- function(x) {\n",
    "  0.5 * exp(-abs(x))\n",
    "}\n",
    "\n",
    "# Numerical integration to find the CDF at each x\n",
    "cdf <- function(x) {\n",
    "  integrate(pdf, lower = -Inf, upper = x)$value\n",
    "}\n",
    "\n",
    "# Define a range of x values\n",
    "x_values <- seq(-10, 10, by = 0.1)\n",
    "\n",
    "# Calculate the CDF values for these x values\n",
    "cdf_values <- sapply(x_values, cdf)\n",
    "\n",
    "# Create a data frame to store the values for plotting\n",
    "data_frame <- data.frame(x = x_values, CDF = cdf_values)\n",
    "\n",
    "# Create a subset of the data frame for the interval -1 to 1\n",
    "subset_data <- data_frame[data_frame$x >= -1 & data_frame$x <= 1,]\n",
    "\n",
    "# Plotting the CDF using ggplot2\n",
    "ggplot(data_frame, aes(x = x, y = CDF)) +\n",
    "  geom_line() + \n",
    "  geom_ribbon(data = subset_data, aes(ymin = 0, ymax = CDF), fill = \"blue\", alpha = 0.4) + # Highlight the interval with a blue area\n",
    "  ggtitle(\"CDF of a Laplace Distribution\") +\n",
    "  xlab(\"x\") + \n",
    "  ylab(\"P(X <= x)\")\n",
    "\n",
    "# Example: Calculate P(-1 <= X <= 1)\n",
    "p_a <- cdf(-1)\n",
    "p_b <- cdf(1)\n",
    "\n",
    "# Calculate the probability\n",
    "probability <- p_b - p_a\n",
    "\n",
    "# Print the result\n",
    "print(paste(\"P(-1 <= X <= 1) =\", probability))"
   ]
  }
 ],
 "metadata": {
  "kernelspec": {
   "display_name": "R",
   "language": "R",
   "name": "ir"
  },
  "language_info": {
   "codemirror_mode": "r",
   "file_extension": ".r",
   "mimetype": "text/x-r-source",
   "name": "R",
   "pygments_lexer": "r",
   "version": "4.4.1"
  }
 },
 "nbformat": 4,
 "nbformat_minor": 5
}
