{
 "cells": [
  {
   "cell_type": "markdown",
   "id": "70426a9a-169b-43fd-b79f-2ac1c3ce1bcd",
   "metadata": {},
   "source": [
    "# **Pertemuan 4: Limit Theorem**\n",
    "<hr>\n",
    "\n",
    "### By: Andreas Syaloom Kurniawan (552751)"
   ]
  },
  {
   "cell_type": "code",
   "execution_count": 6,
   "id": "2babe9ee-f3bf-4001-9c28-c124bcf807fc",
   "metadata": {},
   "outputs": [],
   "source": [
    "# The note is written in english do to my class lecture notes was written in english, \n",
    "# therefore to make my english more fluent I also write this notebook in english.\n",
    "# The code are based on R programming language"
   ]
  },
  {
   "cell_type": "markdown",
   "id": "41ee7115-01b9-4d0d-bec1-a8ad2c588787",
   "metadata": {},
   "source": [
    "# Table of Contents\n",
    "- [A. Chebyshev Theorem](#a)\n",
    "- [B. Law of Large Number Theorem](#a)\n",
    "- [C. Central Limit Theorem](#a)\n",
    "    - [A. 1 Join Probability Distribution](#a.1)\n",
    "    - [A. 2 Marginal Distribution Function](#a.2)\n",
    "    - [A. 3 Conditional Probability Distribution](#a.3)\n",
    "\n",
    "*Unfortunately, under github the link for the table of contents doesnt work, hence you need to scroll to the part if you want to go to a specific part of the note.*"
   ]
  },
  {
   "cell_type": "markdown",
   "id": "e07307b7-c9f1-4ec1-8d38-df5ca4570133",
   "metadata": {},
   "source": [
    "## **A. Discrete Random Variable**<a class=\"anchor\" id=\"a\"></a>\n",
    "<hr>\n",
    "\n",
    "## **A.1 Binomial Distribution Function**<a class=\"anchor\" id=\"a\"></a>\n",
    "Binomial Distribution is a probability distribution used to model the number of successes in a fixed number of independent trials, where each trial has only two possible outcomes: success or failure. "
   ]
  },
  {
   "attachments": {},
   "cell_type": "markdown",
   "id": "72765bb9-2a9a-46e9-9060-ce8d48dac73d",
   "metadata": {},
   "source": [
    "### A.1.1 Probability Mass Function\n",
    "\n",
    "A random variabe $X$ is said to have binomial probability distribution with parameter `(n,p)` iff the probability mass function (PMF):\n",
    "$$\n",
    "\\begin{align*}\n",
    "P(X = x) = p(x) &= \\binom{n}{x} p^x (1 - p)^{n - x} \\\\\n",
    "         &= \\frac{n!}{x!(n-x)!} p^x q^{n-x}\n",
    "\\end{align*}\n",
    "$$\n",
    "\n",
    "in R we use `dbinom(x, size, prob)` function for calculating this formula, with\n",
    "\n",
    "* `x = 2` → Number of successes we want to calculate the probability for (e.g., exactly 2 heads in 10 coin flips).\n",
    "* `size = 10` → Total number of trials (e.g., flipping a coin 10 times).\n",
    "* `prob = 0.3` → Probability of success in each trial (e.g., getting heads with a biased coin that lands on heads 30% of the time).\n",
    "\n",
    "\n",
    "### A.1.2 Cummulative Distribution Function\n",
    "The cummulative distribution function for Binomial Distribution Function is:\n",
    "$$\n",
    "F_X(x)=\\sum_{x=0}^{n} \\binom{n}{x} p^x q^{n-x}\n",
    "$$\n",
    "\n",
    "in R we use `pbinom(q, size, p, lower.tail)` function for calculating this formula, with\n",
    "* `q = 5` → The upper limit for the cumulative probability.\n",
    "* `size = 10` → The number of trials (e.g., 10 coin flips).\n",
    "* `p = 0.3` → Probability of success in each trial (e.g., 30% chance of getting heads).\n",
    "* `lower.tail = TRUE` → for right tail ex:  $P \\leq 5$\n",
    "* `lower.tail = FALSE` → for left tail ex: $P \\geq 5$"
   ]
  },
  {
   "cell_type": "markdown",
   "id": "7ebaaf3d-a5ed-4153-94f9-1bf296e67335",
   "metadata": {},
   "source": [
    "The measures of central tendency are characterized as follows:\n",
    "### A.1.3 Binomial Distribution Mean\n",
    "$$\n",
    "E(X) = np\n",
    "$$\n",
    "in R we use `mean()` function for calculating this formula, with\n",
    "\n",
    "### A.1.4 Binomial Distribution Variance\n",
    "$$\n",
    "\\text{Var}(X) = np(1 - p)\n",
    "$$\n",
    "\n",
    "in R we use `var()` function for calculating this formula, with"
   ]
  },
  {
   "cell_type": "markdown",
   "id": "63ff4594-0705-4759-a1f2-30fdcc488d90",
   "metadata": {},
   "source": [
    "**Example:**\n",
    "\n",
    "A fair coin is tossed 10 times. Let $X$ denote the number of heads obtained. Find the following.\n",
    "\n",
    "1. $ P(X = 7) $ \n",
    "2. $ P(X \\leq 7)$ \n",
    "3. $ P(X > 0)$ \n",
    "4. $E(X)$  and $ \\text{Var}(X)$ "
   ]
  },
  {
   "cell_type": "markdown",
   "id": "ed64d47b-d84a-491a-9eac-2b30926715f7",
   "metadata": {},
   "source": [
    "**Answer:**\n",
    "1. Based on the formula we can count $(X=7)$\n",
    "   \n",
    "   $\\Huge P(X=7) =  \\binom{10}{7} (\\frac{1}{2})^7 (1 - \\frac{1}{2})^{10 - 7} \\\\ $\n",
    "   \n",
    "   In R we can calculate them as follow:"
   ]
  },
  {
   "cell_type": "code",
   "execution_count": 8,
   "id": "bbb2270a-cf7a-486b-b80b-394344b3713d",
   "metadata": {},
   "outputs": [
    {
     "name": "stdout",
     "output_type": "stream",
     "text": [
      "[1] \"P(X=7) is  0.1171875\"\n"
     ]
    }
   ],
   "source": [
    "print(paste(\"P(X=7) is \", dbinom(7, size=10, prob=1/2)))"
   ]
  },
  {
   "cell_type": "code",
   "execution_count": 44,
   "id": "c1e86256-e6e7-4f03-a08e-da638d051af1",
   "metadata": {},
   "outputs": [
    {
     "data": {
      "image/png": "[encoded data removed]",
      "text/plain": [
       "Plot with title \"Binomial Distribution (n=10, p=0.5)\""
      ]
     },
     "metadata": {
      "image/png": {
       "height": 480,
       "width": 1200
      }
     },
     "output_type": "display_data"
    }
   ],
   "source": [
    "success <- 0:10\n",
    "par(bg = \"#F2F6D0\")\n",
    "plot(success,dbinom(success,size=10,prob=.5),\n",
    "     type='b',\n",
    "     main='Binomial Distribution (n=10, p=0.5)',\n",
    "     ylab='Probability',\n",
    "     xlab ='Successes',\n",
    "     col = \"blue\",\n",
    "     lwd=8)"
   ]
  },
  {
   "cell_type": "markdown",
   "id": "78907b0d-d2d6-406b-ba8e-aeb8ee9b1587",
   "metadata": {},
   "source": [
    "**Answer:**\n",
    "\n",
    "2. Based on the formula we can count $P(X \\leq 7)$\n",
    "\n",
    "$$\n",
    "\\begin{align*}\n",
    "P(X \\leq 7) &= \\sum_{x=0}^{7} \\binom{10}{x} \\left(\\frac{1}{2}\\right)^x \\left(\\frac{1}{2}\\right)^{10-x} \\\\\n",
    "            &= \\binom{10}{0} \\left(\\frac{1}{2}\\right)^0 \\left(\\frac{1}{2}\\right)^{10} + \n",
    "               \\binom{10}{1} \\left(\\frac{1}{2}\\right)^1 \\left(\\frac{1}{2}\\right)^{9} + \n",
    "               \\binom{10}{2} \\left(\\frac{1}{2}\\right)^2 \\left(\\frac{1}{2}\\right)^{8} + \\\\\n",
    "            &\\quad \\binom{10}{3} \\left(\\frac{1}{2}\\right)^3 \\left(\\frac{1}{2}\\right)^{7} + \n",
    "               \\binom{10}{4} \\left(\\frac{1}{2}\\right)^4 \\left(\\frac{1}{2}\\right)^{6} + \n",
    "               \\binom{10}{5} \\left(\\frac{1}{2}\\right)^5 \\left(\\frac{1}{2}\\right)^{5} + \\\\\n",
    "            &\\quad \\binom{10}{6} \\left(\\frac{1}{2}\\right)^6 \\left(\\frac{1}{2}\\right)^{4} + \n",
    "               \\binom{10}{7} \\left(\\frac{1}{2}\\right)^7 \\left(\\frac{1}{2}\\right)^{3}\n",
    "\\end{align*}\n",
    "$$\n",
    "\n",
    "   In R we can calculate them as follow:"
   ]
  },
  {
   "cell_type": "code",
   "execution_count": 42,
   "id": "ef3b5f73-c140-4274-86eb-88d272a01581",
   "metadata": {},
   "outputs": [
    {
     "data": {
      "text/html": [
       "0.9453125"
      ],
      "text/latex": [
       "0.9453125"
      ],
      "text/markdown": [
       "0.9453125"
      ],
      "text/plain": [
       "[1] 0.9453125"
      ]
     },
     "metadata": {},
     "output_type": "display_data"
    }
   ],
   "source": [
    "dbinom(0, size=10, prob=1/2)+\n",
    "dbinom(1, size=10, prob=1/2)+\n",
    "dbinom(2, size=10, prob=1/2)+\n",
    "dbinom(3, size=10, prob=1/2)+\n",
    "dbinom(4, size=10, prob=1/2)+\n",
    "dbinom(5, size=10, prob=1/2)+\n",
    "dbinom(6, size=10, prob=1/2)+\n",
    "dbinom(7, size=10, prob=1/2)"
   ]
  },
  {
   "cell_type": "markdown",
   "id": "7e14bd37-6a08-4cb1-a402-d1a358d0e7b1",
   "metadata": {},
   "source": [
    "Or by considering them as a cummulative distribution function we can also count them by using `pbinom` and with condition `lower.tail=TRUE`"
   ]
  },
  {
   "cell_type": "code",
   "execution_count": 43,
   "id": "05ac82fa-3b82-44da-a885-2ca079ee7a1e",
   "metadata": {},
   "outputs": [
    {
     "data": {
      "text/html": [
       "0.9453125"
      ],
      "text/latex": [
       "0.9453125"
      ],
      "text/markdown": [
       "0.9453125"
      ],
      "text/plain": [
       "[1] 0.9453125"
      ]
     },
     "metadata": {},
     "output_type": "display_data"
    }
   ],
   "source": [
    "pbinom(7, size=10, prob=1/2, lower.tail=TRUE) "
   ]
  },
  {
   "cell_type": "markdown",
   "id": "99479c8b-eea0-4671-a243-81a8b7c4171f",
   "metadata": {},
   "source": [
    "**Answer:**\n",
    "\n",
    "3. Based on the formula we can count $P(X \\geq 0)$\n",
    "\n",
    "$$\n",
    "\\begin{align*}\n",
    "P(X \\geq 0) &= \\sum_{x=1}^{7} \\binom{10}{x} \\left(\\frac{1}{2}\\right)^x \\left(\\frac{1}{2}\\right)^{10-x} \\\\\n",
    "\\end{align*}\n",
    "$$\n",
    "\n",
    "   In R we can calculate them as follow:"
   ]
  },
  {
   "cell_type": "code",
   "execution_count": 45,
   "id": "30156bca-a88e-4e2a-8a09-86b5aa1ffb88",
   "metadata": {},
   "outputs": [
    {
     "data": {
      "text/html": [
       "0.0546875"
      ],
      "text/latex": [
       "0.0546875"
      ],
      "text/markdown": [
       "0.0546875"
      ],
      "text/plain": [
       "[1] 0.0546875"
      ]
     },
     "metadata": {},
     "output_type": "display_data"
    }
   ],
   "source": [
    "pbinom(7, size=10, prob=1/2, lower.tail=FALSE) "
   ]
  },
  {
   "cell_type": "markdown",
   "id": "e7de695c-7568-4960-9de8-3ba6b60a8224",
   "metadata": {},
   "source": [
    "**Answer:**\n",
    "\n",
    "4. $E(X)$  and $ \\text{Var}(X)$ \n",
    "\n",
    "   In R we can calculate them as follow:"
   ]
  },
  {
   "cell_type": "code",
   "execution_count": 32,
   "id": "88cfae00-7ca8-40c9-8bef-8741ceca6b07",
   "metadata": {},
   "outputs": [
    {
     "data": {
      "text/html": [
       "1.7"
      ],
      "text/latex": [
       "1.7"
      ],
      "text/markdown": [
       "1.7"
      ],
      "text/plain": [
       "[1] 1.7"
      ]
     },
     "metadata": {},
     "output_type": "display_data"
    }
   ],
   "source": [
    "mean(rbinom(n = 10, size = 10, prob = 1/6))"
   ]
  },
  {
   "cell_type": "code",
   "execution_count": 33,
   "id": "9960cb94-bc9e-47a6-be40-35a5ca201d68",
   "metadata": {},
   "outputs": [
    {
     "data": {
      "text/html": [
       "1.37777777777778"
      ],
      "text/latex": [
       "1.37777777777778"
      ],
      "text/markdown": [
       "1.37777777777778"
      ],
      "text/plain": [
       "[1] 1.377778"
      ]
     },
     "metadata": {},
     "output_type": "display_data"
    }
   ],
   "source": [
    "var(rbinom(n = 10, size = 10, prob = 1/6))"
   ]
  },
  {
   "cell_type": "markdown",
   "id": "2049e496-5ce9-45e2-96e4-4cdfa6ab6f54",
   "metadata": {},
   "source": [
    "# **A.2 Hypergeometric Distribution Function**"
   ]
  },
  {
   "cell_type": "markdown",
   "id": "8511232a-33a7-4e67-ae40-e5f0cd3ab766",
   "metadata": {},
   "source": [
    "The hypergeometric distribution, the probability of $y$ successes when sampling **without replacement** $n$ items from a population with $r$ successes and $N − r$ failures."
   ]
  },
  {
   "cell_type": "markdown",
   "id": "9661992d-961a-4461-b576-c67c8a7449aa",
   "metadata": {},
   "source": [
    "### Real Life Example: \n",
    "**Quality Control in a Factory**\n",
    "* Imagine a factory that produces `1,000` smartphones per day. \n",
    "* At the end of the day, a quality control inspector wants to check for defective phones. \n",
    "* The factory knows that `50` phones in the batch are defective.\n",
    "* Since the inspector doesn't test all 1,000 phones, they randomly select `20` phones for inspection. \n",
    "* We want to determine the probability that exactly `3` out of the `20` phones are defective.\n",
    "* **We sample without replacement** → Once a phone is inspected, it’s not put back.\n",
    "\n",
    "**Winning a Lottery**\n",
    "\n",
    "* Imagine a lottery where there are 100 total tickets sold, and 5 of them are winning tickets. \n",
    "* You and a few friends decide to buy 10 tickets together. \n",
    "* What is the probability that exactly 2 of your 10 tickets are winners?"
   ]
  },
  {
   "cell_type": "markdown",
   "id": "37f4af6f-4b4c-4d67-b946-32089632e76c",
   "metadata": {},
   "source": [
    "### Probability Mean Function\n",
    "\\textbf{Standard Mathematical Notation (Textbooks \\& Papers)}\n",
    "$$    P(X = k) = \\frac{\\binom{K}{k} \\binom{N-K}{n-k}}{\\binom{N}{n}}\n",
    "$$\n",
    "\n",
    "\n",
    "where:\n",
    "\n",
    "- $ N $ = Total population size (no literal translation of this in R. In R we use `N-k` which become `n`)\n",
    "- $ K $ = Total number of successes in the population (in R become `m`)\n",
    "- $ n $ = Sample size (in R become `k`)\n",
    "- $ k $ = Number of observed successes in the sample (in R become `x`)\n",
    "\n",
    "In R we can compute this using `dhyper(x, m, n, k)`\n",
    "\n",
    "###  Cumulative Distribution Function\n",
    "$$\n",
    "P(X \\leq k) = \\sum_{i=0}^{k} \\frac{\\binom{K}{i} \\binom{N-K}{n-i}}{\\binom{N}{n}}\n",
    "$$\n",
    "\n",
    "In R we can compute this using `phyper(x, m, n, k)`\n",
    "\n",
    "###  Expectation (Mean)\n",
    "$$\n",
    "E(X) = \\frac{nK}{N}\n",
    "$$\n",
    "\n",
    "### Variance:\n",
    "$$\n",
    "\\text{Var}(X) = \\frac{nK(N-K)(N-n)}{N^2(N-1)}\n",
    "$$"
   ]
  },
  {
   "cell_type": "markdown",
   "id": "fbca9cca-8430-41fe-af88-283c0ea02096",
   "metadata": {},
   "source": [
    "**Example :**\n",
    "\n",
    "\n",
    "* A central bank audits $30$ small banks, of which $15$ are compliant with financial regulations and $15$ are non-compliant. \n",
    "* The audit team randomly selects **6 banks** for an in-depth review, without replacement. \n",
    "* Let $X$ be the number of compliant banks in the selected sample.\n",
    "\n",
    "Find:\n",
    "1. $ P(X = 3) $\n",
    "2. $ P(X \\leq 3) $\n",
    "3. $\\mu = E(X) $ and $\\sigma^2 = \\text{Var}(X)$"
   ]
  },
  {
   "cell_type": "markdown",
   "id": "c4739931-2a93-4149-a6a2-e006ac6e5cdb",
   "metadata": {},
   "source": [
    "**Answer:**\n",
    "\n",
    "\n",
    "1. $P(X=3)$\n",
    "Therefore the formula become :\n",
    "\n",
    "$$ \\Huge    P(X = 3) = \\frac{\\binom{6}{3} \\binom{30-6}{6-3}}{\\binom{30}{15}} $$\n",
    "\n",
    "In R we can calculate that by `dhyper(x = 3, m = 15, n = 15, k = 6)`\n",
    "* `x = 3` (number of compliant banks in sample)\n",
    "* `m = 15` (total compliant banks)\n",
    "* `n = 15` (total non-compliant banks $N−K=30−15=15$)\n",
    "* `k = 6` (sample size)"
   ]
  },
  {
   "cell_type": "code",
   "execution_count": 49,
   "id": "9348fe9a-cfa0-4935-a8ab-b1b040b519ec",
   "metadata": {},
   "outputs": [
    {
     "data": {
      "text/html": [
       "0.348659003831418"
      ],
      "text/latex": [
       "0.348659003831418"
      ],
      "text/markdown": [
       "0.348659003831418"
      ],
      "text/plain": [
       "[1] 0.348659"
      ]
     },
     "metadata": {},
     "output_type": "display_data"
    }
   ],
   "source": [
    "x <- 3 \n",
    "N <- 30\n",
    "m <- 15 \n",
    "n <- N-m \n",
    "k <- 6\n",
    "\n",
    "dhyper(x, m, n, k)"
   ]
  },
  {
   "cell_type": "markdown",
   "id": "e140b71c-8a1b-41d2-afe8-8eb7b983d6c4",
   "metadata": {},
   "source": [
    "**Answer:**\n",
    "\n",
    "2. $P(X \\leq 3)$ \n",
    "\n",
    "We know that\n",
    "\n",
    "$P(X\\leq 3)= P(X=0)+P(X=1)+P(X=2)+P(X=3)$\n",
    "\n",
    "We could find that by\n",
    "$$\n",
    "P(X \\leq 3) = \\sum_{i=0}^{3} \\frac{\\binom{15}{i} \\binom{30-15}{6-i}}{\\binom{30}{6}}\n",
    "$$\n",
    "\n",
    "or just using R script:"
   ]
  },
  {
   "cell_type": "code",
   "execution_count": 51,
   "id": "cdac2b18-d227-4627-8306-a8a27e05875b",
   "metadata": {},
   "outputs": [
    {
     "data": {
      "image/png": "[encoded data removed]",
      "text/plain": [
       "Plot with title \"Probability Mass Function of Hypergeometric Distribution\""
      ]
     },
     "metadata": {
      "image/png": {
       "height": 480,
       "width": 1200
      }
     },
     "output_type": "display_data"
    }
   ],
   "source": [
    "# Specify x-values for phyper function \n",
    "x_phyper <- seq(0, x, by = 1)     \n",
    "    \n",
    "# Apply phyper function \n",
    "y_phyper <- phyper(x_phyper, m , n , k) \n",
    "par(bg = \"#F2F6D0\")\n",
    "# Plot phyper values \n",
    "plot(y_phyper,\n",
    "     type='h',\n",
    "     main='Probability Mass Function of Hypergeometric Distribution',\n",
    "     ylab='Probability',\n",
    "     xlab ='Successes',\n",
    "     lwd=5)\n",
    "#lwd=line width"
   ]
  },
  {
   "cell_type": "code",
   "execution_count": 19,
   "id": "c4e246dd-8ca9-41e8-b3c2-dc19bbef1f92",
   "metadata": {},
   "outputs": [
    {
     "data": {
      "text/html": [
       "0.674329501915709"
      ],
      "text/latex": [
       "0.674329501915709"
      ],
      "text/markdown": [
       "0.674329501915709"
      ],
      "text/plain": [
       "[1] 0.6743295"
      ]
     },
     "metadata": {},
     "output_type": "display_data"
    }
   ],
   "source": [
    "phyper(x, m, n, k)"
   ]
  },
  {
   "cell_type": "markdown",
   "id": "b26d6923-8dc7-428e-9004-74396800438b",
   "metadata": {},
   "source": [
    "**Answer:**\n",
    "\n",
    "3. $\\mu = E(X) $ and $\\sigma^2 = \\text{Var}(X)$\n",
    "\n",
    "\n",
    "###  Expectation (Mean)\n",
    "$$\n",
    "E(X) = \\frac{nK}{N} = \\frac{15*15}{30}\n",
    "$$\n",
    "\n",
    "\n",
    "### Variance:\n",
    "$$\n",
    "\\text{Var}(X) = \\frac{nK(N-K)(N-n)}{N^2(N-1)} = \\frac{15*6*(30-15)(15-6)}{15^2(15-1)}\n",
    "$$"
   ]
  },
  {
   "cell_type": "code",
   "execution_count": 58,
   "id": "fbcd90ec-48d5-4f14-ac95-46cab21d6b67",
   "metadata": {},
   "outputs": [
    {
     "name": "stdout",
     "output_type": "stream",
     "text": [
      "[1] \"E(X) = 7.5\"\n",
      "[1] \"Var(X) = 1.93965517241379\"\n"
     ]
    }
   ],
   "source": [
    "K<-15\n",
    "E_X <- n * (K / N)\n",
    "print(paste(\"E(X) =\", E_X))\n",
    "\n",
    "Var_X <- n * (K / N) * ((N - K) / N) * ((N - n) / (N - 1))\n",
    "print(paste(\"Var(X) =\", Var_X))"
   ]
  },
  {
   "cell_type": "markdown",
   "id": "4b0b5742-207a-4636-8ccf-77e8117f27d7",
   "metadata": {},
   "source": [
    "# **A.3 Poisson Distribution Function**\n",
    "\n",
    "The Poisson distribution is used to model the number of events occurring within a given time interval. \n",
    "A Poisson probability distribution may be used when a random experiment meets all of the following requirements.\n",
    "* Events occur independently.\n",
    "* The discrete random variable $X$ is the number of occurrences over an interval of time, volume, space, area, etc.\n",
    "* The mean number of successes $\\lambda$ over time, volume, space, area, etc. is given.\n",
    "\n",
    "### Probability Mass Function (PMF)\n",
    "The Poisson distribution with parameter $\\lambda > 0$ has the PMF:\n",
    "\n",
    "$$\n",
    "P(X = k) = \\frac{\\lambda^k e^{-\\lambda}}{k!}, \\quad k = 0,1,2,\\dots\n",
    "$$\n",
    "\n",
    "**Note: $\\lambda$ is not a probability—it is a rate parameter that represents the expected number of events occurring in a fixed time interval.**\n",
    "\n",
    "### Cumulative Distribution Function (CDF)\n",
    "The CDF of a Poisson-distributed random variable is given by:\n",
    "\n",
    "$$\n",
    "F(k) = P(X \\leq k) = \\sum_{i=0}^{k} \\frac{\\lambda^i e^{-\\lambda}}{i!}\n",
    "$$\n",
    "\n",
    "### Expectation (Mean)\n",
    "The expected value of a Poisson-distributed random variable is:\n",
    "\n",
    "$$\n",
    "E[X] = \\lambda\n",
    "$$\n",
    "\n",
    "### Variance\n",
    "The variance of a Poisson-distributed random variable is:\n",
    "\n",
    "$$\n",
    "\\text{Var}(X) = \\lambda\n",
    "$$"
   ]
  },
  {
   "cell_type": "markdown",
   "id": "da31fec5-910c-4dd8-ba70-2b67beadc89c",
   "metadata": {},
   "source": [
    "**Example :** \n",
    "\n",
    "**Loan Defaults at a Bank**\n",
    "\n",
    "* A bank issues a large number of small business loans, and based on historical data, the average number of loan defaults per month is 3. Assume loan defaults occur independently of one another.\n",
    "* The number of defaults follows a Poisson distribution.\n",
    "\n",
    "Using this information, answer the following:\n",
    "1. What is the probability that exactly 5 loans default in a given month?\n",
    "2. What is the probability that at most 2 loans default in a given month?\n",
    "3. What is the expected number of loan defaults in a year?\n",
    "4. What is the variance of the number of loan defaults in a year?"
   ]
  },
  {
   "cell_type": "markdown",
   "id": "d97ce8a4-d30b-40a9-bbbd-b23220ced8c9",
   "metadata": {},
   "source": [
    "**Answer:**\n",
    "1.  Probability that exactly $5$ loans default in a given month.\n",
    "$$\n",
    "P(X = 5) = \\frac{3^5 e^{-3}}{5!}\n",
    "$$"
   ]
  },
  {
   "cell_type": "code",
   "execution_count": 8,
   "id": "124f6f82-056f-417f-b043-1143cf6b2cb0",
   "metadata": {},
   "outputs": [
    {
     "name": "stdout",
     "output_type": "stream",
     "text": [
      "[1] 0.1008188\n"
     ]
    }
   ],
   "source": [
    "# Set lambda (average rate of occurrence)\n",
    "lambda <- 3\n",
    "\n",
    "# (1) Probability that exactly 5 loans default in a given month\n",
    "k1 <- 5\n",
    "prob_k1 <- dpois(k1, lambda)\n",
    "print(prob_k1)"
   ]
  },
  {
   "cell_type": "code",
   "execution_count": 52,
   "id": "3e7763e8-c22f-4841-8d63-14442e94b323",
   "metadata": {},
   "outputs": [
    {
     "data": {
      "image/png": "[encoded data removed]",
      "text/plain": [
       "Plot with title \"Probability Mass Function of Poisson Distribution\""
      ]
     },
     "metadata": {
      "image/png": {
       "height": 480,
       "width": 1200
      }
     },
     "output_type": "display_data"
    }
   ],
   "source": [
    "#define range of \"successes\"\n",
    "success <- 0:20\n",
    "par(bg = \"#F2F6D0\")\n",
    "plot(success,dpois(success,lambda=3),\n",
    "     type='h',\n",
    "     main='Probability Mass Function of Poisson Distribution',\n",
    "     ylab='Probability',\n",
    "     xlab ='Successes',\n",
    "     lwd=5)\n",
    "#lwd=line width"
   ]
  },
  {
   "cell_type": "markdown",
   "id": "0c58e19f-42e5-4bed-90a3-c394c790ae5a",
   "metadata": {},
   "source": [
    "**Answer:**\n",
    "\n",
    "2.  What is the probability that at most 2 loans default in a given month\n",
    "\n",
    "\n",
    "$$\n",
    "F(k) = P(X \\leq k) = \\sum_{i=0}^{k} \\frac{\\lambda^i e^{-\\lambda}}{i!}\n",
    "$$"
   ]
  },
  {
   "cell_type": "code",
   "execution_count": 67,
   "id": "f34a83e9-433c-4544-a33e-d02dadcbc58a",
   "metadata": {},
   "outputs": [
    {
     "name": "stdout",
     "output_type": "stream",
     "text": [
      "[1] 0.4231901\n"
     ]
    }
   ],
   "source": [
    "#probability that at most 2 loans default in a given month?k2 <- 5\n",
    "k2<-2\n",
    "prob_k2 <- ppois(k2, lambda)\n",
    "print(prob_k2)"
   ]
  },
  {
   "cell_type": "markdown",
   "id": "c21d8ecf-e669-4d2f-a27e-fd5198ca5967",
   "metadata": {},
   "source": [
    "**Answer:**\n",
    "\n",
    "3. What is the expected number of loan defaults in a year?\n",
    "$$\n",
    "E[X] = 3\n",
    "$$\n",
    "\n",
    "5. What is the variance of the number of loan defaults in a year?\n",
    "$$\n",
    "\\text{Var}(X) = 3\n",
    "$$"
   ]
  },
  {
   "cell_type": "code",
   "execution_count": 71,
   "id": "8f887891-150d-432e-9b41-0915f033da0c",
   "metadata": {},
   "outputs": [
    {
     "name": "stdout",
     "output_type": "stream",
     "text": [
      "[1] 3\n",
      "[1] 3\n"
     ]
    }
   ],
   "source": [
    "# (3) What is the expected number of loan defaults in a year?\n",
    "expected_default <- lambda\n",
    "print(expected_default)\n",
    "\n",
    "# What is the variance of the number of loan defaults in a year?\n",
    "variance <- lambda\n",
    "print(variance)"
   ]
  },
  {
   "cell_type": "markdown",
   "id": "0273e599-23c8-4ea4-8652-cbfa47ea17e8",
   "metadata": {},
   "source": [
    "# **B. Continous Distribution**\n",
    "<hr>"
   ]
  },
  {
   "cell_type": "markdown",
   "id": "b56a2f2b-93e6-4b53-9663-451b0b5a62ff",
   "metadata": {},
   "source": [
    "# **B.1. Uniform Distribution**\n",
    "\n",
    "\n",
    "### Probability Density Function (PDF)\n",
    "The probability density function (PDF) of a uniform distribution on the interval $[a, b]$ is given by:\n",
    "\n",
    "$$\n",
    "f(x) =\n",
    "\\begin{cases}\n",
    "\\frac{1}{b - a}, & a \\leq x \\leq b \\\\\n",
    "0, & \\text{otherwise}\n",
    "\\end{cases}\n",
    "$$\n",
    "\n",
    "### Cumulative Distribution Function (CDF)\n",
    "The cumulative distribution function (CDF) of a uniform distribution is:\n",
    "\n",
    "$$\n",
    "F(x) =\n",
    "\\begin{cases}\n",
    "0, & x < a \\\\\n",
    "\\frac{x - a}{b - a}, & a \\leq x \\leq b \\\\\n",
    "1, & x > b\n",
    "\\end{cases}\n",
    "$$\n",
    "\n",
    "### Expectation (Mean)\n",
    "The expected value of a uniformly distributed random variable is:\n",
    "\n",
    "$$\n",
    "E[X] = \\frac{a + b}{2}\n",
    "$$\n",
    "\n",
    "### Variance\n",
    "The variance of a uniform distribution is:\n",
    "\n",
    "$$\n",
    "\\text{Var}(X) = \\frac{(b - a)^2}{12}\n",
    "$$\n"
   ]
  },
  {
   "cell_type": "markdown",
   "id": "4d1ebd3b-52cd-4916-87e6-7f0a2988846b",
   "metadata": {},
   "source": [
    "**Example :**\n",
    "\n",
    "**Price Dispersion of Pertamax in Indonesia**\n",
    "* In Indonesia, Pertamax (RON 92) fuel prices vary by region due to distribution costs, subsidies, and market conditions.\n",
    "* Suppose the price of Pertamax in different cities follows a uniform distribution between IDR 12,500 and IDR 14,000 per liter.\n",
    "* We assume prices are randomly distributed, meaning any price in this range is equally likely. \n",
    "* Thus, we model the price PP of Pertamax as: \n",
    "$P∼U(12,500,14,000)$\n",
    "* The minimum price is IDR 12,500. The maximum price is IDR 14,000. Every price between IDR 12,500 and IDR 14,000 is equally probable.\n",
    "\n",
    "**Question :**\n",
    "* What is the probability that Pertamax costs less than IDR 13,000?\n",
    "* Expected Price (Exp) and Variance (Var) of Pertamax?"
   ]
  },
  {
   "cell_type": "markdown",
   "id": "eaf7055d-a248-461e-aee2-03b23d099ef1",
   "metadata": {},
   "source": [
    "**Answer :**\n",
    "\n",
    "**Question 1: The probability that Pertamax costs less than IDR 13,000?**\n",
    "$$P(P \\leq 13,000) = \\frac{13,000 - 12,500}{14,000 - 12,500}$$\n",
    "\n",
    "**Question 2: Expected Price (Exp) and Variance (Var) of Pertamax?**\n",
    "$$E[P] = \\frac{a + b}{2}=\\frac{12.500+14.000}{2}$$\n",
    "\n",
    "$$Var(P) = \\frac{(b - a)^2}{12}=\\frac{(14.000 - 12.500)^2}{12}$$"
   ]
  },
  {
   "cell_type": "code",
   "execution_count": 97,
   "id": "3fb025f7-cae0-4558-855c-4b31016068a4",
   "metadata": {},
   "outputs": [
    {
     "name": "stdout",
     "output_type": "stream",
     "text": [
      "[1] \"P(P <= 13,000) = 0.333333333333333\"\n",
      "[1] \"Expected Pertamax Price (Mean) = 13250\"\n",
      "[1] \"Variance of Pertamax Prices = 187500\"\n"
     ]
    }
   ],
   "source": [
    "# Define parameters\n",
    "a <- 12500  # Minimum price of Pertamax (IDR)\n",
    "b <- 14000  # Maximum price of Pertamax (IDR)\n",
    "\n",
    "# Calculate CDF for P <= 13,000\n",
    "x <- 13000\n",
    "cdf <- (x - a) / (b - a)\n",
    "\n",
    "# Expected value (mean)\n",
    "exp_value <- (a + b) / 2\n",
    "\n",
    "# Variance\n",
    "variance <- ( (b - a)^2 ) / 12\n",
    "\n",
    "# Print results\n",
    "print(paste(\"P(P <= 13,000) =\", cdf))\n",
    "print(paste(\"Expected Pertamax Price (Mean) =\", exp_value))\n",
    "print(paste(\"Variance of Pertamax Prices =\", variance))"
   ]
  },
  {
   "cell_type": "code",
   "execution_count": 56,
   "id": "385e3d77-ad52-4f49-95f1-4efd31718d2c",
   "metadata": {},
   "outputs": [
    {
     "data": {
      "image/png": "[encoded data removed]",
      "text/plain": [
       "Plot with title \"Uniform Distribution of Pertamax Prices\""
      ]
     },
     "metadata": {
      "image/png": {
       "height": 480,
       "width": 1200
      }
     },
     "output_type": "display_data"
    }
   ],
   "source": [
    "# Define the parameters of the uniform distribution\n",
    "min_price <- 12500\n",
    "max_price <- 14000\n",
    "\n",
    "# Define x values (range of prices)\n",
    "x <- seq(min_price - 500, max_price + 500, length.out = 100)\n",
    "\n",
    "# Define the density function for uniform distribution\n",
    "y <- dunif(x, min=min_price, max=max_price)\n",
    "\n",
    "# Plot the uniform distribution\n",
    "plot(x, y, type=\"l\", lwd=2, col=\"blue\",\n",
    "     main=\"Uniform Distribution of Pertamax Prices\",\n",
    "     xlab=\"Price (IDR)\", ylab=\"Density\",\n",
    "     xlim=c(min_price-500, max_price+500), ylim=c(0, max(y) + 0.0001))\n",
    "\n",
    "# Shade the area for P(P ≤ 13,000)\n",
    "x_shade <- seq(min_price, 13000, length.out=50)\n",
    "y_shade <- dunif(x_shade, min=min_price, max=max_price)\n",
    "polygon(c(min_price, x_shade, 13000), c(0, y_shade, 0), col=rgb(0.2, 0.4, 0.8, 0.5), border=NA)\n",
    "\n",
    "# Add vertical lines\n",
    "abline(v = c(min_price, max_price, 13000), lty=2, col=\"red\")\n",
    "\n",
    "# Add probability calculation as text\n",
    "prob <- (13000 - min_price) / (max_price - min_price)\n",
    "text(13000, 0.0001, paste(\"P(P ≤ 13,000) =\", round(prob, 2)), pos=4, col=\"red\", font=2)\n"
   ]
  },
  {
   "cell_type": "markdown",
   "id": "0c51839b-19d5-4264-863b-c16f86af4c2d",
   "metadata": {},
   "source": [
    "# **B.2. Normal Distribution**\n",
    "A normal distribution is completely defined by specifying its mean (the value of $\\mu$) and its variance (the value of $\\sigma^2$.) The normal distribution with mean $\\mu$ and variance $\\sigma^2$ is written $N(\\mu, \\sigma^2)$. \n",
    "Example:\n",
    "* The daily electricity usage of homes in a given region follows a normal distribution, with most households consuming close to the average and fewer using very high or very low amount.\n",
    "* In a country, monthly spending per household on essentials like food, transportation, and utilities tends to be normally distributed.\n",
    "* Standardized test scores (e.g., SAT, GRE, IQ tests) are designed to follow a normal distribution, with most students near the average and fewer at extreme high/low scores.\n",
    "* In a population with stable nutrition, body weight (BMI) often follows a normal distribution, with most individuals near the average and fewer at very low or very high weights."
   ]
  },
  {
   "cell_type": "code",
   "execution_count": 6,
   "id": "13d200c1-efae-4548-aa23-673704c4c75e",
   "metadata": {},
   "outputs": [
    {
     "data": {
      "image/png": "[encoded data removed]",
      "text/plain": [
       "plot without title"
      ]
     },
     "metadata": {
      "image/png": {
       "height": 480,
       "width": 1200
      }
     },
     "output_type": "display_data"
    }
   ],
   "source": [
    "##########################################################################################\n",
    "## PLOTTING NORMAL DISTRIBUTION IN R\n",
    "##########################################################################################\n",
    "\n",
    "# Load ggplot2\n",
    "library(ggplot2)\n",
    "\n",
    "# Define mean and standard deviation\n",
    "mu <- 0\n",
    "sigma <- 1\n",
    "\n",
    "# Create data for the normal distribution\n",
    "x <- seq(mu - 4*sigma, mu + 4*sigma, length.out = 1000)\n",
    "y <- dnorm(x, mean = mu, sd = sigma)\n",
    "df <- data.frame(x, y)\n",
    "\n",
    "# Define the shading regions\n",
    "df_shade_1sd <- subset(df, x >= mu - sigma & x <= mu + sigma)\n",
    "df_shade_2sd <- subset(df, x >= mu - 2*sigma & x <= mu + 2*sigma)\n",
    "\n",
    "options(repr.plot.width=20, repr.plot.height=8) # this is just to make the plots wider (extend to the end of laptop display) \n",
    "# Plot with ggplot2\n",
    "ggplot(df, aes(x, y)) +\n",
    "  geom_line(color = \"black\", size = 1) +\n",
    "  geom_area(data = df_shade_2sd, aes(x, y), fill = \"blue\", alpha = 0.2) +  # 2 SD\n",
    "  geom_area(data = df_shade_1sd, aes(x, y), fill = \"red\", alpha = 0.4) +  # 1 SD\n",
    "  geom_vline(xintercept = mu, linetype = \"dashed\") +\n",
    "  labs(title = \"Normal Distribution with 1 and 2 Standard Deviations\",\n",
    "       x = \"X\", y = \"Density\") +\n",
    "  theme_bw()\n"
   ]
  },
  {
   "cell_type": "markdown",
   "id": "23a9c12a-2697-4d9b-a898-95264c54a988",
   "metadata": {},
   "source": [
    "### Probability Density Function (PDF)\n",
    "The probability density function (PDF) of a normal distribution with mean $\\mu$ and variance $\\sigma^2$ is given by:\n",
    "\n",
    "$$\n",
    "f(x) = \\frac{1}{\\sqrt{2\\pi\\sigma^2}} e^{-\\frac{(x - \\mu)^2}{2\\sigma^2}}, \\quad -\\infty < x < \\infty\n",
    "$$\n",
    "\n",
    "### Cumulative Distribution Function (CDF)\n",
    "The cumulative distribution function (CDF) of a normal distribution is:\n",
    "\n",
    "$$\n",
    "F(x) = P(X \\leq x) = \\frac{1}{\\sqrt{2\\pi\\sigma^2}} \\int_{-\\infty}^{x} e^{-\\frac{(t - \\mu)^2}{2\\sigma^2}} dt\n",
    "$$\n",
    "\n",
    "### Expectation (Mean)\n",
    "The expected value of a normally distributed random variable is:\n",
    "$$\n",
    "E[X] = \\mu\n",
    "$$\n",
    "\n",
    "### Variance\n",
    "The variance of a normal distribution is:\n",
    "\n",
    "$$\n",
    "\\text{Var}(X) = \\sigma^2\n",
    "$$"
   ]
  },
  {
   "cell_type": "markdown",
   "id": "9c2ae406-5ae4-4314-82e9-f57171644ebc",
   "metadata": {},
   "source": [
    "**Example:**\n",
    "\n",
    "Suppose that the daily electricity usage (in kWh) of households in a city follows a normal distribution:\n",
    "* $\\mu = 30$ kWh (mean daily consumption)\n",
    "* $\\sigma = 5$ kWh (standard deviation)\n",
    "\n",
    "1. What is the probability that a randomly selected household consumes more than 35 kWh in a day?  \n",
    "\n",
    "2. What is the probability that a household consumes between 25 kWh and 35 kWh in a day?  \n",
    "    \n",
    "3. Find the daily electricity usage that marks the top 10\\% of households.  \n",
    "    \n",
    "4. What is the expected daily electricity consumption of a household?  \n",
    "    \n",
    "5. What percentage of households consume more than two standard deviations above the mean?  \n",
    "    \n",
    "6. If the city has 1,000,000 households, how many of them consume more than 40 kWh in a day?  \n",
    "    "
   ]
  },
  {
   "cell_type": "markdown",
   "id": "3eac5f6f-d010-42b6-8845-fb36019fe31e",
   "metadata": {},
   "source": [
    "**Answer:**\n",
    "\n",
    "We will answer all the question directly using R.\n",
    "\n",
    "**Questions 1 :** \n",
    "\n",
    "The probability that a randomly selected household consumes more than 35 kWh in a day?  \n",
    "$P(X \\geq 35)$"
   ]
  },
  {
   "cell_type": "code",
   "execution_count": 81,
   "id": "a7cedb14-a2d4-4f95-bea4-ee18d4e3904d",
   "metadata": {},
   "outputs": [
    {
     "name": "stdout",
     "output_type": "stream",
     "text": [
      "[1] 0.1586553\n"
     ]
    }
   ],
   "source": [
    "mu <- 30  # Mean\n",
    "sigma <- 5  # Standard deviation\n",
    "a1<-35\n",
    "\n",
    "#Question 1\n",
    "prob1<-1-pnorm(a1, mean = 30, sd = 5, lower.tail = TRUE, log.p = FALSE)\n",
    "print(prob1)"
   ]
  },
  {
   "cell_type": "markdown",
   "id": "066f7e9f-49ea-41e7-9ca0-a0e750d8b53f",
   "metadata": {},
   "source": [
    "**Questions 2:** \n",
    "\n",
    "What is the probability that a household consumes between 25 kWh and 35 kWh in a day?  \n",
    "$P(25 \\leq X \\leq 35)$    "
   ]
  },
  {
   "cell_type": "code",
   "execution_count": 32,
   "id": "6779c64f-8962-4c5d-b369-7fcb07538804",
   "metadata": {},
   "outputs": [
    {
     "name": "stdout",
     "output_type": "stream",
     "text": [
      "[1] 0.6826895\n"
     ]
    },
    {
     "data": {
      "image/png": "[encoded data removed]",
      "text/plain": [
       "Plot with title \"Shaded Normal Distribution\""
      ]
     },
     "metadata": {
      "image/png": {
       "height": 480,
       "width": 1200
      }
     },
     "output_type": "display_data"
    }
   ],
   "source": [
    "# Define parameters\n",
    "mu <- 30    # Mean (example value)\n",
    "sigma <- 5  # Standard deviation (example value)\n",
    "a2 <- mu-sigma\n",
    "a3 <- mu+sigma\n",
    "\n",
    "# Create a sequence for x-axis\n",
    "x <- seq(mu - 4*sigma, mu + 4*sigma, length=100)\n",
    "\n",
    "# Compute normal density\n",
    "y <- dnorm(x, mean=mu, sd=sigma)\n",
    "\n",
    "# Plot the normal distribution curve\n",
    "plot(x, y, type=\"l\", lwd=2, col=\"blue\", \n",
    "     main=\"Shaded Normal Distribution\", \n",
    "     xlab=\"X\", ylab=\"Density\")\n",
    "\n",
    "# Shade the region between a2 and a3\n",
    "x_shade <- seq(a2, a3, length=50)\n",
    "y_shade <- dnorm(x_shade, mean=mu, sd=sigma)\n",
    "polygon(c(a2, x_shade, a3), c(0, y_shade, 0), col=rgb(0.2, 0.4, 0.8, 0.5), border=NA)\n",
    "\n",
    "# Calculate probability\n",
    "prob2 <- pnorm(a3, mean = mu, sd = sigma) - pnorm(a2, mean = mu, sd = sigma)\n",
    "print(prob2)\n"
   ]
  },
  {
   "cell_type": "markdown",
   "id": "100c0abc-8e06-42b3-b57f-a5e990660865",
   "metadata": {},
   "source": [
    "**Question 3:** \n",
    "\n",
    "Find the daily electricity usage that marks the top 10% of households. \n",
    "\n",
    "We need to find the daily electricity usage $x$ such that **only the top 10\\% of households** consume more than $x$ kWh.\n",
    "\n",
    "This means solving for $x$ in:\n",
    "\n",
    "$$ P(X \\geq x) = 0.10 $$\n",
    "\n",
    "Using the cumulative distribution function (CDF):\n",
    "\n",
    "$$ P(X \\leq x) = 1 - 0.10 = 0.90 $$\n",
    "\n",
    "Since we know $X \\sim N(30, 5^2)$, we find $x$ such that:\n",
    "\n",
    "$$ \\Phi\\left(\\frac{x - 30}{5}\\right) = 0.90 $$\n",
    "\n",
    "Using the quantile function (inverse CDF) in R, we calculate:"
   ]
  },
  {
   "cell_type": "code",
   "execution_count": 94,
   "id": "9cd31798-a07a-4955-b7d2-cb2ff2c56c59",
   "metadata": {},
   "outputs": [
    {
     "name": "stdout",
     "output_type": "stream",
     "text": [
      "[1] 36.40776\n"
     ]
    }
   ],
   "source": [
    "mu <- 30\n",
    "sigma <- 5\n",
    "p <- 0.90\n",
    "x_top10 <- qnorm(p, mean = mu, sd = sigma)\n",
    "print(x_top10)"
   ]
  },
  {
   "cell_type": "markdown",
   "id": "c2afabf7-7ddf-4be6-a1c3-3a1317f07d29",
   "metadata": {},
   "source": [
    "Therefore if we want to take the daily electricity usage that marks the top 10% of households, we need to take $x \\geq 36.407$"
   ]
  },
  {
   "cell_type": "markdown",
   "id": "76f95380-ed68-4512-9a01-0356eff4f206",
   "metadata": {},
   "source": [
    "**Question 4:** \n",
    "\n",
    "What is the expected daily electricity consumption of a household?\n",
    "\n",
    "$$\n",
    "E[X] = \\mu = 30\n",
    "$$"
   ]
  },
  {
   "cell_type": "markdown",
   "id": "77fa1387-4d11-48e6-ba2b-7df89d407136",
   "metadata": {},
   "source": [
    "**Question 5:**\n",
    "\n",
    "What percentage of households consume more than two standard deviations above the mean?\n",
    "$$\n",
    "\\begin{align*}\n",
    "P(X>\\mu+2\\sigma)\\\\ \n",
    "&= P(x \\geq 30+2.5)\\\\ \n",
    "&= P(x \\geq 40)\\\\\n",
    "&= 1- P(x\\leq 40)\n",
    "\\end{align*}\n",
    "$$"
   ]
  },
  {
   "cell_type": "code",
   "execution_count": 91,
   "id": "58a03381-8ca0-4f2d-85d1-ca834843ebe6",
   "metadata": {},
   "outputs": [
    {
     "name": "stdout",
     "output_type": "stream",
     "text": [
      "[1] 0.02275013\n"
     ]
    }
   ],
   "source": [
    "#Question 5\n",
    "a5<-40\n",
    "prob5<-1-pnorm(a6, mean = mu, sd = sigma)\n",
    "print(prob5)"
   ]
  },
  {
   "cell_type": "markdown",
   "id": "5475cd61-4566-41a2-a04d-3eb05f07a908",
   "metadata": {},
   "source": [
    "**Question 6:**\n",
    "\n",
    "If the city has 1,000,000 households, how many of them consume more than 40 kWh in a day?\n",
    "\n",
    "$$\n",
    "\\begin{align*}\n",
    "Quant(\\geq 40) \\\\\n",
    "&= n*P(\\geq 40) \\\\\n",
    "&= n*(1-P(\\leq 40))\n",
    "\\end{align*}\n",
    "$$"
   ]
  },
  {
   "cell_type": "code",
   "execution_count": 92,
   "id": "5551cc9a-a41d-425b-8013-48ae3316ba8a",
   "metadata": {},
   "outputs": [
    {
     "name": "stdout",
     "output_type": "stream",
     "text": [
      "[1] 22750\n"
     ]
    }
   ],
   "source": [
    "#Question 6\n",
    "n<-1000000\n",
    "quant<-n*prob5\n",
    "print(floor(quant))"
   ]
  },
  {
   "cell_type": "markdown",
   "id": "34ec66c4-405b-46a4-a7a9-85edad791af1",
   "metadata": {},
   "source": [
    "# **B.3. Gamma Distribution**\n",
    "A random variable $X$ that is gamma-distributed with shape $\\alpha$ and scale $\\theta$ is denoted by\n",
    "$$\n",
    "X \\sim \\Gamma(\\alpha, \\theta).\n",
    "$$\n",
    "The probability density function using the shape-scale parametrization is\n",
    "$$\n",
    "f(x; \\alpha, \\theta) = \\frac{x^{\\alpha-1} e^{-x/\\theta}}{\\theta^\\alpha \\Gamma(\\alpha)}\n",
    "$$\n",
    "for $x > 0$ and $\\alpha, \\theta > 0$.\n",
    "\n",
    "Here $\\Gamma(\\alpha)$ is the gamma function evaluated at $\\alpha$.\n",
    "\n",
    "The cumulative distribution function is the regularized gamma function:\n",
    "$$\n",
    "F(x; \\alpha, \\theta) = \\int_0^x f(u; \\alpha, \\theta) \\, du = \\frac{\\gamma(\\alpha, \\frac{x}{\\theta})}{\\Gamma(\\alpha)},\n",
    "$$\n",
    "where $\\gamma(\\alpha, x)$ is the lower incomplete gamma function."
   ]
  },
  {
   "cell_type": "markdown",
   "id": "2d35db3d-a451-4f01-a371-a9d51938eae8",
   "metadata": {},
   "source": [
    "### Probability Density Function (PDF)\n",
    "The probability density function (PDF) of a Gamma distribution with shape parameter $\\alpha > 0$ and scale parameter $\\beta > 0$ is given by:\n",
    "\n",
    "$$\n",
    "f(x) =\n",
    "\\begin{cases}\n",
    "\\frac{x^{\\alpha - 1} e^{-x / \\beta}}{\\beta^\\alpha \\Gamma(\\alpha)}, & x > 0 \\\\\n",
    "0, & x \\leq 0\n",
    "\\end{cases}\n",
    "$$\n",
    "\n",
    "where $\\Gamma(\\alpha)$ is the Gamma function:\n",
    "\n",
    "$$\n",
    "\\Gamma(\\alpha) = \\int_{0}^{\\infty} t^{\\alpha - 1} e^{-t} dt\n",
    "$$\n",
    "\n",
    "### Cumulative Distribution Function (CDF)\n",
    "The cumulative distribution function (CDF) of a Gamma distribution is given by:\n",
    "\n",
    "$$\n",
    "F(x) = P(X \\leq x) = \\frac{1}{\\Gamma(\\alpha)} \\int_0^x t^{\\alpha - 1} e^{-t / \\beta} dt\n",
    "$$\n",
    "\n",
    "### Expectation (Mean)\n",
    "The expected value of a Gamma-distributed random variable is:\n",
    "\n",
    "$$\n",
    "E[X] = \\alpha \\beta\n",
    "$$\n",
    "\n",
    "### Variance\n",
    "The variance of a Gamma distribution is:\n",
    "\n",
    "$$\n",
    "\\text{Var}(X) = \\alpha \\beta^2\n",
    "$$\n"
   ]
  },
  {
   "cell_type": "markdown",
   "id": "e0cc9842-1d48-4b7e-8f07-bbfce1b93aca",
   "metadata": {},
   "source": [
    "**Example :**\n",
    "* An insurance company in Indonesia expects to receive 5 claims per month. \n",
    "* Since claims arrive randomly, the time until the 5th claim follows a Gamma distribution. \n",
    "* The company wants to estimate the probability of receiving the 5th claim within 12 days and the expected waiting time for it. \n",
    "* Using the Gamma distribution, we can answer these questions mathematically.\n",
    "\n",
    "**Question 1:** \n",
    "\n",
    "What is the probability that the 5th claim will arrive within the first 12 days (0.4 months)?\n",
    "\n",
    "**Answer:**\n",
    "$P(X\\leq 0.4)$\n",
    "**Question 2:**\n",
    "\n",
    "On average, how many days will it take for the 5th claim to arrive?\n",
    "\n",
    "**Answer:** \n",
    "$$E[T] = \\alpha \\beta$$\n",
    "$$E[T] = 5 \\times \\frac{1}{5}=1$$"
   ]
  },
  {
   "cell_type": "code",
   "execution_count": 99,
   "id": "f7db892d-6552-4ba7-aa69-ff70d5233684",
   "metadata": {},
   "outputs": [
    {
     "name": "stdout",
     "output_type": "stream",
     "text": [
      " [1] 42.27508 24.59093 28.47720 13.83804 66.76657 23.97685 39.59753 39.51478\n",
      " [9] 14.61394 12.97677\n"
     ]
    }
   ],
   "source": [
    "k <- 5       # Waiting for the 5th claim\n",
    "theta <- 1/5 # Scale parameter (1/claims per month)\n",
    "time_until_5th_claim <- rgamma(10, shape = k, scale = theta)\n",
    "print(time_until_5th_claim * 30)  # Convert months to days"
   ]
  },
  {
   "cell_type": "code",
   "execution_count": 100,
   "id": "2c29b7a6-14d7-4bcf-8bb9-3ab968266526",
   "metadata": {},
   "outputs": [],
   "source": [
    "#################################################################### END #########################################################################################################"
   ]
  }
 ],
 "metadata": {
  "kernelspec": {
   "display_name": "R",
   "language": "R",
   "name": "ir"
  },
  "language_info": {
   "codemirror_mode": "r",
   "file_extension": ".r",
   "mimetype": "text/x-r-source",
   "name": "R",
   "pygments_lexer": "r",
   "version": "4.4.1"
  }
 },
 "nbformat": 4,
 "nbformat_minor": 5
}
