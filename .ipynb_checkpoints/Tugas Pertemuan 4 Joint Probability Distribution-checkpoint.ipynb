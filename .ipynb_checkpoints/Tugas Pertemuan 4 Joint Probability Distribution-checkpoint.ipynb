{
 "cells": [
  {
   "cell_type": "markdown",
   "id": "70426a9a-169b-43fd-b79f-2ac1c3ce1bcd",
   "metadata": {},
   "source": [
    "# **Pertemuan 4: Join Probability Distribution**\n",
    "<hr>\n",
    "\n",
    "### By: Andreas Syaloom Kurniawan (552751)"
   ]
  },
  {
   "cell_type": "code",
   "execution_count": 1,
   "id": "2babe9ee-f3bf-4001-9c28-c124bcf807fc",
   "metadata": {},
   "outputs": [],
   "source": [
    "# The note is written in english do to my class lecture notes was written in english, \n",
    "# therefore to make my english more fluent I also write this notebook in english.\n",
    "# The code are based on R programming language"
   ]
  },
  {
   "cell_type": "markdown",
   "id": "41ee7115-01b9-4d0d-bec1-a8ad2c588787",
   "metadata": {},
   "source": [
    "# Table of Contents\n",
    "- [A. Bivariate Distribution](#a)\n",
    "    - [A. 1 Join Probability Distribution](#a.1)\n",
    "    - [A. 2 Marginal Distribution Function](#a.2)\n",
    "    - [A. 3 Conditional Probability Distribution](#a.3)\n",
    "- [B. Covariance and Correlation](#b)\n",
    "    - [B. 1 Covariance and Correlation](#b.1)\n",
    "    - [B. 2 Sums of Random Variable](#b.2)\n",
    "\n",
    "*Unfortunately, under github the link for the table of contents doesnt work, hence you need to scroll to the part if you want to go to a specific part of the note.*"
   ]
  },
  {
   "cell_type": "markdown",
   "id": "e07307b7-c9f1-4ec1-8d38-df5ca4570133",
   "metadata": {},
   "source": [
    "## **A. Bivariate Distribution**<a class=\"anchor\" id=\"a\"></a>\n",
    "<hr>\n",
    "\n",
    "## **A.1 Join Probability Distribution**<a class=\"anchor\" id=\"a\"></a>\n",
    "\n",
    "**Definition:**\n",
    "\n",
    "1. Let $X$ and $Y$ be random variables. If both $X$ and $Y$ are discrete then $f(x,y) = P(X=x, Y=y)$\n",
    "2. If both $X$ and $Y$ are contionous then $f(x,y)$ is called the joint probability density function (joint pdf) of X and Y if and only if\n",
    "   $$\n",
    "   \\Huge\n",
    "   P(a\\leq X \\leq b, c\\leq Y \\leq d) = \\int_a^b \\int_c^d f(x,y) dy dx \n",
    "   $$\n",
    "\n",
    "**Theorem:**\n",
    "\n",
    "If $X$ and $Y$ are two random variables with joint probability function $f(x, y)$, then  \n",
    "1. $f(x, y) \\geq 0$ for all $x$ and $y$.  \n",
    "2. If $X$ and $Y$ are discrete, then  \n",
    "   $$\n",
    "   \\sum_{x,y} f(x, y) = 1\n",
    "   $$\n",
    "3. If $X$ and $Y$ are continuous, then  \n",
    "   $$\n",
    "   \\iint f(x, y) \\,dx \\,dy = 1.\n",
    "   $$\n",
    "\n",
    "**Example of Join Random Variable:**\n",
    "\n",
    "1. **Both Discrete**\n",
    " \n",
    "Let X and Y be two discrete random variables represent,\n",
    "* $X$ = number of courses taken by Master of Economics Course in UGM.\n",
    "* $Y$ = number of hours spent (in a day) for these courses (the hours will be in integer).\n",
    "  \n",
    "Then we can generate a joint discrete random variable of $X$ and $Y$.\n",
    "\n",
    "2. **Both Contionous**\n",
    "Let X and Y be two discrete random variables represent,\n",
    "* $X$ = daily temperature of Yogyakarta city (in Celcius)\n",
    "* $Y$ = the precipitation of Yogyakarta city (in mm).\n",
    "  \n",
    "Then we can generate a joint continous random variable of $X$ and $Y$."
   ]
  },
  {
   "cell_type": "markdown",
   "id": "7498fd84-a6bd-45a8-9ff7-7328f2fb2948",
   "metadata": {},
   "source": [
    "### Example for Discrete Joint Probability\n",
    "* Suppose we open a restaurant and we sell food (\"Nasi Goreng\", \"Nasi Lemak\", \"Nasi Padang\", \"Soto Lamongan\") and drink (\"Wedang Jahe\", \"Kopi\", \"Teh\").\n",
    "* We would like to know the joint probability distribution of the food and drink.\n",
    "* By simulating $n$ times, here we set $n=1000$, we could know the distribution, as follow:"
   ]
  },
  {
   "cell_type": "code",
   "execution_count": 5,
   "id": "10f8b2f1-4eee-4868-a3e2-f4bb49f41e92",
   "metadata": {},
   "outputs": [
    {
     "name": "stdout",
     "output_type": "stream",
     "text": [
      "            Food       Drink Frequency Joint_Probability\n",
      "1    Nasi Goreng        Kopi        97             0.097\n",
      "2     Nasi Lemak        Kopi        70             0.070\n",
      "3    Nasi Padang        Kopi        97             0.097\n",
      "4  Soto Lamongan        Kopi        84             0.084\n",
      "5    Nasi Goreng         Teh        67             0.067\n",
      "6     Nasi Lemak         Teh        61             0.061\n",
      "7    Nasi Padang         Teh        60             0.060\n",
      "8  Soto Lamongan         Teh        53             0.053\n",
      "9    Nasi Goreng Wedang Jahe       124             0.124\n",
      "10    Nasi Lemak Wedang Jahe       105             0.105\n",
      "11   Nasi Padang Wedang Jahe       104             0.104\n",
      "12 Soto Lamongan Wedang Jahe        78             0.078\n"
     ]
    }
   ],
   "source": [
    "set.seed(2025)  # Set seed for reproducibility\n",
    "\n",
    "# Define possible choices\n",
    "food_choices <- c(\"Nasi Goreng\", \"Nasi Lemak\", \"Nasi Padang\", \"Soto Lamongan\")  # X variable (4 choices)\n",
    "drink_choices <- c(\"Wedang Jahe\", \"Kopi\", \"Teh\")  # Y variable (3 choices)\n",
    "\n",
    "# Generate a sample dataset (assuming independent choices with different probabilities)\n",
    "sample_size <- 1000\n",
    "food_samples <- sample(food_choices, sample_size, replace = TRUE, prob = c(0.3, 0.25, 0.25, 0.2))  # Different probabilities\n",
    "drink_samples <- sample(drink_choices, sample_size, replace = TRUE, prob = c(0.4, 0.35, 0.25))  # Different probabilities\n",
    "\n",
    "# Create a data frame\n",
    "data <- data.frame(Food = food_samples, Drink = drink_samples)\n",
    "\n",
    "# Compute frequency table\n",
    "freq_table <- as.data.frame(table(data$Food, data$Drink))\n",
    "\n",
    "# Compute joint probability\n",
    "freq_table$Probability <- freq_table$Freq / sum(freq_table$Freq)\n",
    "\n",
    "# Rename columns for clarity\n",
    "colnames(freq_table) <- c(\"Food\", \"Drink\", \"Frequency\", \"Joint_Probability\")\n",
    "\n",
    "# Display the result\n",
    "print(freq_table)"
   ]
  },
  {
   "cell_type": "markdown",
   "id": "6c93136d-9911-481d-8b61-38473ad29e56",
   "metadata": {},
   "source": [
    "We can check that the total Joint Probability is 1 or not to validate the theorem that saying if $X$ and $Y$ are discrete, then  \n",
    "$$\n",
    " \\sum_{x,y} f(x, y) = 1\n",
    "$$\n"
   ]
  },
  {
   "cell_type": "code",
   "execution_count": 6,
   "id": "121ea0b9-de22-4057-8b8d-6d7cbc843e18",
   "metadata": {},
   "outputs": [
    {
     "name": "stdout",
     "output_type": "stream",
     "text": [
      "[1] \"Total Joint Probability: 1\"\n"
     ]
    }
   ],
   "source": [
    "print(paste(\"Total Joint Probability:\", sum(freq_table$Joint_Probability)))"
   ]
  },
  {
   "cell_type": "markdown",
   "id": "9c408a52-8782-4667-91b3-4296ebcf02fc",
   "metadata": {},
   "source": [
    "We could also draw the heatmap of the joint probability using R, as follow:"
   ]
  },
  {
   "cell_type": "code",
   "execution_count": 8,
   "id": "bdbbb354-9034-417e-95b2-8d04f9beafaa",
   "metadata": {},
   "outputs": [
    {
     "data": {
      "image/png": "[encoded data removed]",
      "text/plain": [
       "plot without title"
      ]
     },
     "metadata": {
      "image/png": {
       "height": 480,
       "width": 1200
      }
     },
     "output_type": "display_data"
    }
   ],
   "source": [
    "# Create heatmap using ggplot2\n",
    "library(ggplot2)\n",
    "options(repr.plot.width=20, repr.plot.height=8) # this is just to make the plots wider (extend to the end of laptop display) \n",
    "ggplot(freq_table, aes(x = Food, y = Drink, fill = Joint_Probability)) +\n",
    "    geom_tile(color = \"black\") +  # Black border for each tile\n",
    "    scale_fill_gradient(low = \"white\", high = \"blue\") +  # Color gradient from low to high probability\n",
    "    geom_text(aes(label = round(Joint_Probability, 3)), size = 5) +  # Show probability values\n",
    "    labs(title = \"Heatmap of Joint Probability for Food and Drink Choices\",\n",
    "         x = \"Food Choices\", y = \"Drink Choices\", fill = \"Joint Probability\") +\n",
    "    theme_minimal() +\n",
    "    theme(axis.text.x = element_text(angle = 45, hjust = 1))+  # Rotate x-axis labels for readability\n",
    "    theme(legend.position = \"none\",  \n",
    "        plot.title = element_text(size= 22, hjust=0.01, color = \"#4e4d47\", margin = margin(b = -0.1, t = 0.4, l = 2, unit = \"cm\")),\n",
    "        plot.subtitle = element_text(size= 16, hjust=0.01, color = \"#4e4d47\", margin = margin(b = -0.1, t = 0.43, l = 2, unit = \"cm\")),\n",
    "        axis.title.x = element_text(size = 18), # Perbesar teks sumbu X\n",
    "        axis.title.y = element_text(size = 18)) # Perbesar teks sumbu Y)  "
   ]
  },
  {
   "cell_type": "markdown",
   "id": "6da8d66d-4dc3-4793-96c2-f3c5ea123b2f",
   "metadata": {},
   "source": [
    "**Example for Continous Join Distribution: Rainfall and Temperature**\n",
    "\n",
    "We analyze the relationship between **daily rainfall (mm) and temperature (°C)** in a city using a **joint probability density function (PDF)**.\n",
    "\n",
    "Let:\n",
    "\n",
    "- $X$ = Rainfall (in mm) on a given day, with $0 \\leq X \\leq 10$.\n",
    "- $Y$ = Temperature (in °C) on that same day, with $0 \\leq Y \\leq 40$.\n",
    "\n",
    "The PDF  function will represent by a **simple linear function**:\n",
    "$$\n",
    "f(x, y) = 0.00714(1 - 0.05x - 0.02y)\n",
    "$$\n",
    "for $0 \\leq x \\leq 10$, $0 \\leq y \\leq 40$.\n",
    "\n",
    "Compute the probability that **rainfall is less than 5 mm and temperature is between 20°C and 30°C**:\n",
    "   $$\n",
    "   P(0 \\leq X \\leq 5, 20 \\leq Y \\leq 30) = \\int_0^5 \\int_{20}^{30} f(x, y) \\, dy \\, dx.\n",
    "   $$"
   ]
  },
  {
   "cell_type": "code",
   "execution_count": 10,
   "id": "ab7896b4-5489-455a-9ffd-b88bae7a33de",
   "metadata": {},
   "outputs": [
    {
     "name": "stdout",
     "output_type": "stream",
     "text": [
      "P(0 ≤ X ≤ 5, 20 ≤ Y ≤ 30) = 0.133875 \n"
     ]
    }
   ],
   "source": [
    "# Load necessary library\n",
    "library(pracma)  # For numerical integration\n",
    "\n",
    "# Define the joint probability density function (PDF)\n",
    "f_xy <- function(x, y) {\n",
    "  0.00714 * (1 - 0.05*x - 0.02*y)\n",
    "}\n",
    "\n",
    "# Define integration bounds\n",
    "x_lower <- 0\n",
    "x_upper <- 5\n",
    "y_lower <- 20\n",
    "y_upper <- 30\n",
    "\n",
    "# Compute the double integral\n",
    "result <- integral2(f_xy, xmin = x_lower, xmax = x_upper, ymin = y_lower, ymax = y_upper)\n",
    "\n",
    "# Print the result\n",
    "cat(\"P(0 ≤ X ≤ 5, 20 ≤ Y ≤ 30) =\", result$Q, \"\\n\")"
   ]
  },
  {
   "cell_type": "code",
   "execution_count": 12,
   "id": "49288a36-72ff-441e-9e2b-670edbde8a4b",
   "metadata": {},
   "outputs": [
    {
     "data": {
      "image/png": "[encoded data removed]",
      "text/plain": [
       "plot without title"
      ]
     },
     "metadata": {
      "image/png": {
       "height": 480,
       "width": 1200
      }
     },
     "output_type": "display_data"
    }
   ],
   "source": [
    "# Load necessary library\n",
    "library(plot3D)\n",
    "\n",
    "# Define x and y values\n",
    "x_vals <- seq(0, 10, length.out = 30)\n",
    "y_vals <- seq(0, 40, length.out = 30)\n",
    "\n",
    "# Create grid\n",
    "grid <- expand.grid(X = x_vals, Y = y_vals)\n",
    "\n",
    "# Compute f(x, y)\n",
    "grid$Z <- with(grid, 0.00714 * (1 - 0.05*X - 0.02*Y))\n",
    "\n",
    "# Convert to matrix for plotting\n",
    "Z_matrix <- matrix(grid$Z, nrow = length(x_vals), ncol = length(y_vals))\n",
    "\n",
    "# 3D Surface Plot\n",
    "persp3D(x = x_vals, y = y_vals, z = Z_matrix, col = \"lightblue\",\n",
    "        xlab = \"Rainfall (mm)\", ylab = \"Temperature (°C)\", zlab = \"Probability Density\",\n",
    "        theta = 45, phi = 20, expand = 0.6, border = \"black\")"
   ]
  },
  {
   "attachments": {},
   "cell_type": "markdown",
   "id": "72765bb9-2a9a-46e9-9060-ce8d48dac73d",
   "metadata": {},
   "source": [
    "## **A.1 Marginal Distribution Function**<a class=\"anchor\" id=\"a\"></a>\n",
    "\n",
    "## Discrete Distribution\n",
    "Marginal PMF of $x$\n",
    "\\begin{align}\n",
    "f_X(x) &= \\sum_{\\text{all } x} f(x, y), && \\text{if } X \\text{ and } Y \\text{ are discrete}\n",
    "\\end{align}\n",
    "Marginal PMF of $y$\n",
    "\\begin{align}\n",
    "f_Y(y) &= \\sum_{\\text{all } y} f(x, y), && \\text{if } X \\text{ and } Y \\text{ are discrete}\n",
    "\\end{align}\n",
    "### Continous Distribution\n",
    "Marginal PDF of $x$\n",
    "$$\n",
    "\\begin{align*}\n",
    "f_Y(y) =& \\int_{-\\infty}^\\infty f(x, y) \\, dy, & \\text{if } X \\text{ and } Y \\text{ are continuous} \\\\\n",
    "\\end{align*}\n",
    "$$\n",
    "Marginal PDF of $y$\n",
    "$$\n",
    "\\begin{align*}\n",
    "f_Y(y) =& \\int_{-\\infty}^\\infty f(x, y) \\, dy, & \\text{if } X \\text{ and } Y \\text{ are continuous} \\\\\n",
    "\\end{align*}\n",
    "$$"
   ]
  },
  {
   "cell_type": "markdown",
   "id": "293399ea-d559-4224-ba2b-f95d0cc6e5b5",
   "metadata": {},
   "source": [
    "**Example:**\n",
    "\n",
    "From example above \n",
    "* Compute the marginal PMF $f_X(x)$(marginal probability of each food choice).\n",
    "* Compute the marginal PMF $f_Y(y)$( (marginal probability of each drink choice).\n",
    "* Find the probability of ordering Nasi Goreng, regardless of drink choice.\n",
    "* Find the probability of ordering Teh, regardless of food choice."
   ]
  },
  {
   "cell_type": "code",
   "execution_count": null,
   "id": "979e18e7-2b94-4725-8769-d560a06fd929",
   "metadata": {},
   "outputs": [],
   "source": [
    "# Convert frequency table to joint probability matrix\n",
    "joint_prob_matrix <- xtabs(Joint_Probability ~ Food + Drink, data = freq_table)\n",
    "\n",
    "# Print joint probability matrix\n",
    "cat(\"\\nJoint Probability Matrix:\\n\")\n",
    "print(joint_prob_matrix)"
   ]
  },
  {
   "cell_type": "code",
   "execution_count": null,
   "id": "c96c027b-3c06-4181-bcc8-ba833eda8732",
   "metadata": {},
   "outputs": [],
   "source": [
    "# Compute marginal probability of food choices\n",
    "marginal_food <- rowSums(joint_prob_matrix)\n",
    "\n",
    "# Compute marginal probability of drink choices\n",
    "marginal_drink <- colSums(joint_prob_matrix)\n",
    "\n",
    "# Print marginal probabilities\n",
    "cat(\"\\nMarginal Probability of Food Choices:\\n\")\n",
    "print(marginal_food)\n",
    "\n",
    "cat(\"\\nMarginal Probability of Drink Choices:\\n\")\n",
    "print(marginal_drink)\n"
   ]
  },
  {
   "cell_type": "code",
   "execution_count": null,
   "id": "41400095-9f0e-4477-b4b8-d1175016641d",
   "metadata": {},
   "outputs": [],
   "source": [
    "# Compute marginal probability of ordering Nasi Goreng (sum over all drinks)\n",
    "P_Nasi_Goreng <- sum(joint_prob_matrix[\"Nasi Goreng\", ])\n",
    "\n",
    "# Compute marginal probability of ordering Teh (sum over all foods)\n",
    "P_Teh <- sum(joint_prob_matrix[, \"Teh\"])\n",
    "\n",
    "# Print results\n",
    "cat(\"\\nP(X = Nasi Goreng):\", P_Nasi_Goreng, \"\\n\")\n",
    "cat(\"\\nP(Y = Teh):\", P_Teh, \"\\n\")"
   ]
  },
  {
   "cell_type": "markdown",
   "id": "157d2c51-3bd7-42da-a5d7-92d24253d97e",
   "metadata": {},
   "source": [
    "* Compute the marginal PDF $f_X(x)$ (marginal probability of rainfall).\n",
    "* Compute the marginal PDF $f_Y(y)$ (marginal probability of temperature).\n",
    "* Find the probability that rainfall is between 3 mm and 6 mm, regardless of temperature.\n",
    "* Find the probability that the temperature is between 25°C and 35°C, regardless of rainfall."
   ]
  },
  {
   "cell_type": "markdown",
   "id": "7abf4bbd-cb36-41f6-a007-bde8da02f293",
   "metadata": {},
   "source": [
    "## **Step 1: Define the Joint PDF**\n",
    "\n",
    "The given **joint probability density function (PDF)** is:\n",
    "\n",
    "$$\n",
    "f(x,y) = 0.00714(1 - 0.05x - 0.02y), \\quad 0 \\leq x \\leq 10, \\quad 0 \\leq y \\leq 40.\n",
    "$$\n",
    "\n",
    "We will compute the **marginal PDFs** by integrating out one of the variables.\n",
    "\n",
    "- **Marginal PDF of \\( X \\) (rainfall):**\n",
    "  \n",
    "  $$\n",
    "  f_X(x) = \\int_0^{40} f(x,y) \\, dy\n",
    "  $$\n",
    "\n",
    "- **Marginal PDF of \\( Y \\) (temperature):**\n",
    "  \n",
    "  $$\n",
    "  f_Y(y) = \\int_0^{10} f(x,y) \\, dx\n",
    "  $$\n"
   ]
  },
  {
   "cell_type": "code",
   "execution_count": null,
   "id": "1775b6b6-1a1a-47d2-a545-2f0490a72e41",
   "metadata": {},
   "outputs": [],
   "source": [
    "# Load necessary library\n",
    "library(pracma)  # For numerical integration\n",
    "\n",
    "# Define the joint probability density function (PDF)\n",
    "f_xy <- function(x, y) {\n",
    "  return(0.00714 * (1 - 0.05*x - 0.02*y))\n",
    "}\n",
    "\n",
    "# Define marginal PDF functions by integrating out one variable\n",
    "f_x <- function(x) {\n",
    "  integral(function(y) f_xy(x, y), 0, 40)  # Directly return the result\n",
    "}\n",
    "\n",
    "f_y <- function(y) {\n",
    "  integral(function(x) f_xy(x, y), 0, 10)  # Directly return the result\n",
    "}\n",
    "\n",
    "# Compute probability that rainfall is between 3 mm and 6 mm\n",
    "P_rainfall <- integral(f_x, 3, 6) \n",
    "\n",
    "# Compute probability that temperature is between 25°C and 35°C\n",
    "P_temperature <- integral(f_y, 25, 35)\n",
    "\n",
    "# Print results\n",
    "cat(\"\\nP(3 ≤ X ≤ 6):\", P_rainfall, \"\\n\")\n",
    "cat(\"\\nP(25 ≤ Y ≤ 35):\", P_temperature, \"\\n\")\n"
   ]
  },
  {
   "cell_type": "markdown",
   "id": "ed64d47b-d84a-491a-9eac-2b30926715f7",
   "metadata": {},
   "source": [
    "## **A.1 Conditional Probability Distribution**<a class=\"anchor\" id=\"a\"></a>\n"
   ]
  },
  {
   "cell_type": "markdown",
   "id": "b8a7712c-b4a6-44df-a0d2-a3b2e8de4933",
   "metadata": {},
   "source": [
    "* Compute the conditional probability of ordering \"Kopi\" given that the customer ordered \"Nasi Goreng\".\n",
    "* Compute the conditional probability of ordering \"Nasi Lemak\" given that the customer ordered \"Wedang Jahe\".\u000b",
    "\n",
    "* Compute the conditional probability density function of rainfall given that temperature is 25°C, fX∣Y(x∣25)f_{X|Y}(x \\mid 25)fX∣Y​(x∣25).\n",
    "* Compute the conditional probability that the rainfall is less than 4 mm given that the temperature is 25°C."
   ]
  },
  {
   "cell_type": "code",
   "execution_count": null,
   "id": "1fa1100a-1fe2-4a32-b74e-0d1cafcb2dd8",
   "metadata": {},
   "outputs": [],
   "source": [
    "# Compute conditional probability of ordering Kopi given that the customer ordered Nasi Goreng\n",
    "P_Kopi_given_NasiGoreng <- joint_prob_matrix[\"Nasi Goreng\", \"Kopi\"] / marginal_food[\"Nasi Goreng\"]\n",
    "\n",
    "# Compute conditional probability of ordering Nasi Lemak given that the customer ordered Wedang Jahe\n",
    "P_NasiLemak_given_WedangJahe <- joint_prob_matrix[\"Nasi Lemak\", \"Wedang Jahe\"] / marginal_drink[\"Wedang Jahe\"]\n",
    "\n",
    "# Print results\n",
    "cat(\"\\nP(Y = Kopi | X = Nasi Goreng):\", P_Kopi_given_NasiGoreng, \"\\n\")\n",
    "cat(\"\\nP(X = Nasi Lemak | Y = Wedang Jahe):\", P_NasiLemak_given_WedangJahe, \"\\n\")"
   ]
  },
  {
   "cell_type": "markdown",
   "id": "2049e496-5ce9-45e2-96e4-4cdfa6ab6f54",
   "metadata": {},
   "source": [
    "# **A.2 Covariance and Correlation**"
   ]
  },
  {
   "cell_type": "markdown",
   "id": "8511232a-33a7-4e67-ae40-e5f0cd3ab766",
   "metadata": {},
   "source": [
    "The hypergeometric distribution, the probability of $y$ successes when sampling **without replacement** $n$ items from a population with $r$ successes and $N − r$ failures."
   ]
  },
  {
   "cell_type": "markdown",
   "id": "187f5454-ac99-4b44-9769-a76e6a4abf36",
   "metadata": {},
   "source": [
    "### **Definition**\n",
    "#### **(i) Covariance**\n",
    "The **covariance** between two random variables  $X$ and $Y$ is defined by:\n",
    "\n",
    "$$\n",
    "\\begin{align}\n",
    "\\sigma_{XY} =& \\text{Cov}(X, Y) \\\\\n",
    "=& E[(X - \\mu_X)(Y - \\mu_Y)] \\\\ \n",
    "=& E[XY] - \\mu_X \\mu_Y \\\\\n",
    "\\end{align}\n",
    "$$\n",
    "\n",
    "where $\\mu_X = E(X)$ and $\\mu_Y = E(Y)$.\n",
    "\n",
    "#### **(ii) Correlation Coefficient**\n",
    "The **correlation coefficient**  $\\rho$ or $\\rho(X, Y)$ is defined by:\n",
    "\n",
    "$$\n",
    "\\rho = \\frac{\\text{Cov}(X, Y)}{\\sqrt{\\text{Var}(X) \\text{Var}(Y)}}.\n",
    "$$\n"
   ]
  },
  {
   "cell_type": "markdown",
   "id": "3cb62d2c-99a3-4353-bc7a-4ad9f18a449f",
   "metadata": {},
   "source": [
    "### Interesting Problem"
   ]
  },
  {
   "cell_type": "markdown",
   "id": "498f7417-d438-46f2-9d62-1900662e75ee",
   "metadata": {},
   "source": [
    "* Compute the covariance between food and drink choices.\n",
    "* Compute the specific covariance for this pair Cov(Nasi Lemak,Wedang Jahe)\n",
    "* Compute the correlation coefficient.\n",
    "* Should the restaurant create food + drink combo deals?\n",
    "* Are food and drink choices independent?"
   ]
  },
  {
   "cell_type": "markdown",
   "id": "c41dbebd-daed-4113-bdc0-717f2376e491",
   "metadata": {},
   "source": [
    "* Compute the covariance between rainfall and temperature.\n",
    "* Compute the correlation coefficient:\n",
    "* Interpret the result:\n",
    "     * If correlation is negative, how should farmers prepare?\n",
    "     * If correlation is positive, what does this mean for climate predictions?"
   ]
  },
  {
   "cell_type": "markdown",
   "id": "4b0b5742-207a-4636-8ccf-77e8117f27d7",
   "metadata": {},
   "source": [
    "# **A.3  Sums of Random Variable**\n",
    "\n"
   ]
  },
  {
   "cell_type": "markdown",
   "id": "09df1bee-80f5-42b9-bcdd-9b4c2ebf4d31",
   "metadata": {},
   "source": [
    "There will be a time in economics where we need to sums two random variable. These are two example where we need the sum of two random variable.\n",
    "\n",
    "## **1. Total Income and Wealth**\n",
    "\n",
    "In economics, an individual’s **total income** is often the sum of multiple sources. Suppose an individual has:\n",
    "\n",
    "- \\( X \\) = Salary (random variable)\n",
    "- \\( Y \\) = Investment Returns (random variable)\n",
    "\n",
    "The total income is given by:\n",
    "\n",
    "$$\n",
    "Z = X + Y\n",
    "$$\n",
    "\n",
    "### **Expectation and Variance of Total Income**\n",
    "- **Expected total income**:\n",
    "  $$\n",
    "  E(Z) = E(X) + E(Y)\n",
    "  $$\n",
    "- **Variance of total income**:\n",
    "  $$\n",
    "  \\text{Var}(Z) = \\text{Var}(X) + \\text{Var}(Y) + 2\\text{Cov}(X, Y)\n",
    "  $$"
   ]
  },
  {
   "cell_type": "code",
   "execution_count": null,
   "id": "947c8c2c-9b66-46e5-8563-781ee2fb99d0",
   "metadata": {},
   "outputs": [],
   "source": [
    "### **R Simulation: Summing Two Income Sources**\n",
    "\n",
    "set.seed(123)  # Reproducibility\n",
    "\n",
    "# Simulate two income sources (Normal distribution)\n",
    "X <- rnorm(1000, mean = 50000, sd = 10000)  # Salary\n",
    "Y <- rnorm(1000, mean = 10000, sd = 5000)   # Investment Returns\n",
    "\n",
    "# Compute total income\n",
    "Z <- X + Y\n",
    "\n",
    "# Compute expected values and variance\n",
    "E_X <- mean(X)\n",
    "E_Y <- mean(Y)\n",
    "E_Z <- mean(Z)\n",
    "\n",
    "Var_X <- var(X)\n",
    "Var_Y <- var(Y)\n",
    "Var_Z <- var(Z)\n",
    "Cov_XY <- cov(X, Y)\n",
    "\n",
    "# Print results\n",
    "cat(\"\\nE(X):\", E_X, \"E(Y):\", E_Y, \"E(Z):\", E_Z, \"\\n\")\n",
    "cat(\"\\nVar(X):\", Var_X, \"Var(Y):\", Var_Y, \"Var(Z):\", Var_Z, \"\\n\")\n",
    "cat(\"\\nCov(X, Y):\", Cov_XY, \"\\n\")\n"
   ]
  },
  {
   "cell_type": "markdown",
   "id": "f75aae57-248e-4ef0-8a43-eab3591059d3",
   "metadata": {},
   "source": [
    "## **2. Portfolio Returns (Finance & Investment)**\n",
    "\n",
    "In finance, total portfolio returns are the **sum of individual asset returns**. Suppose an investor holds:\n",
    "\n",
    "- \\( X \\) = Stock returns (random variable)\n",
    "- \\( Y \\) = Bond returns (random variable)\n",
    "\n",
    "The total portfolio return is:\n",
    "\n",
    "$$\n",
    "R = X + Y\n",
    "$$\n",
    "\n",
    "### **Expectation and Risk of Portfolio Returns**\n",
    "\n",
    "- **Expected return:**\n",
    "  $$\n",
    "  E(R) = E(X) + E(Y)\n",
    "  $$\n",
    "\n",
    "- **Portfolio variance:**\n",
    "  $$\n",
    "  \\text{Var}(R) = \\text{Var}(X) + \\text{Var}(Y) + 2\\text{Cov}(X, Y)\n",
    "  $$"
   ]
  },
  {
   "cell_type": "code",
   "execution_count": null,
   "id": "50c7441d-03fe-46a5-b5e7-49844506ee3c",
   "metadata": {},
   "outputs": [],
   "source": [
    "set.seed(123)  # Reproducibility\n",
    "\n",
    "# Simulate stock and bond returns (Normal distribution)\n",
    "X <- rnorm(1000, mean = 0.08, sd = 0.15)  # Stock returns (8% avg, 15% risk)\n",
    "Y <- rnorm(1000, mean = 0.03, sd = 0.05)  # Bond returns (3% avg, 5% risk)\n",
    "\n",
    "# Compute total portfolio return\n",
    "R <- X + Y\n",
    "\n",
    "# Compute expected values and variance\n",
    "E_X <- mean(X)\n",
    "E_Y <- mean(Y)\n",
    "E_R <- mean(R)\n",
    "\n",
    "Var_X <- var(X)\n",
    "Var_Y <- var(Y)\n",
    "Var_R <- var(R)\n",
    "Cov_XY <- cov(X, Y)\n",
    "\n",
    "# Print results\n",
    "cat(\"\\nE(X):\", E_X, \"E(Y):\", E_Y, \"E(R):\", E_R, \"\\n\")\n",
    "cat(\"\\nVar(X):\", Var_X, \"Var(Y):\", Var_Y, \"Var(R):\", Var_R, \"\\n\")\n",
    "cat(\"\\nCov(X, Y):\", Cov_XY, \"\\n\")\n"
   ]
  },
  {
   "cell_type": "code",
   "execution_count": null,
   "id": "2c29b7a6-14d7-4bcf-8bb9-3ab968266526",
   "metadata": {},
   "outputs": [],
   "source": [
    "#################################################################### END #########################################################################################################"
   ]
  }
 ],
 "metadata": {
  "kernelspec": {
   "display_name": "R",
   "language": "R",
   "name": "ir"
  },
  "language_info": {
   "codemirror_mode": "r",
   "file_extension": ".r",
   "mimetype": "text/x-r-source",
   "name": "R",
   "pygments_lexer": "r",
   "version": "4.4.1"
  }
 },
 "nbformat": 4,
 "nbformat_minor": 5
}
