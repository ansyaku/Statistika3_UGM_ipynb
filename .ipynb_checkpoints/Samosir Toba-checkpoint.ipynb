{
 "cells": [
  {
   "cell_type": "code",
   "execution_count": 11,
   "id": "8453fb13-d2ee-4580-834d-e9315a4663aa",
   "metadata": {},
   "outputs": [
    {
     "data": {
      "text/html": [
       "\n",
       "            <style>\n",
       "                .geemap-dark {\n",
       "                    --jp-widgets-color: white;\n",
       "                    --jp-widgets-label-color: white;\n",
       "                    --jp-ui-font-color1: white;\n",
       "                    --jp-layout-color2: #454545;\n",
       "                    background-color: #383838;\n",
       "                }\n",
       "\n",
       "                .geemap-dark .jupyter-button {\n",
       "                    --jp-layout-color3: #383838;\n",
       "                }\n",
       "\n",
       "                .geemap-colab {\n",
       "                    background-color: var(--colab-primary-surface-color, white);\n",
       "                }\n",
       "\n",
       "                .geemap-colab .jupyter-button {\n",
       "                    --jp-layout-color3: var(--colab-primary-surface-color, white);\n",
       "                }\n",
       "            </style>\n",
       "            "
      ],
      "text/plain": [
       "<IPython.core.display.HTML object>"
      ]
     },
     "metadata": {},
     "output_type": "display_data"
    }
   ],
   "source": [
    "toba = ee.Geometry.Polygon(\n",
    "    [[98.55682737454349,2.876133930572071], [98.55420952992125,2.873669412697622], [98.54953175686074,2.873605119111294], \n",
    "     [98.54455358302148,2.873647971179846],[98.54231396473597,2.8748427044230023],[98.5409326473658,2.877408997082371],\n",
    "     [98.54228988813526,2.882970202212644],[98.53642124093122,2.893749714822223],[98.5320116810362,2.895014125933594],\n",
    "     [98.53034869363708,2.897307182464807],[98.5252416711075,2.895678514312238],[98.5251558436012,2.837558110824331],\n",
    "     [98.52927594175566,2.8094395477036507],[98.5279026251478,2.7941800342616805], [98.54438192581362,2.7840641842236846], \n",
    "     [98.56652653585276,2.7640889280344396], [98.57356438033982,2.7379408664477616], [98.62815270602559,2.670210110908291], \n",
    "     [98.61407646849965,2.6458604138130783],[98.63098528699399,2.6463321481242055], [98.63622101948413,2.6330854832900847], \n",
    "     [98.67003809918343,2.626140241920362], [98.68926417715356,2.613793534749284], [98.68703239827651,2.6005462679820566], \n",
    "     [98.68686058056213,2.5876419691609573],[98.67913583032684,2.580225263599138], [98.67390023583133,2.57583093594728],\n",
    "     [98.67505902180885,2.5712329231998883], [98.68851302946999,2.5701343462498087], [98.68476867271936,2.5652978985763224], \n",
    "     [98.67311182957049,2.566309440200304], [98.66642510589014,2.563213883426562], [98.65699182876364,2.561833171483381], \n",
    "     [98.67046772350542,2.5475139268523788], [98.68149707741274,2.5444700404571408], [98.69183969001297,2.5359383125017465], \n",
    "     [98.73114956442531,2.5206749496257563], [98.74818748653877,2.5058832587284745], [98.7494965024839,2.4919704103739635],\n",
    "     [98.76419496400975,2.4828594814659817], [98.77766981065024,2.454990596988551], [98.78039512933458,2.445364795949381], \n",
    "     [98.77935451533229,2.4379793025890955], [98.78483701921354,2.4371110247379], [98.78774460135375,2.435642457712902],\n",
    "     [98.78996554230422,2.439319069117055], [98.79097420765943,2.4435851754009423], [98.82316008865841,2.377983167618173], \n",
    "     [98.83963968951707,2.359759607502135], [98.838824296365,2.358127535597331], [98.83972551772001,2.355809399267497],\n",
    "     [98.83706476887261,2.3528882878730273],[98.83114246610705,2.3540835659547126],[98.82800964935475,2.355881810311822], \n",
    "     [98.82487682996629,2.3552788174288968],[98.81835375751812,2.349779563643608], [98.81595059749995,2.3435942271497296],\n",
    "     [98.82213071803848,2.3287582565976814],[98.8324196490858,2.318815549541813], [98.83962402331875,2.3200189012777885],\n",
    "     [98.84339518696784,2.3236235211781833], [98.84543357797101,2.3294659679338574],[98.84710712464381,2.332231802764285], \n",
    "     [98.85129132775604,2.3339577333494987], [98.85581887613405,2.3394570671613044],[98.86075415914937,2.3494265911491663], \n",
    "     [98.87204091789695,2.3406148173883325],[98.8761500477784,2.34124189685005],[98.87751260072976,2.343927188187604], \n",
    "     [98.8888208006189,2.3451812940592096], [98.89495760993884,2.341000303706133], [98.89545107659285,2.337880689531383], \n",
    "     [98.90075105056785,2.3344180322455372], [98.91568520003739,2.3485700172824764],[98.93782941518374,2.3562040972654104],\n",
    "     [98.93632752265633,2.3463207065505083], [98.94427762609742,2.3472802207486434],[98.94501793690782,2.34240812360751], \n",
    "     [98.94993174984248,2.336094254637181], [98.95647632179431,2.335955039234361],[98.96199094160548,2.3399322459524328], \n",
    "     [98.96699057834829,2.3341328652099547],[98.97336349439057,2.3369093990710477], [98.9810238830386,2.333682760917004],\n",
    "     [98.98628101976603,2.3386889963535857], [98.99205310965665,2.3296306449647344], [98.99954174155201,2.3233165740484596], \n",
    "     [99.00267451169404,2.3388174876311343], [99.01316735149425,2.3410793495789033], [99.01919705503367,2.3491727744512922], \n",
    "     [99.02720077183076,2.363065592208308], [99.04069766175401,2.3502017898001366], [99.05739156151895,2.335450934346538], \n",
    "     [99.0708667973029,2.3491714581856598], [99.08309768259804,2.3453974688681876], [99.08406328952111,2.3515717292762344], \n",
    "     [99.10013517858215,2.357745937418536], [99.11013469582144,2.3673500279930684], [99.11084296949166,2.3769544492366905], \n",
    "     [99.11704443908329,2.379355275153642], [99.12974729706491,2.3805559380454753],[99.14090528321321,2.3850152693015017], \n",
    "     [99.14313689620832,2.3879309627963123],[99.14863014060828,2.3944483729670796], [99.1510335191717,2.415029457128506], \n",
    "     [99.15266431256009,2.420689255045517],[99.14948857856298,2.4273781020378387], [99.14802941997422,2.435267478485533], \n",
    "     [99.13352393645899,2.436982571034441],[99.12695778520742,2.4364252094479943], [99.12348155295564,2.4334667403590577], \n",
    "     [99.12089587453377,2.431912458419999],[99.12002681880662,2.4269280353322613], [99.11416886600239,2.4214183589746057],\n",
    "     [99.11549923549919,2.4176023450394286], [99.1064870834824,2.415458490727792], [99.09786115796564,2.407526149159699], \n",
    "     [99.08786199813484,2.407140169056738], [99.07395743282562,2.4021666176847294], [99.06391527654728,2.3986506519101347], \n",
    "     [99.05031113428593,2.3951774868017046], [99.04288670606826,2.4085122484685164], [99.05352957892913,2.427549599985436], \n",
    "     [99.06211278556293,2.4465868832704545],[99.04374583861072,2.496493387676828], [99.03318847542396,2.5178449812302124], \n",
    "     [99.00855442217802,2.530278654261141], [98.90693086023965,2.6263117260791917],[98.93988985362351,2.6564920367299685], \n",
    "     [98.9206637739302,2.696274045160077], [98.80118742047138,2.785435861442679],[98.7266886998291,2.8420169674739557], \n",
    "     [98.69149725949156,2.8524751058871702], [98.68626091128593,2.86250441384271], [98.68535929660085,2.872662416638698],\n",
    "     [98.67289215630228,2.873283805173515], [98.66935144212925,2.8677330888945494],[98.65410606540587,2.8718088012254825],\n",
    "     [98.64236348840092,2.862874001679072], [98.63829467805722,2.8668931822698958],[98.63130758961421,2.8700551034132933],\n",
    "     [98.62704847562979,2.879959435076245], [98.61113490846533,2.877077871488069],[98.60723770858573,2.871795990814904], \n",
    "     [98.59789832151282,2.877605186374201],[98.59866013929795,2.8829521741555384],[98.59844023288932,2.8857113891316146],\n",
    "     [98.59684703188482,2.887441940950469],[98.57399466510608,2.8838201903950154],[98.57069022300877,2.888234836687045],\n",
    "     [98.57011083754412,2.892799480098124],[98.56449963172946,2.892681603444771],[98.56060503132724,2.894792460240234],\n",
    "     [98.55961782098512,2.9028930372382105],[98.5559001375577,2.9019054811629874],[98.55355575916964,2.8976605308673813],\n",
    "     [98.55018142501851,2.894444223272598],[98.55058365004491,2.8908850289453873],[98.55248791223644,2.8862543121553057],\n",
    "     [98.54975732086619,2.880937820637255],[98.55552395305679,2.8807646610538304],[98.55682737454349,2.876133930572071]])"
   ]
  },
  {
   "cell_type": "code",
   "execution_count": 12,
   "id": "92ad948a-b3a3-47f8-9215-81dffd466cb7",
   "metadata": {},
   "outputs": [
    {
     "data": {
      "text/html": [
       "\n",
       "            <style>\n",
       "                .geemap-dark {\n",
       "                    --jp-widgets-color: white;\n",
       "                    --jp-widgets-label-color: white;\n",
       "                    --jp-ui-font-color1: white;\n",
       "                    --jp-layout-color2: #454545;\n",
       "                    background-color: #383838;\n",
       "                }\n",
       "\n",
       "                .geemap-dark .jupyter-button {\n",
       "                    --jp-layout-color3: #383838;\n",
       "                }\n",
       "\n",
       "                .geemap-colab {\n",
       "                    background-color: var(--colab-primary-surface-color, white);\n",
       "                }\n",
       "\n",
       "                .geemap-colab .jupyter-button {\n",
       "                    --jp-layout-color3: var(--colab-primary-surface-color, white);\n",
       "                }\n",
       "            </style>\n",
       "            "
      ],
      "text/plain": [
       "<IPython.core.display.HTML object>"
      ]
     },
     "metadata": {},
     "output_type": "display_data"
    }
   ],
   "source": [
    "samosir=ee.Geometry.Polygon([[98.68733983527306,2.722784633025142], [98.6858193732364,2.6395561187397427], [98.69055025862434,2.610975846398838]\n",
    ",[98.70340567094286,2.59971534434148], [98.71214095713744,2.581595349004385],[98.72087526843266,2.5593594743904164]\n",
    ",[98.72617294044308,2.5438036452363257], [98.73284377244049,2.5309916638815175], [98.7571711077768,2.5026236000113706]\n",
    ", [98.7768875655698,2.5097052856786255],[98.79660388607273,2.493463005562144], [98.79984049125923,2.470703463128918]\n",
    ", [98.80042878923413,2.4665267264727877], [98.80445030739908,2.466466038767513], [98.84393309839894,2.455832997601225]\n",
    ",[98.87586147664256,2.4301070280167614],[98.88916500290881,2.427877916107738],[98.90109528630184,2.435253077139961]\n",
    ",[98.92770247928954,2.4349104203746568], [98.94066282675418,2.4434857321849157],[98.9783428005749,2.454804651209027]\n",
    ",[98.99465121105432,2.4644080049936106],[98.97405183657854,2.508311968811853], [98.94006350951334,2.533350421171139]\n",
    ", [98.9101937717989,2.560446010957663], [98.90714163702985,2.5677071076909175], [98.90820936571947,2.5756541599605995]\n",
    ", [98.9034783157968,2.583316814856626], [98.892642697037,2.6020718666273677], [98.88729994923823,2.623913576532825]\n",
    ", [98.86925394807021,2.645069243270327],[98.8542343668823,2.660502068727338], [98.85084437921194,2.6647889591658895]\n",
    ", [98.85981404950445,2.6745630641065317], [98.83809921417348,2.68073615567407], [98.82050395642436,2.6930819742687926]\n",
    ", [98.81217815480015,2.7055136200785657], [98.80591213295538,2.7193169827255264], [98.7844531801748,2.7380071113917337]\n",
    ", [98.77312355702863,2.7433226092470178], [98.75630069815534,2.743836924142978], [98.74634446521691,2.7530960554296917]\n",
    ", [98.72334169446458,2.763040812334833], [98.68733983527306,2.722784633025142]])"
   ]
  },
  {
   "cell_type": "code",
   "execution_count": 13,
   "id": "0152c8d2-efc8-45d0-84a2-fbb6f4af8d17",
   "metadata": {},
   "outputs": [
    {
     "data": {
      "text/html": [
       "\n",
       "            <style>\n",
       "                .geemap-dark {\n",
       "                    --jp-widgets-color: white;\n",
       "                    --jp-widgets-label-color: white;\n",
       "                    --jp-ui-font-color1: white;\n",
       "                    --jp-layout-color2: #454545;\n",
       "                    background-color: #383838;\n",
       "                }\n",
       "\n",
       "                .geemap-dark .jupyter-button {\n",
       "                    --jp-layout-color3: #383838;\n",
       "                }\n",
       "\n",
       "                .geemap-colab {\n",
       "                    background-color: var(--colab-primary-surface-color, white);\n",
       "                }\n",
       "\n",
       "                .geemap-colab .jupyter-button {\n",
       "                    --jp-layout-color3: var(--colab-primary-surface-color, white);\n",
       "                }\n",
       "            </style>\n",
       "            "
      ],
      "text/plain": [
       "<IPython.core.display.HTML object>"
      ]
     },
     "metadata": {},
     "output_type": "display_data"
    },
    {
     "name": "stdout",
     "output_type": "stream",
     "text": [
      "Luas Samosir (m²): 654144381.7793868\n",
      "Luas Samosir (km²): 654.1443817793868\n",
      "Luas Toba (m²): 1821345263.0680077\n",
      "Luas Toba (km²): 1821.3452630680076\n",
      "Luas Toba - Samosir (m²): 1167200881.288621\n",
      "Luas Toba - Samosir (km²): 1167.2008812886208\n"
     ]
    }
   ],
   "source": [
    "import ee\n",
    "import geemap\n",
    "\n",
    "# Inisialisasi Earth Engine\n",
    "ee.Initialize(project='ee-andreas-gis')\n",
    "\n",
    "# Hitung luas dalam meter persegi\n",
    "area_m2_samosir = samosir.area()\n",
    "area_m2_toba = toba.area()\n",
    "\n",
    "# Konversi ke km²\n",
    "area_km2_samosir = area_m2_samosir.divide(1e6)\n",
    "area_km2_toba = area_m2_toba.divide(1e6)\n",
    "\n",
    "# Print luas\n",
    "print('Luas Samosir (m²):', area_m2_samosir.getInfo())\n",
    "print('Luas Samosir (km²):', area_km2_samosir.getInfo())\n",
    "\n",
    "print('Luas Toba (m²):', area_m2_toba.getInfo())\n",
    "print('Luas Toba (km²):', area_km2_toba.getInfo())\n",
    "\n",
    "# Selisih luas Toba - Samosir\n",
    "area_diff_m2 = area_m2_toba.subtract(area_m2_samosir)\n",
    "area_diff_km2 = area_km2_toba.subtract(area_km2_samosir)\n",
    "\n",
    "print('Luas Toba - Samosir (m²):', area_diff_m2.getInfo())\n",
    "print('Luas Toba - Samosir (km²):', area_diff_km2.getInfo())"
   ]
  },
  {
   "cell_type": "code",
   "execution_count": 15,
   "id": "35c4de1f-9148-419c-822a-d12ea0a8eef7",
   "metadata": {},
   "outputs": [
    {
     "data": {
      "text/html": [
       "\n",
       "            <style>\n",
       "                .geemap-dark {\n",
       "                    --jp-widgets-color: white;\n",
       "                    --jp-widgets-label-color: white;\n",
       "                    --jp-ui-font-color1: white;\n",
       "                    --jp-layout-color2: #454545;\n",
       "                    background-color: #383838;\n",
       "                }\n",
       "\n",
       "                .geemap-dark .jupyter-button {\n",
       "                    --jp-layout-color3: #383838;\n",
       "                }\n",
       "\n",
       "                .geemap-colab {\n",
       "                    background-color: var(--colab-primary-surface-color, white);\n",
       "                }\n",
       "\n",
       "                .geemap-colab .jupyter-button {\n",
       "                    --jp-layout-color3: var(--colab-primary-surface-color, white);\n",
       "                }\n",
       "            </style>\n",
       "            "
      ],
      "text/plain": [
       "<IPython.core.display.HTML object>"
      ]
     },
     "metadata": {},
     "output_type": "display_data"
    },
    {
     "name": "stdout",
     "output_type": "stream",
     "text": [
      "['B1', 'B2', 'B3', 'B4', 'B5', 'B6', 'B7', 'B8', 'B8A', 'B9', 'B10', 'B11', 'B12', 'QA10', 'QA20', 'QA60']\n"
     ]
    }
   ],
   "source": [
    "# Load citra Sentinel-2\n",
    "image = (ee.ImageCollection('COPERNICUS/S2')\n",
    "         .filterBounds(toba)\n",
    "         .filterDate('2023-01-01', '2023-12-31')\n",
    "         .median()\n",
    "         .clip(toba))\n",
    "print(image.bandNames().getInfo())  "
   ]
  },
  {
   "cell_type": "code",
   "execution_count": 17,
   "id": "9924df33-85c2-41c6-a520-2c7a6683223b",
   "metadata": {},
   "outputs": [
    {
     "data": {
      "text/html": [
       "\n",
       "            <style>\n",
       "                .geemap-dark {\n",
       "                    --jp-widgets-color: white;\n",
       "                    --jp-widgets-label-color: white;\n",
       "                    --jp-ui-font-color1: white;\n",
       "                    --jp-layout-color2: #454545;\n",
       "                    background-color: #383838;\n",
       "                }\n",
       "\n",
       "                .geemap-dark .jupyter-button {\n",
       "                    --jp-layout-color3: #383838;\n",
       "                }\n",
       "\n",
       "                .geemap-colab {\n",
       "                    background-color: var(--colab-primary-surface-color, white);\n",
       "                }\n",
       "\n",
       "                .geemap-colab .jupyter-button {\n",
       "                    --jp-layout-color3: var(--colab-primary-surface-color, white);\n",
       "                }\n",
       "            </style>\n",
       "            "
      ],
      "text/plain": [
       "<IPython.core.display.HTML object>"
      ]
     },
     "metadata": {},
     "output_type": "display_data"
    }
   ],
   "source": [
    "# Hitung NDVI\n",
    "ndvi = image.normalizedDifference(['B8', 'B4']).rename('NDVI')\n",
    "\n",
    "# Hitung NDWI untuk air\n",
    "ndwi = image.normalizedDifference(['B3', 'B8']).rename('NDWI')\n",
    "\n",
    "# Masking area sabana (NDVI antara 0.2 - 0.5)\n",
    "sabana = ndvi.gt(0.2).And(ndvi.lt(0.5)).selfMask()\n",
    "\n",
    "# Masking area hutan (NDVI > 0.5)\n",
    "hutan = ndvi.gte(0.5).selfMask()\n",
    "\n",
    "# Masking lahan terbuka (NDVI < 0.2)\n",
    "lahan_terbuka = ndvi.lt(0.2).selfMask()\n",
    "\n",
    "# Masking air (NDWI > 0.2)\n",
    "air = ndwi.gt(0.2).selfMask()"
   ]
  },
  {
   "cell_type": "code",
   "execution_count": 21,
   "id": "d7ae5246-461e-4c0b-8574-ba6cff034f03",
   "metadata": {},
   "outputs": [
    {
     "data": {
      "text/html": [
       "\n",
       "            <style>\n",
       "                .geemap-dark {\n",
       "                    --jp-widgets-color: white;\n",
       "                    --jp-widgets-label-color: white;\n",
       "                    --jp-ui-font-color1: white;\n",
       "                    --jp-layout-color2: #454545;\n",
       "                    background-color: #383838;\n",
       "                }\n",
       "\n",
       "                .geemap-dark .jupyter-button {\n",
       "                    --jp-layout-color3: #383838;\n",
       "                }\n",
       "\n",
       "                .geemap-colab {\n",
       "                    background-color: var(--colab-primary-surface-color, white);\n",
       "                }\n",
       "\n",
       "                .geemap-colab .jupyter-button {\n",
       "                    --jp-layout-color3: var(--colab-primary-surface-color, white);\n",
       "                }\n",
       "            </style>\n",
       "            "
      ],
      "text/plain": [
       "<IPython.core.display.HTML object>"
      ]
     },
     "metadata": {},
     "output_type": "display_data"
    },
    {
     "name": "stdout",
     "output_type": "stream",
     "text": [
      "Luas Sabana (km²): 122.97563788441488\n",
      "Luas Hutan (km²): 0\n",
      "Luas Lahan Terbuka (km²): 528.1931594070709\n"
     ]
    },
    {
     "ename": "EEException",
     "evalue": "Dictionary.get: Dictionary does not contain key: 'NDVI'.",
     "output_type": "error",
     "traceback": [
      "\u001b[1;31m---------------------------------------------------------------------------\u001b[0m",
      "\u001b[1;31mHttpError\u001b[0m                                 Traceback (most recent call last)",
      "File \u001b[1;32mC:\\Python\\Python311\\Lib\\site-packages\\ee\\data.py:408\u001b[0m, in \u001b[0;36m_execute_cloud_call\u001b[1;34m(call, num_retries)\u001b[0m\n\u001b[0;32m    407\u001b[0m \u001b[38;5;28;01mtry\u001b[39;00m:\n\u001b[1;32m--> 408\u001b[0m   \u001b[38;5;28;01mreturn\u001b[39;00m \u001b[43mcall\u001b[49m\u001b[38;5;241;43m.\u001b[39;49m\u001b[43mexecute\u001b[49m\u001b[43m(\u001b[49m\u001b[43mnum_retries\u001b[49m\u001b[38;5;241;43m=\u001b[39;49m\u001b[43mnum_retries\u001b[49m\u001b[43m)\u001b[49m\n\u001b[0;32m    409\u001b[0m \u001b[38;5;28;01mexcept\u001b[39;00m googleapiclient\u001b[38;5;241m.\u001b[39merrors\u001b[38;5;241m.\u001b[39mHttpError \u001b[38;5;28;01mas\u001b[39;00m e:\n",
      "File \u001b[1;32mC:\\Python\\Python311\\Lib\\site-packages\\googleapiclient\\_helpers.py:130\u001b[0m, in \u001b[0;36mpositional.<locals>.positional_decorator.<locals>.positional_wrapper\u001b[1;34m(*args, **kwargs)\u001b[0m\n\u001b[0;32m    129\u001b[0m         logger\u001b[38;5;241m.\u001b[39mwarning(message)\n\u001b[1;32m--> 130\u001b[0m \u001b[38;5;28;01mreturn\u001b[39;00m \u001b[43mwrapped\u001b[49m\u001b[43m(\u001b[49m\u001b[38;5;241;43m*\u001b[39;49m\u001b[43margs\u001b[49m\u001b[43m,\u001b[49m\u001b[43m \u001b[49m\u001b[38;5;241;43m*\u001b[39;49m\u001b[38;5;241;43m*\u001b[39;49m\u001b[43mkwargs\u001b[49m\u001b[43m)\u001b[49m\n",
      "File \u001b[1;32mC:\\Python\\Python311\\Lib\\site-packages\\googleapiclient\\http.py:938\u001b[0m, in \u001b[0;36mHttpRequest.execute\u001b[1;34m(self, http, num_retries)\u001b[0m\n\u001b[0;32m    937\u001b[0m \u001b[38;5;28;01mif\u001b[39;00m resp\u001b[38;5;241m.\u001b[39mstatus \u001b[38;5;241m>\u001b[39m\u001b[38;5;241m=\u001b[39m \u001b[38;5;241m300\u001b[39m:\n\u001b[1;32m--> 938\u001b[0m     \u001b[38;5;28;01mraise\u001b[39;00m HttpError(resp, content, uri\u001b[38;5;241m=\u001b[39m\u001b[38;5;28mself\u001b[39m\u001b[38;5;241m.\u001b[39muri)\n\u001b[0;32m    939\u001b[0m \u001b[38;5;28;01mreturn\u001b[39;00m \u001b[38;5;28mself\u001b[39m\u001b[38;5;241m.\u001b[39mpostproc(resp, content)\n",
      "\u001b[1;31mHttpError\u001b[0m: <HttpError 400 when requesting https://earthengine.googleapis.com/v1/projects/ee-andreas-gis/value:compute?prettyPrint=false&alt=json returned \"Dictionary.get: Dictionary does not contain key: 'NDVI'.\". Details: \"Dictionary.get: Dictionary does not contain key: 'NDVI'.\">",
      "\nDuring handling of the above exception, another exception occurred:\n",
      "\u001b[1;31mEEException\u001b[0m                               Traceback (most recent call last)",
      "Cell \u001b[1;32mIn[21], line 18\u001b[0m\n\u001b[0;32m     16\u001b[0m hitung_luas(hutan, \u001b[38;5;124m'\u001b[39m\u001b[38;5;124mHutan\u001b[39m\u001b[38;5;124m'\u001b[39m)\n\u001b[0;32m     17\u001b[0m hitung_luas(lahan_terbuka, \u001b[38;5;124m'\u001b[39m\u001b[38;5;124mLahan Terbuka\u001b[39m\u001b[38;5;124m'\u001b[39m)\n\u001b[1;32m---> 18\u001b[0m \u001b[43mhitung_luas\u001b[49m\u001b[43m(\u001b[49m\u001b[43mair\u001b[49m\u001b[43m,\u001b[49m\u001b[43m \u001b[49m\u001b[38;5;124;43m'\u001b[39;49m\u001b[38;5;124;43mAir\u001b[39;49m\u001b[38;5;124;43m'\u001b[39;49m\u001b[43m)\u001b[49m\n",
      "Cell \u001b[1;32mIn[21], line 12\u001b[0m, in \u001b[0;36mhitung_luas\u001b[1;34m(masked_image, nama)\u001b[0m\n\u001b[0;32m      3\u001b[0m area \u001b[38;5;241m=\u001b[39m (masked_image\u001b[38;5;241m.\u001b[39mmultiply(ee\u001b[38;5;241m.\u001b[39mImage\u001b[38;5;241m.\u001b[39mpixelArea())\n\u001b[0;32m      4\u001b[0m         \u001b[38;5;241m.\u001b[39mreduceRegion(\n\u001b[0;32m      5\u001b[0m             reducer\u001b[38;5;241m=\u001b[39mee\u001b[38;5;241m.\u001b[39mReducer\u001b[38;5;241m.\u001b[39msum(),\n\u001b[1;32m   (...)\u001b[0m\n\u001b[0;32m      8\u001b[0m             maxPixels\u001b[38;5;241m=\u001b[39m\u001b[38;5;241m1e13\u001b[39m)\n\u001b[0;32m      9\u001b[0m         \u001b[38;5;241m.\u001b[39mget(\u001b[38;5;124m'\u001b[39m\u001b[38;5;124mNDVI\u001b[39m\u001b[38;5;124m'\u001b[39m))  \u001b[38;5;66;03m# Ambil nilai dari band NDVI\u001b[39;00m\n\u001b[0;32m     11\u001b[0m area_km2 \u001b[38;5;241m=\u001b[39m ee\u001b[38;5;241m.\u001b[39mNumber(area)\u001b[38;5;241m.\u001b[39mdivide(\u001b[38;5;241m1e6\u001b[39m)\n\u001b[1;32m---> 12\u001b[0m \u001b[38;5;28mprint\u001b[39m(\u001b[38;5;124mf\u001b[39m\u001b[38;5;124m'\u001b[39m\u001b[38;5;124mLuas \u001b[39m\u001b[38;5;132;01m{\u001b[39;00mnama\u001b[38;5;132;01m}\u001b[39;00m\u001b[38;5;124m (km²):\u001b[39m\u001b[38;5;124m'\u001b[39m, \u001b[43marea_km2\u001b[49m\u001b[38;5;241;43m.\u001b[39;49m\u001b[43mgetInfo\u001b[49m\u001b[43m(\u001b[49m\u001b[43m)\u001b[49m)\n",
      "File \u001b[1;32mC:\\Python\\Python311\\Lib\\site-packages\\ee\\computedobject.py:107\u001b[0m, in \u001b[0;36mComputedObject.getInfo\u001b[1;34m(self)\u001b[0m\n\u001b[0;32m    101\u001b[0m \u001b[38;5;28;01mdef\u001b[39;00m \u001b[38;5;21mgetInfo\u001b[39m(\u001b[38;5;28mself\u001b[39m) \u001b[38;5;241m-\u001b[39m\u001b[38;5;241m>\u001b[39m Optional[Any]:\n\u001b[0;32m    102\u001b[0m \u001b[38;5;250m  \u001b[39m\u001b[38;5;124;03m\"\"\"Fetch and return information about this object.\u001b[39;00m\n\u001b[0;32m    103\u001b[0m \n\u001b[0;32m    104\u001b[0m \u001b[38;5;124;03m  Returns:\u001b[39;00m\n\u001b[0;32m    105\u001b[0m \u001b[38;5;124;03m    The object can evaluate to anything.\u001b[39;00m\n\u001b[0;32m    106\u001b[0m \u001b[38;5;124;03m  \"\"\"\u001b[39;00m\n\u001b[1;32m--> 107\u001b[0m   \u001b[38;5;28;01mreturn\u001b[39;00m \u001b[43mdata\u001b[49m\u001b[38;5;241;43m.\u001b[39;49m\u001b[43mcomputeValue\u001b[49m\u001b[43m(\u001b[49m\u001b[38;5;28;43mself\u001b[39;49m\u001b[43m)\u001b[49m\n",
      "File \u001b[1;32mC:\\Python\\Python311\\Lib\\site-packages\\ee\\data.py:1128\u001b[0m, in \u001b[0;36mcomputeValue\u001b[1;34m(obj)\u001b[0m\n\u001b[0;32m   1125\u001b[0m body \u001b[38;5;241m=\u001b[39m {\u001b[38;5;124m'\u001b[39m\u001b[38;5;124mexpression\u001b[39m\u001b[38;5;124m'\u001b[39m: serializer\u001b[38;5;241m.\u001b[39mencode(obj, for_cloud_api\u001b[38;5;241m=\u001b[39m\u001b[38;5;28;01mTrue\u001b[39;00m)}\n\u001b[0;32m   1126\u001b[0m _maybe_populate_workload_tag(body)\n\u001b[1;32m-> 1128\u001b[0m \u001b[38;5;28;01mreturn\u001b[39;00m \u001b[43m_execute_cloud_call\u001b[49m\u001b[43m(\u001b[49m\n\u001b[0;32m   1129\u001b[0m \u001b[43m    \u001b[49m\u001b[43m_get_cloud_projects\u001b[49m\u001b[43m(\u001b[49m\u001b[43m)\u001b[49m\n\u001b[0;32m   1130\u001b[0m \u001b[43m    \u001b[49m\u001b[38;5;241;43m.\u001b[39;49m\u001b[43mvalue\u001b[49m\u001b[43m(\u001b[49m\u001b[43m)\u001b[49m\n\u001b[0;32m   1131\u001b[0m \u001b[43m    \u001b[49m\u001b[38;5;241;43m.\u001b[39;49m\u001b[43mcompute\u001b[49m\u001b[43m(\u001b[49m\u001b[43mbody\u001b[49m\u001b[38;5;241;43m=\u001b[39;49m\u001b[43mbody\u001b[49m\u001b[43m,\u001b[49m\u001b[43m \u001b[49m\u001b[43mproject\u001b[49m\u001b[38;5;241;43m=\u001b[39;49m\u001b[43m_get_projects_path\u001b[49m\u001b[43m(\u001b[49m\u001b[43m)\u001b[49m\u001b[43m,\u001b[49m\u001b[43m \u001b[49m\u001b[43mprettyPrint\u001b[49m\u001b[38;5;241;43m=\u001b[39;49m\u001b[38;5;28;43;01mFalse\u001b[39;49;00m\u001b[43m)\u001b[49m\n\u001b[0;32m   1132\u001b[0m \u001b[43m\u001b[49m\u001b[43m)\u001b[49m[\u001b[38;5;124m'\u001b[39m\u001b[38;5;124mresult\u001b[39m\u001b[38;5;124m'\u001b[39m]\n",
      "File \u001b[1;32mC:\\Python\\Python311\\Lib\\site-packages\\ee\\data.py:410\u001b[0m, in \u001b[0;36m_execute_cloud_call\u001b[1;34m(call, num_retries)\u001b[0m\n\u001b[0;32m    408\u001b[0m   \u001b[38;5;28;01mreturn\u001b[39;00m call\u001b[38;5;241m.\u001b[39mexecute(num_retries\u001b[38;5;241m=\u001b[39mnum_retries)\n\u001b[0;32m    409\u001b[0m \u001b[38;5;28;01mexcept\u001b[39;00m googleapiclient\u001b[38;5;241m.\u001b[39merrors\u001b[38;5;241m.\u001b[39mHttpError \u001b[38;5;28;01mas\u001b[39;00m e:\n\u001b[1;32m--> 410\u001b[0m   \u001b[38;5;28;01mraise\u001b[39;00m _translate_cloud_exception(e)\n",
      "\u001b[1;31mEEException\u001b[0m: Dictionary.get: Dictionary does not contain key: 'NDVI'."
     ]
    }
   ],
   "source": [
    "# Fungsi untuk menghitung luas area tertentu dalam km²\n",
    "def hitung_luas(masked_image, nama):\n",
    "    area = (masked_image.multiply(ee.Image.pixelArea())\n",
    "            .reduceRegion(\n",
    "                reducer=ee.Reducer.sum(),\n",
    "                geometry=samosir,\n",
    "                scale=30,\n",
    "                maxPixels=1e13)\n",
    "            .get('NDVI'))  # Ambil nilai dari band NDVI\n",
    "\n",
    "    area_km2 = ee.Number(area).divide(1e6)\n",
    "    print(f'Luas {nama} (km²):', area_km2.getInfo())\n",
    "\n",
    "# Hitung luas masing-masing area\n",
    "hitung_luas(sabana, 'Sabana')\n",
    "hitung_luas(hutan, 'Hutan')\n",
    "hitung_luas(lahan_terbuka, 'Lahan Terbuka')\n",
    "hitung_luas(air, 'Air')"
   ]
  },
  {
   "cell_type": "code",
   "execution_count": 22,
   "id": "09417001-721d-4b3b-a780-bf0b3e350641",
   "metadata": {},
   "outputs": [
    {
     "data": {
      "text/html": [
       "\n",
       "            <style>\n",
       "                .geemap-dark {\n",
       "                    --jp-widgets-color: white;\n",
       "                    --jp-widgets-label-color: white;\n",
       "                    --jp-ui-font-color1: white;\n",
       "                    --jp-layout-color2: #454545;\n",
       "                    background-color: #383838;\n",
       "                }\n",
       "\n",
       "                .geemap-dark .jupyter-button {\n",
       "                    --jp-layout-color3: #383838;\n",
       "                }\n",
       "\n",
       "                .geemap-colab {\n",
       "                    background-color: var(--colab-primary-surface-color, white);\n",
       "                }\n",
       "\n",
       "                .geemap-colab .jupyter-button {\n",
       "                    --jp-layout-color3: var(--colab-primary-surface-color, white);\n",
       "                }\n",
       "            </style>\n",
       "            "
      ],
      "text/plain": [
       "<IPython.core.display.HTML object>"
      ]
     },
     "metadata": {},
     "output_type": "display_data"
    },
    {
     "data": {
      "application/vnd.jupyter.widget-view+json": {
       "model_id": "1bf6ffe4e5304c5fa8984018131cb4c6",
       "version_major": 2,
       "version_minor": 0
      },
      "text/plain": [
       "Map(center=[2.6, 98.8], controls=(WidgetControl(options=['position', 'transparent_bg'], widget=SearchDataGUI(c…"
      ]
     },
     "execution_count": 22,
     "metadata": {},
     "output_type": "execute_result"
    }
   ],
   "source": [
    "\n",
    "# Tampilkan peta menggunakan geemap\n",
    "Map = geemap.Map(center=[2.6, 98.8], zoom=10)\n",
    "Map.addLayer(samosir, {'color': 'blue'}, 'Samosir')\n",
    "Map.addLayer(sabana, {'palette': 'yellow'}, 'Sabana')\n",
    "Map.addLayer(hutan, {'palette': 'green'}, 'Hutan')\n",
    "Map.addLayer(lahan_terbuka, {'palette': 'brown'}, 'Lahan Terbuka')\n",
    "\n",
    "\n",
    "# Tampilkan peta\n",
    "Map\n"
   ]
  }
 ],
 "metadata": {
  "kernelspec": {
   "display_name": "Python 3 (ipykernel)",
   "language": "python",
   "name": "python3"
  },
  "language_info": {
   "codemirror_mode": {
    "name": "ipython",
    "version": 3
   },
   "file_extension": ".py",
   "mimetype": "text/x-python",
   "name": "python",
   "nbconvert_exporter": "python",
   "pygments_lexer": "ipython3",
   "version": "3.11.3"
  }
 },
 "nbformat": 4,
 "nbformat_minor": 5
}
