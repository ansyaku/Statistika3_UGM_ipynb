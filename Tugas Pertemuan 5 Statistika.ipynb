{
 "cells": [
  {
   "cell_type": "markdown",
   "id": "70426a9a-169b-43fd-b79f-2ac1c3ce1bcd",
   "metadata": {},
   "source": [
    "# **Pertemuan 4: Limit Theorem**\n",
    "<hr>\n",
    "\n",
    "### By: Andreas Syaloom Kurniawan (552751)"
   ]
  },
  {
   "cell_type": "code",
   "execution_count": 6,
   "id": "2babe9ee-f3bf-4001-9c28-c124bcf807fc",
   "metadata": {},
   "outputs": [],
   "source": [
    "# The note is written in english do to my class lecture notes was written in english, \n",
    "# therefore to make my english more fluent I also write this notebook in english.\n",
    "# The code are based on R programming language"
   ]
  },
  {
   "cell_type": "markdown",
   "id": "41ee7115-01b9-4d0d-bec1-a8ad2c588787",
   "metadata": {},
   "source": [
    "# Table of Contents\n",
    "- [A. Chebyshev Theorem](#a)\n",
    "- [B. Law of Large Number Theorem](#a)\n",
    "- [C. Central Limit Theorem](#a)\n",
    "    - [A. 1 Join Probability Distribution](#a.1)\n",
    "    - [A. 2 Marginal Distribution Function](#a.2)\n",
    "    - [A. 3 Conditional Probability Distribution](#a.3)\n",
    "\n",
    "*Unfortunately, under github the link for the table of contents doesnt work, hence you need to scroll to the part if you want to go to a specific part of the note.*"
   ]
  },
  {
   "cell_type": "markdown",
   "id": "e07307b7-c9f1-4ec1-8d38-df5ca4570133",
   "metadata": {},
   "source": [
    "## **A. Chebyshev Theorem**<a class=\"anchor\" id=\"a\"></a>\n",
    "<hr>\n",
    "Let the random variable \\(X\\) have a mean \\(\\mu\\) and standard deviation \\(\\sigma\\). Then for \\(K > 0\\), a constant,\n",
    "\n",
    "$$\n",
    "P(|X - \\mu| < K\\sigma) \\geq 1 - \\frac{1}{K^2}.\n",
    "$$"
   ]
  },
  {
   "cell_type": "markdown",
   "id": "b056b935-75cd-4749-bb66-b88d4589c49d",
   "metadata": {},
   "source": [
    "What It Says: \n",
    "\n",
    "Chebyshev's Theorem gives us a way to understand **how much of the data in any distribution (no matter the shape) is close to the mean**.\n",
    "\n",
    "Human Language Explanation: Imagine you have a set of test scores, and you know the average score and how spread out the scores are around that average. Chebyshev’s theorem tells you that no matter how the scores are distributed, a certain percentage of scores will always be within a certain range around the average. For example, at least 75% of scores are within two standard deviations (a measure of spread) from the average.\n",
    "\n",
    "Example:\n",
    "\n",
    "Let's say you measure the heights of trees in a forest. The average height is 50 feet and the standard deviation is 10 feet.\n",
    "\n",
    "Chebyshev's theorem with k=2 (2 standard deviations) tells us that at least 75% of the trees must be between 30 feet and 70 feet (50 +/- 2 * 10)."
   ]
  },
  {
   "attachments": {},
   "cell_type": "markdown",
   "id": "72765bb9-2a9a-46e9-9060-ce8d48dac73d",
   "metadata": {},
   "source": [
    "## **B. Law of Large Number Theorem**<a class=\"anchor\" id=\"a\"></a>\n",
    "<hr>\n",
    "\n",
    "Let $X_1, \\ldots, X_n$ be a set of pairwise independent random variables with \\(E(X_i) = \\mu\\), and \\(\\text{Var}(X_i) = \\sigma^2\\). Then for any \\(c > 0\\),\n",
    "\n",
    "$$\n",
    "P(\\mu - c \\leq X \\leq \\mu + c) \\geq 1 - \\frac{\\sigma^2}{nc^2}\n",
    "$$\n",
    "\n",
    "and as \\(n \\to \\infty\\), the probability approaches 1. Equivalently,\n",
    "\n",
    "$$\n",
    "P\\left(\\frac{|S_n - \\mu|}{n} < \\epsilon\\right) \\to 1 \\text{ as } n \\to \\infty.\n",
    "$$\n",
    "\n",
    "Here, $\\overline{X} = \\frac{1}{n} \\sum_{i=1}^n X_i$ and $S_n = \\sum_{i=1}^n X_i$."
   ]
  },
  {
   "cell_type": "markdown",
   "id": "173def80-b999-492d-ad9f-aa35855b798f",
   "metadata": {},
   "source": [
    "What It Says: \n",
    "\n",
    "The Law of Large Numbers tells us that **as you take more and more samples from a population, the average of those samples gets closer and closer to the average of the entire population**.\n",
    "\n",
    "Human Language Explanation: Think about flipping a coin. If you flip it a few times, you might not get an even split between heads and tails. But if you flip it many, many times, you're likely to get closer to a 50/50 split. The more you flip, the closer you will get to the expected 50% heads and 50% tails. This theorem reassures us that averages calculated from large samples are reliable and represent the whole population well.\n"
   ]
  },
  {
   "cell_type": "markdown",
   "id": "7ebaaf3d-a5ed-4153-94f9-1bf296e67335",
   "metadata": {},
   "source": [
    "## **C. Central Limit Theorem**<a class=\"anchor\" id=\"a\"></a>\n",
    "<hr>\n",
    "\n"
   ]
  },
  {
   "cell_type": "markdown",
   "id": "ce44b9eb-6c12-4efa-bba8-c026a7af9892",
   "metadata": {},
   "source": [
    "If $X_1, \\ldots, X_n$ is a random sample from an infinite population with mean $\\mu < \\infty$, and variance $\\sigma^2 < \\infty$, \n",
    "\n",
    "then the limiting distribution of $Z_n = \\frac{(\\overline{X} - \\mu)}{(\\sigma / \\sqrt{n})}$) as $n \\to \\infty$ is the standard normal probability distribution. \n",
    "\n",
    "That is,\n",
    "\n",
    "$$\n",
    "\\lim_{n \\to \\infty} P(Z_n \\leq z) = \\frac{1}{\\sqrt{2\\pi}} \\int_{-\\infty}^z e^{-t^2/2} dt.\n",
    "$$\n"
   ]
  },
  {
   "cell_type": "markdown",
   "id": "bd68e1eb-29ff-4a7e-a9c1-4a2f678b6fd7",
   "metadata": {},
   "source": [
    "What It Says: \n",
    "\n",
    "The Central Limit Theorem explains that when you take a large number of samples from a population, **the average of those samples will be approximately normally distributed, regardless of the population's original distribution**.\n",
    "\n",
    "Human Language Explanation: If you’re measuring something like the heights of people in a town, the individual measurements may vary wildly. However, if you keep taking samples of, say, 50 people, and calculate the average height of each sample, those averages will form a bell curve (normal distribution), even if the original height data didn't look like a bell curve at all. This is super useful because it allows statisticians to apply many statistical tools that assume data is normally distributed.\n",
    "\n",
    "\n",
    "\n"
   ]
  },
  {
   "cell_type": "code",
   "execution_count": null,
   "id": "c005d218-6abe-4240-bf74-962a2806c6d2",
   "metadata": {},
   "outputs": [
    {
     "name": "stderr",
     "output_type": "stream",
     "text": [
      "Installing package into 'C:/Users/Kemenkeu/AppData/Local/R/win-library/4.4'\n",
      "(as 'lib' is unspecified)\n",
      "\n"
     ]
    }
   ],
   "source": [
    "install.packages(\"GISTools\")"
   ]
  },
  {
   "cell_type": "code",
   "execution_count": 100,
   "id": "2c29b7a6-14d7-4bcf-8bb9-3ab968266526",
   "metadata": {},
   "outputs": [],
   "source": [
    "#################################################################### END #########################################################################################################"
   ]
  }
 ],
 "metadata": {
  "kernelspec": {
   "display_name": "R",
   "language": "R",
   "name": "ir"
  },
  "language_info": {
   "codemirror_mode": "r",
   "file_extension": ".r",
   "mimetype": "text/x-r-source",
   "name": "R",
   "pygments_lexer": "r",
   "version": "4.4.1"
  }
 },
 "nbformat": 4,
 "nbformat_minor": 5
}
