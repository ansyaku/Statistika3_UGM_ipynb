{
 "cells": [
  {
   "cell_type": "markdown",
   "id": "70426a9a-169b-43fd-b79f-2ac1c3ce1bcd",
   "metadata": {},
   "source": [
    "# **Pertemuan 2: Basic Concept of Probability Theory**\n",
    "<hr>\n",
    "\n",
    "### By: Andreas Syaloom Kurniawan (552751)"
   ]
  },
  {
   "cell_type": "code",
   "execution_count": 1,
   "id": "2babe9ee-f3bf-4001-9c28-c124bcf807fc",
   "metadata": {},
   "outputs": [],
   "source": [
    "# The note is written in english do to my class lecture notes was written in english, \n",
    "# therefore to make my english more fluent I also write this notebook in english.\n",
    "# The code are based on R programming language"
   ]
  },
  {
   "cell_type": "markdown",
   "id": "41ee7115-01b9-4d0d-bec1-a8ad2c588787",
   "metadata": {},
   "source": [
    "# Table of Contents\n",
    "- [A. Discrete Random Variable](#a)\n",
    "    - [A. 1 Probability Mass Function](#a.1)\n",
    "    - [A. 2 Cumulative Distribution Function](#a.2)\n",
    "    - [A. 3 R Simulation of Discrete Random Variable](#a.3)\n",
    "- [B. Continous Random Variable](#b)\n",
    "    - [B. 1 Probability Density Function](#b.1)\n",
    "    - [B. 2 Cumulative Distribution Function](#b.2)\n",
    "- [C. Expectation and Variance of Random Variable](#c)\n",
    "    - [C. 1 Expectation of Random Variable](#c.1)\n",
    "    - [C. 2 Variance of Random Variable](#c.2)\n",
    "    - [C. 3 R Simulation of Expectation and Variance of Random Variable](#c.3)\n",
    "- [D. Moment and Moment Generating Function](#d)\n",
    "    - [D. 1 Moment](#d.1)\n",
    "    - [D. 2 Moment Generating Function](#d.2)\n",
    "\n",
    "*Unfortunately, under github the link for the table of contents doesnt work, hence you need to scroll to the part if you want to go to a specific part of the note.*"
   ]
  },
  {
   "cell_type": "markdown",
   "id": "35a39db9-4da9-4cba-9738-072975021685",
   "metadata": {},
   "source": [
    "A random variable (r.v.) is a mapping $X: \\Omega \\rightarrow \\mathbb{R}$ that assigns a real number $X(\\omega)$ to each outcome $\\omega$. \n",
    "\n",
    "$X$ is a function defined on sample space $\\Omega$.\n",
    "\n",
    "**Example:** \n",
    "\n",
    "Tossing two coins, the random variable defined as $X$ = number of heads.\n",
    "$$\n",
    "X = 0 \\quad \\text{with probability } P(X=0) = P(T,T) = \\frac{1}{4}\n",
    "$$\n",
    "\n",
    "$$\n",
    "X = 1 \\quad \\text{with probability } P(X=1) = P(T,H) + P(H,T) = \\frac{2}{4}\n",
    "$$\n",
    "\n",
    "$$\n",
    "X = 2 \\quad \\text{with probability } P(X=2) = P(H,H) = \\frac{1}{4}\n",
    "$$\n",
    "\n",
    "A r.v. $X$ is said to be discrete if we can assume only a finite or countably infinite number of distinct values."
   ]
  },
  {
   "cell_type": "markdown",
   "id": "9f864fc6-d474-44b1-9ff2-8b43f5bc376b",
   "metadata": {},
   "source": [
    "## **A. Discrete Random Variable**<a class=\"anchor\" id=\"a\"></a>\n",
    "<hr>\n",
    "\n",
    "### **A. 1 Probability Mass Function** <a class=\"anchor\" id=\"a.1\"></a>\n",
    "**Probability Mass Function** (Discrete r.v.) is defined as\n",
    "\n",
    "$$\n",
    "f_X(x) = P(X = x) \\quad \\text{given that } X = \\{x_1, x_2, x_3, \\dots\\}\n",
    "$$\n",
    "\n",
    "$f_X(x)$ is the probability for r.v. \\(X\\) being exactly \\(x\\).\n",
    "\n",
    "PMF is a probability measure that gives us probabilities of the possible values of a r.v.\n",
    "\n",
    "Thus\n",
    "\n",
    "$$\n",
    "f_X(x) \\geq 0 \\text{ for all } x \\in \\mathbb{R} \\quad \\text{and} \\quad \\sum_i f_X(x_i) = 1\n",
    "$$\n",
    "\n",
    "Under r.v. discrete, there is:\n",
    "\n",
    "$$\n",
    "P(x_1 \\leq X \\leq x_2) = P(X=x_1) + P(X=x_2)\n",
    "$$\n",
    "\n",
    "$$\n",
    "P(X \\geq x_1) = P(X=x_1) + P(X=x_2) + \\cdots\n",
    "$$\n",
    "\n",
    "$$\n",
    "P(x_1 \\leq X < x_3) = P(X=x_1) + P(X=x_2)\n",
    "$$"
   ]
  },
  {
   "cell_type": "markdown",
   "id": "3afd0e52-6098-47d1-a9f9-6b1ae2d8730b",
   "metadata": {},
   "source": [
    "### **A. 2 Cumulative Distribution Function (CDF)** <a class=\"anchor\" id=\"a.2\"></a>\n",
    "The cumulative distribution function (CDF) is denoted as $F_X(x)$ and defined as:\n",
    "\n",
    "$$\n",
    "F_X(x) = P(X \\leq x) = \\sum f_X(x)\n",
    "$$\n",
    "\n",
    "It is a function that describes the probability that a real-valued random variable $X$ is less than or equal to a certain value $x$."
   ]
  },
  {
   "cell_type": "markdown",
   "id": "3426f498-02e8-4a56-99d2-57e8466af6ca",
   "metadata": {},
   "source": [
    "### **A. 3 PMF and CDF Simulation (Discrete Random Variable)** <a class=\"anchor\" id=\"a.32\"></a>\n",
    "\n",
    "Here we can make a simulation to show how to count the probability mass function of a random variable.\n",
    "\n",
    "Take an example of flipping coin, in this example, we just simulate four flipping (of course you can modify by adding `Flip4 = outcomes`, `Flip4 = outcomes` etc to increase the number of flip). Each flipping are independent.\n",
    "* First, we will generate all the possible possiblities"
   ]
  },
  {
   "cell_type": "code",
   "execution_count": 2,
   "id": "cea8371f-d37c-4765-93c5-799bde11dfd3",
   "metadata": {},
   "outputs": [
    {
     "name": "stdout",
     "output_type": "stream",
     "text": [
      "   Flip1 Flip2 Flip3 Flip4 Heads_Count Probability\n",
      "1      H     H     H     H           4      0.0625\n",
      "2      T     H     H     H           3      0.2500\n",
      "3      H     T     H     H           3      0.2500\n",
      "4      T     T     H     H           2      0.3750\n",
      "5      H     H     T     H           3      0.2500\n",
      "6      T     H     T     H           2      0.3750\n",
      "7      H     T     T     H           2      0.3750\n",
      "8      T     T     T     H           1      0.2500\n",
      "9      H     H     H     T           3      0.2500\n",
      "10     T     H     H     T           2      0.3750\n",
      "11     H     T     H     T           2      0.3750\n",
      "12     T     T     H     T           1      0.2500\n",
      "13     H     H     T     T           2      0.3750\n",
      "14     T     H     T     T           1      0.2500\n",
      "15     H     T     T     T           1      0.2500\n",
      "16     T     T     T     T           0      0.0625\n"
     ]
    }
   ],
   "source": [
    "#######################################################################################\n",
    "## GENERATING ALL THE POSSIBLE POSSIBILITIES FOR TOSSING A SINGLE COINS FOUR TIMES\n",
    "#######################################################################################\n",
    "# Define the possible outcomes for a single coin flip H=Head, T=Tail\n",
    "outcomes <- c(\"H\", \"T\")\n",
    "\n",
    "# Generate all possible combinations for four coin flips\n",
    "combinations <- expand.grid(Flip1 = outcomes, Flip2 = outcomes, Flip3 = outcomes, Flip4 = outcomes)\n",
    "\n",
    "# Calculate the number of heads in each combination\n",
    "combinations$Heads_Count <- rowSums(combinations == \"H\")\n",
    "\n",
    "# Calculate probabilities by counting occurrences of each head count\n",
    "head_counts <- table(combinations$Heads_Count)\n",
    "\n",
    "# Create a probability vector from head counts divided by total combinations\n",
    "probabilities <- head_counts / nrow(combinations)\n",
    "\n",
    "# Assign probabilities to each row based on the number of heads\n",
    "combinations$Probability <- probabilities[as.character(combinations$Heads_Count)]\n",
    "\n",
    "# Aggregate to find the total probability for each count of heads\n",
    "probability_summary <- aggregate(Probability ~ Heads_Count, data = combinations, FUN = unique)\n",
    "\n",
    "# Calculate the cumulative probability\n",
    "probability_summary$Cumulative_P <- cumsum(probability_summary$Probability)\n",
    "\n",
    "# Print the combinations with probabilities\n",
    "print(combinations)"
   ]
  },
  {
   "cell_type": "markdown",
   "id": "a48a5aac-e05e-4691-a379-fc07a5e208ef",
   "metadata": {},
   "source": [
    "* Second, we will summary all the possibilities of head count and summary their probability"
   ]
  },
  {
   "cell_type": "code",
   "execution_count": 3,
   "id": "72d77e00-6dc5-4326-a8b5-5a5842145d57",
   "metadata": {},
   "outputs": [
    {
     "name": "stdout",
     "output_type": "stream",
     "text": [
      "  Heads_Count Probability Cumulative_P\n",
      "1           0      0.0625       0.0625\n",
      "2           1      0.2500       0.3125\n",
      "3           2      0.3750       0.6875\n",
      "4           3      0.2500       0.9375\n",
      "5           4      0.0625       1.0000\n"
     ]
    }
   ],
   "source": [
    "# Print the probability summary table\n",
    "print(probability_summary)"
   ]
  },
  {
   "cell_type": "markdown",
   "id": "3941020e-4894-41be-bef2-912ed7ae422b",
   "metadata": {},
   "source": [
    "* Third, to make it more understandable, we can create a bar chart for the distribution of head count and their probabilities"
   ]
  },
  {
   "cell_type": "code",
   "execution_count": 4,
   "id": "07133041-1c6a-4011-9566-c11d5ddb2915",
   "metadata": {},
   "outputs": [
    {
     "name": "stderr",
     "output_type": "stream",
     "text": [
      "Warning message:\n",
      "\"package 'ggthemes' was built under R version 4.4.2\"\n"
     ]
    },
    {
     "data": {
      "image/png": "[encoded data removed]",
      "text/plain": [
       "plot without title"
      ]
     },
     "metadata": {
      "image/png": {
       "height": 480,
       "width": 1200
      }
     },
     "output_type": "display_data"
    }
   ],
   "source": [
    "#######################################################################################\n",
    "## PLOTTING PROBABILITY MEAN FUNCTION (PMF) OF A DISCRETE RANDOM VARIABLE\n",
    "#######################################################################################\n",
    "\n",
    "# Now plot using ggplot2 and ggtheme (ggtheme is libarary for some nice theme - here we use the economist theme).\n",
    "library(ggplot2)\n",
    "library(ggthemes)\n",
    "\n",
    "options(repr.plot.width=20, repr.plot.height=8) # this is just to make the plots wider (extend to the end of laptop display) \n",
    "\n",
    "ggplot(data = probability_summary, aes(x = Heads_Count, y = Probability)) +\n",
    "  geom_bar(stat = \"identity\", fill = \"blue\") +\n",
    "  labs(x = \"Number of Heads\", y = \"Probability\", title = \"Probability Distribution of Heads Count\") +\n",
    "  theme_economist(base_size = 30, dkpanel=TRUE)"
   ]
  },
  {
   "cell_type": "code",
   "execution_count": 5,
   "id": "552e957f-9d5b-4b3f-b8f4-3fbc847a4bbb",
   "metadata": {},
   "outputs": [
    {
     "data": {
      "image/png": "[encoded data removed]",
      "text/plain": [
       "plot without title"
      ]
     },
     "metadata": {
      "image/png": {
       "height": 480,
       "width": 1200
      }
     },
     "output_type": "display_data"
    }
   ],
   "source": [
    "#######################################################################################\n",
    "## PLOTTING CUMMULATIVE DISTRIBUTION FUNCTION (CDF) OF A DISCRETE RANDOM VARIABLE\n",
    "#######################################################################################\n",
    "\n",
    "# Create the line graph for cumulative probabilities\n",
    "ggplot(data = probability_summary, aes(x = Heads_Count)) +\n",
    "  geom_line(aes(y = Cumulative_P, group = 1), color = \"red\", linewidth = 1.5) +  # Updated to use 'linewidth'\n",
    "  geom_point(aes(y = Cumulative_P), color = \"red\", size = 3) +\n",
    "  labs(x = \"Number of Heads\", y = \"Cumulative Probability\") +\n",
    "  ggtitle(\"Cumulative Distribution Function of R.V. Heads Count\") +\n",
    "  theme_economist(base_size = 30, dkpanel=TRUE)"
   ]
  },
  {
   "cell_type": "markdown",
   "id": "bc8fee40-321f-4551-b7e1-198624a8c65a",
   "metadata": {},
   "source": [
    "* SIMULATION 2: We can make a more dynamic simulation where we can set more trials and more coin flips"
   ]
  },
  {
   "cell_type": "code",
   "execution_count": 6,
   "id": "77b99b50-fac4-4c74-9c8e-1fad7c322156",
   "metadata": {},
   "outputs": [
    {
     "data": {
      "image/png": "[encoded data removed]",
      "text/plain": [
       "plot without title"
      ]
     },
     "metadata": {
      "image/png": {
       "height": 480,
       "width": 1200
      }
     },
     "output_type": "display_data"
    },
    {
     "data": {
      "image/png": "[encoded data removed]",
      "text/plain": [
       "plot without title"
      ]
     },
     "metadata": {
      "image/png": {
       "height": 480,
       "width": 1200
      }
     },
     "output_type": "display_data"
    }
   ],
   "source": [
    "#######################################################################################\n",
    "## PLOTTING CUMMULATIVE DISTRIBUTION FUNCTION (CDF) OF A DISCRETE RANDOM VARIABLE\n",
    "#######################################################################################\n",
    "library(ggplot2)\n",
    "library(ggthemes)\n",
    "n_flips <- 20  # Set the number of coin flips\n",
    "\n",
    "# Number of simulations\n",
    "n_simulations <- 500000  # Set the number of trials/simulation\n",
    "\n",
    "# Run simulations: each row is one trial, each column is a coin flip\n",
    "simulated_flips <- matrix(sample(c(0,1), size = n_simulations * n_flips, replace = TRUE), \n",
    "                          nrow = n_simulations, ncol = n_flips)\n",
    "\n",
    "# Count number of heads in each trial\n",
    "heads_count <- rowSums(simulated_flips)\n",
    "\n",
    "# Estimate PMF by counting occurrences\n",
    "pmf_data <- as.data.frame(table(heads_count))\n",
    "colnames(pmf_data) <- c(\"Heads_Count\", \"Probability\")\n",
    "\n",
    "# Convert to numeric and normalize probabilities\n",
    "pmf_data$Heads_Count <- as.numeric(as.character(pmf_data$Heads_Count))\n",
    "pmf_data$Probability <- pmf_data$Probability / n_simulations  # Convert count to probability\n",
    "pmf_data$Cumulative_P <- cumsum(pmf_data$Probability)  # Compute cumulative probabilities\n",
    "\n",
    "# PMF Plot\n",
    "pmf_plot <- ggplot(pmf_data, aes(x = as.factor(Heads_Count), y = Probability)) +\n",
    "  geom_bar(stat = \"identity\", fill = \"blue\") +\n",
    "  labs(x = \"Number of Heads\", y = \"Probability\", title = paste(\"Simulated PMF of\", n_flips, \"Coin Flips\")) +\n",
    "  theme_economist(base_size = 30, dkpanel=TRUE)  \n",
    "\n",
    "pmf_plot\n",
    "\n",
    "# CDF Plot (Line Graph)\n",
    "cdf_plot <- ggplot(pmf_data, aes(x = Heads_Count, y = Cumulative_P)) +\n",
    "  geom_line(color = \"red\", linewidth = 1.5) +\n",
    "  geom_point(color = \"red\", size = 3) +\n",
    "  labs(x = \"Number of Heads\", y = \"Cumulative Probability\", title = paste(\"Simulated CDF of\", n_flips, \"Coin Flips\")) +\n",
    "  theme_economist(base_size = 30, dkpanel=TRUE) \n",
    "\n",
    "cdf_plot"
   ]
  },
  {
   "cell_type": "markdown",
   "id": "70309647-0662-42f3-98d3-9ed8b7781282",
   "metadata": {},
   "source": [
    "## **B. Continous Random Variable**<a class=\"anchor\" id=\"b\"></a>\n",
    "<hr>\n",
    "\n",
    "### **B. 1 Probability Distribution Function**<a class=\"anchor\" id=\"b.1\"></a>\n",
    "Let $X$ be a random variable. $X$ is continuous if there exists a function $f_X$ such that:\n",
    "\n",
    "$$\n",
    "f_X(x) \\geq 0 \\text{ for all } x, \\quad \\text{and} \\quad \\int_{-\\infty}^{\\infty} f_X(x) \\, dx = 1\n",
    "$$\n",
    "\n",
    "For $a \\leq b$:\n",
    "\n",
    "$$\n",
    "P(a \\leq X \\leq b) = \\int_a^b f_X(x) \\, dx\n",
    "$$\n",
    "\n",
    "The function $f_X$ is called the Probability Density Function (PDF)."
   ]
  },
  {
   "cell_type": "markdown",
   "id": "719382fa-002b-4d94-a650-93db6d8d178f",
   "metadata": {},
   "source": [
    "**Example :**\n",
    "\n",
    "Let $X$ be a continuous r.v. with PDF $f(x) = kx^2$ where $0 \\leq x \\leq 1$. First, find $k$ to ensure $f(x)$ is a valid PDF:\n",
    "\n",
    "$$\n",
    "\\int_0^1 kx^2 \\, dx = 1\n",
    "$$\n",
    "\n",
    "To solve for $k$:\n",
    "\n",
    "$$\n",
    "\\int_0^1 kx^2 \\, dx = \\frac{k}{3}[x^3]_0^1 = \\frac{k}{3} = 1\n",
    "$$\n",
    "\n",
    "$$\n",
    "k = 3\n",
    "$$\n"
   ]
  },
  {
   "cell_type": "markdown",
   "id": "5882c4bb-d1a9-4cdf-94b9-243b5ef024c9",
   "metadata": {},
   "source": [
    "### **B. 2 Cumulative Distribution Function**<a class=\"anchor\" id=\"b.2\"></a>\n",
    "For a continuous random variable, the CDF can be expressed as:\n",
    "\n",
    "$$\n",
    "F_X(x) = P(X \\leq x) = \\int_{-\\infty}^x f(t) \\, dt\n",
    "$$"
   ]
  },
  {
   "cell_type": "markdown",
   "id": "e302176c-0e29-49f6-a5a8-5203b3402235",
   "metadata": {},
   "source": [
    "## **C. Expectation and Variance of Random Variable**<a class=\"anchor\" id=\"c\"></a>\n",
    "<hr>\n",
    "\n",
    "### **C.1  Expectation of Random Variable**\n",
    "Let $X$ be a random variable. If $X$ is a continuous random variable with probability density function (pdf) $f(x)$, then the expectation of $X$ is:\n",
    "\n",
    "$$\n",
    "E(X) = \\int_{-\\infty}^{\\infty} x f(x) \\, dx\n",
    "$$\n",
    "\n",
    "If $X$ is a discrete random variable with probability mass function (pmf) $p(x)$, then the expectation of $X$ is:\n",
    "\n",
    "$$\n",
    "E(X) = \\sum x p(x)\n",
    "$$\n",
    "\n",
    "Let $g(X)$ be a function on $X$, that is $Y = g(X)$, then the expected value of $g(X)$ is:\n",
    "\n",
    "$$\n",
    "E(g(X)) = \\sum g(x) p(x) \\quad \\text{if $X$ is discrete}\n",
    "$$\n",
    "\n",
    "$$\n",
    "E(g(X)) = \\int_{-\\infty}^{\\infty} g(x) f(x) \\, dx \\quad \\text{if $X$ is continuous}\n",
    "$$"
   ]
  },
  {
   "cell_type": "markdown",
   "id": "83057ec9-b77b-4c2f-a817-aafcecc6307f",
   "metadata": {},
   "source": [
    "**Example :**\n",
    "<hr>\n",
    "\n",
    "Let $X$ be a discrete random variable with the following probability function:\n",
    "\n",
    "$$\n",
    "\\begin{array}{c|cccccc}\n",
    "x & -1 & 0 & 1 & 2 & 3 & 4 & 5 \\\\\n",
    "\\hline\n",
    "P(X=x) & \\frac{1}{7} & \\frac{1}{7} & \\frac{1}{7} & \\frac{1}{7} & \\frac{1}{7} & \\frac{1}{7} & \\frac{1}{7}\n",
    "\\end{array}\n",
    "$$\n",
    "\n",
    "To find the expected value $E[X]$, we calculate:\n",
    "\n",
    "$$\n",
    "\\mu = E[X] = \\sum x P(x) = \\left(-1 \\cdot \\frac{1}{7}\\right) + \\left(0 \\cdot \\frac{1}{7}\\right) + \\left(1 \\cdot \\frac{1}{7}\\right) + \\left(2 \\cdot \\frac{1}{7}\\right) + \\left(3 \\cdot \\frac{1}{7}\\right) + \\left(4 \\cdot \\frac{1}{7}\\right) + \\left(5 \\cdot \\frac{1}{7}\\right)\n",
    "$$\n",
    "\n",
    "$$\n",
    "\\mu = \\frac{-1 + 0 + 1 + 2 + 3 + 4 + 5}{7} = \\frac{14}{7} = 2\n",
    "$$"
   ]
  },
  {
   "cell_type": "markdown",
   "id": "3a842388-ca61-476f-8c3c-b9b3b6ddd6a4",
   "metadata": {},
   "source": [
    "### **C.2  Variance of Random Variable**\n",
    "\n",
    "Variance of a Random Variable is defined as the expected value of the squared deviation of $X$ from its mean:\n",
    "\n",
    "$$\n",
    "\\sigma^2 = E[(X - \\mu)^2]\n",
    "$$\n",
    "\n",
    "Expanding this, we get:\n",
    "\n",
    "$$\n",
    "\\sigma^2 = E[X^2] - 2XE[\\mu] + \\mu^2 \\quad \\text{by linearity of expectation and $\\mu$ constant (E[$\\mu$] = $\\mu$)}\n",
    "$$\n",
    "\n",
    "$$\n",
    "\\sigma^2 = E[X^2] - 2\\mu E[X] + \\mu^2\n",
    "$$\n",
    "\n",
    "$$\n",
    "\\sigma^2 = E[X^2] - 2\\mu^2 + \\mu^2\n",
    "$$\n",
    "\n",
    "$$\n",
    "\\sigma^2 = E[X^2] - \\mu^2\n",
    "$$\n",
    "\n",
    "Thus, the variance is also given by:\n",
    "\n",
    "$$\n",
    "\\sigma^2 = E[X^2] - (E[X])^2\n",
    "$$"
   ]
  },
  {
   "cell_type": "markdown",
   "id": "28a896a9-9253-46cb-b948-b1876578aa3e",
   "metadata": {},
   "source": [
    "**Example:**\n",
    "\n",
    "Suppose we have a PDF $f(x) = 3x^2$ on $0 \\leq x \\leq 1$. \n",
    "Find $E(X)$:\n",
    "\n",
    "$$\n",
    "E(X) = \\int_0^1 x \\cdot 3x^2 \\, dx = 3\\int_0^1 x^3 \\, dx\n",
    "$$\n",
    "\n",
    "$$\n",
    "E(X) = 3\\left[\\frac{x^4}{4}\\right]_0^1 = 3\\left[\\frac{1}{4}\\right] = \\frac{3}{4}\n",
    "$$"
   ]
  },
  {
   "cell_type": "markdown",
   "id": "5790dc98-25ce-4e2f-b418-a88934c97f5a",
   "metadata": {},
   "source": [
    "**Example**\n",
    "\n",
    "Given a continuous random variable $X$ with probability density function (PDF) $f(x) = \\frac{x^2}{3}$ within the interval $0 \\leq x \\leq 1$, we first find the expected value $E(X)$ and then calculate the variance $\\sigma^2$.\n",
    "\n",
    "#### **Expected Value $E(X)$**\n",
    "\n",
    "The expected value is calculated as:\n",
    "\n",
    "$$\n",
    "E(X) = \\int_0^1 x \\cdot \\frac{x^2}{3} \\, dx = \\frac{1}{3} \\int_0^1 x^3 \\, dx\n",
    "$$\n",
    "\n",
    "Evaluating the integral:\n",
    "\n",
    "$$\n",
    "E(X) = \\frac{1}{3} \\left[\\frac{x^4}{4}\\right]_0^1 = \\frac{1}{3} \\left[\\frac{1}{4}\\right] = \\frac{1}{12}\n",
    "$$\n",
    "\n",
    "#### **Second Moment $E(X^2)$**\n",
    "\n",
    "To find the second moment, $E(X^2)$, set $g(X) = X^2$:\n",
    "\n",
    "$$\n",
    "E(X^2) = \\int_0^1 x^2 \\cdot \\frac{x^2}{3} \\, dx = \\frac{1}{3} \\int_0^1 x^4 \\, dx\n",
    "$$\n",
    "\n",
    "Evaluating the integral:\n",
    "\n",
    "$$\n",
    "E(X^2) = \\frac{1}{3} \\left[\\frac{x^5}{5}\\right]_0^1 = \\frac{1}{3} \\left[\\frac{1}{5}\\right] = \\frac{1}{15}\n",
    "$$\n",
    "\n",
    "#### **Variance $\\sigma^2$**\n",
    "\n",
    "Variance of $X$ is given by:\n",
    "\n",
    "$$\n",
    "\\sigma^2 = E(X^2) - [E(X)]^2\n",
    "$$\n",
    "\n",
    "Plugging in the values:\n",
    "\n",
    "$$\n",
    "\\sigma^2 = \\frac{1}{15} - \\left(\\frac{1}{12}\\right)^2 = \\frac{1}{15} - \\frac{1}{144}\n",
    "$$\n",
    "\n",
    "Converting to a common denominator and simplifying:\n",
    "\n",
    "$$\n",
    "\\sigma^2 = \\frac{48}{720} - \\frac{5}{720} = \\frac{43}{720} \\approx 0.0597\n",
    "$$\n",
    "\n",
    "Thus, the variance of the random variable $X$ is approximately $0.0597$."
   ]
  },
  {
   "cell_type": "markdown",
   "id": "b86a262b-96b4-4211-ad97-7d810757c129",
   "metadata": {},
   "source": [
    "### **C. 3 R Simulation of Expectation and Variance of Random Variable**"
   ]
  },
  {
   "cell_type": "markdown",
   "id": "bf01d97a-81c5-41a3-8882-3d4763dfdc23",
   "metadata": {},
   "source": [
    "### **1st Example - Discrete Random Variable**"
   ]
  },
  {
   "cell_type": "markdown",
   "id": "0064d8cc-663c-4a0a-a62b-94b12e80ec5e",
   "metadata": {},
   "source": [
    "By using the example from A.3, we can count the $E(x)$ and $Var(x)$"
   ]
  },
  {
   "cell_type": "code",
   "execution_count": 7,
   "id": "197ec382-9ac8-4841-b655-4c4fc38efcc7",
   "metadata": {},
   "outputs": [
    {
     "data": {
      "text/html": [
       "<table class=\"dataframe\">\n",
       "<caption>A data.frame: 5 × 4</caption>\n",
       "<thead>\n",
       "\t<tr><th scope=col>Heads_Count</th><th scope=col>Probability</th><th scope=col>Cumulative_P</th><th scope=col>xPx</th></tr>\n",
       "\t<tr><th scope=col>&lt;dbl&gt;</th><th scope=col>&lt;dbl&gt;</th><th scope=col>&lt;dbl&gt;</th><th scope=col>&lt;dbl&gt;</th></tr>\n",
       "</thead>\n",
       "<tbody>\n",
       "\t<tr><td>0</td><td>0.0625</td><td>0.0625</td><td>0.00</td></tr>\n",
       "\t<tr><td>1</td><td>0.2500</td><td>0.3125</td><td>0.25</td></tr>\n",
       "\t<tr><td>2</td><td>0.3750</td><td>0.6875</td><td>0.75</td></tr>\n",
       "\t<tr><td>3</td><td>0.2500</td><td>0.9375</td><td>0.75</td></tr>\n",
       "\t<tr><td>4</td><td>0.0625</td><td>1.0000</td><td>0.25</td></tr>\n",
       "</tbody>\n",
       "</table>\n"
      ],
      "text/latex": [
       "A data.frame: 5 × 4\n",
       "\\begin{tabular}{llll}\n",
       " Heads\\_Count & Probability & Cumulative\\_P & xPx\\\\\n",
       " <dbl> & <dbl> & <dbl> & <dbl>\\\\\n",
       "\\hline\n",
       "\t 0 & 0.0625 & 0.0625 & 0.00\\\\\n",
       "\t 1 & 0.2500 & 0.3125 & 0.25\\\\\n",
       "\t 2 & 0.3750 & 0.6875 & 0.75\\\\\n",
       "\t 3 & 0.2500 & 0.9375 & 0.75\\\\\n",
       "\t 4 & 0.0625 & 1.0000 & 0.25\\\\\n",
       "\\end{tabular}\n"
      ],
      "text/markdown": [
       "\n",
       "A data.frame: 5 × 4\n",
       "\n",
       "| Heads_Count &lt;dbl&gt; | Probability &lt;dbl&gt; | Cumulative_P &lt;dbl&gt; | xPx &lt;dbl&gt; |\n",
       "|---|---|---|---|\n",
       "| 0 | 0.0625 | 0.0625 | 0.00 |\n",
       "| 1 | 0.2500 | 0.3125 | 0.25 |\n",
       "| 2 | 0.3750 | 0.6875 | 0.75 |\n",
       "| 3 | 0.2500 | 0.9375 | 0.75 |\n",
       "| 4 | 0.0625 | 1.0000 | 0.25 |\n",
       "\n"
      ],
      "text/plain": [
       "  Heads_Count Probability Cumulative_P xPx \n",
       "1 0           0.0625      0.0625       0.00\n",
       "2 1           0.2500      0.3125       0.25\n",
       "3 2           0.3750      0.6875       0.75\n",
       "4 3           0.2500      0.9375       0.75\n",
       "5 4           0.0625      1.0000       0.25"
      ]
     },
     "metadata": {},
     "output_type": "display_data"
    },
    {
     "name": "stdout",
     "output_type": "stream",
     "text": [
      "Expected Value of RV is 2 \n"
     ]
    }
   ],
   "source": [
    "probabilitySummary <- as.data.frame(probability_summary)\n",
    "probabilitySummary$xPx = probabilitySummary$Heads_Count * probabilitySummary$Probability\n",
    "probabilitySummary\n",
    "total_sum_ex<-sum(probabilitySummary$xPx, na.rm = TRUE)\n",
    "cat(\"Expected Value of RV is\", total_sum_ex,\"\\n\")"
   ]
  },
  {
   "cell_type": "code",
   "execution_count": 8,
   "id": "e17f1809-cdab-4fbc-9672-cdc1ab1ab941",
   "metadata": {},
   "outputs": [
    {
     "data": {
      "text/html": [
       "<table class=\"dataframe\">\n",
       "<caption>A data.frame: 5 × 4</caption>\n",
       "<thead>\n",
       "\t<tr><th scope=col>Heads_Count</th><th scope=col>Probability</th><th scope=col>Cumulative_P</th><th scope=col>x2Px</th></tr>\n",
       "\t<tr><th scope=col>&lt;dbl&gt;</th><th scope=col>&lt;dbl&gt;</th><th scope=col>&lt;dbl&gt;</th><th scope=col>&lt;dbl&gt;</th></tr>\n",
       "</thead>\n",
       "<tbody>\n",
       "\t<tr><td>0</td><td>0.0625</td><td>0.0625</td><td>0.00</td></tr>\n",
       "\t<tr><td>1</td><td>0.2500</td><td>0.3125</td><td>0.25</td></tr>\n",
       "\t<tr><td>2</td><td>0.3750</td><td>0.6875</td><td>1.50</td></tr>\n",
       "\t<tr><td>3</td><td>0.2500</td><td>0.9375</td><td>2.25</td></tr>\n",
       "\t<tr><td>4</td><td>0.0625</td><td>1.0000</td><td>1.00</td></tr>\n",
       "</tbody>\n",
       "</table>\n"
      ],
      "text/latex": [
       "A data.frame: 5 × 4\n",
       "\\begin{tabular}{llll}\n",
       " Heads\\_Count & Probability & Cumulative\\_P & x2Px\\\\\n",
       " <dbl> & <dbl> & <dbl> & <dbl>\\\\\n",
       "\\hline\n",
       "\t 0 & 0.0625 & 0.0625 & 0.00\\\\\n",
       "\t 1 & 0.2500 & 0.3125 & 0.25\\\\\n",
       "\t 2 & 0.3750 & 0.6875 & 1.50\\\\\n",
       "\t 3 & 0.2500 & 0.9375 & 2.25\\\\\n",
       "\t 4 & 0.0625 & 1.0000 & 1.00\\\\\n",
       "\\end{tabular}\n"
      ],
      "text/markdown": [
       "\n",
       "A data.frame: 5 × 4\n",
       "\n",
       "| Heads_Count &lt;dbl&gt; | Probability &lt;dbl&gt; | Cumulative_P &lt;dbl&gt; | x2Px &lt;dbl&gt; |\n",
       "|---|---|---|---|\n",
       "| 0 | 0.0625 | 0.0625 | 0.00 |\n",
       "| 1 | 0.2500 | 0.3125 | 0.25 |\n",
       "| 2 | 0.3750 | 0.6875 | 1.50 |\n",
       "| 3 | 0.2500 | 0.9375 | 2.25 |\n",
       "| 4 | 0.0625 | 1.0000 | 1.00 |\n",
       "\n"
      ],
      "text/plain": [
       "  Heads_Count Probability Cumulative_P x2Px\n",
       "1 0           0.0625      0.0625       0.00\n",
       "2 1           0.2500      0.3125       0.25\n",
       "3 2           0.3750      0.6875       1.50\n",
       "4 3           0.2500      0.9375       2.25\n",
       "5 4           0.0625      1.0000       1.00"
      ]
     },
     "metadata": {},
     "output_type": "display_data"
    },
    {
     "name": "stdout",
     "output_type": "stream",
     "text": [
      "E(X) is 2 \n",
      "E(X^2) is 5 \n",
      "Variance (sigma^2)=E(X^2)-(E(x))^2 is 1 \n"
     ]
    }
   ],
   "source": [
    "probabilitySummary <- as.data.frame(probability_summary)\n",
    "probabilitySummary$x2Px <- \n",
    "    (probabilitySummary$Heads_Count)^2 * probabilitySummary$Probability\n",
    "probabilitySummary\n",
    "total_sum_ex2<-sum(probabilitySummary$x2Px, na.rm = TRUE)\n",
    "cat(\"E(X) is\", total_sum_ex,\"\\n\")\n",
    "cat(\"E(X^2) is\", total_sum_ex2,\"\\n\")\n",
    "cat(\"Variance (sigma^2)=E(X^2)-(E(x))^2 is\", total_sum_ex2-(total_sum_ex)^2,\"\\n\")"
   ]
  },
  {
   "cell_type": "markdown",
   "id": "65ac5cc1-6a4c-4bf6-abab-198bda5dde96",
   "metadata": {},
   "source": [
    "**2nd Example - Continous Random Variable**\n",
    "\n",
    "Suppose we have a PDF $f(x) = \\lambda x^{-\\lambda x}$ where $\\lambda = \\frac{1}{3}$and we need to  count the expectation of it and its variance in R. Here is the code."
   ]
  },
  {
   "cell_type": "code",
   "execution_count": 9,
   "id": "0eed2975-9610-4e8f-9fba-e7a9f8e29f70",
   "metadata": {},
   "outputs": [
    {
     "name": "stdout",
     "output_type": "stream",
     "text": [
      "Expected Value E[X]: 3 \n",
      "Variance Var(X): 9 \n"
     ]
    }
   ],
   "source": [
    "#############################################################################################################################\n",
    "## CALCULATING EXPECTATION AND VARIANCE OF A PDF $f(x) = \\lambda x^{-\\lambda x}$ where $\\lambda = \\frac{1}{3}$\n",
    "#############################################################################################################################\n",
    "# Define the lambda parameter\n",
    "lambda <- 1/3\n",
    "\n",
    "# PDF function for the exponential distribution\n",
    "pdf_function <- function(x) {\n",
    "  lambda * exp(-lambda * x)\n",
    "}\n",
    "\n",
    "# Expected value calculation\n",
    "expected_value <- function(lambda) {\n",
    "  integrate(function(x) x * pdf_function(x), lower = 0, upper = Inf)$value\n",
    "}\n",
    "\n",
    "# Second moment (E[X^2]) calculation\n",
    "second_moment <- function(lambda) {\n",
    "  integrate(function(x) x^2 * pdf_function(x), lower = 0, upper = Inf)$value\n",
    "}\n",
    "\n",
    "# Calculate expected value\n",
    "E_X <- expected_value(lambda)\n",
    "\n",
    "# Calculate second moment\n",
    "E_X2 <- second_moment(lambda)\n",
    "\n",
    "# Calculate variance\n",
    "variance <- E_X2 - E_X^2\n",
    "\n",
    "# Output results\n",
    "cat(\"Expected Value E[X]:\", E_X, \"\\n\")\n",
    "cat(\"Variance Var(X):\", variance, \"\\n\")\n"
   ]
  },
  {
   "cell_type": "code",
   "execution_count": 10,
   "id": "8e934439-8f42-40c5-a06a-8ae8835b0517",
   "metadata": {},
   "outputs": [
    {
     "name": "stderr",
     "output_type": "stream",
     "text": [
      "Warning message:\n",
      "\"\u001b[1m\u001b[22mUsing `size` aesthetic for lines was deprecated in ggplot2 3.4.0.\n",
      "\u001b[36mℹ\u001b[39m Please use `linewidth` instead.\"\n"
     ]
    },
    {
     "data": {
      "image/png": "[encoded data removed]",
      "text/plain": [
       "plot without title"
      ]
     },
     "metadata": {
      "image/png": {
       "height": 480,
       "width": 1200
      }
     },
     "output_type": "display_data"
    }
   ],
   "source": [
    "#############################################################################################################################\n",
    "## PLOTTING PDF and CDF OF A CONTINOUS RANDOM VARIABLE $f(x) = \\lambda x^{-\\lambda x}$ where $\\lambda = \\frac{1}{3}$\n",
    "#############################################################################################################################\n",
    "\n",
    "# Define the lambda parameter\n",
    "lambda <- 1/3\n",
    "\n",
    "# Define the PDF function for the exponential distribution\n",
    "pdf_function <- function(x) {\n",
    "  lambda * exp(-lambda * x)\n",
    "}\n",
    "\n",
    "# Define a function to calculate the CDF by integrating the PDF\n",
    "cdf_function <- function(x) {\n",
    "  sapply(x, function(x_val) {\n",
    "    integrate(pdf_function, lower = 0, upper = x_val)$value\n",
    "  })\n",
    "}\n",
    "\n",
    "# Create a sequence of x values\n",
    "x_values <- seq(0, 20, by = 0.1)\n",
    "\n",
    "# Calculate PDF values\n",
    "pdf_values <- pdf_function(x_values)\n",
    "\n",
    "# Calculate CDF values\n",
    "cdf_values <- cdf_function(x_values)\n",
    "\n",
    "# Create a data frame for ggplot\n",
    "data <- data.frame(x_values, pdf_values, cdf_values)\n",
    "\n",
    "# Plotting PDF and CDF using ggplot2\n",
    "ggplot(data, aes(x = x_values)) +\n",
    "  geom_line(aes(y = pdf_values, color = \"PDF\"), size = 1) +\n",
    "  geom_line(aes(y = cdf_values, color = \"CDF\"), size = 1) +\n",
    "  scale_color_manual(values = c(\"PDF\" = \"#E3120B\", \"CDF\" = \"#005689\")) +\n",
    "  labs(title = \"PDF and CDF of Exponential Distribution\",\n",
    "       x = \"X values\",\n",
    "       y = \"Probability\",\n",
    "       color = \"Legend\") +\n",
    "  theme_economist(base_size = 30, dkpanel=TRUE) +\n",
    "  theme(plot.title = element_text(hjust = 0.5),\n",
    "        legend.position = \"bottom\",\n",
    "        legend.title=element_text(hjust= 0.5))\n"
   ]
  },
  {
   "cell_type": "markdown",
   "id": "c62a6da3-b925-424f-bebb-2efb56634ddf",
   "metadata": {},
   "source": [
    "## **D. Moment and Moment Generating Function** <a class=\"anchor\" id=\"d\"></a>\n",
    "<hr>\n",
    "\n",
    "### **D.1 Moment**\n",
    "## Moments of a Distribution\n",
    "\n",
    "Moments are quantitative measures related to the shape of the distribution function of a random variable.\n",
    "\n",
    "### Definitions\n",
    "\n",
    "- The **k-th moment about the origin** (raw moment) of a random variable $X$ is denoted by $\\mu_k'$ and defined as:\n",
    "  \n",
    "  $$\n",
    "  E[X^k]\n",
    "  $$\n",
    "\n",
    "- The **k-th moment about its mean** (central k-th moment) of a random variable $X$ is denoted by $\\mu_k$ and defined as:\n",
    "  \n",
    "  $$\n",
    "  E[(X-\\mu)^k]\n",
    "  $$\n",
    "\n",
    "  where $\\mu$ is the mean of $X$ and $k$ is typically 2, 3, 4, etc."
   ]
  },
  {
   "cell_type": "markdown",
   "id": "c525813d-6ee9-4f4e-bdce-eb1b075c4719",
   "metadata": {},
   "source": [
    "### **D.2 Moment Generating Function**\n",
    "The moment generating function (MGF) of a random variable $X$ is a function $M_X(s)$ defined as\n",
    "$$M_X(s) = \\mathbb{E}[e^{sX}].$$\n",
    "We say that MGF of $X$ exists, if there exists a positive constant $a$ such that $M_X(s)$ is finite for all $s \\in [-a, a]$.\n"
   ]
  },
  {
   "cell_type": "code",
   "execution_count": 11,
   "id": "edd435ff-b805-40f0-94ee-78851117280d",
   "metadata": {},
   "outputs": [],
   "source": [
    "#################################################################### END #########################################################################################################"
   ]
  }
 ],
 "metadata": {
  "kernelspec": {
   "display_name": "R",
   "language": "R",
   "name": "ir"
  },
  "language_info": {
   "codemirror_mode": "r",
   "file_extension": ".r",
   "mimetype": "text/x-r-source",
   "name": "R",
   "pygments_lexer": "r",
   "version": "4.4.1"
  }
 },
 "nbformat": 4,
 "nbformat_minor": 5
}
