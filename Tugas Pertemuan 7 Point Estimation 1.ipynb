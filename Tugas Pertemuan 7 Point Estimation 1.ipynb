{
 "cells": [
  {
   "cell_type": "markdown",
   "id": "a15d8589-9a25-4982-bafa-f4400f56a8d8",
   "metadata": {},
   "source": [
    "# Method of Moment dan Maximimum Likelihood"
   ]
  },
  {
   "cell_type": "markdown",
   "id": "acdabf35-9a3e-4640-ab40-ef15a696bfc1",
   "metadata": {},
   "source": [
    "## Distribusi Normal"
   ]
  },
  {
   "cell_type": "markdown",
   "id": "565e96d1-4719-4d47-b60d-e73f6f1d74d4",
   "metadata": {},
   "source": [
    "| Parameter     | Estimator MM                                                       | Estimator MLE                                                     |\n",
    "|---------------|--------------------------------------------------------------------|--------------------------------------------------------------------|\n",
    "| $\\mu$         | $\\bar{X}$                                                          | $\\bar{X}$                                                          |\n",
    "| $\\sigma^2$    | $\\dfrac{1}{n - 1} \\sum (X_i - \\bar{X})^2$                           | $\\dfrac{1}{n} \\sum (X_i - \\bar{X})^2$                              |\n"
   ]
  },
  {
   "cell_type": "markdown",
   "id": "adc385b4-8f03-4425-b6b7-4be1ef9b6758",
   "metadata": {},
   "source": [
    "**1. Produksi Gabah di Kabupaten Grobogan, Jawa Tengah (kg/ha)**\n",
    "\n",
    "Petani di Kabupaten Grobogan, Jawa Tengah — salah satu daerah penghasil gabah terbesar di Indonesia — menghasilkan gabah dengan variasi yang relatif kecil antar lahan karena kondisi tanah aluvial, curah hujan yang stabil, dan pola pemupukan intensif.\n",
    "\n",
    "Data berdasarkan hasil survei regional menunjukkan bahwa produksi gabah per hektar di wilayah ini *mendekati distribusi* \n",
    "$$N(\\mu, \\sigma^2)$$.\n",
    "\n",
    "- $\\mu=5.2$ ton $\\rightarrow$ rata-rata hasil panen gabah per hektar\n",
    "- $\\sigma^2=0.25$ $\\rightarrow$ variasi karena perbedaan kecil dalam cuaca mikro, penggunaan pestisida, dan teknik tanam"
   ]
  },
  {
   "cell_type": "markdown",
   "id": "e1d56bb4-3fae-4493-99b6-d589a99d37db",
   "metadata": {},
   "source": [
    "Kita ingin mengestimasi parameter populasi menggunakan MM atau MLE\n",
    "1. Sebagai \"data god\" kita generate terlebih dahulu data yang mencerminkan kondisi tersebut\n",
    "2. Kita estimasi dengan MM dan MLE nilai parameter\n",
    "3. Bandingkan hasil estimasi MM dan MLE vs true parameter\n",
    "* $\\mu$ vs $\\hat{\\mu}{MLE}$ vs $\\hat{\\mu}{MLE}$\n",
    "* $\\sigma^2$ vs $\\hat{\\sigma}^2_{MLE}$ vs $\\hat{\\sigma}^2_{MLE}$"
   ]
  },
  {
   "cell_type": "markdown",
   "id": "b9d30cb9-518e-4765-9a02-b2bbd59132ef",
   "metadata": {},
   "source": [
    "## Generate Data"
   ]
  },
  {
   "cell_type": "code",
   "execution_count": 26,
   "id": "150bd4c9-be6a-4d03-bacd-848d0fb67365",
   "metadata": {},
   "outputs": [
    {
     "data": {
      "text/html": [
       "<style>\n",
       ".list-inline {list-style: none; margin:0; padding: 0}\n",
       ".list-inline>li {display: inline-block}\n",
       ".list-inline>li:not(:last-child)::after {content: \"\\00b7\"; padding: 0 .5ex}\n",
       "</style>\n",
       "<ol class=list-inline><li>5.51037836794314</li><li>5.21782070185551</li><li>5.58657724217148</li><li>5.83624454276475</li><li>5.38548771652527</li><li>5.11857283153076</li></ol>\n"
      ],
      "text/latex": [
       "\\begin{enumerate*}\n",
       "\\item 5.51037836794314\n",
       "\\item 5.21782070185551\n",
       "\\item 5.58657724217148\n",
       "\\item 5.83624454276475\n",
       "\\item 5.38548771652527\n",
       "\\item 5.11857283153076\n",
       "\\end{enumerate*}\n"
      ],
      "text/markdown": [
       "1. 5.51037836794314\n",
       "2. 5.21782070185551\n",
       "3. 5.58657724217148\n",
       "4. 5.83624454276475\n",
       "5. 5.38548771652527\n",
       "6. 5.11857283153076\n",
       "\n",
       "\n"
      ],
      "text/plain": [
       "[1] 5.510378 5.217821 5.586577 5.836245 5.385488 5.118573"
      ]
     },
     "metadata": {},
     "output_type": "display_data"
    }
   ],
   "source": [
    "set.seed(2025)  # untuk replikasi\n",
    "\n",
    "# Parameter distribusi normal\n",
    "mu_true <- 5.2     # ton per hektar\n",
    "sigma2_true <- 0.25  # ini varian\n",
    "n <- 30            # jumlah petani\n",
    "\n",
    "# Generate data produksi gabah\n",
    "gabah <- rnorm(n, mean = mu_true, sd = sqrt(sigma2_true))\n",
    "head(gabah)"
   ]
  },
  {
   "cell_type": "markdown",
   "id": "6d68da40-cb98-4602-b716-fa9078bbbff0",
   "metadata": {},
   "source": [
    "## Estimasi Rata-Rata dengan MM dan MLE"
   ]
  },
  {
   "cell_type": "code",
   "execution_count": 27,
   "id": "ed6d2e24-67c0-4927-baf1-2183b1538e58",
   "metadata": {},
   "outputs": [
    {
     "name": "stdout",
     "output_type": "stream",
     "text": [
      "=== Estimasi Mean ===\n",
      "μ (true)      : 5.2 \n",
      "μ (MM)        : 5.303395 \n",
      "μ (MM)        : 5.303395 \n",
      "\n",
      "Selisih estimasi terhadap nilai sebenarnya:\n",
      "MM  Error     : 0.1033952 \n",
      "MLE Error     : 0.1033952 \n"
     ]
    }
   ],
   "source": [
    "# Estimasi mean (MM dan MLE sama untuk distribusi Normal)\n",
    "mu_mm  <- mean(gabah)\n",
    "mu_mle <- mean(gabah)\n",
    "\n",
    "# Tampilkan hasil\n",
    "cat(\"=== Estimasi Mean ===\\n\")\n",
    "cat(\"μ (true)      :\", mu_true, \"\\n\")\n",
    "cat(\"μ (MM)        :\", mu_mm, \"\\n\")\n",
    "cat(\"μ (MM)        :\", mu_mle, \"\\n\")\n",
    "\n",
    "# Tampilkan selisih\n",
    "cat(\"\\nSelisih estimasi terhadap nilai sebenarnya:\\n\")\n",
    "cat(\"MM  Error     :\", mu_mm - mu_true, \"\\n\")\n",
    "cat(\"MLE Error     :\", mu_mle - mu_true, \"\\n\")"
   ]
  },
  {
   "cell_type": "markdown",
   "id": "627db3da-b9e9-476a-aefd-0b479a6411d3",
   "metadata": {},
   "source": [
    "## Estimasi Varians dengan MM dan MLE"
   ]
  },
  {
   "cell_type": "code",
   "execution_count": 29,
   "id": "25d6e658-5e30-4b5c-a1d9-b92f36e34c02",
   "metadata": {},
   "outputs": [
    {
     "name": "stdout",
     "output_type": "stream",
     "text": [
      "\n",
      "=== Estimasi Variansi ===\n",
      "σ² (true)     : 0.25 \n",
      "σ² (MM)       : 0.2382835 \n",
      "σ² (MLE)      : 0.2303408 \n",
      "\n",
      "Selisih estimasi terhadap nilai sebenarnya:\n",
      "MM  Error     : -0.01171645 \n",
      "MLE Error     : -0.01965924 \n"
     ]
    }
   ],
   "source": [
    "# Estimasi variansi\n",
    "sigma2_mm  <- var(gabah)  # pakai n - 1 (unbiased estimator)\n",
    "sigma2_mle <- mean((gabah - mean(gabah))^2)  # pakai n (MLE)\n",
    "\n",
    "# Tampilkan hasil estimasi variansi\n",
    "cat(\"\\n=== Estimasi Variansi ===\\n\")\n",
    "cat(\"σ² (true)     :\", sigma2_true, \"\\n\")\n",
    "cat(\"σ² (MM)       :\", sigma2_mm, \"\\n\")\n",
    "cat(\"σ² (MLE)      :\", sigma2_mle, \"\\n\")\n",
    "\n",
    "# Selisih terhadap nilai sebenarnya\n",
    "cat(\"\\nSelisih estimasi terhadap nilai sebenarnya:\\n\")\n",
    "cat(\"MM  Error     :\", sigma2_mm - sigma2_true, \"\\n\")\n",
    "cat(\"MLE Error     :\", sigma2_mle - sigma2_true, \"\\n\")"
   ]
  },
  {
   "cell_type": "code",
   "execution_count": 34,
   "id": "f3dd6215-cd21-4c8b-ae88-91a7131f7b41",
   "metadata": {},
   "outputs": [
    {
     "data": {
      "image/png": "[encoded data removed]",
      "text/plain": [
       "Plot with title \"Distribusi Produksi Gabah per Hektar\""
      ]
     },
     "metadata": {
      "image/png": {
       "height": 420,
       "width": 420
      }
     },
     "output_type": "display_data"
    }
   ],
   "source": [
    "# Plot histogram dan density\n",
    "hist(gabah, breaks = 10, probability = TRUE,\n",
    "     col = \"lightgray\", border = \"white\",\n",
    "     main = \"Distribusi Produksi Gabah per Hektar\",\n",
    "     xlab = \"Produksi (ton/ha)\")\n",
    "\n",
    "# Tambahkan kurva PDF teoretis\n",
    "curve(\n",
    "  dnorm(x, mean = mu_true, sd = sqrt(sigma2_true)),\n",
    "  from = min(gabah), to = max(gabah),\n",
    "  add = TRUE, col = \"red\", lwd = 2\n",
    ")\n",
    "# Tambahkan kurva density\n",
    "#lines(density(gabah), lwd = 2, col = \"blue\")\n",
    "\n",
    "# Garis untuk mu ± sigma\n",
    "abline(v = mu_true, col = \"darkgreen\", lwd = 2, lty = 2)\n",
    "abline(v = mu_true + sqrt(sigma2_true), col = \"darkgreen\", lty = 3)\n",
    "abline(v = mu_true - sqrt(sigma2_true), col = \"darkgreen\", lty = 3)\n",
    "\n",
    "# Tambahkan legenda\n",
    "legend(\"topright\",\n",
    "       legend = c(\"PDF Teoretis\", expression(mu[true]), expression(mu[true] %+-% sigma[true])),\n",
    "       col = c(\"red\", \"darkgreen\", \"darkgreen\"),\n",
    "       lty = c(1, 2, 3), lwd = 2)\n"
   ]
  },
  {
   "cell_type": "markdown",
   "id": "b308958b-3ac7-48d6-9fd7-83e32adabcf1",
   "metadata": {},
   "source": [
    "## Efek penambahan jumlah petani"
   ]
  },
  {
   "cell_type": "code",
   "execution_count": 36,
   "id": "81f7ad77-6d7b-48ee-ba55-7be6525385d6",
   "metadata": {},
   "outputs": [
    {
     "data": {
      "text/html": [
       "<table class=\"dataframe\">\n",
       "<caption>A data.frame: 3 × 11</caption>\n",
       "<thead>\n",
       "\t<tr><th scope=col>n</th><th scope=col>mu_true</th><th scope=col>mu_mm</th><th scope=col>mu_mle</th><th scope=col>mu_mm_error</th><th scope=col>mu_mle_error</th><th scope=col>sigma2_true</th><th scope=col>sigma2_mm</th><th scope=col>sigma2_mle</th><th scope=col>sigma2_mm_error</th><th scope=col>sigma2_mle_error</th></tr>\n",
       "\t<tr><th scope=col>&lt;dbl&gt;</th><th scope=col>&lt;dbl&gt;</th><th scope=col>&lt;dbl&gt;</th><th scope=col>&lt;dbl&gt;</th><th scope=col>&lt;dbl&gt;</th><th scope=col>&lt;dbl&gt;</th><th scope=col>&lt;dbl&gt;</th><th scope=col>&lt;dbl&gt;</th><th scope=col>&lt;dbl&gt;</th><th scope=col>&lt;dbl&gt;</th><th scope=col>&lt;dbl&gt;</th></tr>\n",
       "</thead>\n",
       "<tbody>\n",
       "\t<tr><td> 300</td><td>5.2</td><td>5.202167</td><td>5.202167</td><td> 0.002166882</td><td> 0.002166882</td><td>0.25</td><td>0.2435382</td><td>0.2427264</td><td>-0.006461802</td><td>-0.007273596</td></tr>\n",
       "\t<tr><td> 800</td><td>5.2</td><td>5.197604</td><td>5.197604</td><td>-0.002396150</td><td>-0.002396150</td><td>0.25</td><td>0.2558665</td><td>0.2555467</td><td> 0.005866546</td><td> 0.005546713</td></tr>\n",
       "\t<tr><td>1000</td><td>5.2</td><td>5.183035</td><td>5.183035</td><td>-0.016965351</td><td>-0.016965351</td><td>0.25</td><td>0.2592516</td><td>0.2589924</td><td> 0.009251643</td><td> 0.008992392</td></tr>\n",
       "</tbody>\n",
       "</table>\n"
      ],
      "text/latex": [
       "A data.frame: 3 × 11\n",
       "\\begin{tabular}{lllllllllll}\n",
       " n & mu\\_true & mu\\_mm & mu\\_mle & mu\\_mm\\_error & mu\\_mle\\_error & sigma2\\_true & sigma2\\_mm & sigma2\\_mle & sigma2\\_mm\\_error & sigma2\\_mle\\_error\\\\\n",
       " <dbl> & <dbl> & <dbl> & <dbl> & <dbl> & <dbl> & <dbl> & <dbl> & <dbl> & <dbl> & <dbl>\\\\\n",
       "\\hline\n",
       "\t  300 & 5.2 & 5.202167 & 5.202167 &  0.002166882 &  0.002166882 & 0.25 & 0.2435382 & 0.2427264 & -0.006461802 & -0.007273596\\\\\n",
       "\t  800 & 5.2 & 5.197604 & 5.197604 & -0.002396150 & -0.002396150 & 0.25 & 0.2558665 & 0.2555467 &  0.005866546 &  0.005546713\\\\\n",
       "\t 1000 & 5.2 & 5.183035 & 5.183035 & -0.016965351 & -0.016965351 & 0.25 & 0.2592516 & 0.2589924 &  0.009251643 &  0.008992392\\\\\n",
       "\\end{tabular}\n"
      ],
      "text/markdown": [
       "\n",
       "A data.frame: 3 × 11\n",
       "\n",
       "| n &lt;dbl&gt; | mu_true &lt;dbl&gt; | mu_mm &lt;dbl&gt; | mu_mle &lt;dbl&gt; | mu_mm_error &lt;dbl&gt; | mu_mle_error &lt;dbl&gt; | sigma2_true &lt;dbl&gt; | sigma2_mm &lt;dbl&gt; | sigma2_mle &lt;dbl&gt; | sigma2_mm_error &lt;dbl&gt; | sigma2_mle_error &lt;dbl&gt; |\n",
       "|---|---|---|---|---|---|---|---|---|---|---|\n",
       "|  300 | 5.2 | 5.202167 | 5.202167 |  0.002166882 |  0.002166882 | 0.25 | 0.2435382 | 0.2427264 | -0.006461802 | -0.007273596 |\n",
       "|  800 | 5.2 | 5.197604 | 5.197604 | -0.002396150 | -0.002396150 | 0.25 | 0.2558665 | 0.2555467 |  0.005866546 |  0.005546713 |\n",
       "| 1000 | 5.2 | 5.183035 | 5.183035 | -0.016965351 | -0.016965351 | 0.25 | 0.2592516 | 0.2589924 |  0.009251643 |  0.008992392 |\n",
       "\n"
      ],
      "text/plain": [
       "  n    mu_true mu_mm    mu_mle   mu_mm_error  mu_mle_error sigma2_true\n",
       "1  300 5.2     5.202167 5.202167  0.002166882  0.002166882 0.25       \n",
       "2  800 5.2     5.197604 5.197604 -0.002396150 -0.002396150 0.25       \n",
       "3 1000 5.2     5.183035 5.183035 -0.016965351 -0.016965351 0.25       \n",
       "  sigma2_mm sigma2_mle sigma2_mm_error sigma2_mle_error\n",
       "1 0.2435382 0.2427264  -0.006461802    -0.007273596    \n",
       "2 0.2558665 0.2555467   0.005866546     0.005546713    \n",
       "3 0.2592516 0.2589924   0.009251643     0.008992392    "
      ]
     },
     "metadata": {},
     "output_type": "display_data"
    }
   ],
   "source": [
    "set.seed(2025)  # Reproducibility\n",
    "\n",
    "# Parameter distribusi normal\n",
    "mu_true     <- 5.2\n",
    "sigma2_true <- 0.25\n",
    "n_vec       <- c(300, 800, 1000)\n",
    "\n",
    "# Fungsi untuk estimasi MM dan MLE\n",
    "estimasi_normal <- function(n, mu_true, sigma2_true) {\n",
    "  gabah <- rnorm(n, mean = mu_true, sd = sqrt(sigma2_true))\n",
    "  \n",
    "  mu_mm  <- mean(gabah)\n",
    "  mu_mle <- mean(gabah)\n",
    "  \n",
    "  sigma2_mm  <- var(gabah)  # pakai n-1\n",
    "  sigma2_mle <- mean((gabah - mu_mle)^2)  # pakai n\n",
    "  \n",
    "  return(data.frame(\n",
    "    n             = n,\n",
    "    mu_true       = mu_true,\n",
    "    mu_mm         = mu_mm,\n",
    "    mu_mle        = mu_mle,\n",
    "    mu_mm_error   = mu_mm - mu_true,\n",
    "    mu_mle_error  = mu_mle - mu_true,\n",
    "    sigma2_true   = sigma2_true,\n",
    "    sigma2_mm     = sigma2_mm,\n",
    "    sigma2_mle    = sigma2_mle,\n",
    "    sigma2_mm_error  = sigma2_mm - sigma2_true,\n",
    "    sigma2_mle_error = sigma2_mle - sigma2_true\n",
    "  ))\n",
    "}\n",
    "\n",
    "# Jalankan untuk semua nilai n\n",
    "hasil_df <- do.call(rbind, lapply(n_vec, function(n) {\n",
    "  estimasi_normal(n, mu_true, sigma2_true)\n",
    "}))\n",
    "\n",
    "# Tampilkan hasil\n",
    "hasil_df"
   ]
  },
  {
   "cell_type": "markdown",
   "id": "7b610c5a-0d63-487c-b31d-455875f6dae3",
   "metadata": {},
   "source": [
    "## Efek Penambahan Jumlah Petani dan Penambahan Jumlah Simulasi"
   ]
  },
  {
   "cell_type": "code",
   "execution_count": 39,
   "id": "c284237f-d627-4ac8-8caa-0c2346c35f60",
   "metadata": {},
   "outputs": [
    {
     "data": {
      "text/html": [
       "<table class=\"dataframe\">\n",
       "<caption>A data.frame: 3 × 11</caption>\n",
       "<thead>\n",
       "\t<tr><th scope=col>n</th><th scope=col>mu_true</th><th scope=col>mu_mm</th><th scope=col>mu_mle</th><th scope=col>mu_mm_error</th><th scope=col>mu_mle_error</th><th scope=col>sigma2_true</th><th scope=col>sigma2_mm</th><th scope=col>sigma2_mle</th><th scope=col>sigma2_mm_error</th><th scope=col>sigma2_mle_error</th></tr>\n",
       "\t<tr><th scope=col>&lt;dbl&gt;</th><th scope=col>&lt;dbl&gt;</th><th scope=col>&lt;dbl&gt;</th><th scope=col>&lt;dbl&gt;</th><th scope=col>&lt;dbl&gt;</th><th scope=col>&lt;dbl&gt;</th><th scope=col>&lt;dbl&gt;</th><th scope=col>&lt;dbl&gt;</th><th scope=col>&lt;dbl&gt;</th><th scope=col>&lt;dbl&gt;</th><th scope=col>&lt;dbl&gt;</th></tr>\n",
       "</thead>\n",
       "<tbody>\n",
       "\t<tr><td> 300</td><td>5.2</td><td>5.199607</td><td>5.199607</td><td>-0.0003933713</td><td>-0.0003933713</td><td>0.25</td><td>0.2505550</td><td>0.2497198</td><td> 0.0005550301</td><td>-0.0002801534</td></tr>\n",
       "\t<tr><td> 800</td><td>5.2</td><td>5.199723</td><td>5.199723</td><td>-0.0002774591</td><td>-0.0002774591</td><td>0.25</td><td>0.2493150</td><td>0.2490033</td><td>-0.0006850089</td><td>-0.0009966526</td></tr>\n",
       "\t<tr><td>1000</td><td>5.2</td><td>5.200266</td><td>5.200266</td><td> 0.0002657051</td><td> 0.0002657051</td><td>0.25</td><td>0.2493279</td><td>0.2490786</td><td>-0.0006720906</td><td>-0.0009214185</td></tr>\n",
       "</tbody>\n",
       "</table>\n"
      ],
      "text/latex": [
       "A data.frame: 3 × 11\n",
       "\\begin{tabular}{lllllllllll}\n",
       " n & mu\\_true & mu\\_mm & mu\\_mle & mu\\_mm\\_error & mu\\_mle\\_error & sigma2\\_true & sigma2\\_mm & sigma2\\_mle & sigma2\\_mm\\_error & sigma2\\_mle\\_error\\\\\n",
       " <dbl> & <dbl> & <dbl> & <dbl> & <dbl> & <dbl> & <dbl> & <dbl> & <dbl> & <dbl> & <dbl>\\\\\n",
       "\\hline\n",
       "\t  300 & 5.2 & 5.199607 & 5.199607 & -0.0003933713 & -0.0003933713 & 0.25 & 0.2505550 & 0.2497198 &  0.0005550301 & -0.0002801534\\\\\n",
       "\t  800 & 5.2 & 5.199723 & 5.199723 & -0.0002774591 & -0.0002774591 & 0.25 & 0.2493150 & 0.2490033 & -0.0006850089 & -0.0009966526\\\\\n",
       "\t 1000 & 5.2 & 5.200266 & 5.200266 &  0.0002657051 &  0.0002657051 & 0.25 & 0.2493279 & 0.2490786 & -0.0006720906 & -0.0009214185\\\\\n",
       "\\end{tabular}\n"
      ],
      "text/markdown": [
       "\n",
       "A data.frame: 3 × 11\n",
       "\n",
       "| n &lt;dbl&gt; | mu_true &lt;dbl&gt; | mu_mm &lt;dbl&gt; | mu_mle &lt;dbl&gt; | mu_mm_error &lt;dbl&gt; | mu_mle_error &lt;dbl&gt; | sigma2_true &lt;dbl&gt; | sigma2_mm &lt;dbl&gt; | sigma2_mle &lt;dbl&gt; | sigma2_mm_error &lt;dbl&gt; | sigma2_mle_error &lt;dbl&gt; |\n",
       "|---|---|---|---|---|---|---|---|---|---|---|\n",
       "|  300 | 5.2 | 5.199607 | 5.199607 | -0.0003933713 | -0.0003933713 | 0.25 | 0.2505550 | 0.2497198 |  0.0005550301 | -0.0002801534 |\n",
       "|  800 | 5.2 | 5.199723 | 5.199723 | -0.0002774591 | -0.0002774591 | 0.25 | 0.2493150 | 0.2490033 | -0.0006850089 | -0.0009966526 |\n",
       "| 1000 | 5.2 | 5.200266 | 5.200266 |  0.0002657051 |  0.0002657051 | 0.25 | 0.2493279 | 0.2490786 | -0.0006720906 | -0.0009214185 |\n",
       "\n"
      ],
      "text/plain": [
       "  n    mu_true mu_mm    mu_mle   mu_mm_error   mu_mle_error  sigma2_true\n",
       "1  300 5.2     5.199607 5.199607 -0.0003933713 -0.0003933713 0.25       \n",
       "2  800 5.2     5.199723 5.199723 -0.0002774591 -0.0002774591 0.25       \n",
       "3 1000 5.2     5.200266 5.200266  0.0002657051  0.0002657051 0.25       \n",
       "  sigma2_mm sigma2_mle sigma2_mm_error sigma2_mle_error\n",
       "1 0.2505550 0.2497198   0.0005550301   -0.0002801534   \n",
       "2 0.2493150 0.2490033  -0.0006850089   -0.0009966526   \n",
       "3 0.2493279 0.2490786  -0.0006720906   -0.0009214185   "
      ]
     },
     "metadata": {},
     "output_type": "display_data"
    }
   ],
   "source": [
    "set.seed(2025)\n",
    "\n",
    "# Parameters\n",
    "mu_true     <- 5.2\n",
    "sigma2_true <- 0.25\n",
    "n_vec       <- c(300, 800, 1000)\n",
    "B           <- 1000  # number of repetitions\n",
    "\n",
    "# Function to simulate and average all MM/MLE results\n",
    "simulasi_rata2 <- function(n) {\n",
    "  mu_mm_all <- mu_mle_all <- numeric(B)\n",
    "  sigma2_mm_all <- sigma2_mle_all <- numeric(B)\n",
    "  \n",
    "  for (b in 1:B) {\n",
    "    gabah <- rnorm(n, mean = mu_true, sd = sqrt(sigma2_true))\n",
    "    \n",
    "    # Mean\n",
    "    mu_mm_all[b] <- mean(gabah)\n",
    "    mu_mle_all[b] <- mean(gabah)\n",
    "    \n",
    "    # Variance\n",
    "    sigma2_mm_all[b]  <- var(gabah)  # unbiased\n",
    "    sigma2_mle_all[b] <- mean((gabah - mean(gabah))^2)  # MLE\n",
    "  }\n",
    "  \n",
    "  # Ambil rata-rata dari semua simulasi\n",
    "  mu_mm_mean  <- mean(mu_mm_all)\n",
    "  mu_mle_mean <- mean(mu_mle_all)\n",
    "  sigma2_mm_mean  <- mean(sigma2_mm_all)\n",
    "  sigma2_mle_mean <- mean(sigma2_mle_all)\n",
    "  \n",
    "  # Error rata-rata\n",
    "  mu_mm_err  <- mu_mm_mean - mu_true\n",
    "  mu_mle_err <- mu_mle_mean - mu_true\n",
    "  sigma2_mm_err  <- sigma2_mm_mean - sigma2_true\n",
    "  sigma2_mle_err <- sigma2_mle_mean - sigma2_true\n",
    "  \n",
    "  # Return in a row like your previous table\n",
    "  return(data.frame(\n",
    "    n               = n,\n",
    "    mu_true         = mu_true,\n",
    "    mu_mm           = mu_mm_mean,\n",
    "    mu_mle          = mu_mle_mean,\n",
    "    mu_mm_error     = mu_mm_err,\n",
    "    mu_mle_error    = mu_mle_err,\n",
    "    sigma2_true     = sigma2_true,\n",
    "    sigma2_mm       = sigma2_mm_mean,\n",
    "    sigma2_mle      = sigma2_mle_mean,\n",
    "    sigma2_mm_error = sigma2_mm_err,\n",
    "    sigma2_mle_error= sigma2_mle_err\n",
    "  ))\n",
    "}\n",
    "\n",
    "# Jalankan untuk semua nilai n\n",
    "library(dplyr)\n",
    "hasil_final <- bind_rows(lapply(n_vec, simulasi_rata2))\n",
    "\n",
    "# Lihat hasilnya\n",
    "hasil_final\n"
   ]
  }
 ],
 "metadata": {
  "kernelspec": {
   "display_name": "R",
   "language": "R",
   "name": "ir"
  },
  "language_info": {
   "codemirror_mode": "r",
   "file_extension": ".r",
   "mimetype": "text/x-r-source",
   "name": "R",
   "pygments_lexer": "r",
   "version": "4.4.1"
  }
 },
 "nbformat": 4,
 "nbformat_minor": 5
}
